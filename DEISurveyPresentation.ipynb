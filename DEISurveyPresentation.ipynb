{
 "cells": [
  {
   "cell_type": "markdown",
   "metadata": {},
   "source": [
    "\n",
    "# **DEI Survey Results and Analysis**\n",
    "\n"
   ]
  },
  {
   "cell_type": "markdown",
   "metadata": {},
   "source": [
    "## Committee questions to further analyze\n",
    "\n",
    "### 1) How does the distribution of demographics (race, age, sexual orientation, tenure and status) compare to the gallup responses:\n",
    "\n",
    "- At work I am treated with respect. \n",
    "- At work, I feel comfortable being myself.\n",
    "- Diversity and Inclusiveness issues are openly discussed.\n",
    "- Employees in my organization are treated with respect and dignity.\n",
    "- Everyone at this organization is treated fairly regardless of ethnic background, race, gender, age, disability, or other differences not related to job performance.\n",
    "- I have the same opportunities for advancement as other team members at my organization with similar experience and performance levels.\n",
    "- If I raised a concern about ethics and integrity, I am confident my employer would do what is right.\n",
    "- My organization treasures diverse opinions and ideas. \n",
    "- My team members appreciate my contributions.\n",
    "- My supervisor tries to understand my point of view. \n",
    "- My workplace is committed to building the strengths of each employee.\n",
    "\n",
    "### 2) Are there any correlations between gallup responses and demographics?"
   ]
  },
  {
   "cell_type": "markdown",
   "metadata": {},
   "source": [
    "## Import dependencies"
   ]
  },
  {
   "cell_type": "code",
   "execution_count": null,
   "metadata": {},
   "outputs": [],
   "source": [
    "import pandas as pd\n",
    "import numpy as np\n",
    "import plotly.graph_objects as go\n",
    "import plotly.express as px\n",
    "import seaborn as sns\n",
    "import matplotlib.pyplot as plt\n",
    "#!pip install squarify\n",
    "#plt.style.use('fivethirtyeight')\n",
    "import plotly.offline as py\n",
    "py.init_notebook_mode(connected=True)\n",
    "import plotly.tools as tls\n",
    "import pygsheets\n",
    "%matplotlib inline\n",
    "from wordcloud import WordCloud, STOPWORDS"
   ]
  },
  {
   "cell_type": "markdown",
   "metadata": {},
   "source": [
    "## Import data\n"
   ]
  },
  {
   "cell_type": "code",
   "execution_count": null,
   "metadata": {},
   "outputs": [],
   "source": [
    "dei = pd.read_csv(\"DEISurveyFinal.csv\")\n",
    "dei"
   ]
  },
  {
   "cell_type": "markdown",
   "metadata": {},
   "source": [
    "## Value counts for demographics "
   ]
  },
  {
   "cell_type": "markdown",
   "metadata": {},
   "source": [
    "### Age"
   ]
  },
  {
   "cell_type": "code",
   "execution_count": 10,
   "metadata": {
    "scrolled": true
   },
   "outputs": [
    {
     "data": {
      "text/plain": [
       "25-34    86\n",
       "35-44    47\n",
       "45-54    28\n",
       "55-64    25\n",
       "18-24    12\n",
       "65-74     6\n",
       "Name: What is your age?, dtype: int64"
      ]
     },
     "execution_count": 10,
     "metadata": {},
     "output_type": "execute_result"
    }
   ],
   "source": [
    "dei[\"What is your age?\"].value_counts()"
   ]
  },
  {
   "cell_type": "markdown",
   "metadata": {},
   "source": [
    "### Race"
   ]
  },
  {
   "cell_type": "code",
   "execution_count": 11,
   "metadata": {},
   "outputs": [
    {
     "data": {
      "text/plain": [
       "White                         86\n",
       "Latino/Hispanic               68\n",
       "Black/ African American       24\n",
       "Two or more Races             15\n",
       "Asian                          3\n",
       "Indian/ Native American        2\n",
       "Puerto Rican                   1\n",
       "White Latino-Immigrant         1\n",
       "White/Multi-racial Latino      1\n",
       "not sure                       1\n",
       "Hispanic/white                 1\n",
       "Afro Latinx                    1\n",
       "Name: What is your race? , dtype: int64"
      ]
     },
     "execution_count": 11,
     "metadata": {},
     "output_type": "execute_result"
    }
   ],
   "source": [
    "dei[\"What is your race? \"].value_counts()"
   ]
  },
  {
   "cell_type": "markdown",
   "metadata": {},
   "source": [
    "#### comment: consider cleeaning (i.e., Hispanice/white to Latino/Hispanic or Twor or more Races)"
   ]
  },
  {
   "cell_type": "markdown",
   "metadata": {},
   "source": [
    "### Sexual orientation"
   ]
  },
  {
   "cell_type": "code",
   "execution_count": 12,
   "metadata": {
    "scrolled": true
   },
   "outputs": [
    {
     "data": {
      "text/plain": [
       "Straight    161\n",
       "LGBTQ+       35\n",
       "Name: What is your sexual orientation?, dtype: int64"
      ]
     },
     "execution_count": 12,
     "metadata": {},
     "output_type": "execute_result"
    }
   ],
   "source": [
    "dei[\"What is your sexual orientation?\"].value_counts()"
   ]
  },
  {
   "cell_type": "markdown",
   "metadata": {},
   "source": [
    "### Tenure"
   ]
  },
  {
   "cell_type": "code",
   "execution_count": 13,
   "metadata": {},
   "outputs": [
    {
     "data": {
      "text/plain": [
       "1-3 years           70\n",
       "3-5 years           40\n",
       "Less than a year    32\n",
       "5-10 years          28\n",
       "10+ years           23\n",
       "1 year              11\n",
       "Name: How long have you worked for FC?, dtype: int64"
      ]
     },
     "execution_count": 13,
     "metadata": {},
     "output_type": "execute_result"
    }
   ],
   "source": [
    "dei[\"How long have you worked for FC?\"].value_counts()"
   ]
  },
  {
   "cell_type": "markdown",
   "metadata": {},
   "source": [
    "### Status"
   ]
  },
  {
   "cell_type": "code",
   "execution_count": 14,
   "metadata": {},
   "outputs": [
    {
     "data": {
      "text/plain": [
       "Full-time              180\n",
       "Part-time               19\n",
       "Seasonal                 3\n",
       "Part-time, Seasonal      2\n",
       "Name: What is your employment status?, dtype: int64"
      ]
     },
     "execution_count": 14,
     "metadata": {},
     "output_type": "execute_result"
    }
   ],
   "source": [
    "dei['What is your employment status?'].value_counts()"
   ]
  },
  {
   "cell_type": "markdown",
   "metadata": {},
   "source": [
    "## Compare demographics to gallup responses"
   ]
  },
  {
   "cell_type": "markdown",
   "metadata": {},
   "source": [
    "### At work I am treated with respect."
   ]
  },
  {
   "cell_type": "code",
   "execution_count": 20,
   "metadata": {},
   "outputs": [
    {
     "data": {
      "application/vnd.plotly.v1+json": {
       "config": {
        "plotlyServerURL": "https://plot.ly"
       },
       "data": [
        {
         "name": "  ",
         "opacity": 0.5,
         "type": "histogram",
         "x": [
          4,
          4,
          5,
          4,
          4,
          2,
          2,
          2,
          1,
          4,
          4,
          4,
          4,
          4,
          4,
          4,
          4,
          2,
          5,
          5,
          5,
          5,
          4,
          5,
          5,
          4,
          5,
          5,
          4,
          5,
          4,
          4,
          2,
          5,
          2,
          2,
          3,
          4,
          4,
          2,
          4,
          4,
          4,
          5,
          5,
          3,
          1,
          4,
          5,
          5,
          4,
          2,
          5,
          5,
          5,
          5,
          4,
          3,
          5,
          4,
          3,
          3,
          4,
          5,
          5,
          5,
          5,
          5,
          5,
          4,
          5,
          4,
          4,
          4,
          5,
          4,
          4,
          4,
          4,
          5,
          5,
          5,
          5,
          4,
          5,
          5,
          5,
          5,
          5,
          5,
          5,
          5,
          5,
          5,
          5,
          5,
          5,
          5,
          5,
          4,
          5,
          3,
          4,
          4,
          4,
          5,
          5,
          5,
          5,
          5,
          5,
          5,
          5,
          5,
          5,
          5,
          3,
          5,
          2,
          4,
          5,
          4,
          3,
          5,
          4,
          5,
          4,
          3,
          4,
          3,
          3,
          5,
          5,
          4,
          5,
          4,
          3,
          4,
          4,
          5,
          4,
          4,
          4,
          5,
          3,
          5,
          5,
          3,
          5,
          5,
          4,
          5,
          5,
          3,
          4,
          5,
          4,
          4,
          5,
          4,
          5,
          4,
          4,
          5,
          4,
          4,
          4,
          5,
          3,
          5,
          5,
          3,
          5,
          5,
          5,
          5,
          5,
          4,
          5,
          5,
          5,
          5,
          5,
          4,
          5,
          5,
          5,
          5,
          5,
          5,
          5,
          5,
          5,
          4,
          5,
          5,
          5,
          5,
          5,
          5,
          5,
          4,
          5,
          4,
          4
         ]
        },
        {
         "name": "White",
         "opacity": 0.5,
         "type": "histogram",
         "x": [
          3,
          5,
          2,
          4,
          5,
          4,
          3,
          5,
          4,
          5,
          4,
          3,
          4,
          3,
          3,
          5,
          5,
          4,
          5,
          4,
          3,
          4,
          4,
          5,
          4,
          4,
          4,
          5,
          3,
          5,
          5,
          3,
          5,
          5,
          4,
          5,
          5,
          3,
          4,
          5,
          4,
          4,
          5,
          4,
          5,
          4,
          4,
          5,
          4,
          4,
          4,
          5,
          3,
          5,
          5,
          3,
          5,
          5,
          5,
          5,
          5,
          4,
          5,
          5,
          5,
          5,
          5,
          4,
          5,
          5,
          5,
          5,
          5,
          5,
          5,
          5,
          5,
          4,
          5,
          5,
          5,
          5,
          5,
          5,
          5,
          4
         ]
        },
        {
         "name": "Latino/Hispanic",
         "opacity": 0.5,
         "type": "histogram",
         "x": [
          4,
          2,
          5,
          2,
          2,
          3,
          4,
          4,
          2,
          4,
          4,
          4,
          5,
          5,
          3,
          1,
          4,
          5,
          5,
          4,
          2,
          5,
          5,
          5,
          5,
          4,
          3,
          5,
          4,
          3,
          3,
          4,
          5,
          5,
          5,
          5,
          5,
          5,
          4,
          5,
          4,
          4,
          4,
          5,
          4,
          4,
          4,
          4,
          5,
          5,
          5,
          5,
          4,
          5,
          5,
          5,
          5,
          5,
          5,
          5,
          5,
          5,
          5,
          5,
          5,
          5,
          5,
          5
         ]
        },
        {
         "name": "Black/African American",
         "opacity": 0.5,
         "type": "histogram",
         "x": [
          4,
          2,
          2,
          2,
          1,
          4,
          4,
          4,
          4,
          4,
          4,
          4,
          4,
          2,
          5,
          5,
          5,
          5,
          4,
          5,
          5,
          4,
          5,
          5
         ]
        },
        {
         "name": "Two or more Races",
         "opacity": 0.5,
         "type": "histogram",
         "x": [
          3,
          4,
          4,
          4,
          5,
          5,
          5,
          5,
          5,
          5,
          5,
          5,
          5,
          5,
          5
         ]
        },
        {
         "name": "Asian",
         "opacity": 0.5,
         "type": "histogram",
         "x": [
          4,
          5,
          4
         ]
        },
        {
         "name": "Indian/Native American",
         "opacity": 0.5,
         "type": "histogram",
         "x": [
          5,
          4
         ]
        },
        {
         "name": "25-34",
         "opacity": 0.5,
         "type": "histogram",
         "x": [
          4,
          4,
          2,
          2,
          4,
          4,
          4,
          5,
          5,
          4,
          5,
          5,
          4,
          5,
          4,
          4,
          3,
          4,
          5,
          4,
          5,
          5,
          5,
          3,
          3,
          4,
          5,
          5,
          5,
          4,
          4,
          4,
          4,
          5,
          5,
          5,
          5,
          5,
          5,
          5,
          5,
          5,
          3,
          5,
          5,
          5,
          5,
          5,
          5,
          2,
          4,
          5,
          5,
          4,
          5,
          4,
          4,
          4,
          4,
          5,
          5,
          3,
          5,
          4,
          5,
          4,
          4,
          5,
          4,
          5,
          4,
          5,
          5,
          3,
          5,
          5,
          5,
          5,
          5,
          5,
          5,
          5,
          5,
          4,
          5,
          4
         ]
        },
        {
         "name": "35-44",
         "opacity": 0.5,
         "type": "histogram",
         "x": [
          4,
          4,
          4,
          2,
          5,
          4,
          2,
          2,
          2,
          3,
          4,
          5,
          5,
          5,
          2,
          4,
          3,
          5,
          5,
          5,
          4,
          5,
          4,
          5,
          5,
          5,
          5,
          5,
          4,
          4,
          3,
          5,
          3,
          4,
          5,
          5,
          4,
          5,
          4,
          5,
          5,
          4,
          5,
          5,
          5,
          5,
          4
         ]
        },
        {
         "name": "45-54",
         "opacity": 0.5,
         "type": "histogram",
         "x": [
          4,
          4,
          5,
          4,
          4,
          1,
          4,
          5,
          5,
          4,
          4,
          5,
          4,
          3,
          5,
          3,
          4,
          4,
          4,
          5,
          5,
          4,
          3,
          4,
          5,
          5,
          5,
          5
         ]
        },
        {
         "name": "55-64",
         "opacity": 0.5,
         "type": "histogram",
         "x": [
          1,
          4,
          4,
          5,
          4,
          2,
          5,
          4,
          5,
          4,
          5,
          3,
          3,
          3,
          4,
          5,
          5,
          4,
          5,
          5,
          5,
          5,
          5,
          5,
          4
         ]
        },
        {
         "name": "18-24",
         "opacity": 0.5,
         "type": "histogram",
         "x": [
          5,
          4,
          5,
          5,
          5,
          5,
          5,
          5,
          3,
          5,
          5,
          5
         ]
        },
        {
         "name": "65-74",
         "opacity": 0.5,
         "type": "histogram",
         "x": [
          5,
          5,
          4,
          5,
          5,
          4
         ]
        },
        {
         "name": "Straight",
         "opacity": 0.5,
         "type": "histogram",
         "x": [
          5,
          4,
          4,
          2,
          2,
          2,
          1,
          4,
          4,
          4,
          4,
          4,
          4,
          4,
          4,
          2,
          5,
          5,
          5,
          4,
          5,
          4,
          5,
          5,
          4,
          5,
          5,
          2,
          2,
          3,
          4,
          4,
          2,
          4,
          4,
          4,
          5,
          1,
          5,
          5,
          4,
          2,
          5,
          5,
          5,
          5,
          4,
          3,
          5,
          4,
          3,
          4,
          5,
          5,
          5,
          5,
          5,
          4,
          5,
          4,
          4,
          4,
          5,
          4,
          4,
          4,
          5,
          4,
          5,
          5,
          5,
          5,
          5,
          5,
          5,
          5,
          5,
          5,
          5,
          5,
          5,
          5,
          5,
          4,
          5,
          4,
          4,
          4,
          5,
          5,
          5,
          5,
          5,
          5,
          5,
          5,
          5,
          5,
          3,
          5,
          2,
          4,
          3,
          4,
          4,
          4,
          3,
          3,
          5,
          4,
          5,
          4,
          4,
          5,
          4,
          4,
          4,
          5,
          3,
          5,
          5,
          5,
          4,
          5,
          3,
          4,
          4,
          4,
          5,
          4,
          5,
          3,
          5,
          5,
          3,
          5,
          5,
          5,
          4,
          5,
          5,
          4,
          5,
          5,
          5,
          5,
          5,
          5,
          5,
          5,
          4,
          5,
          5,
          5,
          5,
          5,
          5,
          5,
          4,
          5,
          4
         ]
        },
        {
         "name": "LGBTQ+",
         "opacity": 0.5,
         "type": "histogram",
         "x": [
          5,
          4,
          4,
          5,
          3,
          4,
          3,
          5,
          5,
          5,
          5,
          3,
          5,
          5,
          4,
          5,
          5,
          3,
          5,
          4,
          3,
          5,
          5,
          4,
          5,
          4,
          4,
          5,
          4,
          4,
          5,
          5,
          5,
          5,
          4
         ]
        },
        {
         "name": "1-3 years",
         "opacity": 0.5,
         "type": "histogram",
         "x": [
          4,
          4,
          5,
          4,
          4,
          2,
          1,
          4,
          4,
          4,
          5,
          5,
          5,
          5,
          5,
          4,
          2,
          2,
          3,
          4,
          3,
          4,
          5,
          4,
          3,
          3,
          4,
          5,
          5,
          5,
          4,
          4,
          5,
          5,
          5,
          5,
          5,
          4,
          5,
          5,
          5,
          2,
          5,
          4,
          5,
          4,
          3,
          3,
          5,
          4,
          4,
          5,
          4,
          5,
          3,
          4,
          4,
          5,
          4,
          4,
          3,
          5,
          5,
          5,
          5,
          5,
          5,
          5,
          5,
          4
         ]
        },
        {
         "name": "3-5 years",
         "opacity": 0.5,
         "type": "histogram",
         "x": [
          2,
          2,
          4,
          4,
          5,
          4,
          2,
          2,
          4,
          5,
          5,
          5,
          4,
          5,
          4,
          5,
          5,
          5,
          5,
          3,
          3,
          5,
          4,
          5,
          4,
          5,
          5,
          5,
          5,
          5,
          4,
          5,
          5,
          5,
          5,
          4,
          5,
          5,
          5,
          4
         ]
        },
        {
         "name": "< than a year",
         "opacity": 0.5,
         "type": "histogram",
         "x": [
          4,
          1,
          4,
          5,
          5,
          5,
          5,
          5,
          5,
          5,
          5,
          5,
          5,
          5,
          5,
          4,
          4,
          3,
          5,
          4,
          5,
          4,
          3,
          5,
          5,
          5,
          5,
          5,
          5,
          5,
          4,
          5
         ]
        },
        {
         "name": "5-10 years",
         "opacity": 0.5,
         "type": "histogram",
         "x": [
          4,
          2,
          5,
          4,
          4,
          4,
          5,
          5,
          5,
          5,
          5,
          5,
          3,
          5,
          4,
          4,
          4,
          5,
          4,
          3,
          5,
          3,
          4,
          5,
          3,
          4,
          4,
          5
         ]
        },
        {
         "name": "10+ years",
         "opacity": 0.5,
         "type": "histogram",
         "x": [
          5,
          5,
          4,
          4,
          2,
          5,
          4,
          5,
          4,
          4,
          5,
          5,
          4,
          4,
          3,
          5,
          4,
          4,
          5,
          5,
          5,
          5,
          5
         ]
        },
        {
         "name": "1 year",
         "opacity": 0.5,
         "type": "histogram",
         "x": [
          4,
          4,
          5,
          4,
          5,
          5,
          5,
          5,
          4,
          5,
          4
         ]
        },
        {
         "name": "Full-time",
         "opacity": 0.5,
         "type": "histogram",
         "x": [
          4,
          4,
          4,
          2,
          2,
          2,
          1,
          4,
          4,
          4,
          4,
          4,
          4,
          4,
          4,
          2,
          5,
          5,
          5,
          4,
          5,
          5,
          4,
          5,
          5,
          4,
          5,
          4,
          4,
          2,
          5,
          2,
          2,
          3,
          4,
          4,
          2,
          4,
          4,
          4,
          5,
          5,
          3,
          1,
          4,
          5,
          5,
          4,
          2,
          5,
          5,
          5,
          5,
          4,
          3,
          5,
          4,
          3,
          4,
          5,
          5,
          5,
          5,
          5,
          5,
          4,
          5,
          4,
          4,
          4,
          5,
          4,
          4,
          4,
          4,
          5,
          5,
          4,
          5,
          5,
          5,
          5,
          5,
          5,
          5,
          5,
          5,
          5,
          5,
          5,
          4,
          5,
          3,
          4,
          4,
          4,
          5,
          5,
          5,
          5,
          5,
          5,
          5,
          5,
          5,
          3,
          5,
          2,
          4,
          5,
          4,
          3,
          5,
          4,
          5,
          4,
          3,
          4,
          3,
          3,
          5,
          5,
          4,
          5,
          4,
          3,
          4,
          4,
          4,
          4,
          4,
          5,
          3,
          5,
          5,
          3,
          5,
          5,
          4,
          5,
          3,
          4,
          5,
          4,
          4,
          5,
          4,
          5,
          4,
          5,
          4,
          4,
          5,
          3,
          5,
          5,
          5,
          5,
          5,
          5,
          4,
          5,
          5,
          5,
          4,
          5,
          5,
          5,
          5,
          5,
          5,
          5,
          5,
          5,
          5,
          5,
          4,
          5,
          4,
          4
         ]
        },
        {
         "name": "Part-time",
         "opacity": 0.5,
         "type": "histogram",
         "x": [
          5,
          4,
          5,
          5,
          5,
          5,
          5,
          5,
          5,
          5,
          4,
          5,
          5,
          5,
          5,
          4,
          5,
          5,
          5
         ]
        },
        {
         "name": "Seasonal",
         "opacity": 0.5,
         "type": "histogram",
         "x": [
          5,
          4,
          5,
          5,
          5,
          5,
          5,
          5,
          5,
          5,
          4,
          5,
          5,
          5,
          5,
          4,
          5,
          5,
          5
         ]
        },
        {
         "name": "Part-time, Seasonal",
         "opacity": 0.5,
         "type": "histogram",
         "x": [
          5,
          4,
          5,
          5,
          5,
          5,
          5,
          5,
          5,
          5,
          4,
          5,
          5,
          5,
          5,
          4,
          5,
          5,
          5
         ]
        }
       ],
       "layout": {
        "barmode": "stack",
        "template": {
         "data": {
          "bar": [
           {
            "error_x": {
             "color": "#2a3f5f"
            },
            "error_y": {
             "color": "#2a3f5f"
            },
            "marker": {
             "line": {
              "color": "#E5ECF6",
              "width": 0.5
             }
            },
            "type": "bar"
           }
          ],
          "barpolar": [
           {
            "marker": {
             "line": {
              "color": "#E5ECF6",
              "width": 0.5
             }
            },
            "type": "barpolar"
           }
          ],
          "carpet": [
           {
            "aaxis": {
             "endlinecolor": "#2a3f5f",
             "gridcolor": "white",
             "linecolor": "white",
             "minorgridcolor": "white",
             "startlinecolor": "#2a3f5f"
            },
            "baxis": {
             "endlinecolor": "#2a3f5f",
             "gridcolor": "white",
             "linecolor": "white",
             "minorgridcolor": "white",
             "startlinecolor": "#2a3f5f"
            },
            "type": "carpet"
           }
          ],
          "choropleth": [
           {
            "colorbar": {
             "outlinewidth": 0,
             "ticks": ""
            },
            "type": "choropleth"
           }
          ],
          "contour": [
           {
            "colorbar": {
             "outlinewidth": 0,
             "ticks": ""
            },
            "colorscale": [
             [
              0,
              "#0d0887"
             ],
             [
              0.1111111111111111,
              "#46039f"
             ],
             [
              0.2222222222222222,
              "#7201a8"
             ],
             [
              0.3333333333333333,
              "#9c179e"
             ],
             [
              0.4444444444444444,
              "#bd3786"
             ],
             [
              0.5555555555555556,
              "#d8576b"
             ],
             [
              0.6666666666666666,
              "#ed7953"
             ],
             [
              0.7777777777777778,
              "#fb9f3a"
             ],
             [
              0.8888888888888888,
              "#fdca26"
             ],
             [
              1,
              "#f0f921"
             ]
            ],
            "type": "contour"
           }
          ],
          "contourcarpet": [
           {
            "colorbar": {
             "outlinewidth": 0,
             "ticks": ""
            },
            "type": "contourcarpet"
           }
          ],
          "heatmap": [
           {
            "colorbar": {
             "outlinewidth": 0,
             "ticks": ""
            },
            "colorscale": [
             [
              0,
              "#0d0887"
             ],
             [
              0.1111111111111111,
              "#46039f"
             ],
             [
              0.2222222222222222,
              "#7201a8"
             ],
             [
              0.3333333333333333,
              "#9c179e"
             ],
             [
              0.4444444444444444,
              "#bd3786"
             ],
             [
              0.5555555555555556,
              "#d8576b"
             ],
             [
              0.6666666666666666,
              "#ed7953"
             ],
             [
              0.7777777777777778,
              "#fb9f3a"
             ],
             [
              0.8888888888888888,
              "#fdca26"
             ],
             [
              1,
              "#f0f921"
             ]
            ],
            "type": "heatmap"
           }
          ],
          "heatmapgl": [
           {
            "colorbar": {
             "outlinewidth": 0,
             "ticks": ""
            },
            "colorscale": [
             [
              0,
              "#0d0887"
             ],
             [
              0.1111111111111111,
              "#46039f"
             ],
             [
              0.2222222222222222,
              "#7201a8"
             ],
             [
              0.3333333333333333,
              "#9c179e"
             ],
             [
              0.4444444444444444,
              "#bd3786"
             ],
             [
              0.5555555555555556,
              "#d8576b"
             ],
             [
              0.6666666666666666,
              "#ed7953"
             ],
             [
              0.7777777777777778,
              "#fb9f3a"
             ],
             [
              0.8888888888888888,
              "#fdca26"
             ],
             [
              1,
              "#f0f921"
             ]
            ],
            "type": "heatmapgl"
           }
          ],
          "histogram": [
           {
            "marker": {
             "colorbar": {
              "outlinewidth": 0,
              "ticks": ""
             }
            },
            "type": "histogram"
           }
          ],
          "histogram2d": [
           {
            "colorbar": {
             "outlinewidth": 0,
             "ticks": ""
            },
            "colorscale": [
             [
              0,
              "#0d0887"
             ],
             [
              0.1111111111111111,
              "#46039f"
             ],
             [
              0.2222222222222222,
              "#7201a8"
             ],
             [
              0.3333333333333333,
              "#9c179e"
             ],
             [
              0.4444444444444444,
              "#bd3786"
             ],
             [
              0.5555555555555556,
              "#d8576b"
             ],
             [
              0.6666666666666666,
              "#ed7953"
             ],
             [
              0.7777777777777778,
              "#fb9f3a"
             ],
             [
              0.8888888888888888,
              "#fdca26"
             ],
             [
              1,
              "#f0f921"
             ]
            ],
            "type": "histogram2d"
           }
          ],
          "histogram2dcontour": [
           {
            "colorbar": {
             "outlinewidth": 0,
             "ticks": ""
            },
            "colorscale": [
             [
              0,
              "#0d0887"
             ],
             [
              0.1111111111111111,
              "#46039f"
             ],
             [
              0.2222222222222222,
              "#7201a8"
             ],
             [
              0.3333333333333333,
              "#9c179e"
             ],
             [
              0.4444444444444444,
              "#bd3786"
             ],
             [
              0.5555555555555556,
              "#d8576b"
             ],
             [
              0.6666666666666666,
              "#ed7953"
             ],
             [
              0.7777777777777778,
              "#fb9f3a"
             ],
             [
              0.8888888888888888,
              "#fdca26"
             ],
             [
              1,
              "#f0f921"
             ]
            ],
            "type": "histogram2dcontour"
           }
          ],
          "mesh3d": [
           {
            "colorbar": {
             "outlinewidth": 0,
             "ticks": ""
            },
            "type": "mesh3d"
           }
          ],
          "parcoords": [
           {
            "line": {
             "colorbar": {
              "outlinewidth": 0,
              "ticks": ""
             }
            },
            "type": "parcoords"
           }
          ],
          "pie": [
           {
            "automargin": true,
            "type": "pie"
           }
          ],
          "scatter": [
           {
            "marker": {
             "colorbar": {
              "outlinewidth": 0,
              "ticks": ""
             }
            },
            "type": "scatter"
           }
          ],
          "scatter3d": [
           {
            "line": {
             "colorbar": {
              "outlinewidth": 0,
              "ticks": ""
             }
            },
            "marker": {
             "colorbar": {
              "outlinewidth": 0,
              "ticks": ""
             }
            },
            "type": "scatter3d"
           }
          ],
          "scattercarpet": [
           {
            "marker": {
             "colorbar": {
              "outlinewidth": 0,
              "ticks": ""
             }
            },
            "type": "scattercarpet"
           }
          ],
          "scattergeo": [
           {
            "marker": {
             "colorbar": {
              "outlinewidth": 0,
              "ticks": ""
             }
            },
            "type": "scattergeo"
           }
          ],
          "scattergl": [
           {
            "marker": {
             "colorbar": {
              "outlinewidth": 0,
              "ticks": ""
             }
            },
            "type": "scattergl"
           }
          ],
          "scattermapbox": [
           {
            "marker": {
             "colorbar": {
              "outlinewidth": 0,
              "ticks": ""
             }
            },
            "type": "scattermapbox"
           }
          ],
          "scatterpolar": [
           {
            "marker": {
             "colorbar": {
              "outlinewidth": 0,
              "ticks": ""
             }
            },
            "type": "scatterpolar"
           }
          ],
          "scatterpolargl": [
           {
            "marker": {
             "colorbar": {
              "outlinewidth": 0,
              "ticks": ""
             }
            },
            "type": "scatterpolargl"
           }
          ],
          "scatterternary": [
           {
            "marker": {
             "colorbar": {
              "outlinewidth": 0,
              "ticks": ""
             }
            },
            "type": "scatterternary"
           }
          ],
          "surface": [
           {
            "colorbar": {
             "outlinewidth": 0,
             "ticks": ""
            },
            "colorscale": [
             [
              0,
              "#0d0887"
             ],
             [
              0.1111111111111111,
              "#46039f"
             ],
             [
              0.2222222222222222,
              "#7201a8"
             ],
             [
              0.3333333333333333,
              "#9c179e"
             ],
             [
              0.4444444444444444,
              "#bd3786"
             ],
             [
              0.5555555555555556,
              "#d8576b"
             ],
             [
              0.6666666666666666,
              "#ed7953"
             ],
             [
              0.7777777777777778,
              "#fb9f3a"
             ],
             [
              0.8888888888888888,
              "#fdca26"
             ],
             [
              1,
              "#f0f921"
             ]
            ],
            "type": "surface"
           }
          ],
          "table": [
           {
            "cells": {
             "fill": {
              "color": "#EBF0F8"
             },
             "line": {
              "color": "white"
             }
            },
            "header": {
             "fill": {
              "color": "#C8D4E3"
             },
             "line": {
              "color": "white"
             }
            },
            "type": "table"
           }
          ]
         },
         "layout": {
          "annotationdefaults": {
           "arrowcolor": "#2a3f5f",
           "arrowhead": 0,
           "arrowwidth": 1
          },
          "coloraxis": {
           "colorbar": {
            "outlinewidth": 0,
            "ticks": ""
           }
          },
          "colorscale": {
           "diverging": [
            [
             0,
             "#8e0152"
            ],
            [
             0.1,
             "#c51b7d"
            ],
            [
             0.2,
             "#de77ae"
            ],
            [
             0.3,
             "#f1b6da"
            ],
            [
             0.4,
             "#fde0ef"
            ],
            [
             0.5,
             "#f7f7f7"
            ],
            [
             0.6,
             "#e6f5d0"
            ],
            [
             0.7,
             "#b8e186"
            ],
            [
             0.8,
             "#7fbc41"
            ],
            [
             0.9,
             "#4d9221"
            ],
            [
             1,
             "#276419"
            ]
           ],
           "sequential": [
            [
             0,
             "#0d0887"
            ],
            [
             0.1111111111111111,
             "#46039f"
            ],
            [
             0.2222222222222222,
             "#7201a8"
            ],
            [
             0.3333333333333333,
             "#9c179e"
            ],
            [
             0.4444444444444444,
             "#bd3786"
            ],
            [
             0.5555555555555556,
             "#d8576b"
            ],
            [
             0.6666666666666666,
             "#ed7953"
            ],
            [
             0.7777777777777778,
             "#fb9f3a"
            ],
            [
             0.8888888888888888,
             "#fdca26"
            ],
            [
             1,
             "#f0f921"
            ]
           ],
           "sequentialminus": [
            [
             0,
             "#0d0887"
            ],
            [
             0.1111111111111111,
             "#46039f"
            ],
            [
             0.2222222222222222,
             "#7201a8"
            ],
            [
             0.3333333333333333,
             "#9c179e"
            ],
            [
             0.4444444444444444,
             "#bd3786"
            ],
            [
             0.5555555555555556,
             "#d8576b"
            ],
            [
             0.6666666666666666,
             "#ed7953"
            ],
            [
             0.7777777777777778,
             "#fb9f3a"
            ],
            [
             0.8888888888888888,
             "#fdca26"
            ],
            [
             1,
             "#f0f921"
            ]
           ]
          },
          "colorway": [
           "#636efa",
           "#EF553B",
           "#00cc96",
           "#ab63fa",
           "#FFA15A",
           "#19d3f3",
           "#FF6692",
           "#B6E880",
           "#FF97FF",
           "#FECB52"
          ],
          "font": {
           "color": "#2a3f5f"
          },
          "geo": {
           "bgcolor": "white",
           "lakecolor": "white",
           "landcolor": "#E5ECF6",
           "showlakes": true,
           "showland": true,
           "subunitcolor": "white"
          },
          "hoverlabel": {
           "align": "left"
          },
          "hovermode": "closest",
          "mapbox": {
           "style": "light"
          },
          "paper_bgcolor": "white",
          "plot_bgcolor": "#E5ECF6",
          "polar": {
           "angularaxis": {
            "gridcolor": "white",
            "linecolor": "white",
            "ticks": ""
           },
           "bgcolor": "#E5ECF6",
           "radialaxis": {
            "gridcolor": "white",
            "linecolor": "white",
            "ticks": ""
           }
          },
          "scene": {
           "xaxis": {
            "backgroundcolor": "#E5ECF6",
            "gridcolor": "white",
            "gridwidth": 2,
            "linecolor": "white",
            "showbackground": true,
            "ticks": "",
            "zerolinecolor": "white"
           },
           "yaxis": {
            "backgroundcolor": "#E5ECF6",
            "gridcolor": "white",
            "gridwidth": 2,
            "linecolor": "white",
            "showbackground": true,
            "ticks": "",
            "zerolinecolor": "white"
           },
           "zaxis": {
            "backgroundcolor": "#E5ECF6",
            "gridcolor": "white",
            "gridwidth": 2,
            "linecolor": "white",
            "showbackground": true,
            "ticks": "",
            "zerolinecolor": "white"
           }
          },
          "shapedefaults": {
           "line": {
            "color": "#2a3f5f"
           }
          },
          "ternary": {
           "aaxis": {
            "gridcolor": "white",
            "linecolor": "white",
            "ticks": ""
           },
           "baxis": {
            "gridcolor": "white",
            "linecolor": "white",
            "ticks": ""
           },
           "bgcolor": "#E5ECF6",
           "caxis": {
            "gridcolor": "white",
            "linecolor": "white",
            "ticks": ""
           }
          },
          "title": {
           "x": 0.05
          },
          "xaxis": {
           "automargin": true,
           "gridcolor": "white",
           "linecolor": "white",
           "ticks": "",
           "title": {
            "standoff": 15
           },
           "zerolinecolor": "white",
           "zerolinewidth": 2
          },
          "yaxis": {
           "automargin": true,
           "gridcolor": "white",
           "linecolor": "white",
           "ticks": "",
           "title": {
            "standoff": 15
           },
           "zerolinecolor": "white",
           "zerolinewidth": 2
          }
         }
        },
        "title": {
         "text": "At work, I am treated with respect."
        },
        "updatemenus": [
         {
          "buttons": [
           {
            "args": [
             {
              "visible": [
               true,
               false,
               false,
               false,
               false,
               false,
               false,
               false,
               false,
               false,
               false,
               false,
               false,
               false,
               false,
               false,
               false,
               false,
               false,
               false,
               false,
               false,
               false,
               false,
               false
              ]
             },
             {
              "title": "At work, I am treated with respect."
             }
            ],
            "label": "Total",
            "method": "update"
           },
           {
            "args": [
             {
              "visible": [
               false,
               true,
               true,
               true,
               true,
               true,
               true,
               false,
               false,
               false,
               false,
               false,
               false,
               false,
               false,
               false,
               false,
               false,
               false,
               false,
               false,
               false,
               false,
               false,
               false
              ]
             },
             {
              "title": "At work, I am treated with respect."
             }
            ],
            "label": "Race",
            "method": "update"
           },
           {
            "args": [
             {
              "visible": [
               false,
               false,
               false,
               false,
               false,
               false,
               false,
               true,
               true,
               true,
               true,
               true,
               true,
               false,
               false,
               false,
               false,
               false,
               false,
               false,
               false,
               false,
               false,
               false,
               false
              ]
             },
             {
              "title": "At work, I am treated with respect."
             }
            ],
            "label": "Age",
            "method": "update"
           },
           {
            "args": [
             {
              "visible": [
               false,
               false,
               false,
               false,
               false,
               false,
               false,
               false,
               false,
               false,
               false,
               false,
               false,
               true,
               true,
               false,
               false,
               false,
               false,
               false,
               false,
               false,
               false,
               false,
               false
              ]
             },
             {
              "title": "At work, I am treated with respect."
             }
            ],
            "label": "Sexual Orientation",
            "method": "update"
           },
           {
            "args": [
             {
              "visible": [
               false,
               false,
               false,
               false,
               false,
               false,
               false,
               false,
               false,
               false,
               false,
               false,
               false,
               false,
               false,
               true,
               true,
               true,
               true,
               true,
               true,
               false,
               false,
               false,
               false
              ]
             },
             {
              "title": "At work, I am treated with respect."
             }
            ],
            "label": "Tenure",
            "method": "update"
           },
           {
            "args": [
             {
              "visible": [
               false,
               false,
               false,
               false,
               false,
               false,
               false,
               false,
               false,
               false,
               false,
               false,
               false,
               false,
               false,
               false,
               false,
               false,
               false,
               false,
               false,
               true,
               true,
               true,
               true
              ]
             },
             {
              "title": "At work, I am treated with respect."
             }
            ],
            "label": "Status",
            "method": "update"
           }
          ],
          "type": "buttons"
         }
        ]
       }
      },
      "text/html": [
       "<div>\n",
       "        \n",
       "        \n",
       "            <div id=\"2efc17d2-a61d-4dce-839f-28c87ace57ea\" class=\"plotly-graph-div\" style=\"height:525px; width:100%;\"></div>\n",
       "            <script type=\"text/javascript\">\n",
       "                require([\"plotly\"], function(Plotly) {\n",
       "                    window.PLOTLYENV=window.PLOTLYENV || {};\n",
       "                    \n",
       "                if (document.getElementById(\"2efc17d2-a61d-4dce-839f-28c87ace57ea\")) {\n",
       "                    Plotly.newPlot(\n",
       "                        '2efc17d2-a61d-4dce-839f-28c87ace57ea',\n",
       "                        [{\"name\": \"  \", \"opacity\": 0.5, \"type\": \"histogram\", \"x\": [4, 4, 5, 4, 4, 2, 2, 2, 1, 4, 4, 4, 4, 4, 4, 4, 4, 2, 5, 5, 5, 5, 4, 5, 5, 4, 5, 5, 4, 5, 4, 4, 2, 5, 2, 2, 3, 4, 4, 2, 4, 4, 4, 5, 5, 3, 1, 4, 5, 5, 4, 2, 5, 5, 5, 5, 4, 3, 5, 4, 3, 3, 4, 5, 5, 5, 5, 5, 5, 4, 5, 4, 4, 4, 5, 4, 4, 4, 4, 5, 5, 5, 5, 4, 5, 5, 5, 5, 5, 5, 5, 5, 5, 5, 5, 5, 5, 5, 5, 4, 5, 3, 4, 4, 4, 5, 5, 5, 5, 5, 5, 5, 5, 5, 5, 5, 3, 5, 2, 4, 5, 4, 3, 5, 4, 5, 4, 3, 4, 3, 3, 5, 5, 4, 5, 4, 3, 4, 4, 5, 4, 4, 4, 5, 3, 5, 5, 3, 5, 5, 4, 5, 5, 3, 4, 5, 4, 4, 5, 4, 5, 4, 4, 5, 4, 4, 4, 5, 3, 5, 5, 3, 5, 5, 5, 5, 5, 4, 5, 5, 5, 5, 5, 4, 5, 5, 5, 5, 5, 5, 5, 5, 5, 4, 5, 5, 5, 5, 5, 5, 5, 4, 5, 4, 4]}, {\"name\": \"White\", \"opacity\": 0.5, \"type\": \"histogram\", \"x\": [3, 5, 2, 4, 5, 4, 3, 5, 4, 5, 4, 3, 4, 3, 3, 5, 5, 4, 5, 4, 3, 4, 4, 5, 4, 4, 4, 5, 3, 5, 5, 3, 5, 5, 4, 5, 5, 3, 4, 5, 4, 4, 5, 4, 5, 4, 4, 5, 4, 4, 4, 5, 3, 5, 5, 3, 5, 5, 5, 5, 5, 4, 5, 5, 5, 5, 5, 4, 5, 5, 5, 5, 5, 5, 5, 5, 5, 4, 5, 5, 5, 5, 5, 5, 5, 4]}, {\"name\": \"Latino/Hispanic\", \"opacity\": 0.5, \"type\": \"histogram\", \"x\": [4, 2, 5, 2, 2, 3, 4, 4, 2, 4, 4, 4, 5, 5, 3, 1, 4, 5, 5, 4, 2, 5, 5, 5, 5, 4, 3, 5, 4, 3, 3, 4, 5, 5, 5, 5, 5, 5, 4, 5, 4, 4, 4, 5, 4, 4, 4, 4, 5, 5, 5, 5, 4, 5, 5, 5, 5, 5, 5, 5, 5, 5, 5, 5, 5, 5, 5, 5]}, {\"name\": \"Black/African American\", \"opacity\": 0.5, \"type\": \"histogram\", \"x\": [4, 2, 2, 2, 1, 4, 4, 4, 4, 4, 4, 4, 4, 2, 5, 5, 5, 5, 4, 5, 5, 4, 5, 5]}, {\"name\": \"Two or more Races\", \"opacity\": 0.5, \"type\": \"histogram\", \"x\": [3, 4, 4, 4, 5, 5, 5, 5, 5, 5, 5, 5, 5, 5, 5]}, {\"name\": \"Asian\", \"opacity\": 0.5, \"type\": \"histogram\", \"x\": [4, 5, 4]}, {\"name\": \"Indian/Native American\", \"opacity\": 0.5, \"type\": \"histogram\", \"x\": [5, 4]}, {\"name\": \"25-34\", \"opacity\": 0.5, \"type\": \"histogram\", \"x\": [4, 4, 2, 2, 4, 4, 4, 5, 5, 4, 5, 5, 4, 5, 4, 4, 3, 4, 5, 4, 5, 5, 5, 3, 3, 4, 5, 5, 5, 4, 4, 4, 4, 5, 5, 5, 5, 5, 5, 5, 5, 5, 3, 5, 5, 5, 5, 5, 5, 2, 4, 5, 5, 4, 5, 4, 4, 4, 4, 5, 5, 3, 5, 4, 5, 4, 4, 5, 4, 5, 4, 5, 5, 3, 5, 5, 5, 5, 5, 5, 5, 5, 5, 4, 5, 4]}, {\"name\": \"35-44\", \"opacity\": 0.5, \"type\": \"histogram\", \"x\": [4, 4, 4, 2, 5, 4, 2, 2, 2, 3, 4, 5, 5, 5, 2, 4, 3, 5, 5, 5, 4, 5, 4, 5, 5, 5, 5, 5, 4, 4, 3, 5, 3, 4, 5, 5, 4, 5, 4, 5, 5, 4, 5, 5, 5, 5, 4]}, {\"name\": \"45-54\", \"opacity\": 0.5, \"type\": \"histogram\", \"x\": [4, 4, 5, 4, 4, 1, 4, 5, 5, 4, 4, 5, 4, 3, 5, 3, 4, 4, 4, 5, 5, 4, 3, 4, 5, 5, 5, 5]}, {\"name\": \"55-64\", \"opacity\": 0.5, \"type\": \"histogram\", \"x\": [1, 4, 4, 5, 4, 2, 5, 4, 5, 4, 5, 3, 3, 3, 4, 5, 5, 4, 5, 5, 5, 5, 5, 5, 4]}, {\"name\": \"18-24\", \"opacity\": 0.5, \"type\": \"histogram\", \"x\": [5, 4, 5, 5, 5, 5, 5, 5, 3, 5, 5, 5]}, {\"name\": \"65-74\", \"opacity\": 0.5, \"type\": \"histogram\", \"x\": [5, 5, 4, 5, 5, 4]}, {\"name\": \"Straight\", \"opacity\": 0.5, \"type\": \"histogram\", \"x\": [5, 4, 4, 2, 2, 2, 1, 4, 4, 4, 4, 4, 4, 4, 4, 2, 5, 5, 5, 4, 5, 4, 5, 5, 4, 5, 5, 2, 2, 3, 4, 4, 2, 4, 4, 4, 5, 1, 5, 5, 4, 2, 5, 5, 5, 5, 4, 3, 5, 4, 3, 4, 5, 5, 5, 5, 5, 4, 5, 4, 4, 4, 5, 4, 4, 4, 5, 4, 5, 5, 5, 5, 5, 5, 5, 5, 5, 5, 5, 5, 5, 5, 5, 4, 5, 4, 4, 4, 5, 5, 5, 5, 5, 5, 5, 5, 5, 5, 3, 5, 2, 4, 3, 4, 4, 4, 3, 3, 5, 4, 5, 4, 4, 5, 4, 4, 4, 5, 3, 5, 5, 5, 4, 5, 3, 4, 4, 4, 5, 4, 5, 3, 5, 5, 3, 5, 5, 5, 4, 5, 5, 4, 5, 5, 5, 5, 5, 5, 5, 5, 4, 5, 5, 5, 5, 5, 5, 5, 4, 5, 4]}, {\"name\": \"LGBTQ+\", \"opacity\": 0.5, \"type\": \"histogram\", \"x\": [5, 4, 4, 5, 3, 4, 3, 5, 5, 5, 5, 3, 5, 5, 4, 5, 5, 3, 5, 4, 3, 5, 5, 4, 5, 4, 4, 5, 4, 4, 5, 5, 5, 5, 4]}, {\"name\": \"1-3 years\", \"opacity\": 0.5, \"type\": \"histogram\", \"x\": [4, 4, 5, 4, 4, 2, 1, 4, 4, 4, 5, 5, 5, 5, 5, 4, 2, 2, 3, 4, 3, 4, 5, 4, 3, 3, 4, 5, 5, 5, 4, 4, 5, 5, 5, 5, 5, 4, 5, 5, 5, 2, 5, 4, 5, 4, 3, 3, 5, 4, 4, 5, 4, 5, 3, 4, 4, 5, 4, 4, 3, 5, 5, 5, 5, 5, 5, 5, 5, 4]}, {\"name\": \"3-5 years\", \"opacity\": 0.5, \"type\": \"histogram\", \"x\": [2, 2, 4, 4, 5, 4, 2, 2, 4, 5, 5, 5, 4, 5, 4, 5, 5, 5, 5, 3, 3, 5, 4, 5, 4, 5, 5, 5, 5, 5, 4, 5, 5, 5, 5, 4, 5, 5, 5, 4]}, {\"name\": \"< than a year\", \"opacity\": 0.5, \"type\": \"histogram\", \"x\": [4, 1, 4, 5, 5, 5, 5, 5, 5, 5, 5, 5, 5, 5, 5, 4, 4, 3, 5, 4, 5, 4, 3, 5, 5, 5, 5, 5, 5, 5, 4, 5]}, {\"name\": \"5-10 years\", \"opacity\": 0.5, \"type\": \"histogram\", \"x\": [4, 2, 5, 4, 4, 4, 5, 5, 5, 5, 5, 5, 3, 5, 4, 4, 4, 5, 4, 3, 5, 3, 4, 5, 3, 4, 4, 5]}, {\"name\": \"10+ years\", \"opacity\": 0.5, \"type\": \"histogram\", \"x\": [5, 5, 4, 4, 2, 5, 4, 5, 4, 4, 5, 5, 4, 4, 3, 5, 4, 4, 5, 5, 5, 5, 5]}, {\"name\": \"1 year\", \"opacity\": 0.5, \"type\": \"histogram\", \"x\": [4, 4, 5, 4, 5, 5, 5, 5, 4, 5, 4]}, {\"name\": \"Full-time\", \"opacity\": 0.5, \"type\": \"histogram\", \"x\": [4, 4, 4, 2, 2, 2, 1, 4, 4, 4, 4, 4, 4, 4, 4, 2, 5, 5, 5, 4, 5, 5, 4, 5, 5, 4, 5, 4, 4, 2, 5, 2, 2, 3, 4, 4, 2, 4, 4, 4, 5, 5, 3, 1, 4, 5, 5, 4, 2, 5, 5, 5, 5, 4, 3, 5, 4, 3, 4, 5, 5, 5, 5, 5, 5, 4, 5, 4, 4, 4, 5, 4, 4, 4, 4, 5, 5, 4, 5, 5, 5, 5, 5, 5, 5, 5, 5, 5, 5, 5, 4, 5, 3, 4, 4, 4, 5, 5, 5, 5, 5, 5, 5, 5, 5, 3, 5, 2, 4, 5, 4, 3, 5, 4, 5, 4, 3, 4, 3, 3, 5, 5, 4, 5, 4, 3, 4, 4, 4, 4, 4, 5, 3, 5, 5, 3, 5, 5, 4, 5, 3, 4, 5, 4, 4, 5, 4, 5, 4, 5, 4, 4, 5, 3, 5, 5, 5, 5, 5, 5, 4, 5, 5, 5, 4, 5, 5, 5, 5, 5, 5, 5, 5, 5, 5, 5, 4, 5, 4, 4]}, {\"name\": \"Part-time\", \"opacity\": 0.5, \"type\": \"histogram\", \"x\": [5, 4, 5, 5, 5, 5, 5, 5, 5, 5, 4, 5, 5, 5, 5, 4, 5, 5, 5]}, {\"name\": \"Seasonal\", \"opacity\": 0.5, \"type\": \"histogram\", \"x\": [5, 4, 5, 5, 5, 5, 5, 5, 5, 5, 4, 5, 5, 5, 5, 4, 5, 5, 5]}, {\"name\": \"Part-time, Seasonal\", \"opacity\": 0.5, \"type\": \"histogram\", \"x\": [5, 4, 5, 5, 5, 5, 5, 5, 5, 5, 4, 5, 5, 5, 5, 4, 5, 5, 5]}],\n",
       "                        {\"barmode\": \"stack\", \"template\": {\"data\": {\"bar\": [{\"error_x\": {\"color\": \"#2a3f5f\"}, \"error_y\": {\"color\": \"#2a3f5f\"}, \"marker\": {\"line\": {\"color\": \"#E5ECF6\", \"width\": 0.5}}, \"type\": \"bar\"}], \"barpolar\": [{\"marker\": {\"line\": {\"color\": \"#E5ECF6\", \"width\": 0.5}}, \"type\": \"barpolar\"}], \"carpet\": [{\"aaxis\": {\"endlinecolor\": \"#2a3f5f\", \"gridcolor\": \"white\", \"linecolor\": \"white\", \"minorgridcolor\": \"white\", \"startlinecolor\": \"#2a3f5f\"}, \"baxis\": {\"endlinecolor\": \"#2a3f5f\", \"gridcolor\": \"white\", \"linecolor\": \"white\", \"minorgridcolor\": \"white\", \"startlinecolor\": \"#2a3f5f\"}, \"type\": \"carpet\"}], \"choropleth\": [{\"colorbar\": {\"outlinewidth\": 0, \"ticks\": \"\"}, \"type\": \"choropleth\"}], \"contour\": [{\"colorbar\": {\"outlinewidth\": 0, \"ticks\": \"\"}, \"colorscale\": [[0.0, \"#0d0887\"], [0.1111111111111111, \"#46039f\"], [0.2222222222222222, \"#7201a8\"], [0.3333333333333333, \"#9c179e\"], [0.4444444444444444, \"#bd3786\"], [0.5555555555555556, \"#d8576b\"], [0.6666666666666666, \"#ed7953\"], [0.7777777777777778, \"#fb9f3a\"], [0.8888888888888888, \"#fdca26\"], [1.0, \"#f0f921\"]], \"type\": \"contour\"}], \"contourcarpet\": [{\"colorbar\": {\"outlinewidth\": 0, \"ticks\": \"\"}, \"type\": \"contourcarpet\"}], \"heatmap\": [{\"colorbar\": {\"outlinewidth\": 0, \"ticks\": \"\"}, \"colorscale\": [[0.0, \"#0d0887\"], [0.1111111111111111, \"#46039f\"], [0.2222222222222222, \"#7201a8\"], [0.3333333333333333, \"#9c179e\"], [0.4444444444444444, \"#bd3786\"], [0.5555555555555556, \"#d8576b\"], [0.6666666666666666, \"#ed7953\"], [0.7777777777777778, \"#fb9f3a\"], [0.8888888888888888, \"#fdca26\"], [1.0, \"#f0f921\"]], \"type\": \"heatmap\"}], \"heatmapgl\": [{\"colorbar\": {\"outlinewidth\": 0, \"ticks\": \"\"}, \"colorscale\": [[0.0, \"#0d0887\"], [0.1111111111111111, \"#46039f\"], [0.2222222222222222, \"#7201a8\"], [0.3333333333333333, \"#9c179e\"], [0.4444444444444444, \"#bd3786\"], [0.5555555555555556, \"#d8576b\"], [0.6666666666666666, \"#ed7953\"], [0.7777777777777778, \"#fb9f3a\"], [0.8888888888888888, \"#fdca26\"], [1.0, \"#f0f921\"]], \"type\": \"heatmapgl\"}], \"histogram\": [{\"marker\": {\"colorbar\": {\"outlinewidth\": 0, \"ticks\": \"\"}}, \"type\": \"histogram\"}], \"histogram2d\": [{\"colorbar\": {\"outlinewidth\": 0, \"ticks\": \"\"}, \"colorscale\": [[0.0, \"#0d0887\"], [0.1111111111111111, \"#46039f\"], [0.2222222222222222, \"#7201a8\"], [0.3333333333333333, \"#9c179e\"], [0.4444444444444444, \"#bd3786\"], [0.5555555555555556, \"#d8576b\"], [0.6666666666666666, \"#ed7953\"], [0.7777777777777778, \"#fb9f3a\"], [0.8888888888888888, \"#fdca26\"], [1.0, \"#f0f921\"]], \"type\": \"histogram2d\"}], \"histogram2dcontour\": [{\"colorbar\": {\"outlinewidth\": 0, \"ticks\": \"\"}, \"colorscale\": [[0.0, \"#0d0887\"], [0.1111111111111111, \"#46039f\"], [0.2222222222222222, \"#7201a8\"], [0.3333333333333333, \"#9c179e\"], [0.4444444444444444, \"#bd3786\"], [0.5555555555555556, \"#d8576b\"], [0.6666666666666666, \"#ed7953\"], [0.7777777777777778, \"#fb9f3a\"], [0.8888888888888888, \"#fdca26\"], [1.0, \"#f0f921\"]], \"type\": \"histogram2dcontour\"}], \"mesh3d\": [{\"colorbar\": {\"outlinewidth\": 0, \"ticks\": \"\"}, \"type\": \"mesh3d\"}], \"parcoords\": [{\"line\": {\"colorbar\": {\"outlinewidth\": 0, \"ticks\": \"\"}}, \"type\": \"parcoords\"}], \"pie\": [{\"automargin\": true, \"type\": \"pie\"}], \"scatter\": [{\"marker\": {\"colorbar\": {\"outlinewidth\": 0, \"ticks\": \"\"}}, \"type\": \"scatter\"}], \"scatter3d\": [{\"line\": {\"colorbar\": {\"outlinewidth\": 0, \"ticks\": \"\"}}, \"marker\": {\"colorbar\": {\"outlinewidth\": 0, \"ticks\": \"\"}}, \"type\": \"scatter3d\"}], \"scattercarpet\": [{\"marker\": {\"colorbar\": {\"outlinewidth\": 0, \"ticks\": \"\"}}, \"type\": \"scattercarpet\"}], \"scattergeo\": [{\"marker\": {\"colorbar\": {\"outlinewidth\": 0, \"ticks\": \"\"}}, \"type\": \"scattergeo\"}], \"scattergl\": [{\"marker\": {\"colorbar\": {\"outlinewidth\": 0, \"ticks\": \"\"}}, \"type\": \"scattergl\"}], \"scattermapbox\": [{\"marker\": {\"colorbar\": {\"outlinewidth\": 0, \"ticks\": \"\"}}, \"type\": \"scattermapbox\"}], \"scatterpolar\": [{\"marker\": {\"colorbar\": {\"outlinewidth\": 0, \"ticks\": \"\"}}, \"type\": \"scatterpolar\"}], \"scatterpolargl\": [{\"marker\": {\"colorbar\": {\"outlinewidth\": 0, \"ticks\": \"\"}}, \"type\": \"scatterpolargl\"}], \"scatterternary\": [{\"marker\": {\"colorbar\": {\"outlinewidth\": 0, \"ticks\": \"\"}}, \"type\": \"scatterternary\"}], \"surface\": [{\"colorbar\": {\"outlinewidth\": 0, \"ticks\": \"\"}, \"colorscale\": [[0.0, \"#0d0887\"], [0.1111111111111111, \"#46039f\"], [0.2222222222222222, \"#7201a8\"], [0.3333333333333333, \"#9c179e\"], [0.4444444444444444, \"#bd3786\"], [0.5555555555555556, \"#d8576b\"], [0.6666666666666666, \"#ed7953\"], [0.7777777777777778, \"#fb9f3a\"], [0.8888888888888888, \"#fdca26\"], [1.0, \"#f0f921\"]], \"type\": \"surface\"}], \"table\": [{\"cells\": {\"fill\": {\"color\": \"#EBF0F8\"}, \"line\": {\"color\": \"white\"}}, \"header\": {\"fill\": {\"color\": \"#C8D4E3\"}, \"line\": {\"color\": \"white\"}}, \"type\": \"table\"}]}, \"layout\": {\"annotationdefaults\": {\"arrowcolor\": \"#2a3f5f\", \"arrowhead\": 0, \"arrowwidth\": 1}, \"coloraxis\": {\"colorbar\": {\"outlinewidth\": 0, \"ticks\": \"\"}}, \"colorscale\": {\"diverging\": [[0, \"#8e0152\"], [0.1, \"#c51b7d\"], [0.2, \"#de77ae\"], [0.3, \"#f1b6da\"], [0.4, \"#fde0ef\"], [0.5, \"#f7f7f7\"], [0.6, \"#e6f5d0\"], [0.7, \"#b8e186\"], [0.8, \"#7fbc41\"], [0.9, \"#4d9221\"], [1, \"#276419\"]], \"sequential\": [[0.0, \"#0d0887\"], [0.1111111111111111, \"#46039f\"], [0.2222222222222222, \"#7201a8\"], [0.3333333333333333, \"#9c179e\"], [0.4444444444444444, \"#bd3786\"], [0.5555555555555556, \"#d8576b\"], [0.6666666666666666, \"#ed7953\"], [0.7777777777777778, \"#fb9f3a\"], [0.8888888888888888, \"#fdca26\"], [1.0, \"#f0f921\"]], \"sequentialminus\": [[0.0, \"#0d0887\"], [0.1111111111111111, \"#46039f\"], [0.2222222222222222, \"#7201a8\"], [0.3333333333333333, \"#9c179e\"], [0.4444444444444444, \"#bd3786\"], [0.5555555555555556, \"#d8576b\"], [0.6666666666666666, \"#ed7953\"], [0.7777777777777778, \"#fb9f3a\"], [0.8888888888888888, \"#fdca26\"], [1.0, \"#f0f921\"]]}, \"colorway\": [\"#636efa\", \"#EF553B\", \"#00cc96\", \"#ab63fa\", \"#FFA15A\", \"#19d3f3\", \"#FF6692\", \"#B6E880\", \"#FF97FF\", \"#FECB52\"], \"font\": {\"color\": \"#2a3f5f\"}, \"geo\": {\"bgcolor\": \"white\", \"lakecolor\": \"white\", \"landcolor\": \"#E5ECF6\", \"showlakes\": true, \"showland\": true, \"subunitcolor\": \"white\"}, \"hoverlabel\": {\"align\": \"left\"}, \"hovermode\": \"closest\", \"mapbox\": {\"style\": \"light\"}, \"paper_bgcolor\": \"white\", \"plot_bgcolor\": \"#E5ECF6\", \"polar\": {\"angularaxis\": {\"gridcolor\": \"white\", \"linecolor\": \"white\", \"ticks\": \"\"}, \"bgcolor\": \"#E5ECF6\", \"radialaxis\": {\"gridcolor\": \"white\", \"linecolor\": \"white\", \"ticks\": \"\"}}, \"scene\": {\"xaxis\": {\"backgroundcolor\": \"#E5ECF6\", \"gridcolor\": \"white\", \"gridwidth\": 2, \"linecolor\": \"white\", \"showbackground\": true, \"ticks\": \"\", \"zerolinecolor\": \"white\"}, \"yaxis\": {\"backgroundcolor\": \"#E5ECF6\", \"gridcolor\": \"white\", \"gridwidth\": 2, \"linecolor\": \"white\", \"showbackground\": true, \"ticks\": \"\", \"zerolinecolor\": \"white\"}, \"zaxis\": {\"backgroundcolor\": \"#E5ECF6\", \"gridcolor\": \"white\", \"gridwidth\": 2, \"linecolor\": \"white\", \"showbackground\": true, \"ticks\": \"\", \"zerolinecolor\": \"white\"}}, \"shapedefaults\": {\"line\": {\"color\": \"#2a3f5f\"}}, \"ternary\": {\"aaxis\": {\"gridcolor\": \"white\", \"linecolor\": \"white\", \"ticks\": \"\"}, \"baxis\": {\"gridcolor\": \"white\", \"linecolor\": \"white\", \"ticks\": \"\"}, \"bgcolor\": \"#E5ECF6\", \"caxis\": {\"gridcolor\": \"white\", \"linecolor\": \"white\", \"ticks\": \"\"}}, \"title\": {\"x\": 0.05}, \"xaxis\": {\"automargin\": true, \"gridcolor\": \"white\", \"linecolor\": \"white\", \"ticks\": \"\", \"title\": {\"standoff\": 15}, \"zerolinecolor\": \"white\", \"zerolinewidth\": 2}, \"yaxis\": {\"automargin\": true, \"gridcolor\": \"white\", \"linecolor\": \"white\", \"ticks\": \"\", \"title\": {\"standoff\": 15}, \"zerolinecolor\": \"white\", \"zerolinewidth\": 2}}}, \"title\": {\"text\": \"At work, I am treated with respect.\"}, \"updatemenus\": [{\"buttons\": [{\"args\": [{\"visible\": [true, false, false, false, false, false, false, false, false, false, false, false, false, false, false, false, false, false, false, false, false, false, false, false, false]}, {\"title\": \"At work, I am treated with respect.\"}], \"label\": \"Total\", \"method\": \"update\"}, {\"args\": [{\"visible\": [false, true, true, true, true, true, true, false, false, false, false, false, false, false, false, false, false, false, false, false, false, false, false, false, false]}, {\"title\": \"At work, I am treated with respect.\"}], \"label\": \"Race\", \"method\": \"update\"}, {\"args\": [{\"visible\": [false, false, false, false, false, false, false, true, true, true, true, true, true, false, false, false, false, false, false, false, false, false, false, false, false]}, {\"title\": \"At work, I am treated with respect.\"}], \"label\": \"Age\", \"method\": \"update\"}, {\"args\": [{\"visible\": [false, false, false, false, false, false, false, false, false, false, false, false, false, true, true, false, false, false, false, false, false, false, false, false, false]}, {\"title\": \"At work, I am treated with respect.\"}], \"label\": \"Sexual Orientation\", \"method\": \"update\"}, {\"args\": [{\"visible\": [false, false, false, false, false, false, false, false, false, false, false, false, false, false, false, true, true, true, true, true, true, false, false, false, false]}, {\"title\": \"At work, I am treated with respect.\"}], \"label\": \"Tenure\", \"method\": \"update\"}, {\"args\": [{\"visible\": [false, false, false, false, false, false, false, false, false, false, false, false, false, false, false, false, false, false, false, false, false, true, true, true, true]}, {\"title\": \"At work, I am treated with respect.\"}], \"label\": \"Status\", \"method\": \"update\"}], \"type\": \"buttons\"}]},\n",
       "                        {\"responsive\": true}\n",
       "                    ).then(function(){\n",
       "                            \n",
       "var gd = document.getElementById('2efc17d2-a61d-4dce-839f-28c87ace57ea');\n",
       "var x = new MutationObserver(function (mutations, observer) {{\n",
       "        var display = window.getComputedStyle(gd).display;\n",
       "        if (!display || display === 'none') {{\n",
       "            console.log([gd, 'removed!']);\n",
       "            Plotly.purge(gd);\n",
       "            observer.disconnect();\n",
       "        }}\n",
       "}});\n",
       "\n",
       "// Listen for the removal of the full notebook cells\n",
       "var notebookContainer = gd.closest('#notebook-container');\n",
       "if (notebookContainer) {{\n",
       "    x.observe(notebookContainer, {childList: true});\n",
       "}}\n",
       "\n",
       "// Listen for the clearing of the current output cell\n",
       "var outputEl = gd.closest('.output');\n",
       "if (outputEl) {{\n",
       "    x.observe(outputEl, {childList: true});\n",
       "}}\n",
       "\n",
       "                        })\n",
       "                };\n",
       "                });\n",
       "            </script>\n",
       "        </div>"
      ]
     },
     "metadata": {},
     "output_type": "display_data"
    }
   ],
   "source": [
    "#defining list_updatemenus\n",
    "list_updatemenus = [{'label': 'Total',\n",
    "                     'method': 'update',\n",
    "                     'args': [{'visible': [True, False, False, False, False, False, False, False, False, False, False, False, False, False, False, False, False, False, False, False, False, False, False, False, False]}, {'title': 'At work, I am treated with respect.'}]},\n",
    "                    {'label': 'Race',\n",
    "                     'method': 'update',\n",
    "                     'args': [{'visible': [False, True, True, True, True, True, True, False, False, False, False, False, False, False, False, False, False, False, False, False, False, False, False, False, False]}, {'title': 'At work, I am treated with respect.'}]},\n",
    "                    {'label': 'Age',\n",
    "                     'method': 'update',\n",
    "                     'args': [{'visible': [False, False, False, False, False, False, False, True, True, True, True, True, True, False, False, False, False, False, False, False, False, False, False, False, False]}, {'title': 'At work, I am treated with respect.'}]},\n",
    "                    {'label': 'Sexual Orientation',\n",
    "                     'method': 'update',\n",
    "                     'args': [{'visible': [False, False, False, False, False, False, False, False, False, False, False, False, False, True, True, False, False, False, False, False, False, False, False, False, False]}, {'title': 'At work, I am treated with respect.'}]},\n",
    "                   {'label': 'Tenure',\n",
    "                     'method': 'update',\n",
    "                     'args': [{'visible': [False, False, False, False, False, False, False, False, False, False, False, False, False, False, False, True, True, True, True, True, True, False, False, False, False]}, {'title': 'At work, I am treated with respect.'}]},\n",
    "                   {'label': 'Status',\n",
    "                     'method': 'update',\n",
    "                     'args': [{'visible': [False, False, False, False, False, False, False, False, False, False, False, False, False, False, False, False, False, False, False, False, False, True, True, True, True]}, {'title': 'At work, I am treated with respect.'}]}\n",
    "                   ]\n",
    "#defining graph objects\n",
    "x_total = dei['At work, I am treated with respect.  ']\n",
    "x_white = dei[dei['What is your race? ']==\"White\"][\"At work, I am treated with respect.  \"]\n",
    "x_latinx = dei[dei['What is your race? ']==\"Latino/Hispanic\"][\"At work, I am treated with respect.  \"]\n",
    "x_black = dei[dei['What is your race? ']==\"Black/ African American\"][\"At work, I am treated with respect.  \"]\n",
    "x_two_plus = dei[dei['What is your race? ']==\"Two or more Races\"][\"At work, I am treated with respect.  \"]\n",
    "x_asian = dei[dei['What is your race? ']==\"Asian\"][\"At work, I am treated with respect.  \"]\n",
    "x_first_peoples = dei[dei['What is your race? ']==\"Indian/ Native American\"][\"At work, I am treated with respect.  \"]\n",
    "x_age1 = dei[dei[\"What is your age?\"]==\"25-34\"][\"At work, I am treated with respect.  \"]\n",
    "x_age2 = dei[dei[\"What is your age?\"]==\"35-44\"][\"At work, I am treated with respect.  \"]\n",
    "x_age3 = dei[dei[\"What is your age?\"]==\"45-54\"][\"At work, I am treated with respect.  \"]\n",
    "x_age4 = dei[dei[\"What is your age?\"]==\"55-64\"][\"At work, I am treated with respect.  \"]\n",
    "x_age5 = dei[dei[\"What is your age?\"]==\"18-24\"][\"At work, I am treated with respect.  \"]\n",
    "x_age6 = dei[dei[\"What is your age?\"]==\"65-74\"][\"At work, I am treated with respect.  \"]\n",
    "x_straight = dei[dei[\"What is your sexual orientation?\"]==\"Straight\"][\"At work, I am treated with respect.  \"]\n",
    "x_lgbtq = dei[dei[\"What is your sexual orientation?\"]==\"LGBTQ+\"][\"At work, I am treated with respect.  \"]\n",
    "x_tenure1 = dei[dei[\"How long have you worked for FC?\"]==\"1-3 years\"][\"At work, I am treated with respect.  \"]\n",
    "x_tenure2 = dei[dei[\"How long have you worked for FC?\"]==\"3-5 years\"][\"At work, I am treated with respect.  \"]\n",
    "x_tenure3 = dei[dei[\"How long have you worked for FC?\"]==\"Less than a year\"][\"At work, I am treated with respect.  \"]\n",
    "x_tenure4 = dei[dei[\"How long have you worked for FC?\"]==\"5-10 years\"][\"At work, I am treated with respect.  \"]\n",
    "x_tenure5 = dei[dei[\"How long have you worked for FC?\"]==\"10+ years\"][\"At work, I am treated with respect.  \"]\n",
    "x_tenure6 = dei[dei[\"How long have you worked for FC?\"]==\"1 year\"][\"At work, I am treated with respect.  \"]\n",
    "x_status1 = dei[dei[\"What is your employment status?\"]==\"Full-time\"][\"At work, I am treated with respect.  \"]\n",
    "x_status2 = dei[dei[\"What is your employment status?\"]==\"Part-time\"][\"At work, I am treated with respect.  \"]\n",
    "x_status3 = dei[dei[\"What is your employment status?\"]==\"Seasonal\"][\"At work, I am treated with respect.  \"]\n",
    "x_status4 = dei[dei[\"What is your employment status?\"]==\"Part-time, Seasonal\"][\"At work, I am treated with respect.  \"]\n",
    "#defining data\n",
    "data=[go.Histogram(x=x_total,name='  ',opacity = .5),\n",
    "      go.Histogram(x=x_white,name='White',opacity = .5),\n",
    "      go.Histogram(x=x_latinx,name='Latino/Hispanic',opacity = .5),\n",
    "      go.Histogram(x=x_black,name='Black/African American',opacity = .5),\n",
    "      go.Histogram(x=x_two_plus,name='Two or more Races',opacity = .5),\n",
    "      go.Histogram(x=x_asian,name='Asian',opacity = .5),\n",
    "      go.Histogram(x=x_first_peoples,name='Indian/Native American',opacity = .5),\n",
    "      go.Histogram(x=x_age1,name='25-34', opacity = .5),\n",
    "      go.Histogram(x=x_age2,name='35-44',opacity = .5),\n",
    "      go.Histogram(x=x_age3,name='45-54',opacity = .5),\n",
    "      go.Histogram(x=x_age4,name='55-64',opacity = .5),\n",
    "      go.Histogram(x=x_age5,name='18-24',opacity = .5),\n",
    "      go.Histogram(x=x_age6,name='65-74',opacity = .5),\n",
    "      go.Histogram(x=x_straight,name='Straight',opacity = .5),\n",
    "      go.Histogram(x=x_lgbtq,name='LGBTQ+',opacity = .5),\n",
    "      go.Histogram(x=x_tenure1,name='1-3 years',opacity = .5),\n",
    "      go.Histogram(x=x_tenure2,name='3-5 years',opacity = .5),\n",
    "      go.Histogram(x=x_tenure3,name='< than a year',opacity = .5),\n",
    "      go.Histogram(x=x_tenure4,name='5-10 years',opacity = .5),\n",
    "      go.Histogram(x=x_tenure5,name='10+ years',opacity = .5),\n",
    "      go.Histogram(x=x_tenure6,name='1 year',opacity = .5),\n",
    "      go.Histogram(x=x_status1,name='Full-time',opacity = .5),\n",
    "      go.Histogram(x=x_status2,name='Part-time',opacity = .5),\n",
    "      go.Histogram(x=x_status2,name='Seasonal',opacity = .5),\n",
    "      go.Histogram(x=x_status2,name='Part-time, Seasonal',opacity = .5)\n",
    "     \n",
    "     ]\n",
    "\n",
    "\n",
    "#defining layout\n",
    "layout=go.Layout(title='At work, I am treated with respect.',updatemenus=list([dict(buttons= list_updatemenus,type = 'buttons')]),barmode='stack')\n",
    "\n",
    "#defining layout and plotting\n",
    "fig = go.Figure(data,layout)\n",
    "fig.show()\n"
   ]
  },
  {
   "cell_type": "markdown",
   "metadata": {},
   "source": [
    "### At work, I feel comfortable being myself."
   ]
  },
  {
   "cell_type": "code",
   "execution_count": 21,
   "metadata": {},
   "outputs": [
    {
     "data": {
      "application/vnd.plotly.v1+json": {
       "config": {
        "plotlyServerURL": "https://plot.ly"
       },
       "data": [
        {
         "name": "   ",
         "opacity": 0.5,
         "type": "histogram",
         "x": [
          3,
          2,
          5,
          5,
          4,
          1,
          1,
          3,
          1,
          4,
          4,
          5,
          4,
          3,
          5,
          2,
          4,
          2,
          4,
          4,
          5,
          5,
          3,
          4,
          5,
          4,
          4,
          4,
          4,
          5,
          4,
          3,
          3,
          4,
          2,
          2,
          5,
          4,
          5,
          2,
          4,
          3,
          4,
          5,
          2,
          3,
          1,
          3,
          2,
          3,
          4,
          2,
          3,
          5,
          5,
          5,
          4,
          3,
          5,
          4,
          5,
          3,
          4,
          4,
          5,
          5,
          4,
          5,
          5,
          4,
          5,
          4,
          4,
          4,
          5,
          4,
          4,
          4,
          4,
          5,
          4,
          5,
          5,
          4,
          5,
          5,
          4,
          5,
          5,
          5,
          5,
          5,
          5,
          5,
          5,
          5,
          4,
          4,
          5,
          5,
          5,
          2,
          3,
          4,
          4,
          4,
          4,
          5,
          5,
          5,
          3,
          5,
          5,
          5,
          5,
          4,
          3,
          5,
          3,
          4,
          4,
          4,
          4,
          4,
          4,
          4,
          5,
          4,
          3,
          4,
          2,
          4,
          4,
          4,
          5,
          5,
          3,
          3,
          3,
          5,
          3,
          3,
          4,
          5,
          3,
          4,
          5,
          3,
          4,
          5,
          4,
          5,
          4,
          3,
          4,
          5,
          5,
          4,
          5,
          3,
          4,
          4,
          3,
          5,
          4,
          3,
          4,
          5,
          2,
          5,
          4,
          5,
          5,
          4,
          5,
          4,
          5,
          4,
          5,
          5,
          5,
          5,
          4,
          3,
          5,
          5,
          5,
          5,
          5,
          5,
          5,
          5,
          5,
          4,
          5,
          5,
          5,
          5,
          3,
          5,
          5,
          5,
          5,
          3,
          4
         ]
        },
        {
         "name": "White",
         "opacity": 0.5,
         "type": "histogram",
         "x": [
          3,
          5,
          3,
          4,
          4,
          4,
          4,
          4,
          4,
          4,
          5,
          4,
          3,
          4,
          2,
          4,
          4,
          4,
          5,
          5,
          3,
          3,
          3,
          5,
          3,
          3,
          4,
          5,
          3,
          4,
          5,
          3,
          4,
          5,
          4,
          5,
          4,
          3,
          4,
          5,
          5,
          4,
          5,
          3,
          4,
          4,
          3,
          5,
          4,
          3,
          4,
          5,
          2,
          5,
          4,
          5,
          5,
          4,
          5,
          4,
          5,
          4,
          5,
          5,
          5,
          5,
          4,
          3,
          5,
          5,
          5,
          5,
          5,
          5,
          5,
          5,
          5,
          4,
          5,
          5,
          5,
          5,
          3,
          5,
          5,
          5
         ]
        },
        {
         "name": "Latino/Hispanic",
         "opacity": 0.5,
         "type": "histogram",
         "x": [
          3,
          3,
          4,
          2,
          2,
          5,
          4,
          5,
          2,
          4,
          3,
          4,
          5,
          2,
          3,
          1,
          3,
          2,
          3,
          4,
          2,
          3,
          5,
          5,
          5,
          4,
          3,
          5,
          4,
          5,
          3,
          4,
          4,
          5,
          5,
          4,
          5,
          5,
          4,
          5,
          4,
          4,
          4,
          5,
          4,
          4,
          4,
          4,
          5,
          4,
          5,
          5,
          4,
          5,
          5,
          4,
          5,
          5,
          5,
          5,
          5,
          5,
          5,
          5,
          5,
          4,
          4,
          5
         ]
        },
        {
         "name": "Black/African American",
         "opacity": 0.5,
         "type": "histogram",
         "x": [
          4,
          1,
          1,
          3,
          1,
          4,
          4,
          5,
          4,
          3,
          5,
          2,
          4,
          2,
          4,
          4,
          5,
          5,
          3,
          4,
          5,
          4,
          4,
          4
         ]
        },
        {
         "name": "Two or more Races",
         "opacity": 0.5,
         "type": "histogram",
         "x": [
          2,
          3,
          4,
          4,
          4,
          4,
          5,
          5,
          5,
          3,
          5,
          5,
          5,
          5,
          4
         ]
        },
        {
         "name": "Asian",
         "opacity": 0.5,
         "type": "histogram",
         "x": [
          2,
          5,
          5
         ]
        },
        {
         "name": "Indian/Native American",
         "opacity": 0.5,
         "type": "histogram",
         "x": [
          5,
          4
         ]
        },
        {
         "name": "25-34",
         "opacity": 0.5,
         "type": "histogram",
         "x": [
          2,
          5,
          1,
          1,
          3,
          5,
          2,
          4,
          5,
          4,
          4,
          4,
          3,
          4,
          5,
          4,
          3,
          3,
          3,
          4,
          3,
          5,
          5,
          5,
          3,
          4,
          4,
          5,
          5,
          4,
          4,
          4,
          4,
          5,
          5,
          4,
          5,
          5,
          5,
          5,
          5,
          4,
          2,
          4,
          4,
          3,
          5,
          5,
          4,
          3,
          4,
          4,
          4,
          4,
          4,
          5,
          4,
          5,
          3,
          5,
          5,
          3,
          4,
          4,
          5,
          4,
          3,
          4,
          3,
          5,
          4,
          5,
          4,
          5,
          5,
          4,
          4,
          5,
          5,
          5,
          5,
          5,
          5,
          4,
          5,
          3
         ]
        },
        {
         "name": "35-44",
         "opacity": 0.5,
         "type": "histogram",
         "x": [
          3,
          4,
          4,
          2,
          5,
          3,
          3,
          2,
          2,
          5,
          3,
          5,
          2,
          2,
          2,
          4,
          3,
          5,
          5,
          4,
          4,
          5,
          4,
          5,
          5,
          5,
          5,
          5,
          3,
          4,
          3,
          5,
          4,
          3,
          4,
          5,
          3,
          4,
          4,
          5,
          5,
          4,
          5,
          5,
          5,
          3,
          5
         ]
        },
        {
         "name": "45-54",
         "opacity": 0.5,
         "type": "histogram",
         "x": [
          4,
          5,
          5,
          4,
          4,
          1,
          4,
          5,
          5,
          4,
          5,
          5,
          4,
          2,
          4,
          3,
          3,
          3,
          4,
          5,
          5,
          5,
          2,
          4,
          5,
          5,
          5,
          5
         ]
        },
        {
         "name": "55-64",
         "opacity": 0.5,
         "type": "histogram",
         "x": [
          1,
          4,
          4,
          4,
          4,
          2,
          5,
          4,
          5,
          4,
          5,
          4,
          3,
          3,
          4,
          5,
          4,
          3,
          5,
          5,
          5,
          5,
          5,
          5,
          4
         ]
        },
        {
         "name": "18-24",
         "opacity": 0.5,
         "type": "histogram",
         "x": [
          5,
          4,
          4,
          5,
          5,
          4,
          5,
          5,
          4,
          4,
          5,
          5
         ]
        },
        {
         "name": "65-74",
         "opacity": 0.5,
         "type": "histogram",
         "x": [
          4,
          5,
          4,
          5,
          5,
          3
         ]
        },
        {
         "name": "Straight",
         "opacity": 0.5,
         "type": "histogram",
         "x": [
          5,
          5,
          4,
          1,
          1,
          3,
          1,
          4,
          4,
          5,
          4,
          3,
          5,
          2,
          4,
          2,
          4,
          5,
          5,
          3,
          5,
          4,
          4,
          4,
          4,
          5,
          4,
          2,
          2,
          5,
          4,
          5,
          2,
          4,
          3,
          4,
          5,
          1,
          2,
          3,
          4,
          2,
          3,
          5,
          5,
          5,
          4,
          3,
          5,
          4,
          5,
          4,
          4,
          5,
          5,
          5,
          5,
          4,
          5,
          4,
          4,
          4,
          5,
          4,
          4,
          4,
          5,
          4,
          5,
          5,
          4,
          5,
          5,
          5,
          5,
          5,
          5,
          5,
          5,
          5,
          4,
          4,
          5,
          5,
          5,
          3,
          4,
          4,
          4,
          5,
          5,
          5,
          3,
          5,
          5,
          5,
          5,
          4,
          3,
          5,
          3,
          4,
          4,
          4,
          5,
          3,
          4,
          2,
          4,
          4,
          5,
          5,
          3,
          5,
          3,
          3,
          4,
          5,
          3,
          4,
          5,
          4,
          4,
          5,
          3,
          5,
          4,
          3,
          5,
          3,
          5,
          2,
          5,
          4,
          5,
          5,
          4,
          5,
          4,
          5,
          4,
          3,
          5,
          5,
          5,
          5,
          5,
          5,
          5,
          5,
          4,
          5,
          5,
          5,
          5,
          3,
          5,
          5,
          5,
          5,
          4
         ]
        },
        {
         "name": "LGBTQ+",
         "opacity": 0.5,
         "type": "histogram",
         "x": [
          4,
          4,
          3,
          2,
          3,
          3,
          3,
          4,
          4,
          5,
          5,
          2,
          4,
          4,
          4,
          4,
          4,
          4,
          4,
          3,
          3,
          5,
          4,
          4,
          5,
          4,
          3,
          4,
          4,
          4,
          4,
          5,
          5,
          5,
          3
         ]
        },
        {
         "name": "1-3 years",
         "opacity": 0.5,
         "type": "histogram",
         "x": [
          3,
          2,
          5,
          5,
          4,
          3,
          1,
          5,
          4,
          5,
          4,
          4,
          5,
          4,
          4,
          3,
          2,
          2,
          5,
          4,
          3,
          4,
          5,
          4,
          5,
          3,
          4,
          5,
          5,
          5,
          4,
          4,
          5,
          5,
          5,
          5,
          5,
          4,
          4,
          5,
          5,
          3,
          4,
          4,
          4,
          5,
          4,
          2,
          4,
          4,
          5,
          5,
          4,
          4,
          3,
          4,
          4,
          5,
          4,
          4,
          2,
          4,
          4,
          5,
          5,
          5,
          5,
          3,
          5,
          4
         ]
        },
        {
         "name": "3-5 years",
         "opacity": 0.5,
         "type": "histogram",
         "x": [
          1,
          1,
          4,
          4,
          5,
          3,
          3,
          2,
          4,
          2,
          4,
          5,
          4,
          5,
          4,
          5,
          5,
          5,
          5,
          2,
          3,
          5,
          4,
          4,
          3,
          5,
          4,
          5,
          5,
          4,
          3,
          5,
          5,
          5,
          5,
          4,
          4,
          5,
          5,
          5
         ]
        },
        {
         "name": "< than a year",
         "opacity": 0.5,
         "type": "histogram",
         "x": [
          3,
          1,
          4,
          5,
          4,
          5,
          5,
          5,
          5,
          5,
          4,
          5,
          5,
          5,
          4,
          3,
          3,
          3,
          4,
          3,
          5,
          4,
          5,
          4,
          5,
          5,
          5,
          5,
          5,
          5,
          4,
          5
         ]
        },
        {
         "name": "5-10 years",
         "opacity": 0.5,
         "type": "histogram",
         "x": [
          4,
          2,
          5,
          4,
          4,
          4,
          4,
          2,
          3,
          3,
          5,
          5,
          3,
          4,
          4,
          4,
          3,
          5,
          4,
          4,
          4,
          3,
          3,
          5,
          3,
          3,
          3,
          5
         ]
        },
        {
         "name": "10+ years",
         "opacity": 0.5,
         "type": "histogram",
         "x": [
          4,
          5,
          5,
          3,
          2,
          5,
          4,
          5,
          4,
          4,
          4,
          5,
          5,
          4,
          4,
          5,
          4,
          5,
          5,
          5,
          5,
          5,
          5
         ]
        },
        {
         "name": "1 year",
         "opacity": 0.5,
         "type": "histogram",
         "x": [
          2,
          4,
          5,
          3,
          4,
          4,
          5,
          3,
          3,
          5,
          3
         ]
        },
        {
         "name": "Full-time",
         "opacity": 0.5,
         "type": "histogram",
         "x": [
          3,
          2,
          4,
          1,
          1,
          3,
          1,
          4,
          4,
          5,
          4,
          3,
          5,
          2,
          4,
          2,
          4,
          5,
          5,
          3,
          4,
          5,
          4,
          4,
          4,
          4,
          5,
          4,
          3,
          3,
          4,
          2,
          2,
          5,
          4,
          5,
          2,
          4,
          3,
          4,
          5,
          2,
          3,
          1,
          3,
          2,
          3,
          4,
          2,
          3,
          5,
          5,
          5,
          4,
          3,
          5,
          4,
          3,
          4,
          4,
          5,
          5,
          4,
          5,
          5,
          4,
          5,
          4,
          4,
          4,
          5,
          4,
          4,
          4,
          4,
          4,
          5,
          4,
          5,
          4,
          5,
          5,
          5,
          5,
          5,
          5,
          5,
          4,
          4,
          5,
          5,
          5,
          2,
          3,
          4,
          4,
          4,
          4,
          5,
          5,
          5,
          5,
          5,
          5,
          4,
          3,
          5,
          3,
          4,
          4,
          4,
          4,
          4,
          4,
          4,
          5,
          4,
          3,
          4,
          2,
          4,
          4,
          4,
          5,
          5,
          3,
          3,
          3,
          3,
          3,
          4,
          5,
          3,
          4,
          5,
          3,
          4,
          5,
          4,
          5,
          3,
          4,
          5,
          5,
          4,
          5,
          3,
          4,
          3,
          5,
          3,
          4,
          5,
          2,
          5,
          4,
          4,
          5,
          4,
          5,
          4,
          5,
          5,
          5,
          3,
          5,
          5,
          5,
          5,
          5,
          5,
          5,
          5,
          5,
          3,
          5,
          5,
          5,
          3,
          4
         ]
        },
        {
         "name": "Part-time",
         "opacity": 0.5,
         "type": "histogram",
         "x": [
          5,
          5,
          4,
          5,
          5,
          5,
          3,
          5,
          5,
          4,
          4,
          5,
          4,
          5,
          5,
          4,
          5,
          5,
          5
         ]
        },
        {
         "name": "Seasonal",
         "opacity": 0.5,
         "type": "histogram",
         "x": [
          5,
          5,
          4,
          5,
          5,
          5,
          3,
          5,
          5,
          4,
          4,
          5,
          4,
          5,
          5,
          4,
          5,
          5,
          5
         ]
        },
        {
         "name": "Part-time, Seasonal",
         "opacity": 0.5,
         "type": "histogram",
         "x": [
          5,
          5,
          4,
          5,
          5,
          5,
          3,
          5,
          5,
          4,
          4,
          5,
          4,
          5,
          5,
          4,
          5,
          5,
          5
         ]
        }
       ],
       "layout": {
        "barmode": "stack",
        "template": {
         "data": {
          "bar": [
           {
            "error_x": {
             "color": "#2a3f5f"
            },
            "error_y": {
             "color": "#2a3f5f"
            },
            "marker": {
             "line": {
              "color": "#E5ECF6",
              "width": 0.5
             }
            },
            "type": "bar"
           }
          ],
          "barpolar": [
           {
            "marker": {
             "line": {
              "color": "#E5ECF6",
              "width": 0.5
             }
            },
            "type": "barpolar"
           }
          ],
          "carpet": [
           {
            "aaxis": {
             "endlinecolor": "#2a3f5f",
             "gridcolor": "white",
             "linecolor": "white",
             "minorgridcolor": "white",
             "startlinecolor": "#2a3f5f"
            },
            "baxis": {
             "endlinecolor": "#2a3f5f",
             "gridcolor": "white",
             "linecolor": "white",
             "minorgridcolor": "white",
             "startlinecolor": "#2a3f5f"
            },
            "type": "carpet"
           }
          ],
          "choropleth": [
           {
            "colorbar": {
             "outlinewidth": 0,
             "ticks": ""
            },
            "type": "choropleth"
           }
          ],
          "contour": [
           {
            "colorbar": {
             "outlinewidth": 0,
             "ticks": ""
            },
            "colorscale": [
             [
              0,
              "#0d0887"
             ],
             [
              0.1111111111111111,
              "#46039f"
             ],
             [
              0.2222222222222222,
              "#7201a8"
             ],
             [
              0.3333333333333333,
              "#9c179e"
             ],
             [
              0.4444444444444444,
              "#bd3786"
             ],
             [
              0.5555555555555556,
              "#d8576b"
             ],
             [
              0.6666666666666666,
              "#ed7953"
             ],
             [
              0.7777777777777778,
              "#fb9f3a"
             ],
             [
              0.8888888888888888,
              "#fdca26"
             ],
             [
              1,
              "#f0f921"
             ]
            ],
            "type": "contour"
           }
          ],
          "contourcarpet": [
           {
            "colorbar": {
             "outlinewidth": 0,
             "ticks": ""
            },
            "type": "contourcarpet"
           }
          ],
          "heatmap": [
           {
            "colorbar": {
             "outlinewidth": 0,
             "ticks": ""
            },
            "colorscale": [
             [
              0,
              "#0d0887"
             ],
             [
              0.1111111111111111,
              "#46039f"
             ],
             [
              0.2222222222222222,
              "#7201a8"
             ],
             [
              0.3333333333333333,
              "#9c179e"
             ],
             [
              0.4444444444444444,
              "#bd3786"
             ],
             [
              0.5555555555555556,
              "#d8576b"
             ],
             [
              0.6666666666666666,
              "#ed7953"
             ],
             [
              0.7777777777777778,
              "#fb9f3a"
             ],
             [
              0.8888888888888888,
              "#fdca26"
             ],
             [
              1,
              "#f0f921"
             ]
            ],
            "type": "heatmap"
           }
          ],
          "heatmapgl": [
           {
            "colorbar": {
             "outlinewidth": 0,
             "ticks": ""
            },
            "colorscale": [
             [
              0,
              "#0d0887"
             ],
             [
              0.1111111111111111,
              "#46039f"
             ],
             [
              0.2222222222222222,
              "#7201a8"
             ],
             [
              0.3333333333333333,
              "#9c179e"
             ],
             [
              0.4444444444444444,
              "#bd3786"
             ],
             [
              0.5555555555555556,
              "#d8576b"
             ],
             [
              0.6666666666666666,
              "#ed7953"
             ],
             [
              0.7777777777777778,
              "#fb9f3a"
             ],
             [
              0.8888888888888888,
              "#fdca26"
             ],
             [
              1,
              "#f0f921"
             ]
            ],
            "type": "heatmapgl"
           }
          ],
          "histogram": [
           {
            "marker": {
             "colorbar": {
              "outlinewidth": 0,
              "ticks": ""
             }
            },
            "type": "histogram"
           }
          ],
          "histogram2d": [
           {
            "colorbar": {
             "outlinewidth": 0,
             "ticks": ""
            },
            "colorscale": [
             [
              0,
              "#0d0887"
             ],
             [
              0.1111111111111111,
              "#46039f"
             ],
             [
              0.2222222222222222,
              "#7201a8"
             ],
             [
              0.3333333333333333,
              "#9c179e"
             ],
             [
              0.4444444444444444,
              "#bd3786"
             ],
             [
              0.5555555555555556,
              "#d8576b"
             ],
             [
              0.6666666666666666,
              "#ed7953"
             ],
             [
              0.7777777777777778,
              "#fb9f3a"
             ],
             [
              0.8888888888888888,
              "#fdca26"
             ],
             [
              1,
              "#f0f921"
             ]
            ],
            "type": "histogram2d"
           }
          ],
          "histogram2dcontour": [
           {
            "colorbar": {
             "outlinewidth": 0,
             "ticks": ""
            },
            "colorscale": [
             [
              0,
              "#0d0887"
             ],
             [
              0.1111111111111111,
              "#46039f"
             ],
             [
              0.2222222222222222,
              "#7201a8"
             ],
             [
              0.3333333333333333,
              "#9c179e"
             ],
             [
              0.4444444444444444,
              "#bd3786"
             ],
             [
              0.5555555555555556,
              "#d8576b"
             ],
             [
              0.6666666666666666,
              "#ed7953"
             ],
             [
              0.7777777777777778,
              "#fb9f3a"
             ],
             [
              0.8888888888888888,
              "#fdca26"
             ],
             [
              1,
              "#f0f921"
             ]
            ],
            "type": "histogram2dcontour"
           }
          ],
          "mesh3d": [
           {
            "colorbar": {
             "outlinewidth": 0,
             "ticks": ""
            },
            "type": "mesh3d"
           }
          ],
          "parcoords": [
           {
            "line": {
             "colorbar": {
              "outlinewidth": 0,
              "ticks": ""
             }
            },
            "type": "parcoords"
           }
          ],
          "pie": [
           {
            "automargin": true,
            "type": "pie"
           }
          ],
          "scatter": [
           {
            "marker": {
             "colorbar": {
              "outlinewidth": 0,
              "ticks": ""
             }
            },
            "type": "scatter"
           }
          ],
          "scatter3d": [
           {
            "line": {
             "colorbar": {
              "outlinewidth": 0,
              "ticks": ""
             }
            },
            "marker": {
             "colorbar": {
              "outlinewidth": 0,
              "ticks": ""
             }
            },
            "type": "scatter3d"
           }
          ],
          "scattercarpet": [
           {
            "marker": {
             "colorbar": {
              "outlinewidth": 0,
              "ticks": ""
             }
            },
            "type": "scattercarpet"
           }
          ],
          "scattergeo": [
           {
            "marker": {
             "colorbar": {
              "outlinewidth": 0,
              "ticks": ""
             }
            },
            "type": "scattergeo"
           }
          ],
          "scattergl": [
           {
            "marker": {
             "colorbar": {
              "outlinewidth": 0,
              "ticks": ""
             }
            },
            "type": "scattergl"
           }
          ],
          "scattermapbox": [
           {
            "marker": {
             "colorbar": {
              "outlinewidth": 0,
              "ticks": ""
             }
            },
            "type": "scattermapbox"
           }
          ],
          "scatterpolar": [
           {
            "marker": {
             "colorbar": {
              "outlinewidth": 0,
              "ticks": ""
             }
            },
            "type": "scatterpolar"
           }
          ],
          "scatterpolargl": [
           {
            "marker": {
             "colorbar": {
              "outlinewidth": 0,
              "ticks": ""
             }
            },
            "type": "scatterpolargl"
           }
          ],
          "scatterternary": [
           {
            "marker": {
             "colorbar": {
              "outlinewidth": 0,
              "ticks": ""
             }
            },
            "type": "scatterternary"
           }
          ],
          "surface": [
           {
            "colorbar": {
             "outlinewidth": 0,
             "ticks": ""
            },
            "colorscale": [
             [
              0,
              "#0d0887"
             ],
             [
              0.1111111111111111,
              "#46039f"
             ],
             [
              0.2222222222222222,
              "#7201a8"
             ],
             [
              0.3333333333333333,
              "#9c179e"
             ],
             [
              0.4444444444444444,
              "#bd3786"
             ],
             [
              0.5555555555555556,
              "#d8576b"
             ],
             [
              0.6666666666666666,
              "#ed7953"
             ],
             [
              0.7777777777777778,
              "#fb9f3a"
             ],
             [
              0.8888888888888888,
              "#fdca26"
             ],
             [
              1,
              "#f0f921"
             ]
            ],
            "type": "surface"
           }
          ],
          "table": [
           {
            "cells": {
             "fill": {
              "color": "#EBF0F8"
             },
             "line": {
              "color": "white"
             }
            },
            "header": {
             "fill": {
              "color": "#C8D4E3"
             },
             "line": {
              "color": "white"
             }
            },
            "type": "table"
           }
          ]
         },
         "layout": {
          "annotationdefaults": {
           "arrowcolor": "#2a3f5f",
           "arrowhead": 0,
           "arrowwidth": 1
          },
          "coloraxis": {
           "colorbar": {
            "outlinewidth": 0,
            "ticks": ""
           }
          },
          "colorscale": {
           "diverging": [
            [
             0,
             "#8e0152"
            ],
            [
             0.1,
             "#c51b7d"
            ],
            [
             0.2,
             "#de77ae"
            ],
            [
             0.3,
             "#f1b6da"
            ],
            [
             0.4,
             "#fde0ef"
            ],
            [
             0.5,
             "#f7f7f7"
            ],
            [
             0.6,
             "#e6f5d0"
            ],
            [
             0.7,
             "#b8e186"
            ],
            [
             0.8,
             "#7fbc41"
            ],
            [
             0.9,
             "#4d9221"
            ],
            [
             1,
             "#276419"
            ]
           ],
           "sequential": [
            [
             0,
             "#0d0887"
            ],
            [
             0.1111111111111111,
             "#46039f"
            ],
            [
             0.2222222222222222,
             "#7201a8"
            ],
            [
             0.3333333333333333,
             "#9c179e"
            ],
            [
             0.4444444444444444,
             "#bd3786"
            ],
            [
             0.5555555555555556,
             "#d8576b"
            ],
            [
             0.6666666666666666,
             "#ed7953"
            ],
            [
             0.7777777777777778,
             "#fb9f3a"
            ],
            [
             0.8888888888888888,
             "#fdca26"
            ],
            [
             1,
             "#f0f921"
            ]
           ],
           "sequentialminus": [
            [
             0,
             "#0d0887"
            ],
            [
             0.1111111111111111,
             "#46039f"
            ],
            [
             0.2222222222222222,
             "#7201a8"
            ],
            [
             0.3333333333333333,
             "#9c179e"
            ],
            [
             0.4444444444444444,
             "#bd3786"
            ],
            [
             0.5555555555555556,
             "#d8576b"
            ],
            [
             0.6666666666666666,
             "#ed7953"
            ],
            [
             0.7777777777777778,
             "#fb9f3a"
            ],
            [
             0.8888888888888888,
             "#fdca26"
            ],
            [
             1,
             "#f0f921"
            ]
           ]
          },
          "colorway": [
           "#636efa",
           "#EF553B",
           "#00cc96",
           "#ab63fa",
           "#FFA15A",
           "#19d3f3",
           "#FF6692",
           "#B6E880",
           "#FF97FF",
           "#FECB52"
          ],
          "font": {
           "color": "#2a3f5f"
          },
          "geo": {
           "bgcolor": "white",
           "lakecolor": "white",
           "landcolor": "#E5ECF6",
           "showlakes": true,
           "showland": true,
           "subunitcolor": "white"
          },
          "hoverlabel": {
           "align": "left"
          },
          "hovermode": "closest",
          "mapbox": {
           "style": "light"
          },
          "paper_bgcolor": "white",
          "plot_bgcolor": "#E5ECF6",
          "polar": {
           "angularaxis": {
            "gridcolor": "white",
            "linecolor": "white",
            "ticks": ""
           },
           "bgcolor": "#E5ECF6",
           "radialaxis": {
            "gridcolor": "white",
            "linecolor": "white",
            "ticks": ""
           }
          },
          "scene": {
           "xaxis": {
            "backgroundcolor": "#E5ECF6",
            "gridcolor": "white",
            "gridwidth": 2,
            "linecolor": "white",
            "showbackground": true,
            "ticks": "",
            "zerolinecolor": "white"
           },
           "yaxis": {
            "backgroundcolor": "#E5ECF6",
            "gridcolor": "white",
            "gridwidth": 2,
            "linecolor": "white",
            "showbackground": true,
            "ticks": "",
            "zerolinecolor": "white"
           },
           "zaxis": {
            "backgroundcolor": "#E5ECF6",
            "gridcolor": "white",
            "gridwidth": 2,
            "linecolor": "white",
            "showbackground": true,
            "ticks": "",
            "zerolinecolor": "white"
           }
          },
          "shapedefaults": {
           "line": {
            "color": "#2a3f5f"
           }
          },
          "ternary": {
           "aaxis": {
            "gridcolor": "white",
            "linecolor": "white",
            "ticks": ""
           },
           "baxis": {
            "gridcolor": "white",
            "linecolor": "white",
            "ticks": ""
           },
           "bgcolor": "#E5ECF6",
           "caxis": {
            "gridcolor": "white",
            "linecolor": "white",
            "ticks": ""
           }
          },
          "title": {
           "x": 0.05
          },
          "xaxis": {
           "automargin": true,
           "gridcolor": "white",
           "linecolor": "white",
           "ticks": "",
           "title": {
            "standoff": 15
           },
           "zerolinecolor": "white",
           "zerolinewidth": 2
          },
          "yaxis": {
           "automargin": true,
           "gridcolor": "white",
           "linecolor": "white",
           "ticks": "",
           "title": {
            "standoff": 15
           },
           "zerolinecolor": "white",
           "zerolinewidth": 2
          }
         }
        },
        "title": {
         "text": "At work, I feel comfortable being myself."
        },
        "updatemenus": [
         {
          "buttons": [
           {
            "args": [
             {
              "visible": [
               true,
               false,
               false,
               false,
               false,
               false,
               false,
               false,
               false,
               false,
               false,
               false,
               false,
               false,
               false,
               false,
               false,
               false,
               false,
               false,
               false,
               false,
               false,
               false,
               false
              ]
             },
             {
              "title": "At work, I feel comfortable being myself."
             }
            ],
            "label": "Total",
            "method": "update"
           },
           {
            "args": [
             {
              "visible": [
               false,
               true,
               true,
               true,
               true,
               true,
               true,
               false,
               false,
               false,
               false,
               false,
               false,
               false,
               false,
               false,
               false,
               false,
               false,
               false,
               false,
               false,
               false,
               false,
               false
              ]
             },
             {
              "title": "At work, I feel comfortable being myself."
             }
            ],
            "label": "Race",
            "method": "update"
           },
           {
            "args": [
             {
              "visible": [
               false,
               false,
               false,
               false,
               false,
               false,
               false,
               true,
               true,
               true,
               true,
               true,
               true,
               false,
               false,
               false,
               false,
               false,
               false,
               false,
               false,
               false,
               false,
               false,
               false
              ]
             },
             {
              "title": "At work, I feel comfortable being myself."
             }
            ],
            "label": "Age",
            "method": "update"
           },
           {
            "args": [
             {
              "visible": [
               false,
               false,
               false,
               false,
               false,
               false,
               false,
               false,
               false,
               false,
               false,
               false,
               false,
               true,
               true,
               false,
               false,
               false,
               false,
               false,
               false,
               false,
               false,
               false,
               false
              ]
             },
             {
              "title": "At work, I feel comfortable being myself."
             }
            ],
            "label": "Sexual Orientation",
            "method": "update"
           },
           {
            "args": [
             {
              "visible": [
               false,
               false,
               false,
               false,
               false,
               false,
               false,
               false,
               false,
               false,
               false,
               false,
               false,
               false,
               false,
               true,
               true,
               true,
               true,
               true,
               true,
               false,
               false,
               false,
               false
              ]
             },
             {
              "title": "At work, I feel comfortable being myself."
             }
            ],
            "label": "Tenure",
            "method": "update"
           },
           {
            "args": [
             {
              "visible": [
               false,
               false,
               false,
               false,
               false,
               false,
               false,
               false,
               false,
               false,
               false,
               false,
               false,
               false,
               false,
               false,
               false,
               false,
               false,
               false,
               false,
               true,
               true,
               true,
               true
              ]
             },
             {
              "title": "At work, I feel comfortable being myself."
             }
            ],
            "label": "Status",
            "method": "update"
           }
          ],
          "type": "buttons"
         }
        ]
       }
      },
      "text/html": [
       "<div>\n",
       "        \n",
       "        \n",
       "            <div id=\"dfef0de3-f211-41dc-a371-ca2149022aa5\" class=\"plotly-graph-div\" style=\"height:525px; width:100%;\"></div>\n",
       "            <script type=\"text/javascript\">\n",
       "                require([\"plotly\"], function(Plotly) {\n",
       "                    window.PLOTLYENV=window.PLOTLYENV || {};\n",
       "                    \n",
       "                if (document.getElementById(\"dfef0de3-f211-41dc-a371-ca2149022aa5\")) {\n",
       "                    Plotly.newPlot(\n",
       "                        'dfef0de3-f211-41dc-a371-ca2149022aa5',\n",
       "                        [{\"name\": \"   \", \"opacity\": 0.5, \"type\": \"histogram\", \"x\": [3, 2, 5, 5, 4, 1, 1, 3, 1, 4, 4, 5, 4, 3, 5, 2, 4, 2, 4, 4, 5, 5, 3, 4, 5, 4, 4, 4, 4, 5, 4, 3, 3, 4, 2, 2, 5, 4, 5, 2, 4, 3, 4, 5, 2, 3, 1, 3, 2, 3, 4, 2, 3, 5, 5, 5, 4, 3, 5, 4, 5, 3, 4, 4, 5, 5, 4, 5, 5, 4, 5, 4, 4, 4, 5, 4, 4, 4, 4, 5, 4, 5, 5, 4, 5, 5, 4, 5, 5, 5, 5, 5, 5, 5, 5, 5, 4, 4, 5, 5, 5, 2, 3, 4, 4, 4, 4, 5, 5, 5, 3, 5, 5, 5, 5, 4, 3, 5, 3, 4, 4, 4, 4, 4, 4, 4, 5, 4, 3, 4, 2, 4, 4, 4, 5, 5, 3, 3, 3, 5, 3, 3, 4, 5, 3, 4, 5, 3, 4, 5, 4, 5, 4, 3, 4, 5, 5, 4, 5, 3, 4, 4, 3, 5, 4, 3, 4, 5, 2, 5, 4, 5, 5, 4, 5, 4, 5, 4, 5, 5, 5, 5, 4, 3, 5, 5, 5, 5, 5, 5, 5, 5, 5, 4, 5, 5, 5, 5, 3, 5, 5, 5, 5, 3, 4]}, {\"name\": \"White\", \"opacity\": 0.5, \"type\": \"histogram\", \"x\": [3, 5, 3, 4, 4, 4, 4, 4, 4, 4, 5, 4, 3, 4, 2, 4, 4, 4, 5, 5, 3, 3, 3, 5, 3, 3, 4, 5, 3, 4, 5, 3, 4, 5, 4, 5, 4, 3, 4, 5, 5, 4, 5, 3, 4, 4, 3, 5, 4, 3, 4, 5, 2, 5, 4, 5, 5, 4, 5, 4, 5, 4, 5, 5, 5, 5, 4, 3, 5, 5, 5, 5, 5, 5, 5, 5, 5, 4, 5, 5, 5, 5, 3, 5, 5, 5]}, {\"name\": \"Latino/Hispanic\", \"opacity\": 0.5, \"type\": \"histogram\", \"x\": [3, 3, 4, 2, 2, 5, 4, 5, 2, 4, 3, 4, 5, 2, 3, 1, 3, 2, 3, 4, 2, 3, 5, 5, 5, 4, 3, 5, 4, 5, 3, 4, 4, 5, 5, 4, 5, 5, 4, 5, 4, 4, 4, 5, 4, 4, 4, 4, 5, 4, 5, 5, 4, 5, 5, 4, 5, 5, 5, 5, 5, 5, 5, 5, 5, 4, 4, 5]}, {\"name\": \"Black/African American\", \"opacity\": 0.5, \"type\": \"histogram\", \"x\": [4, 1, 1, 3, 1, 4, 4, 5, 4, 3, 5, 2, 4, 2, 4, 4, 5, 5, 3, 4, 5, 4, 4, 4]}, {\"name\": \"Two or more Races\", \"opacity\": 0.5, \"type\": \"histogram\", \"x\": [2, 3, 4, 4, 4, 4, 5, 5, 5, 3, 5, 5, 5, 5, 4]}, {\"name\": \"Asian\", \"opacity\": 0.5, \"type\": \"histogram\", \"x\": [2, 5, 5]}, {\"name\": \"Indian/Native American\", \"opacity\": 0.5, \"type\": \"histogram\", \"x\": [5, 4]}, {\"name\": \"25-34\", \"opacity\": 0.5, \"type\": \"histogram\", \"x\": [2, 5, 1, 1, 3, 5, 2, 4, 5, 4, 4, 4, 3, 4, 5, 4, 3, 3, 3, 4, 3, 5, 5, 5, 3, 4, 4, 5, 5, 4, 4, 4, 4, 5, 5, 4, 5, 5, 5, 5, 5, 4, 2, 4, 4, 3, 5, 5, 4, 3, 4, 4, 4, 4, 4, 5, 4, 5, 3, 5, 5, 3, 4, 4, 5, 4, 3, 4, 3, 5, 4, 5, 4, 5, 5, 4, 4, 5, 5, 5, 5, 5, 5, 4, 5, 3]}, {\"name\": \"35-44\", \"opacity\": 0.5, \"type\": \"histogram\", \"x\": [3, 4, 4, 2, 5, 3, 3, 2, 2, 5, 3, 5, 2, 2, 2, 4, 3, 5, 5, 4, 4, 5, 4, 5, 5, 5, 5, 5, 3, 4, 3, 5, 4, 3, 4, 5, 3, 4, 4, 5, 5, 4, 5, 5, 5, 3, 5]}, {\"name\": \"45-54\", \"opacity\": 0.5, \"type\": \"histogram\", \"x\": [4, 5, 5, 4, 4, 1, 4, 5, 5, 4, 5, 5, 4, 2, 4, 3, 3, 3, 4, 5, 5, 5, 2, 4, 5, 5, 5, 5]}, {\"name\": \"55-64\", \"opacity\": 0.5, \"type\": \"histogram\", \"x\": [1, 4, 4, 4, 4, 2, 5, 4, 5, 4, 5, 4, 3, 3, 4, 5, 4, 3, 5, 5, 5, 5, 5, 5, 4]}, {\"name\": \"18-24\", \"opacity\": 0.5, \"type\": \"histogram\", \"x\": [5, 4, 4, 5, 5, 4, 5, 5, 4, 4, 5, 5]}, {\"name\": \"65-74\", \"opacity\": 0.5, \"type\": \"histogram\", \"x\": [4, 5, 4, 5, 5, 3]}, {\"name\": \"Straight\", \"opacity\": 0.5, \"type\": \"histogram\", \"x\": [5, 5, 4, 1, 1, 3, 1, 4, 4, 5, 4, 3, 5, 2, 4, 2, 4, 5, 5, 3, 5, 4, 4, 4, 4, 5, 4, 2, 2, 5, 4, 5, 2, 4, 3, 4, 5, 1, 2, 3, 4, 2, 3, 5, 5, 5, 4, 3, 5, 4, 5, 4, 4, 5, 5, 5, 5, 4, 5, 4, 4, 4, 5, 4, 4, 4, 5, 4, 5, 5, 4, 5, 5, 5, 5, 5, 5, 5, 5, 5, 4, 4, 5, 5, 5, 3, 4, 4, 4, 5, 5, 5, 3, 5, 5, 5, 5, 4, 3, 5, 3, 4, 4, 4, 5, 3, 4, 2, 4, 4, 5, 5, 3, 5, 3, 3, 4, 5, 3, 4, 5, 4, 4, 5, 3, 5, 4, 3, 5, 3, 5, 2, 5, 4, 5, 5, 4, 5, 4, 5, 4, 3, 5, 5, 5, 5, 5, 5, 5, 5, 4, 5, 5, 5, 5, 3, 5, 5, 5, 5, 4]}, {\"name\": \"LGBTQ+\", \"opacity\": 0.5, \"type\": \"histogram\", \"x\": [4, 4, 3, 2, 3, 3, 3, 4, 4, 5, 5, 2, 4, 4, 4, 4, 4, 4, 4, 3, 3, 5, 4, 4, 5, 4, 3, 4, 4, 4, 4, 5, 5, 5, 3]}, {\"name\": \"1-3 years\", \"opacity\": 0.5, \"type\": \"histogram\", \"x\": [3, 2, 5, 5, 4, 3, 1, 5, 4, 5, 4, 4, 5, 4, 4, 3, 2, 2, 5, 4, 3, 4, 5, 4, 5, 3, 4, 5, 5, 5, 4, 4, 5, 5, 5, 5, 5, 4, 4, 5, 5, 3, 4, 4, 4, 5, 4, 2, 4, 4, 5, 5, 4, 4, 3, 4, 4, 5, 4, 4, 2, 4, 4, 5, 5, 5, 5, 3, 5, 4]}, {\"name\": \"3-5 years\", \"opacity\": 0.5, \"type\": \"histogram\", \"x\": [1, 1, 4, 4, 5, 3, 3, 2, 4, 2, 4, 5, 4, 5, 4, 5, 5, 5, 5, 2, 3, 5, 4, 4, 3, 5, 4, 5, 5, 4, 3, 5, 5, 5, 5, 4, 4, 5, 5, 5]}, {\"name\": \"< than a year\", \"opacity\": 0.5, \"type\": \"histogram\", \"x\": [3, 1, 4, 5, 4, 5, 5, 5, 5, 5, 4, 5, 5, 5, 4, 3, 3, 3, 4, 3, 5, 4, 5, 4, 5, 5, 5, 5, 5, 5, 4, 5]}, {\"name\": \"5-10 years\", \"opacity\": 0.5, \"type\": \"histogram\", \"x\": [4, 2, 5, 4, 4, 4, 4, 2, 3, 3, 5, 5, 3, 4, 4, 4, 3, 5, 4, 4, 4, 3, 3, 5, 3, 3, 3, 5]}, {\"name\": \"10+ years\", \"opacity\": 0.5, \"type\": \"histogram\", \"x\": [4, 5, 5, 3, 2, 5, 4, 5, 4, 4, 4, 5, 5, 4, 4, 5, 4, 5, 5, 5, 5, 5, 5]}, {\"name\": \"1 year\", \"opacity\": 0.5, \"type\": \"histogram\", \"x\": [2, 4, 5, 3, 4, 4, 5, 3, 3, 5, 3]}, {\"name\": \"Full-time\", \"opacity\": 0.5, \"type\": \"histogram\", \"x\": [3, 2, 4, 1, 1, 3, 1, 4, 4, 5, 4, 3, 5, 2, 4, 2, 4, 5, 5, 3, 4, 5, 4, 4, 4, 4, 5, 4, 3, 3, 4, 2, 2, 5, 4, 5, 2, 4, 3, 4, 5, 2, 3, 1, 3, 2, 3, 4, 2, 3, 5, 5, 5, 4, 3, 5, 4, 3, 4, 4, 5, 5, 4, 5, 5, 4, 5, 4, 4, 4, 5, 4, 4, 4, 4, 4, 5, 4, 5, 4, 5, 5, 5, 5, 5, 5, 5, 4, 4, 5, 5, 5, 2, 3, 4, 4, 4, 4, 5, 5, 5, 5, 5, 5, 4, 3, 5, 3, 4, 4, 4, 4, 4, 4, 4, 5, 4, 3, 4, 2, 4, 4, 4, 5, 5, 3, 3, 3, 3, 3, 4, 5, 3, 4, 5, 3, 4, 5, 4, 5, 3, 4, 5, 5, 4, 5, 3, 4, 3, 5, 3, 4, 5, 2, 5, 4, 4, 5, 4, 5, 4, 5, 5, 5, 3, 5, 5, 5, 5, 5, 5, 5, 5, 5, 3, 5, 5, 5, 3, 4]}, {\"name\": \"Part-time\", \"opacity\": 0.5, \"type\": \"histogram\", \"x\": [5, 5, 4, 5, 5, 5, 3, 5, 5, 4, 4, 5, 4, 5, 5, 4, 5, 5, 5]}, {\"name\": \"Seasonal\", \"opacity\": 0.5, \"type\": \"histogram\", \"x\": [5, 5, 4, 5, 5, 5, 3, 5, 5, 4, 4, 5, 4, 5, 5, 4, 5, 5, 5]}, {\"name\": \"Part-time, Seasonal\", \"opacity\": 0.5, \"type\": \"histogram\", \"x\": [5, 5, 4, 5, 5, 5, 3, 5, 5, 4, 4, 5, 4, 5, 5, 4, 5, 5, 5]}],\n",
       "                        {\"barmode\": \"stack\", \"template\": {\"data\": {\"bar\": [{\"error_x\": {\"color\": \"#2a3f5f\"}, \"error_y\": {\"color\": \"#2a3f5f\"}, \"marker\": {\"line\": {\"color\": \"#E5ECF6\", \"width\": 0.5}}, \"type\": \"bar\"}], \"barpolar\": [{\"marker\": {\"line\": {\"color\": \"#E5ECF6\", \"width\": 0.5}}, \"type\": \"barpolar\"}], \"carpet\": [{\"aaxis\": {\"endlinecolor\": \"#2a3f5f\", \"gridcolor\": \"white\", \"linecolor\": \"white\", \"minorgridcolor\": \"white\", \"startlinecolor\": \"#2a3f5f\"}, \"baxis\": {\"endlinecolor\": \"#2a3f5f\", \"gridcolor\": \"white\", \"linecolor\": \"white\", \"minorgridcolor\": \"white\", \"startlinecolor\": \"#2a3f5f\"}, \"type\": \"carpet\"}], \"choropleth\": [{\"colorbar\": {\"outlinewidth\": 0, \"ticks\": \"\"}, \"type\": \"choropleth\"}], \"contour\": [{\"colorbar\": {\"outlinewidth\": 0, \"ticks\": \"\"}, \"colorscale\": [[0.0, \"#0d0887\"], [0.1111111111111111, \"#46039f\"], [0.2222222222222222, \"#7201a8\"], [0.3333333333333333, \"#9c179e\"], [0.4444444444444444, \"#bd3786\"], [0.5555555555555556, \"#d8576b\"], [0.6666666666666666, \"#ed7953\"], [0.7777777777777778, \"#fb9f3a\"], [0.8888888888888888, \"#fdca26\"], [1.0, \"#f0f921\"]], \"type\": \"contour\"}], \"contourcarpet\": [{\"colorbar\": {\"outlinewidth\": 0, \"ticks\": \"\"}, \"type\": \"contourcarpet\"}], \"heatmap\": [{\"colorbar\": {\"outlinewidth\": 0, \"ticks\": \"\"}, \"colorscale\": [[0.0, \"#0d0887\"], [0.1111111111111111, \"#46039f\"], [0.2222222222222222, \"#7201a8\"], [0.3333333333333333, \"#9c179e\"], [0.4444444444444444, \"#bd3786\"], [0.5555555555555556, \"#d8576b\"], [0.6666666666666666, \"#ed7953\"], [0.7777777777777778, \"#fb9f3a\"], [0.8888888888888888, \"#fdca26\"], [1.0, \"#f0f921\"]], \"type\": \"heatmap\"}], \"heatmapgl\": [{\"colorbar\": {\"outlinewidth\": 0, \"ticks\": \"\"}, \"colorscale\": [[0.0, \"#0d0887\"], [0.1111111111111111, \"#46039f\"], [0.2222222222222222, \"#7201a8\"], [0.3333333333333333, \"#9c179e\"], [0.4444444444444444, \"#bd3786\"], [0.5555555555555556, \"#d8576b\"], [0.6666666666666666, \"#ed7953\"], [0.7777777777777778, \"#fb9f3a\"], [0.8888888888888888, \"#fdca26\"], [1.0, \"#f0f921\"]], \"type\": \"heatmapgl\"}], \"histogram\": [{\"marker\": {\"colorbar\": {\"outlinewidth\": 0, \"ticks\": \"\"}}, \"type\": \"histogram\"}], \"histogram2d\": [{\"colorbar\": {\"outlinewidth\": 0, \"ticks\": \"\"}, \"colorscale\": [[0.0, \"#0d0887\"], [0.1111111111111111, \"#46039f\"], [0.2222222222222222, \"#7201a8\"], [0.3333333333333333, \"#9c179e\"], [0.4444444444444444, \"#bd3786\"], [0.5555555555555556, \"#d8576b\"], [0.6666666666666666, \"#ed7953\"], [0.7777777777777778, \"#fb9f3a\"], [0.8888888888888888, \"#fdca26\"], [1.0, \"#f0f921\"]], \"type\": \"histogram2d\"}], \"histogram2dcontour\": [{\"colorbar\": {\"outlinewidth\": 0, \"ticks\": \"\"}, \"colorscale\": [[0.0, \"#0d0887\"], [0.1111111111111111, \"#46039f\"], [0.2222222222222222, \"#7201a8\"], [0.3333333333333333, \"#9c179e\"], [0.4444444444444444, \"#bd3786\"], [0.5555555555555556, \"#d8576b\"], [0.6666666666666666, \"#ed7953\"], [0.7777777777777778, \"#fb9f3a\"], [0.8888888888888888, \"#fdca26\"], [1.0, \"#f0f921\"]], \"type\": \"histogram2dcontour\"}], \"mesh3d\": [{\"colorbar\": {\"outlinewidth\": 0, \"ticks\": \"\"}, \"type\": \"mesh3d\"}], \"parcoords\": [{\"line\": {\"colorbar\": {\"outlinewidth\": 0, \"ticks\": \"\"}}, \"type\": \"parcoords\"}], \"pie\": [{\"automargin\": true, \"type\": \"pie\"}], \"scatter\": [{\"marker\": {\"colorbar\": {\"outlinewidth\": 0, \"ticks\": \"\"}}, \"type\": \"scatter\"}], \"scatter3d\": [{\"line\": {\"colorbar\": {\"outlinewidth\": 0, \"ticks\": \"\"}}, \"marker\": {\"colorbar\": {\"outlinewidth\": 0, \"ticks\": \"\"}}, \"type\": \"scatter3d\"}], \"scattercarpet\": [{\"marker\": {\"colorbar\": {\"outlinewidth\": 0, \"ticks\": \"\"}}, \"type\": \"scattercarpet\"}], \"scattergeo\": [{\"marker\": {\"colorbar\": {\"outlinewidth\": 0, \"ticks\": \"\"}}, \"type\": \"scattergeo\"}], \"scattergl\": [{\"marker\": {\"colorbar\": {\"outlinewidth\": 0, \"ticks\": \"\"}}, \"type\": \"scattergl\"}], \"scattermapbox\": [{\"marker\": {\"colorbar\": {\"outlinewidth\": 0, \"ticks\": \"\"}}, \"type\": \"scattermapbox\"}], \"scatterpolar\": [{\"marker\": {\"colorbar\": {\"outlinewidth\": 0, \"ticks\": \"\"}}, \"type\": \"scatterpolar\"}], \"scatterpolargl\": [{\"marker\": {\"colorbar\": {\"outlinewidth\": 0, \"ticks\": \"\"}}, \"type\": \"scatterpolargl\"}], \"scatterternary\": [{\"marker\": {\"colorbar\": {\"outlinewidth\": 0, \"ticks\": \"\"}}, \"type\": \"scatterternary\"}], \"surface\": [{\"colorbar\": {\"outlinewidth\": 0, \"ticks\": \"\"}, \"colorscale\": [[0.0, \"#0d0887\"], [0.1111111111111111, \"#46039f\"], [0.2222222222222222, \"#7201a8\"], [0.3333333333333333, \"#9c179e\"], [0.4444444444444444, \"#bd3786\"], [0.5555555555555556, \"#d8576b\"], [0.6666666666666666, \"#ed7953\"], [0.7777777777777778, \"#fb9f3a\"], [0.8888888888888888, \"#fdca26\"], [1.0, \"#f0f921\"]], \"type\": \"surface\"}], \"table\": [{\"cells\": {\"fill\": {\"color\": \"#EBF0F8\"}, \"line\": {\"color\": \"white\"}}, \"header\": {\"fill\": {\"color\": \"#C8D4E3\"}, \"line\": {\"color\": \"white\"}}, \"type\": \"table\"}]}, \"layout\": {\"annotationdefaults\": {\"arrowcolor\": \"#2a3f5f\", \"arrowhead\": 0, \"arrowwidth\": 1}, \"coloraxis\": {\"colorbar\": {\"outlinewidth\": 0, \"ticks\": \"\"}}, \"colorscale\": {\"diverging\": [[0, \"#8e0152\"], [0.1, \"#c51b7d\"], [0.2, \"#de77ae\"], [0.3, \"#f1b6da\"], [0.4, \"#fde0ef\"], [0.5, \"#f7f7f7\"], [0.6, \"#e6f5d0\"], [0.7, \"#b8e186\"], [0.8, \"#7fbc41\"], [0.9, \"#4d9221\"], [1, \"#276419\"]], \"sequential\": [[0.0, \"#0d0887\"], [0.1111111111111111, \"#46039f\"], [0.2222222222222222, \"#7201a8\"], [0.3333333333333333, \"#9c179e\"], [0.4444444444444444, \"#bd3786\"], [0.5555555555555556, \"#d8576b\"], [0.6666666666666666, \"#ed7953\"], [0.7777777777777778, \"#fb9f3a\"], [0.8888888888888888, \"#fdca26\"], [1.0, \"#f0f921\"]], \"sequentialminus\": [[0.0, \"#0d0887\"], [0.1111111111111111, \"#46039f\"], [0.2222222222222222, \"#7201a8\"], [0.3333333333333333, \"#9c179e\"], [0.4444444444444444, \"#bd3786\"], [0.5555555555555556, \"#d8576b\"], [0.6666666666666666, \"#ed7953\"], [0.7777777777777778, \"#fb9f3a\"], [0.8888888888888888, \"#fdca26\"], [1.0, \"#f0f921\"]]}, \"colorway\": [\"#636efa\", \"#EF553B\", \"#00cc96\", \"#ab63fa\", \"#FFA15A\", \"#19d3f3\", \"#FF6692\", \"#B6E880\", \"#FF97FF\", \"#FECB52\"], \"font\": {\"color\": \"#2a3f5f\"}, \"geo\": {\"bgcolor\": \"white\", \"lakecolor\": \"white\", \"landcolor\": \"#E5ECF6\", \"showlakes\": true, \"showland\": true, \"subunitcolor\": \"white\"}, \"hoverlabel\": {\"align\": \"left\"}, \"hovermode\": \"closest\", \"mapbox\": {\"style\": \"light\"}, \"paper_bgcolor\": \"white\", \"plot_bgcolor\": \"#E5ECF6\", \"polar\": {\"angularaxis\": {\"gridcolor\": \"white\", \"linecolor\": \"white\", \"ticks\": \"\"}, \"bgcolor\": \"#E5ECF6\", \"radialaxis\": {\"gridcolor\": \"white\", \"linecolor\": \"white\", \"ticks\": \"\"}}, \"scene\": {\"xaxis\": {\"backgroundcolor\": \"#E5ECF6\", \"gridcolor\": \"white\", \"gridwidth\": 2, \"linecolor\": \"white\", \"showbackground\": true, \"ticks\": \"\", \"zerolinecolor\": \"white\"}, \"yaxis\": {\"backgroundcolor\": \"#E5ECF6\", \"gridcolor\": \"white\", \"gridwidth\": 2, \"linecolor\": \"white\", \"showbackground\": true, \"ticks\": \"\", \"zerolinecolor\": \"white\"}, \"zaxis\": {\"backgroundcolor\": \"#E5ECF6\", \"gridcolor\": \"white\", \"gridwidth\": 2, \"linecolor\": \"white\", \"showbackground\": true, \"ticks\": \"\", \"zerolinecolor\": \"white\"}}, \"shapedefaults\": {\"line\": {\"color\": \"#2a3f5f\"}}, \"ternary\": {\"aaxis\": {\"gridcolor\": \"white\", \"linecolor\": \"white\", \"ticks\": \"\"}, \"baxis\": {\"gridcolor\": \"white\", \"linecolor\": \"white\", \"ticks\": \"\"}, \"bgcolor\": \"#E5ECF6\", \"caxis\": {\"gridcolor\": \"white\", \"linecolor\": \"white\", \"ticks\": \"\"}}, \"title\": {\"x\": 0.05}, \"xaxis\": {\"automargin\": true, \"gridcolor\": \"white\", \"linecolor\": \"white\", \"ticks\": \"\", \"title\": {\"standoff\": 15}, \"zerolinecolor\": \"white\", \"zerolinewidth\": 2}, \"yaxis\": {\"automargin\": true, \"gridcolor\": \"white\", \"linecolor\": \"white\", \"ticks\": \"\", \"title\": {\"standoff\": 15}, \"zerolinecolor\": \"white\", \"zerolinewidth\": 2}}}, \"title\": {\"text\": \"At work, I feel comfortable being myself.\"}, \"updatemenus\": [{\"buttons\": [{\"args\": [{\"visible\": [true, false, false, false, false, false, false, false, false, false, false, false, false, false, false, false, false, false, false, false, false, false, false, false, false]}, {\"title\": \"At work, I feel comfortable being myself.\"}], \"label\": \"Total\", \"method\": \"update\"}, {\"args\": [{\"visible\": [false, true, true, true, true, true, true, false, false, false, false, false, false, false, false, false, false, false, false, false, false, false, false, false, false]}, {\"title\": \"At work, I feel comfortable being myself.\"}], \"label\": \"Race\", \"method\": \"update\"}, {\"args\": [{\"visible\": [false, false, false, false, false, false, false, true, true, true, true, true, true, false, false, false, false, false, false, false, false, false, false, false, false]}, {\"title\": \"At work, I feel comfortable being myself.\"}], \"label\": \"Age\", \"method\": \"update\"}, {\"args\": [{\"visible\": [false, false, false, false, false, false, false, false, false, false, false, false, false, true, true, false, false, false, false, false, false, false, false, false, false]}, {\"title\": \"At work, I feel comfortable being myself.\"}], \"label\": \"Sexual Orientation\", \"method\": \"update\"}, {\"args\": [{\"visible\": [false, false, false, false, false, false, false, false, false, false, false, false, false, false, false, true, true, true, true, true, true, false, false, false, false]}, {\"title\": \"At work, I feel comfortable being myself.\"}], \"label\": \"Tenure\", \"method\": \"update\"}, {\"args\": [{\"visible\": [false, false, false, false, false, false, false, false, false, false, false, false, false, false, false, false, false, false, false, false, false, true, true, true, true]}, {\"title\": \"At work, I feel comfortable being myself.\"}], \"label\": \"Status\", \"method\": \"update\"}], \"type\": \"buttons\"}]},\n",
       "                        {\"responsive\": true}\n",
       "                    ).then(function(){\n",
       "                            \n",
       "var gd = document.getElementById('dfef0de3-f211-41dc-a371-ca2149022aa5');\n",
       "var x = new MutationObserver(function (mutations, observer) {{\n",
       "        var display = window.getComputedStyle(gd).display;\n",
       "        if (!display || display === 'none') {{\n",
       "            console.log([gd, 'removed!']);\n",
       "            Plotly.purge(gd);\n",
       "            observer.disconnect();\n",
       "        }}\n",
       "}});\n",
       "\n",
       "// Listen for the removal of the full notebook cells\n",
       "var notebookContainer = gd.closest('#notebook-container');\n",
       "if (notebookContainer) {{\n",
       "    x.observe(notebookContainer, {childList: true});\n",
       "}}\n",
       "\n",
       "// Listen for the clearing of the current output cell\n",
       "var outputEl = gd.closest('.output');\n",
       "if (outputEl) {{\n",
       "    x.observe(outputEl, {childList: true});\n",
       "}}\n",
       "\n",
       "                        })\n",
       "                };\n",
       "                });\n",
       "            </script>\n",
       "        </div>"
      ]
     },
     "metadata": {},
     "output_type": "display_data"
    }
   ],
   "source": [
    "#At work, I feel comfortable being myself.  \n",
    "#defining list_updatemenus\n",
    "list_updatemenus = [{'label': 'Total',\n",
    "                     'method': 'update',\n",
    "                     'args': [{'visible': [True, False, False, False, False, False, False, False, False, False, False, False, False, False, False, False, False, False, False, False, False, False, False, False, False]}, {'title': 'At work, I feel comfortable being myself.'}]},\n",
    "                    {'label': 'Race',\n",
    "                     'method': 'update',\n",
    "                     'args': [{'visible': [False, True, True, True, True, True, True, False, False, False, False, False, False, False, False, False, False, False, False, False, False, False, False, False, False]}, {'title': 'At work, I feel comfortable being myself.'}]},\n",
    "                    {'label': 'Age',\n",
    "                     'method': 'update',\n",
    "                     'args': [{'visible': [False, False, False, False, False, False, False, True, True, True, True, True, True, False, False, False, False, False, False, False, False, False, False, False, False]}, {'title': 'At work, I feel comfortable being myself.'}]},\n",
    "                    {'label': 'Sexual Orientation',\n",
    "                     'method': 'update',\n",
    "                     'args': [{'visible': [False, False, False, False, False, False, False, False, False, False, False, False, False, True, True, False, False, False, False, False, False, False, False, False, False]}, {'title': 'At work, I feel comfortable being myself.'}]},\n",
    "                   {'label': 'Tenure',\n",
    "                     'method': 'update',\n",
    "                     'args': [{'visible': [False, False, False, False, False, False, False, False, False, False, False, False, False, False, False, True, True, True, True, True, True, False, False, False, False]}, {'title': 'At work, I feel comfortable being myself.'}]},\n",
    "                   {'label': 'Status',\n",
    "                     'method': 'update',\n",
    "                     'args': [{'visible': [False, False, False, False, False, False, False, False, False, False, False, False, False, False, False, False, False, False, False, False, False, True, True, True, True]}, {'title': 'At work, I feel comfortable being myself.'}]}\n",
    "                   ]\n",
    "#defining graph objects\n",
    "x_total = dei['At work, I feel comfortable being myself.  ']\n",
    "x_white = dei[dei['What is your race? ']==\"White\"][\"At work, I feel comfortable being myself.  \"]\n",
    "x_latinx = dei[dei['What is your race? ']==\"Latino/Hispanic\"][\"At work, I feel comfortable being myself.  \"]\n",
    "x_black = dei[dei['What is your race? ']==\"Black/ African American\"][\"At work, I feel comfortable being myself.  \"]\n",
    "x_two_plus = dei[dei['What is your race? ']==\"Two or more Races\"][\"At work, I feel comfortable being myself.  \"]\n",
    "x_asian = dei[dei['What is your race? ']==\"Asian\"][\"At work, I feel comfortable being myself.  \"]\n",
    "x_first_peoples = dei[dei['What is your race? ']==\"Indian/ Native American\"][\"At work, I feel comfortable being myself.  \"]\n",
    "x_age1 = dei[dei[\"What is your age?\"]==\"25-34\"][\"At work, I feel comfortable being myself.  \"]\n",
    "x_age2 = dei[dei[\"What is your age?\"]==\"35-44\"][\"At work, I feel comfortable being myself.  \"]\n",
    "x_age3 = dei[dei[\"What is your age?\"]==\"45-54\"][\"At work, I feel comfortable being myself.  \"]\n",
    "x_age4 = dei[dei[\"What is your age?\"]==\"55-64\"][\"At work, I feel comfortable being myself.  \"]\n",
    "x_age5 = dei[dei[\"What is your age?\"]==\"18-24\"][\"At work, I feel comfortable being myself.  \"]\n",
    "x_age6 = dei[dei[\"What is your age?\"]==\"65-74\"][\"At work, I feel comfortable being myself.  \"]\n",
    "x_straight = dei[dei[\"What is your sexual orientation?\"]==\"Straight\"][\"At work, I feel comfortable being myself.  \"]\n",
    "x_lgbtq = dei[dei[\"What is your sexual orientation?\"]==\"LGBTQ+\"][\"At work, I feel comfortable being myself.  \"]\n",
    "x_tenure1 = dei[dei[\"How long have you worked for FC?\"]==\"1-3 years\"][\"At work, I feel comfortable being myself.  \"]\n",
    "x_tenure2 = dei[dei[\"How long have you worked for FC?\"]==\"3-5 years\"][\"At work, I feel comfortable being myself.  \"]\n",
    "x_tenure3 = dei[dei[\"How long have you worked for FC?\"]==\"Less than a year\"][\"At work, I feel comfortable being myself.  \"]\n",
    "x_tenure4 = dei[dei[\"How long have you worked for FC?\"]==\"5-10 years\"][\"At work, I feel comfortable being myself.  \"]\n",
    "x_tenure5 = dei[dei[\"How long have you worked for FC?\"]==\"10+ years\"][\"At work, I feel comfortable being myself.  \"]\n",
    "x_tenure6 = dei[dei[\"How long have you worked for FC?\"]==\"1 year\"][\"At work, I feel comfortable being myself.  \"]\n",
    "x_status1 = dei[dei[\"What is your employment status?\"]==\"Full-time\"][\"At work, I feel comfortable being myself.  \"]\n",
    "x_status2 = dei[dei[\"What is your employment status?\"]==\"Part-time\"][\"At work, I feel comfortable being myself.  \"]\n",
    "x_status3 = dei[dei[\"What is your employment status?\"]==\"Seasonal\"][\"At work, I feel comfortable being myself.  \"]\n",
    "x_status4 = dei[dei[\"What is your employment status?\"]==\"Part-time, Seasonal\"][\"At work, I feel comfortable being myself.  \"]\n",
    "#defining data\n",
    "data=[go.Histogram(x=x_total,name='   ',opacity = .5),\n",
    "      go.Histogram(x=x_white,name='White',opacity = .5),\n",
    "      go.Histogram(x=x_latinx,name='Latino/Hispanic',opacity = .5),\n",
    "      go.Histogram(x=x_black,name='Black/African American',opacity = .5),\n",
    "      go.Histogram(x=x_two_plus,name='Two or more Races',opacity = .5),\n",
    "      go.Histogram(x=x_asian,name='Asian',opacity = .5),\n",
    "      go.Histogram(x=x_first_peoples,name='Indian/Native American',opacity = .5),\n",
    "      go.Histogram(x=x_age1,name='25-34', opacity = .5),\n",
    "      go.Histogram(x=x_age2,name='35-44',opacity = .5),\n",
    "      go.Histogram(x=x_age3,name='45-54',opacity = .5),\n",
    "      go.Histogram(x=x_age4,name='55-64',opacity = .5),\n",
    "      go.Histogram(x=x_age5,name='18-24',opacity = .5),\n",
    "      go.Histogram(x=x_age6,name='65-74',opacity = .5),\n",
    "      go.Histogram(x=x_straight,name='Straight',opacity = .5),\n",
    "      go.Histogram(x=x_lgbtq,name='LGBTQ+',opacity = .5),\n",
    "      go.Histogram(x=x_tenure1,name='1-3 years',opacity = .5),\n",
    "      go.Histogram(x=x_tenure2,name='3-5 years',opacity = .5),\n",
    "      go.Histogram(x=x_tenure3,name='< than a year',opacity = .5),\n",
    "      go.Histogram(x=x_tenure4,name='5-10 years',opacity = .5),\n",
    "      go.Histogram(x=x_tenure5,name='10+ years',opacity = .5),\n",
    "      go.Histogram(x=x_tenure6,name='1 year',opacity = .5),\n",
    "      go.Histogram(x=x_status1,name='Full-time',opacity = .5),\n",
    "      go.Histogram(x=x_status2,name='Part-time',opacity = .5),\n",
    "      go.Histogram(x=x_status2,name='Seasonal',opacity = .5),\n",
    "      go.Histogram(x=x_status2,name='Part-time, Seasonal',opacity = .5)\n",
    "     \n",
    "     ]\n",
    "\n",
    "\n",
    "#defining layout\n",
    "layout=go.Layout(title='At work, I feel comfortable being myself.',updatemenus=list([dict(buttons= list_updatemenus,type = 'buttons')]),barmode='stack')\n",
    "\n",
    "#defining layout and plotting\n",
    "fig = go.Figure(data,layout)\n",
    "fig.show()"
   ]
  },
  {
   "cell_type": "markdown",
   "metadata": {},
   "source": [
    "### Employees in my organization are treated with respect and dignity.  "
   ]
  },
  {
   "cell_type": "code",
   "execution_count": 22,
   "metadata": {},
   "outputs": [
    {
     "data": {
      "application/vnd.plotly.v1+json": {
       "config": {
        "plotlyServerURL": "https://plot.ly"
       },
       "data": [
        {
         "name": "   ",
         "opacity": 0.5,
         "type": "histogram",
         "x": [
          4,
          3,
          5,
          4,
          1,
          1,
          1,
          1,
          1,
          2,
          3,
          4,
          4,
          3,
          3,
          3,
          3,
          4,
          5,
          4,
          3,
          4,
          4,
          4,
          5,
          5,
          4,
          4,
          5,
          4,
          4,
          3,
          3,
          2,
          3,
          3,
          2,
          2,
          3,
          1,
          4,
          4,
          3,
          1,
          5,
          4,
          2,
          3,
          3,
          3,
          3,
          2,
          3,
          5,
          3,
          5,
          4,
          3,
          4,
          4,
          4,
          2,
          2,
          4,
          5,
          4,
          4,
          5,
          4,
          4,
          5,
          4,
          4,
          3,
          5,
          4,
          3,
          4,
          4,
          5,
          5,
          5,
          5,
          5,
          5,
          5,
          5,
          5,
          3,
          5,
          5,
          5,
          5,
          4,
          5,
          5,
          5,
          5,
          5,
          4,
          4,
          3,
          3,
          4,
          4,
          5,
          4,
          5,
          5,
          4,
          5,
          5,
          5,
          5,
          5,
          5,
          2,
          3,
          2,
          2,
          4,
          3,
          3,
          4,
          3,
          4,
          3,
          2,
          2,
          3,
          3,
          3,
          4,
          3,
          5,
          4,
          3,
          3,
          3,
          5,
          4,
          3,
          3,
          4,
          4,
          3,
          4,
          3,
          5,
          4,
          4,
          3,
          4,
          3,
          4,
          4,
          4,
          4,
          5,
          4,
          4,
          3,
          5,
          5,
          5,
          4,
          3,
          5,
          3,
          3,
          5,
          3,
          5,
          4,
          5,
          4,
          5,
          4,
          5,
          5,
          5,
          5,
          5,
          4,
          5,
          5,
          5,
          5,
          4,
          5,
          5,
          5,
          5,
          3,
          3,
          5,
          5,
          5,
          5,
          4,
          5,
          5,
          5,
          3,
          2
         ]
        },
        {
         "name": "White",
         "opacity": 0.5,
         "type": "histogram",
         "x": [
          2,
          3,
          2,
          2,
          4,
          3,
          3,
          4,
          3,
          4,
          3,
          2,
          2,
          3,
          3,
          3,
          4,
          3,
          5,
          4,
          3,
          3,
          3,
          5,
          4,
          3,
          3,
          4,
          4,
          3,
          4,
          3,
          5,
          4,
          4,
          3,
          4,
          3,
          4,
          4,
          4,
          4,
          5,
          4,
          4,
          3,
          5,
          5,
          5,
          4,
          3,
          5,
          3,
          3,
          5,
          3,
          5,
          4,
          5,
          4,
          5,
          4,
          5,
          5,
          5,
          5,
          5,
          4,
          5,
          5,
          5,
          5,
          4,
          5,
          5,
          5,
          5,
          3,
          3,
          5,
          5,
          5,
          5,
          4,
          5,
          5
         ]
        },
        {
         "name": "Latino/Hispanic",
         "opacity": 0.5,
         "type": "histogram",
         "x": [
          3,
          3,
          2,
          3,
          3,
          2,
          2,
          3,
          1,
          4,
          4,
          3,
          1,
          5,
          4,
          2,
          3,
          3,
          3,
          3,
          2,
          3,
          5,
          3,
          5,
          4,
          3,
          4,
          4,
          4,
          2,
          2,
          4,
          5,
          4,
          4,
          5,
          4,
          4,
          5,
          4,
          4,
          3,
          5,
          4,
          3,
          4,
          4,
          5,
          5,
          5,
          5,
          5,
          5,
          5,
          5,
          5,
          3,
          5,
          5,
          5,
          5,
          4,
          5,
          5,
          5,
          5,
          5
         ]
        },
        {
         "name": "Black/African American",
         "opacity": 0.5,
         "type": "histogram",
         "x": [
          1,
          1,
          1,
          1,
          1,
          2,
          3,
          4,
          4,
          3,
          3,
          3,
          3,
          4,
          5,
          4,
          3,
          4,
          4,
          4,
          5,
          5,
          4,
          4
         ]
        },
        {
         "name": "Two or more Races",
         "opacity": 0.5,
         "type": "histogram",
         "x": [
          3,
          3,
          4,
          4,
          5,
          4,
          5,
          5,
          4,
          5,
          5,
          5,
          5,
          5,
          5
         ]
        },
        {
         "name": "Asian",
         "opacity": 0.5,
         "type": "histogram",
         "x": [
          3,
          5,
          4
         ]
        },
        {
         "name": "Indian/Native American",
         "opacity": 0.5,
         "type": "histogram",
         "x": [
          4,
          4
         ]
        },
        {
         "name": "25-34",
         "opacity": 0.5,
         "type": "histogram",
         "x": [
          3,
          4,
          1,
          1,
          3,
          3,
          3,
          5,
          4,
          5,
          4,
          4,
          3,
          2,
          3,
          4,
          4,
          3,
          3,
          3,
          3,
          5,
          5,
          4,
          2,
          2,
          4,
          5,
          5,
          3,
          4,
          4,
          4,
          5,
          5,
          5,
          5,
          5,
          5,
          5,
          5,
          5,
          3,
          5,
          4,
          5,
          5,
          5,
          5,
          2,
          2,
          4,
          4,
          3,
          4,
          3,
          3,
          4,
          3,
          5,
          4,
          3,
          5,
          4,
          4,
          4,
          4,
          4,
          5,
          5,
          3,
          5,
          5,
          3,
          5,
          4,
          4,
          5,
          5,
          5,
          5,
          4,
          5,
          3,
          3,
          3
         ]
        },
        {
         "name": "35-44",
         "opacity": 0.5,
         "type": "histogram",
         "x": [
          4,
          2,
          3,
          4,
          3,
          4,
          3,
          3,
          3,
          2,
          4,
          1,
          5,
          3,
          2,
          4,
          3,
          4,
          4,
          4,
          4,
          5,
          3,
          5,
          3,
          5,
          4,
          5,
          3,
          4,
          2,
          3,
          3,
          2,
          4,
          5,
          3,
          3,
          4,
          3,
          5,
          5,
          3,
          5,
          5,
          5,
          5
         ]
        },
        {
         "name": "45-54",
         "opacity": 0.5,
         "type": "histogram",
         "x": [
          1,
          4,
          5,
          4,
          3,
          2,
          4,
          5,
          4,
          4,
          4,
          5,
          3,
          3,
          3,
          3,
          4,
          3,
          3,
          4,
          4,
          4,
          3,
          4,
          5,
          5,
          5,
          5
         ]
        },
        {
         "name": "55-64",
         "opacity": 0.5,
         "type": "histogram",
         "x": [
          1,
          3,
          4,
          4,
          5,
          1,
          3,
          4,
          4,
          4,
          5,
          3,
          4,
          3,
          3,
          5,
          5,
          4,
          5,
          5,
          5,
          5,
          4,
          5,
          2
         ]
        },
        {
         "name": "18-24",
         "opacity": 0.5,
         "type": "histogram",
         "x": [
          5,
          2,
          5,
          5,
          5,
          5,
          5,
          5,
          2,
          4,
          5,
          5
         ]
        },
        {
         "name": "65-74",
         "opacity": 0.5,
         "type": "histogram",
         "x": [
          4,
          4,
          5,
          5,
          4,
          4
         ]
        },
        {
         "name": "Straight",
         "opacity": 0.5,
         "type": "histogram",
         "x": [
          5,
          4,
          1,
          1,
          1,
          1,
          1,
          2,
          3,
          4,
          4,
          3,
          3,
          3,
          3,
          4,
          4,
          3,
          4,
          4,
          5,
          5,
          4,
          4,
          5,
          4,
          2,
          3,
          3,
          2,
          2,
          3,
          1,
          4,
          4,
          3,
          1,
          2,
          3,
          3,
          3,
          2,
          3,
          5,
          3,
          5,
          4,
          3,
          4,
          4,
          4,
          2,
          4,
          5,
          4,
          5,
          4,
          4,
          5,
          4,
          4,
          3,
          5,
          4,
          3,
          4,
          5,
          5,
          5,
          5,
          5,
          5,
          3,
          5,
          5,
          5,
          5,
          4,
          5,
          5,
          5,
          5,
          5,
          4,
          4,
          3,
          4,
          4,
          5,
          5,
          5,
          4,
          5,
          5,
          5,
          5,
          5,
          5,
          2,
          3,
          2,
          2,
          3,
          3,
          3,
          2,
          3,
          3,
          4,
          3,
          5,
          4,
          3,
          5,
          4,
          3,
          3,
          4,
          4,
          3,
          4,
          5,
          4,
          3,
          3,
          4,
          3,
          5,
          5,
          4,
          5,
          3,
          3,
          5,
          3,
          5,
          4,
          5,
          4,
          5,
          5,
          4,
          5,
          5,
          5,
          4,
          5,
          5,
          5,
          5,
          3,
          3,
          5,
          5,
          5,
          5,
          4,
          5,
          5,
          5,
          2
         ]
        },
        {
         "name": "LGBTQ+",
         "opacity": 0.5,
         "type": "histogram",
         "x": [
          5,
          4,
          3,
          5,
          4,
          3,
          2,
          4,
          5,
          5,
          5,
          3,
          4,
          4,
          3,
          4,
          4,
          2,
          3,
          3,
          3,
          4,
          4,
          4,
          4,
          4,
          4,
          4,
          5,
          3,
          4,
          5,
          5,
          5,
          3
         ]
        },
        {
         "name": "1-3 years",
         "opacity": 0.5,
         "type": "histogram",
         "x": [
          4,
          3,
          5,
          4,
          1,
          1,
          1,
          4,
          4,
          3,
          5,
          4,
          3,
          4,
          4,
          3,
          3,
          3,
          2,
          4,
          4,
          3,
          5,
          4,
          4,
          2,
          2,
          5,
          4,
          5,
          4,
          4,
          5,
          5,
          3,
          5,
          5,
          4,
          5,
          5,
          5,
          2,
          4,
          3,
          4,
          3,
          2,
          3,
          3,
          3,
          4,
          5,
          3,
          3,
          3,
          4,
          4,
          5,
          3,
          3,
          3,
          5,
          4,
          5,
          5,
          3,
          5,
          5,
          5,
          2
         ]
        },
        {
         "name": "3-5 years",
         "opacity": 0.5,
         "type": "histogram",
         "x": [
          1,
          1,
          3,
          3,
          4,
          4,
          3,
          1,
          3,
          5,
          4,
          5,
          4,
          5,
          4,
          4,
          5,
          5,
          4,
          3,
          2,
          3,
          2,
          4,
          3,
          4,
          5,
          4,
          4,
          4,
          5,
          5,
          3,
          5,
          5,
          4,
          5,
          5,
          5,
          5
         ]
        },
        {
         "name": "< than a year",
         "opacity": 0.5,
         "type": "histogram",
         "x": [
          3,
          2,
          4,
          5,
          5,
          5,
          5,
          5,
          5,
          5,
          4,
          5,
          5,
          5,
          5,
          3,
          4,
          4,
          4,
          4,
          5,
          5,
          3,
          4,
          5,
          5,
          5,
          4,
          5,
          5,
          3,
          5
         ]
        },
        {
         "name": "5-10 years",
         "opacity": 0.5,
         "type": "histogram",
         "x": [
          2,
          4,
          5,
          5,
          5,
          4,
          2,
          3,
          3,
          3,
          5,
          3,
          3,
          4,
          3,
          5,
          3,
          4,
          3,
          3,
          4,
          3,
          3,
          3,
          3,
          4,
          4,
          4
         ]
        },
        {
         "name": "10+ years",
         "opacity": 0.5,
         "type": "histogram",
         "x": [
          4,
          4,
          3,
          4,
          2,
          4,
          4,
          4,
          4,
          3,
          5,
          5,
          4,
          4,
          3,
          4,
          4,
          4,
          5,
          5,
          5,
          5,
          5
         ]
        },
        {
         "name": "1 year",
         "opacity": 0.5,
         "type": "histogram",
         "x": [
          3,
          2,
          1,
          3,
          5,
          5,
          5,
          5,
          2,
          5,
          3
         ]
        },
        {
         "name": "Full-time",
         "opacity": 0.5,
         "type": "histogram",
         "x": [
          4,
          3,
          1,
          1,
          1,
          1,
          1,
          2,
          3,
          4,
          4,
          3,
          3,
          3,
          3,
          4,
          5,
          3,
          4,
          4,
          4,
          5,
          5,
          4,
          4,
          5,
          4,
          4,
          3,
          3,
          2,
          3,
          3,
          2,
          2,
          3,
          1,
          4,
          4,
          3,
          1,
          5,
          4,
          2,
          3,
          3,
          3,
          3,
          2,
          3,
          5,
          3,
          5,
          4,
          3,
          4,
          4,
          2,
          2,
          4,
          5,
          4,
          4,
          5,
          4,
          4,
          5,
          4,
          4,
          3,
          5,
          4,
          3,
          4,
          4,
          5,
          5,
          5,
          5,
          5,
          5,
          3,
          5,
          5,
          5,
          4,
          5,
          5,
          5,
          5,
          4,
          4,
          3,
          3,
          4,
          4,
          5,
          4,
          5,
          5,
          4,
          5,
          5,
          5,
          5,
          2,
          3,
          2,
          2,
          4,
          3,
          3,
          4,
          3,
          4,
          3,
          2,
          2,
          3,
          3,
          3,
          4,
          3,
          5,
          4,
          3,
          3,
          3,
          4,
          3,
          3,
          4,
          4,
          3,
          4,
          3,
          5,
          4,
          4,
          3,
          3,
          4,
          4,
          4,
          4,
          5,
          4,
          4,
          5,
          5,
          4,
          3,
          5,
          3,
          3,
          5,
          4,
          5,
          4,
          5,
          4,
          5,
          5,
          5,
          4,
          5,
          5,
          5,
          5,
          4,
          5,
          5,
          3,
          5,
          5,
          5,
          5,
          5,
          3,
          2
         ]
        },
        {
         "name": "Part-time",
         "opacity": 0.5,
         "type": "histogram",
         "x": [
          5,
          4,
          4,
          5,
          5,
          5,
          5,
          5,
          5,
          4,
          3,
          5,
          5,
          5,
          5,
          3,
          5,
          5,
          4
         ]
        },
        {
         "name": "Seasonal",
         "opacity": 0.5,
         "type": "histogram",
         "x": [
          5,
          4,
          4,
          5,
          5,
          5,
          5,
          5,
          5,
          4,
          3,
          5,
          5,
          5,
          5,
          3,
          5,
          5,
          4
         ]
        },
        {
         "name": "Part-time, Seasonal",
         "opacity": 0.5,
         "type": "histogram",
         "x": [
          5,
          4,
          4,
          5,
          5,
          5,
          5,
          5,
          5,
          4,
          3,
          5,
          5,
          5,
          5,
          3,
          5,
          5,
          4
         ]
        }
       ],
       "layout": {
        "barmode": "stack",
        "template": {
         "data": {
          "bar": [
           {
            "error_x": {
             "color": "#2a3f5f"
            },
            "error_y": {
             "color": "#2a3f5f"
            },
            "marker": {
             "line": {
              "color": "#E5ECF6",
              "width": 0.5
             }
            },
            "type": "bar"
           }
          ],
          "barpolar": [
           {
            "marker": {
             "line": {
              "color": "#E5ECF6",
              "width": 0.5
             }
            },
            "type": "barpolar"
           }
          ],
          "carpet": [
           {
            "aaxis": {
             "endlinecolor": "#2a3f5f",
             "gridcolor": "white",
             "linecolor": "white",
             "minorgridcolor": "white",
             "startlinecolor": "#2a3f5f"
            },
            "baxis": {
             "endlinecolor": "#2a3f5f",
             "gridcolor": "white",
             "linecolor": "white",
             "minorgridcolor": "white",
             "startlinecolor": "#2a3f5f"
            },
            "type": "carpet"
           }
          ],
          "choropleth": [
           {
            "colorbar": {
             "outlinewidth": 0,
             "ticks": ""
            },
            "type": "choropleth"
           }
          ],
          "contour": [
           {
            "colorbar": {
             "outlinewidth": 0,
             "ticks": ""
            },
            "colorscale": [
             [
              0,
              "#0d0887"
             ],
             [
              0.1111111111111111,
              "#46039f"
             ],
             [
              0.2222222222222222,
              "#7201a8"
             ],
             [
              0.3333333333333333,
              "#9c179e"
             ],
             [
              0.4444444444444444,
              "#bd3786"
             ],
             [
              0.5555555555555556,
              "#d8576b"
             ],
             [
              0.6666666666666666,
              "#ed7953"
             ],
             [
              0.7777777777777778,
              "#fb9f3a"
             ],
             [
              0.8888888888888888,
              "#fdca26"
             ],
             [
              1,
              "#f0f921"
             ]
            ],
            "type": "contour"
           }
          ],
          "contourcarpet": [
           {
            "colorbar": {
             "outlinewidth": 0,
             "ticks": ""
            },
            "type": "contourcarpet"
           }
          ],
          "heatmap": [
           {
            "colorbar": {
             "outlinewidth": 0,
             "ticks": ""
            },
            "colorscale": [
             [
              0,
              "#0d0887"
             ],
             [
              0.1111111111111111,
              "#46039f"
             ],
             [
              0.2222222222222222,
              "#7201a8"
             ],
             [
              0.3333333333333333,
              "#9c179e"
             ],
             [
              0.4444444444444444,
              "#bd3786"
             ],
             [
              0.5555555555555556,
              "#d8576b"
             ],
             [
              0.6666666666666666,
              "#ed7953"
             ],
             [
              0.7777777777777778,
              "#fb9f3a"
             ],
             [
              0.8888888888888888,
              "#fdca26"
             ],
             [
              1,
              "#f0f921"
             ]
            ],
            "type": "heatmap"
           }
          ],
          "heatmapgl": [
           {
            "colorbar": {
             "outlinewidth": 0,
             "ticks": ""
            },
            "colorscale": [
             [
              0,
              "#0d0887"
             ],
             [
              0.1111111111111111,
              "#46039f"
             ],
             [
              0.2222222222222222,
              "#7201a8"
             ],
             [
              0.3333333333333333,
              "#9c179e"
             ],
             [
              0.4444444444444444,
              "#bd3786"
             ],
             [
              0.5555555555555556,
              "#d8576b"
             ],
             [
              0.6666666666666666,
              "#ed7953"
             ],
             [
              0.7777777777777778,
              "#fb9f3a"
             ],
             [
              0.8888888888888888,
              "#fdca26"
             ],
             [
              1,
              "#f0f921"
             ]
            ],
            "type": "heatmapgl"
           }
          ],
          "histogram": [
           {
            "marker": {
             "colorbar": {
              "outlinewidth": 0,
              "ticks": ""
             }
            },
            "type": "histogram"
           }
          ],
          "histogram2d": [
           {
            "colorbar": {
             "outlinewidth": 0,
             "ticks": ""
            },
            "colorscale": [
             [
              0,
              "#0d0887"
             ],
             [
              0.1111111111111111,
              "#46039f"
             ],
             [
              0.2222222222222222,
              "#7201a8"
             ],
             [
              0.3333333333333333,
              "#9c179e"
             ],
             [
              0.4444444444444444,
              "#bd3786"
             ],
             [
              0.5555555555555556,
              "#d8576b"
             ],
             [
              0.6666666666666666,
              "#ed7953"
             ],
             [
              0.7777777777777778,
              "#fb9f3a"
             ],
             [
              0.8888888888888888,
              "#fdca26"
             ],
             [
              1,
              "#f0f921"
             ]
            ],
            "type": "histogram2d"
           }
          ],
          "histogram2dcontour": [
           {
            "colorbar": {
             "outlinewidth": 0,
             "ticks": ""
            },
            "colorscale": [
             [
              0,
              "#0d0887"
             ],
             [
              0.1111111111111111,
              "#46039f"
             ],
             [
              0.2222222222222222,
              "#7201a8"
             ],
             [
              0.3333333333333333,
              "#9c179e"
             ],
             [
              0.4444444444444444,
              "#bd3786"
             ],
             [
              0.5555555555555556,
              "#d8576b"
             ],
             [
              0.6666666666666666,
              "#ed7953"
             ],
             [
              0.7777777777777778,
              "#fb9f3a"
             ],
             [
              0.8888888888888888,
              "#fdca26"
             ],
             [
              1,
              "#f0f921"
             ]
            ],
            "type": "histogram2dcontour"
           }
          ],
          "mesh3d": [
           {
            "colorbar": {
             "outlinewidth": 0,
             "ticks": ""
            },
            "type": "mesh3d"
           }
          ],
          "parcoords": [
           {
            "line": {
             "colorbar": {
              "outlinewidth": 0,
              "ticks": ""
             }
            },
            "type": "parcoords"
           }
          ],
          "pie": [
           {
            "automargin": true,
            "type": "pie"
           }
          ],
          "scatter": [
           {
            "marker": {
             "colorbar": {
              "outlinewidth": 0,
              "ticks": ""
             }
            },
            "type": "scatter"
           }
          ],
          "scatter3d": [
           {
            "line": {
             "colorbar": {
              "outlinewidth": 0,
              "ticks": ""
             }
            },
            "marker": {
             "colorbar": {
              "outlinewidth": 0,
              "ticks": ""
             }
            },
            "type": "scatter3d"
           }
          ],
          "scattercarpet": [
           {
            "marker": {
             "colorbar": {
              "outlinewidth": 0,
              "ticks": ""
             }
            },
            "type": "scattercarpet"
           }
          ],
          "scattergeo": [
           {
            "marker": {
             "colorbar": {
              "outlinewidth": 0,
              "ticks": ""
             }
            },
            "type": "scattergeo"
           }
          ],
          "scattergl": [
           {
            "marker": {
             "colorbar": {
              "outlinewidth": 0,
              "ticks": ""
             }
            },
            "type": "scattergl"
           }
          ],
          "scattermapbox": [
           {
            "marker": {
             "colorbar": {
              "outlinewidth": 0,
              "ticks": ""
             }
            },
            "type": "scattermapbox"
           }
          ],
          "scatterpolar": [
           {
            "marker": {
             "colorbar": {
              "outlinewidth": 0,
              "ticks": ""
             }
            },
            "type": "scatterpolar"
           }
          ],
          "scatterpolargl": [
           {
            "marker": {
             "colorbar": {
              "outlinewidth": 0,
              "ticks": ""
             }
            },
            "type": "scatterpolargl"
           }
          ],
          "scatterternary": [
           {
            "marker": {
             "colorbar": {
              "outlinewidth": 0,
              "ticks": ""
             }
            },
            "type": "scatterternary"
           }
          ],
          "surface": [
           {
            "colorbar": {
             "outlinewidth": 0,
             "ticks": ""
            },
            "colorscale": [
             [
              0,
              "#0d0887"
             ],
             [
              0.1111111111111111,
              "#46039f"
             ],
             [
              0.2222222222222222,
              "#7201a8"
             ],
             [
              0.3333333333333333,
              "#9c179e"
             ],
             [
              0.4444444444444444,
              "#bd3786"
             ],
             [
              0.5555555555555556,
              "#d8576b"
             ],
             [
              0.6666666666666666,
              "#ed7953"
             ],
             [
              0.7777777777777778,
              "#fb9f3a"
             ],
             [
              0.8888888888888888,
              "#fdca26"
             ],
             [
              1,
              "#f0f921"
             ]
            ],
            "type": "surface"
           }
          ],
          "table": [
           {
            "cells": {
             "fill": {
              "color": "#EBF0F8"
             },
             "line": {
              "color": "white"
             }
            },
            "header": {
             "fill": {
              "color": "#C8D4E3"
             },
             "line": {
              "color": "white"
             }
            },
            "type": "table"
           }
          ]
         },
         "layout": {
          "annotationdefaults": {
           "arrowcolor": "#2a3f5f",
           "arrowhead": 0,
           "arrowwidth": 1
          },
          "coloraxis": {
           "colorbar": {
            "outlinewidth": 0,
            "ticks": ""
           }
          },
          "colorscale": {
           "diverging": [
            [
             0,
             "#8e0152"
            ],
            [
             0.1,
             "#c51b7d"
            ],
            [
             0.2,
             "#de77ae"
            ],
            [
             0.3,
             "#f1b6da"
            ],
            [
             0.4,
             "#fde0ef"
            ],
            [
             0.5,
             "#f7f7f7"
            ],
            [
             0.6,
             "#e6f5d0"
            ],
            [
             0.7,
             "#b8e186"
            ],
            [
             0.8,
             "#7fbc41"
            ],
            [
             0.9,
             "#4d9221"
            ],
            [
             1,
             "#276419"
            ]
           ],
           "sequential": [
            [
             0,
             "#0d0887"
            ],
            [
             0.1111111111111111,
             "#46039f"
            ],
            [
             0.2222222222222222,
             "#7201a8"
            ],
            [
             0.3333333333333333,
             "#9c179e"
            ],
            [
             0.4444444444444444,
             "#bd3786"
            ],
            [
             0.5555555555555556,
             "#d8576b"
            ],
            [
             0.6666666666666666,
             "#ed7953"
            ],
            [
             0.7777777777777778,
             "#fb9f3a"
            ],
            [
             0.8888888888888888,
             "#fdca26"
            ],
            [
             1,
             "#f0f921"
            ]
           ],
           "sequentialminus": [
            [
             0,
             "#0d0887"
            ],
            [
             0.1111111111111111,
             "#46039f"
            ],
            [
             0.2222222222222222,
             "#7201a8"
            ],
            [
             0.3333333333333333,
             "#9c179e"
            ],
            [
             0.4444444444444444,
             "#bd3786"
            ],
            [
             0.5555555555555556,
             "#d8576b"
            ],
            [
             0.6666666666666666,
             "#ed7953"
            ],
            [
             0.7777777777777778,
             "#fb9f3a"
            ],
            [
             0.8888888888888888,
             "#fdca26"
            ],
            [
             1,
             "#f0f921"
            ]
           ]
          },
          "colorway": [
           "#636efa",
           "#EF553B",
           "#00cc96",
           "#ab63fa",
           "#FFA15A",
           "#19d3f3",
           "#FF6692",
           "#B6E880",
           "#FF97FF",
           "#FECB52"
          ],
          "font": {
           "color": "#2a3f5f"
          },
          "geo": {
           "bgcolor": "white",
           "lakecolor": "white",
           "landcolor": "#E5ECF6",
           "showlakes": true,
           "showland": true,
           "subunitcolor": "white"
          },
          "hoverlabel": {
           "align": "left"
          },
          "hovermode": "closest",
          "mapbox": {
           "style": "light"
          },
          "paper_bgcolor": "white",
          "plot_bgcolor": "#E5ECF6",
          "polar": {
           "angularaxis": {
            "gridcolor": "white",
            "linecolor": "white",
            "ticks": ""
           },
           "bgcolor": "#E5ECF6",
           "radialaxis": {
            "gridcolor": "white",
            "linecolor": "white",
            "ticks": ""
           }
          },
          "scene": {
           "xaxis": {
            "backgroundcolor": "#E5ECF6",
            "gridcolor": "white",
            "gridwidth": 2,
            "linecolor": "white",
            "showbackground": true,
            "ticks": "",
            "zerolinecolor": "white"
           },
           "yaxis": {
            "backgroundcolor": "#E5ECF6",
            "gridcolor": "white",
            "gridwidth": 2,
            "linecolor": "white",
            "showbackground": true,
            "ticks": "",
            "zerolinecolor": "white"
           },
           "zaxis": {
            "backgroundcolor": "#E5ECF6",
            "gridcolor": "white",
            "gridwidth": 2,
            "linecolor": "white",
            "showbackground": true,
            "ticks": "",
            "zerolinecolor": "white"
           }
          },
          "shapedefaults": {
           "line": {
            "color": "#2a3f5f"
           }
          },
          "ternary": {
           "aaxis": {
            "gridcolor": "white",
            "linecolor": "white",
            "ticks": ""
           },
           "baxis": {
            "gridcolor": "white",
            "linecolor": "white",
            "ticks": ""
           },
           "bgcolor": "#E5ECF6",
           "caxis": {
            "gridcolor": "white",
            "linecolor": "white",
            "ticks": ""
           }
          },
          "title": {
           "x": 0.05
          },
          "xaxis": {
           "automargin": true,
           "gridcolor": "white",
           "linecolor": "white",
           "ticks": "",
           "title": {
            "standoff": 15
           },
           "zerolinecolor": "white",
           "zerolinewidth": 2
          },
          "yaxis": {
           "automargin": true,
           "gridcolor": "white",
           "linecolor": "white",
           "ticks": "",
           "title": {
            "standoff": 15
           },
           "zerolinecolor": "white",
           "zerolinewidth": 2
          }
         }
        },
        "title": {
         "text": "Employees in my organization are treated with respect and dignity."
        },
        "updatemenus": [
         {
          "buttons": [
           {
            "args": [
             {
              "visible": [
               true,
               false,
               false,
               false,
               false,
               false,
               false,
               false,
               false,
               false,
               false,
               false,
               false,
               false,
               false,
               false,
               false,
               false,
               false,
               false,
               false,
               false,
               false,
               false,
               false
              ]
             },
             {
              "title": "Employees in my organization are treated with respect and dignity."
             }
            ],
            "label": "Total",
            "method": "update"
           },
           {
            "args": [
             {
              "visible": [
               false,
               true,
               true,
               true,
               true,
               true,
               true,
               false,
               false,
               false,
               false,
               false,
               false,
               false,
               false,
               false,
               false,
               false,
               false,
               false,
               false,
               false,
               false,
               false,
               false
              ]
             },
             {
              "title": "Employees in my organization are treated with respect and dignity."
             }
            ],
            "label": "Race",
            "method": "update"
           },
           {
            "args": [
             {
              "visible": [
               false,
               false,
               false,
               false,
               false,
               false,
               false,
               true,
               true,
               true,
               true,
               true,
               true,
               false,
               false,
               false,
               false,
               false,
               false,
               false,
               false,
               false,
               false,
               false,
               false
              ]
             },
             {
              "title": "Employees in my organization are treated with respect and dignity."
             }
            ],
            "label": "Age",
            "method": "update"
           },
           {
            "args": [
             {
              "visible": [
               false,
               false,
               false,
               false,
               false,
               false,
               false,
               false,
               false,
               false,
               false,
               false,
               false,
               true,
               true,
               false,
               false,
               false,
               false,
               false,
               false,
               false,
               false,
               false,
               false
              ]
             },
             {
              "title": "Employees in my organization are treated with respect and dignity."
             }
            ],
            "label": "Sexual Orientation",
            "method": "update"
           },
           {
            "args": [
             {
              "visible": [
               false,
               false,
               false,
               false,
               false,
               false,
               false,
               false,
               false,
               false,
               false,
               false,
               false,
               false,
               false,
               true,
               true,
               true,
               true,
               true,
               true,
               false,
               false,
               false,
               false
              ]
             },
             {
              "title": "Employees in my organization are treated with respect and dignity."
             }
            ],
            "label": "Tenure",
            "method": "update"
           },
           {
            "args": [
             {
              "visible": [
               false,
               false,
               false,
               false,
               false,
               false,
               false,
               false,
               false,
               false,
               false,
               false,
               false,
               false,
               false,
               false,
               false,
               false,
               false,
               false,
               false,
               true,
               true,
               true,
               true
              ]
             },
             {
              "title": "Employees in my organization are treated with respect and dignity."
             }
            ],
            "label": "Status",
            "method": "update"
           }
          ],
          "type": "buttons"
         }
        ]
       }
      },
      "text/html": [
       "<div>\n",
       "        \n",
       "        \n",
       "            <div id=\"5bec5c38-7f4d-4b23-b361-636bfddd25f7\" class=\"plotly-graph-div\" style=\"height:525px; width:100%;\"></div>\n",
       "            <script type=\"text/javascript\">\n",
       "                require([\"plotly\"], function(Plotly) {\n",
       "                    window.PLOTLYENV=window.PLOTLYENV || {};\n",
       "                    \n",
       "                if (document.getElementById(\"5bec5c38-7f4d-4b23-b361-636bfddd25f7\")) {\n",
       "                    Plotly.newPlot(\n",
       "                        '5bec5c38-7f4d-4b23-b361-636bfddd25f7',\n",
       "                        [{\"name\": \"   \", \"opacity\": 0.5, \"type\": \"histogram\", \"x\": [4, 3, 5, 4, 1, 1, 1, 1, 1, 2, 3, 4, 4, 3, 3, 3, 3, 4, 5, 4, 3, 4, 4, 4, 5, 5, 4, 4, 5, 4, 4, 3, 3, 2, 3, 3, 2, 2, 3, 1, 4, 4, 3, 1, 5, 4, 2, 3, 3, 3, 3, 2, 3, 5, 3, 5, 4, 3, 4, 4, 4, 2, 2, 4, 5, 4, 4, 5, 4, 4, 5, 4, 4, 3, 5, 4, 3, 4, 4, 5, 5, 5, 5, 5, 5, 5, 5, 5, 3, 5, 5, 5, 5, 4, 5, 5, 5, 5, 5, 4, 4, 3, 3, 4, 4, 5, 4, 5, 5, 4, 5, 5, 5, 5, 5, 5, 2, 3, 2, 2, 4, 3, 3, 4, 3, 4, 3, 2, 2, 3, 3, 3, 4, 3, 5, 4, 3, 3, 3, 5, 4, 3, 3, 4, 4, 3, 4, 3, 5, 4, 4, 3, 4, 3, 4, 4, 4, 4, 5, 4, 4, 3, 5, 5, 5, 4, 3, 5, 3, 3, 5, 3, 5, 4, 5, 4, 5, 4, 5, 5, 5, 5, 5, 4, 5, 5, 5, 5, 4, 5, 5, 5, 5, 3, 3, 5, 5, 5, 5, 4, 5, 5, 5, 3, 2]}, {\"name\": \"White\", \"opacity\": 0.5, \"type\": \"histogram\", \"x\": [2, 3, 2, 2, 4, 3, 3, 4, 3, 4, 3, 2, 2, 3, 3, 3, 4, 3, 5, 4, 3, 3, 3, 5, 4, 3, 3, 4, 4, 3, 4, 3, 5, 4, 4, 3, 4, 3, 4, 4, 4, 4, 5, 4, 4, 3, 5, 5, 5, 4, 3, 5, 3, 3, 5, 3, 5, 4, 5, 4, 5, 4, 5, 5, 5, 5, 5, 4, 5, 5, 5, 5, 4, 5, 5, 5, 5, 3, 3, 5, 5, 5, 5, 4, 5, 5]}, {\"name\": \"Latino/Hispanic\", \"opacity\": 0.5, \"type\": \"histogram\", \"x\": [3, 3, 2, 3, 3, 2, 2, 3, 1, 4, 4, 3, 1, 5, 4, 2, 3, 3, 3, 3, 2, 3, 5, 3, 5, 4, 3, 4, 4, 4, 2, 2, 4, 5, 4, 4, 5, 4, 4, 5, 4, 4, 3, 5, 4, 3, 4, 4, 5, 5, 5, 5, 5, 5, 5, 5, 5, 3, 5, 5, 5, 5, 4, 5, 5, 5, 5, 5]}, {\"name\": \"Black/African American\", \"opacity\": 0.5, \"type\": \"histogram\", \"x\": [1, 1, 1, 1, 1, 2, 3, 4, 4, 3, 3, 3, 3, 4, 5, 4, 3, 4, 4, 4, 5, 5, 4, 4]}, {\"name\": \"Two or more Races\", \"opacity\": 0.5, \"type\": \"histogram\", \"x\": [3, 3, 4, 4, 5, 4, 5, 5, 4, 5, 5, 5, 5, 5, 5]}, {\"name\": \"Asian\", \"opacity\": 0.5, \"type\": \"histogram\", \"x\": [3, 5, 4]}, {\"name\": \"Indian/Native American\", \"opacity\": 0.5, \"type\": \"histogram\", \"x\": [4, 4]}, {\"name\": \"25-34\", \"opacity\": 0.5, \"type\": \"histogram\", \"x\": [3, 4, 1, 1, 3, 3, 3, 5, 4, 5, 4, 4, 3, 2, 3, 4, 4, 3, 3, 3, 3, 5, 5, 4, 2, 2, 4, 5, 5, 3, 4, 4, 4, 5, 5, 5, 5, 5, 5, 5, 5, 5, 3, 5, 4, 5, 5, 5, 5, 2, 2, 4, 4, 3, 4, 3, 3, 4, 3, 5, 4, 3, 5, 4, 4, 4, 4, 4, 5, 5, 3, 5, 5, 3, 5, 4, 4, 5, 5, 5, 5, 4, 5, 3, 3, 3]}, {\"name\": \"35-44\", \"opacity\": 0.5, \"type\": \"histogram\", \"x\": [4, 2, 3, 4, 3, 4, 3, 3, 3, 2, 4, 1, 5, 3, 2, 4, 3, 4, 4, 4, 4, 5, 3, 5, 3, 5, 4, 5, 3, 4, 2, 3, 3, 2, 4, 5, 3, 3, 4, 3, 5, 5, 3, 5, 5, 5, 5]}, {\"name\": \"45-54\", \"opacity\": 0.5, \"type\": \"histogram\", \"x\": [1, 4, 5, 4, 3, 2, 4, 5, 4, 4, 4, 5, 3, 3, 3, 3, 4, 3, 3, 4, 4, 4, 3, 4, 5, 5, 5, 5]}, {\"name\": \"55-64\", \"opacity\": 0.5, \"type\": \"histogram\", \"x\": [1, 3, 4, 4, 5, 1, 3, 4, 4, 4, 5, 3, 4, 3, 3, 5, 5, 4, 5, 5, 5, 5, 4, 5, 2]}, {\"name\": \"18-24\", \"opacity\": 0.5, \"type\": \"histogram\", \"x\": [5, 2, 5, 5, 5, 5, 5, 5, 2, 4, 5, 5]}, {\"name\": \"65-74\", \"opacity\": 0.5, \"type\": \"histogram\", \"x\": [4, 4, 5, 5, 4, 4]}, {\"name\": \"Straight\", \"opacity\": 0.5, \"type\": \"histogram\", \"x\": [5, 4, 1, 1, 1, 1, 1, 2, 3, 4, 4, 3, 3, 3, 3, 4, 4, 3, 4, 4, 5, 5, 4, 4, 5, 4, 2, 3, 3, 2, 2, 3, 1, 4, 4, 3, 1, 2, 3, 3, 3, 2, 3, 5, 3, 5, 4, 3, 4, 4, 4, 2, 4, 5, 4, 5, 4, 4, 5, 4, 4, 3, 5, 4, 3, 4, 5, 5, 5, 5, 5, 5, 3, 5, 5, 5, 5, 4, 5, 5, 5, 5, 5, 4, 4, 3, 4, 4, 5, 5, 5, 4, 5, 5, 5, 5, 5, 5, 2, 3, 2, 2, 3, 3, 3, 2, 3, 3, 4, 3, 5, 4, 3, 5, 4, 3, 3, 4, 4, 3, 4, 5, 4, 3, 3, 4, 3, 5, 5, 4, 5, 3, 3, 5, 3, 5, 4, 5, 4, 5, 5, 4, 5, 5, 5, 4, 5, 5, 5, 5, 3, 3, 5, 5, 5, 5, 4, 5, 5, 5, 2]}, {\"name\": \"LGBTQ+\", \"opacity\": 0.5, \"type\": \"histogram\", \"x\": [5, 4, 3, 5, 4, 3, 2, 4, 5, 5, 5, 3, 4, 4, 3, 4, 4, 2, 3, 3, 3, 4, 4, 4, 4, 4, 4, 4, 5, 3, 4, 5, 5, 5, 3]}, {\"name\": \"1-3 years\", \"opacity\": 0.5, \"type\": \"histogram\", \"x\": [4, 3, 5, 4, 1, 1, 1, 4, 4, 3, 5, 4, 3, 4, 4, 3, 3, 3, 2, 4, 4, 3, 5, 4, 4, 2, 2, 5, 4, 5, 4, 4, 5, 5, 3, 5, 5, 4, 5, 5, 5, 2, 4, 3, 4, 3, 2, 3, 3, 3, 4, 5, 3, 3, 3, 4, 4, 5, 3, 3, 3, 5, 4, 5, 5, 3, 5, 5, 5, 2]}, {\"name\": \"3-5 years\", \"opacity\": 0.5, \"type\": \"histogram\", \"x\": [1, 1, 3, 3, 4, 4, 3, 1, 3, 5, 4, 5, 4, 5, 4, 4, 5, 5, 4, 3, 2, 3, 2, 4, 3, 4, 5, 4, 4, 4, 5, 5, 3, 5, 5, 4, 5, 5, 5, 5]}, {\"name\": \"< than a year\", \"opacity\": 0.5, \"type\": \"histogram\", \"x\": [3, 2, 4, 5, 5, 5, 5, 5, 5, 5, 4, 5, 5, 5, 5, 3, 4, 4, 4, 4, 5, 5, 3, 4, 5, 5, 5, 4, 5, 5, 3, 5]}, {\"name\": \"5-10 years\", \"opacity\": 0.5, \"type\": \"histogram\", \"x\": [2, 4, 5, 5, 5, 4, 2, 3, 3, 3, 5, 3, 3, 4, 3, 5, 3, 4, 3, 3, 4, 3, 3, 3, 3, 4, 4, 4]}, {\"name\": \"10+ years\", \"opacity\": 0.5, \"type\": \"histogram\", \"x\": [4, 4, 3, 4, 2, 4, 4, 4, 4, 3, 5, 5, 4, 4, 3, 4, 4, 4, 5, 5, 5, 5, 5]}, {\"name\": \"1 year\", \"opacity\": 0.5, \"type\": \"histogram\", \"x\": [3, 2, 1, 3, 5, 5, 5, 5, 2, 5, 3]}, {\"name\": \"Full-time\", \"opacity\": 0.5, \"type\": \"histogram\", \"x\": [4, 3, 1, 1, 1, 1, 1, 2, 3, 4, 4, 3, 3, 3, 3, 4, 5, 3, 4, 4, 4, 5, 5, 4, 4, 5, 4, 4, 3, 3, 2, 3, 3, 2, 2, 3, 1, 4, 4, 3, 1, 5, 4, 2, 3, 3, 3, 3, 2, 3, 5, 3, 5, 4, 3, 4, 4, 2, 2, 4, 5, 4, 4, 5, 4, 4, 5, 4, 4, 3, 5, 4, 3, 4, 4, 5, 5, 5, 5, 5, 5, 3, 5, 5, 5, 4, 5, 5, 5, 5, 4, 4, 3, 3, 4, 4, 5, 4, 5, 5, 4, 5, 5, 5, 5, 2, 3, 2, 2, 4, 3, 3, 4, 3, 4, 3, 2, 2, 3, 3, 3, 4, 3, 5, 4, 3, 3, 3, 4, 3, 3, 4, 4, 3, 4, 3, 5, 4, 4, 3, 3, 4, 4, 4, 4, 5, 4, 4, 5, 5, 4, 3, 5, 3, 3, 5, 4, 5, 4, 5, 4, 5, 5, 5, 4, 5, 5, 5, 5, 4, 5, 5, 3, 5, 5, 5, 5, 5, 3, 2]}, {\"name\": \"Part-time\", \"opacity\": 0.5, \"type\": \"histogram\", \"x\": [5, 4, 4, 5, 5, 5, 5, 5, 5, 4, 3, 5, 5, 5, 5, 3, 5, 5, 4]}, {\"name\": \"Seasonal\", \"opacity\": 0.5, \"type\": \"histogram\", \"x\": [5, 4, 4, 5, 5, 5, 5, 5, 5, 4, 3, 5, 5, 5, 5, 3, 5, 5, 4]}, {\"name\": \"Part-time, Seasonal\", \"opacity\": 0.5, \"type\": \"histogram\", \"x\": [5, 4, 4, 5, 5, 5, 5, 5, 5, 4, 3, 5, 5, 5, 5, 3, 5, 5, 4]}],\n",
       "                        {\"barmode\": \"stack\", \"template\": {\"data\": {\"bar\": [{\"error_x\": {\"color\": \"#2a3f5f\"}, \"error_y\": {\"color\": \"#2a3f5f\"}, \"marker\": {\"line\": {\"color\": \"#E5ECF6\", \"width\": 0.5}}, \"type\": \"bar\"}], \"barpolar\": [{\"marker\": {\"line\": {\"color\": \"#E5ECF6\", \"width\": 0.5}}, \"type\": \"barpolar\"}], \"carpet\": [{\"aaxis\": {\"endlinecolor\": \"#2a3f5f\", \"gridcolor\": \"white\", \"linecolor\": \"white\", \"minorgridcolor\": \"white\", \"startlinecolor\": \"#2a3f5f\"}, \"baxis\": {\"endlinecolor\": \"#2a3f5f\", \"gridcolor\": \"white\", \"linecolor\": \"white\", \"minorgridcolor\": \"white\", \"startlinecolor\": \"#2a3f5f\"}, \"type\": \"carpet\"}], \"choropleth\": [{\"colorbar\": {\"outlinewidth\": 0, \"ticks\": \"\"}, \"type\": \"choropleth\"}], \"contour\": [{\"colorbar\": {\"outlinewidth\": 0, \"ticks\": \"\"}, \"colorscale\": [[0.0, \"#0d0887\"], [0.1111111111111111, \"#46039f\"], [0.2222222222222222, \"#7201a8\"], [0.3333333333333333, \"#9c179e\"], [0.4444444444444444, \"#bd3786\"], [0.5555555555555556, \"#d8576b\"], [0.6666666666666666, \"#ed7953\"], [0.7777777777777778, \"#fb9f3a\"], [0.8888888888888888, \"#fdca26\"], [1.0, \"#f0f921\"]], \"type\": \"contour\"}], \"contourcarpet\": [{\"colorbar\": {\"outlinewidth\": 0, \"ticks\": \"\"}, \"type\": \"contourcarpet\"}], \"heatmap\": [{\"colorbar\": {\"outlinewidth\": 0, \"ticks\": \"\"}, \"colorscale\": [[0.0, \"#0d0887\"], [0.1111111111111111, \"#46039f\"], [0.2222222222222222, \"#7201a8\"], [0.3333333333333333, \"#9c179e\"], [0.4444444444444444, \"#bd3786\"], [0.5555555555555556, \"#d8576b\"], [0.6666666666666666, \"#ed7953\"], [0.7777777777777778, \"#fb9f3a\"], [0.8888888888888888, \"#fdca26\"], [1.0, \"#f0f921\"]], \"type\": \"heatmap\"}], \"heatmapgl\": [{\"colorbar\": {\"outlinewidth\": 0, \"ticks\": \"\"}, \"colorscale\": [[0.0, \"#0d0887\"], [0.1111111111111111, \"#46039f\"], [0.2222222222222222, \"#7201a8\"], [0.3333333333333333, \"#9c179e\"], [0.4444444444444444, \"#bd3786\"], [0.5555555555555556, \"#d8576b\"], [0.6666666666666666, \"#ed7953\"], [0.7777777777777778, \"#fb9f3a\"], [0.8888888888888888, \"#fdca26\"], [1.0, \"#f0f921\"]], \"type\": \"heatmapgl\"}], \"histogram\": [{\"marker\": {\"colorbar\": {\"outlinewidth\": 0, \"ticks\": \"\"}}, \"type\": \"histogram\"}], \"histogram2d\": [{\"colorbar\": {\"outlinewidth\": 0, \"ticks\": \"\"}, \"colorscale\": [[0.0, \"#0d0887\"], [0.1111111111111111, \"#46039f\"], [0.2222222222222222, \"#7201a8\"], [0.3333333333333333, \"#9c179e\"], [0.4444444444444444, \"#bd3786\"], [0.5555555555555556, \"#d8576b\"], [0.6666666666666666, \"#ed7953\"], [0.7777777777777778, \"#fb9f3a\"], [0.8888888888888888, \"#fdca26\"], [1.0, \"#f0f921\"]], \"type\": \"histogram2d\"}], \"histogram2dcontour\": [{\"colorbar\": {\"outlinewidth\": 0, \"ticks\": \"\"}, \"colorscale\": [[0.0, \"#0d0887\"], [0.1111111111111111, \"#46039f\"], [0.2222222222222222, \"#7201a8\"], [0.3333333333333333, \"#9c179e\"], [0.4444444444444444, \"#bd3786\"], [0.5555555555555556, \"#d8576b\"], [0.6666666666666666, \"#ed7953\"], [0.7777777777777778, \"#fb9f3a\"], [0.8888888888888888, \"#fdca26\"], [1.0, \"#f0f921\"]], \"type\": \"histogram2dcontour\"}], \"mesh3d\": [{\"colorbar\": {\"outlinewidth\": 0, \"ticks\": \"\"}, \"type\": \"mesh3d\"}], \"parcoords\": [{\"line\": {\"colorbar\": {\"outlinewidth\": 0, \"ticks\": \"\"}}, \"type\": \"parcoords\"}], \"pie\": [{\"automargin\": true, \"type\": \"pie\"}], \"scatter\": [{\"marker\": {\"colorbar\": {\"outlinewidth\": 0, \"ticks\": \"\"}}, \"type\": \"scatter\"}], \"scatter3d\": [{\"line\": {\"colorbar\": {\"outlinewidth\": 0, \"ticks\": \"\"}}, \"marker\": {\"colorbar\": {\"outlinewidth\": 0, \"ticks\": \"\"}}, \"type\": \"scatter3d\"}], \"scattercarpet\": [{\"marker\": {\"colorbar\": {\"outlinewidth\": 0, \"ticks\": \"\"}}, \"type\": \"scattercarpet\"}], \"scattergeo\": [{\"marker\": {\"colorbar\": {\"outlinewidth\": 0, \"ticks\": \"\"}}, \"type\": \"scattergeo\"}], \"scattergl\": [{\"marker\": {\"colorbar\": {\"outlinewidth\": 0, \"ticks\": \"\"}}, \"type\": \"scattergl\"}], \"scattermapbox\": [{\"marker\": {\"colorbar\": {\"outlinewidth\": 0, \"ticks\": \"\"}}, \"type\": \"scattermapbox\"}], \"scatterpolar\": [{\"marker\": {\"colorbar\": {\"outlinewidth\": 0, \"ticks\": \"\"}}, \"type\": \"scatterpolar\"}], \"scatterpolargl\": [{\"marker\": {\"colorbar\": {\"outlinewidth\": 0, \"ticks\": \"\"}}, \"type\": \"scatterpolargl\"}], \"scatterternary\": [{\"marker\": {\"colorbar\": {\"outlinewidth\": 0, \"ticks\": \"\"}}, \"type\": \"scatterternary\"}], \"surface\": [{\"colorbar\": {\"outlinewidth\": 0, \"ticks\": \"\"}, \"colorscale\": [[0.0, \"#0d0887\"], [0.1111111111111111, \"#46039f\"], [0.2222222222222222, \"#7201a8\"], [0.3333333333333333, \"#9c179e\"], [0.4444444444444444, \"#bd3786\"], [0.5555555555555556, \"#d8576b\"], [0.6666666666666666, \"#ed7953\"], [0.7777777777777778, \"#fb9f3a\"], [0.8888888888888888, \"#fdca26\"], [1.0, \"#f0f921\"]], \"type\": \"surface\"}], \"table\": [{\"cells\": {\"fill\": {\"color\": \"#EBF0F8\"}, \"line\": {\"color\": \"white\"}}, \"header\": {\"fill\": {\"color\": \"#C8D4E3\"}, \"line\": {\"color\": \"white\"}}, \"type\": \"table\"}]}, \"layout\": {\"annotationdefaults\": {\"arrowcolor\": \"#2a3f5f\", \"arrowhead\": 0, \"arrowwidth\": 1}, \"coloraxis\": {\"colorbar\": {\"outlinewidth\": 0, \"ticks\": \"\"}}, \"colorscale\": {\"diverging\": [[0, \"#8e0152\"], [0.1, \"#c51b7d\"], [0.2, \"#de77ae\"], [0.3, \"#f1b6da\"], [0.4, \"#fde0ef\"], [0.5, \"#f7f7f7\"], [0.6, \"#e6f5d0\"], [0.7, \"#b8e186\"], [0.8, \"#7fbc41\"], [0.9, \"#4d9221\"], [1, \"#276419\"]], \"sequential\": [[0.0, \"#0d0887\"], [0.1111111111111111, \"#46039f\"], [0.2222222222222222, \"#7201a8\"], [0.3333333333333333, \"#9c179e\"], [0.4444444444444444, \"#bd3786\"], [0.5555555555555556, \"#d8576b\"], [0.6666666666666666, \"#ed7953\"], [0.7777777777777778, \"#fb9f3a\"], [0.8888888888888888, \"#fdca26\"], [1.0, \"#f0f921\"]], \"sequentialminus\": [[0.0, \"#0d0887\"], [0.1111111111111111, \"#46039f\"], [0.2222222222222222, \"#7201a8\"], [0.3333333333333333, \"#9c179e\"], [0.4444444444444444, \"#bd3786\"], [0.5555555555555556, \"#d8576b\"], [0.6666666666666666, \"#ed7953\"], [0.7777777777777778, \"#fb9f3a\"], [0.8888888888888888, \"#fdca26\"], [1.0, \"#f0f921\"]]}, \"colorway\": [\"#636efa\", \"#EF553B\", \"#00cc96\", \"#ab63fa\", \"#FFA15A\", \"#19d3f3\", \"#FF6692\", \"#B6E880\", \"#FF97FF\", \"#FECB52\"], \"font\": {\"color\": \"#2a3f5f\"}, \"geo\": {\"bgcolor\": \"white\", \"lakecolor\": \"white\", \"landcolor\": \"#E5ECF6\", \"showlakes\": true, \"showland\": true, \"subunitcolor\": \"white\"}, \"hoverlabel\": {\"align\": \"left\"}, \"hovermode\": \"closest\", \"mapbox\": {\"style\": \"light\"}, \"paper_bgcolor\": \"white\", \"plot_bgcolor\": \"#E5ECF6\", \"polar\": {\"angularaxis\": {\"gridcolor\": \"white\", \"linecolor\": \"white\", \"ticks\": \"\"}, \"bgcolor\": \"#E5ECF6\", \"radialaxis\": {\"gridcolor\": \"white\", \"linecolor\": \"white\", \"ticks\": \"\"}}, \"scene\": {\"xaxis\": {\"backgroundcolor\": \"#E5ECF6\", \"gridcolor\": \"white\", \"gridwidth\": 2, \"linecolor\": \"white\", \"showbackground\": true, \"ticks\": \"\", \"zerolinecolor\": \"white\"}, \"yaxis\": {\"backgroundcolor\": \"#E5ECF6\", \"gridcolor\": \"white\", \"gridwidth\": 2, \"linecolor\": \"white\", \"showbackground\": true, \"ticks\": \"\", \"zerolinecolor\": \"white\"}, \"zaxis\": {\"backgroundcolor\": \"#E5ECF6\", \"gridcolor\": \"white\", \"gridwidth\": 2, \"linecolor\": \"white\", \"showbackground\": true, \"ticks\": \"\", \"zerolinecolor\": \"white\"}}, \"shapedefaults\": {\"line\": {\"color\": \"#2a3f5f\"}}, \"ternary\": {\"aaxis\": {\"gridcolor\": \"white\", \"linecolor\": \"white\", \"ticks\": \"\"}, \"baxis\": {\"gridcolor\": \"white\", \"linecolor\": \"white\", \"ticks\": \"\"}, \"bgcolor\": \"#E5ECF6\", \"caxis\": {\"gridcolor\": \"white\", \"linecolor\": \"white\", \"ticks\": \"\"}}, \"title\": {\"x\": 0.05}, \"xaxis\": {\"automargin\": true, \"gridcolor\": \"white\", \"linecolor\": \"white\", \"ticks\": \"\", \"title\": {\"standoff\": 15}, \"zerolinecolor\": \"white\", \"zerolinewidth\": 2}, \"yaxis\": {\"automargin\": true, \"gridcolor\": \"white\", \"linecolor\": \"white\", \"ticks\": \"\", \"title\": {\"standoff\": 15}, \"zerolinecolor\": \"white\", \"zerolinewidth\": 2}}}, \"title\": {\"text\": \"Employees in my organization are treated with respect and dignity.\"}, \"updatemenus\": [{\"buttons\": [{\"args\": [{\"visible\": [true, false, false, false, false, false, false, false, false, false, false, false, false, false, false, false, false, false, false, false, false, false, false, false, false]}, {\"title\": \"Employees in my organization are treated with respect and dignity.\"}], \"label\": \"Total\", \"method\": \"update\"}, {\"args\": [{\"visible\": [false, true, true, true, true, true, true, false, false, false, false, false, false, false, false, false, false, false, false, false, false, false, false, false, false]}, {\"title\": \"Employees in my organization are treated with respect and dignity.\"}], \"label\": \"Race\", \"method\": \"update\"}, {\"args\": [{\"visible\": [false, false, false, false, false, false, false, true, true, true, true, true, true, false, false, false, false, false, false, false, false, false, false, false, false]}, {\"title\": \"Employees in my organization are treated with respect and dignity.\"}], \"label\": \"Age\", \"method\": \"update\"}, {\"args\": [{\"visible\": [false, false, false, false, false, false, false, false, false, false, false, false, false, true, true, false, false, false, false, false, false, false, false, false, false]}, {\"title\": \"Employees in my organization are treated with respect and dignity.\"}], \"label\": \"Sexual Orientation\", \"method\": \"update\"}, {\"args\": [{\"visible\": [false, false, false, false, false, false, false, false, false, false, false, false, false, false, false, true, true, true, true, true, true, false, false, false, false]}, {\"title\": \"Employees in my organization are treated with respect and dignity.\"}], \"label\": \"Tenure\", \"method\": \"update\"}, {\"args\": [{\"visible\": [false, false, false, false, false, false, false, false, false, false, false, false, false, false, false, false, false, false, false, false, false, true, true, true, true]}, {\"title\": \"Employees in my organization are treated with respect and dignity.\"}], \"label\": \"Status\", \"method\": \"update\"}], \"type\": \"buttons\"}]},\n",
       "                        {\"responsive\": true}\n",
       "                    ).then(function(){\n",
       "                            \n",
       "var gd = document.getElementById('5bec5c38-7f4d-4b23-b361-636bfddd25f7');\n",
       "var x = new MutationObserver(function (mutations, observer) {{\n",
       "        var display = window.getComputedStyle(gd).display;\n",
       "        if (!display || display === 'none') {{\n",
       "            console.log([gd, 'removed!']);\n",
       "            Plotly.purge(gd);\n",
       "            observer.disconnect();\n",
       "        }}\n",
       "}});\n",
       "\n",
       "// Listen for the removal of the full notebook cells\n",
       "var notebookContainer = gd.closest('#notebook-container');\n",
       "if (notebookContainer) {{\n",
       "    x.observe(notebookContainer, {childList: true});\n",
       "}}\n",
       "\n",
       "// Listen for the clearing of the current output cell\n",
       "var outputEl = gd.closest('.output');\n",
       "if (outputEl) {{\n",
       "    x.observe(outputEl, {childList: true});\n",
       "}}\n",
       "\n",
       "                        })\n",
       "                };\n",
       "                });\n",
       "            </script>\n",
       "        </div>"
      ]
     },
     "metadata": {},
     "output_type": "display_data"
    }
   ],
   "source": [
    "#defining list_updatemenus\n",
    "list_updatemenus = [{'label': 'Total',\n",
    "                     'method': 'update',\n",
    "                     'args': [{'visible': [True, False, False, False, False, False, False, False, False, False, False, False, False, False, False, False, False, False, False, False, False, False, False, False, False]}, {'title': 'Employees in my organization are treated with respect and dignity.'}]},\n",
    "                    {'label': 'Race',\n",
    "                     'method': 'update',\n",
    "                     'args': [{'visible': [False, True, True, True, True, True, True, False, False, False, False, False, False, False, False, False, False, False, False, False, False, False, False, False, False]}, {'title': 'Employees in my organization are treated with respect and dignity.'}]},\n",
    "                    {'label': 'Age',\n",
    "                     'method': 'update',\n",
    "                     'args': [{'visible': [False, False, False, False, False, False, False, True, True, True, True, True, True, False, False, False, False, False, False, False, False, False, False, False, False]}, {'title': 'Employees in my organization are treated with respect and dignity.'}]},\n",
    "                    {'label': 'Sexual Orientation',\n",
    "                     'method': 'update',\n",
    "                     'args': [{'visible': [False, False, False, False, False, False, False, False, False, False, False, False, False, True, True, False, False, False, False, False, False, False, False, False, False]}, {'title': 'Employees in my organization are treated with respect and dignity.'}]},\n",
    "                   {'label': 'Tenure',\n",
    "                     'method': 'update',\n",
    "                     'args': [{'visible': [False, False, False, False, False, False, False, False, False, False, False, False, False, False, False, True, True, True, True, True, True, False, False, False, False]}, {'title': 'Employees in my organization are treated with respect and dignity.'}]},\n",
    "                   {'label': 'Status',\n",
    "                     'method': 'update',\n",
    "                     'args': [{'visible': [False, False, False, False, False, False, False, False, False, False, False, False, False, False, False, False, False, False, False, False, False, True, True, True, True]}, {'title': 'Employees in my organization are treated with respect and dignity.'}]}\n",
    "                   ]\n",
    "#defining graph objects\n",
    "x_total = dei[\"Employees in my organization are treated with respect and dignity.  \"]\n",
    "x_white = dei[dei['What is your race? ']==\"White\"][\"Employees in my organization are treated with respect and dignity.  \"]\n",
    "x_latinx = dei[dei['What is your race? ']==\"Latino/Hispanic\"][\"Employees in my organization are treated with respect and dignity.  \"]\n",
    "x_black = dei[dei['What is your race? ']==\"Black/ African American\"][\"Employees in my organization are treated with respect and dignity.  \"]\n",
    "x_two_plus = dei[dei['What is your race? ']==\"Two or more Races\"][\"Employees in my organization are treated with respect and dignity.  \"]\n",
    "x_asian = dei[dei['What is your race? ']==\"Asian\"][\"Employees in my organization are treated with respect and dignity.  \"]\n",
    "x_first_peoples = dei[dei['What is your race? ']==\"Indian/ Native American\"][\"Employees in my organization are treated with respect and dignity.  \"]\n",
    "x_age1 = dei[dei[\"What is your age?\"]==\"25-34\"][\"Employees in my organization are treated with respect and dignity.  \"]\n",
    "x_age2 = dei[dei[\"What is your age?\"]==\"35-44\"][\"Employees in my organization are treated with respect and dignity.  \"]\n",
    "x_age3 = dei[dei[\"What is your age?\"]==\"45-54\"][\"Employees in my organization are treated with respect and dignity.  \"]\n",
    "x_age4 = dei[dei[\"What is your age?\"]==\"55-64\"][\"Employees in my organization are treated with respect and dignity.  \"]\n",
    "x_age5 = dei[dei[\"What is your age?\"]==\"18-24\"][\"Employees in my organization are treated with respect and dignity.  \"]\n",
    "x_age6 = dei[dei[\"What is your age?\"]==\"65-74\"][\"Employees in my organization are treated with respect and dignity.  \"]\n",
    "x_straight = dei[dei[\"What is your sexual orientation?\"]==\"Straight\"][\"Employees in my organization are treated with respect and dignity.  \"]\n",
    "x_lgbtq = dei[dei[\"What is your sexual orientation?\"]==\"LGBTQ+\"][\"Employees in my organization are treated with respect and dignity.  \"]\n",
    "x_tenure1 = dei[dei[\"How long have you worked for FC?\"]==\"1-3 years\"][\"Employees in my organization are treated with respect and dignity.  \"]\n",
    "x_tenure2 = dei[dei[\"How long have you worked for FC?\"]==\"3-5 years\"][\"Employees in my organization are treated with respect and dignity.  \"]\n",
    "x_tenure3 = dei[dei[\"How long have you worked for FC?\"]==\"Less than a year\"][\"Employees in my organization are treated with respect and dignity.  \"]\n",
    "x_tenure4 = dei[dei[\"How long have you worked for FC?\"]==\"5-10 years\"][\"Employees in my organization are treated with respect and dignity.  \"]\n",
    "x_tenure5 = dei[dei[\"How long have you worked for FC?\"]==\"10+ years\"][\"Employees in my organization are treated with respect and dignity.  \"]\n",
    "x_tenure6 = dei[dei[\"How long have you worked for FC?\"]==\"1 year\"][\"Employees in my organization are treated with respect and dignity.  \"]\n",
    "x_status1 = dei[dei[\"What is your employment status?\"]==\"Full-time\"][\"Employees in my organization are treated with respect and dignity.  \"]\n",
    "x_status2 = dei[dei[\"What is your employment status?\"]==\"Part-time\"][\"Employees in my organization are treated with respect and dignity.  \"]\n",
    "x_status3 = dei[dei[\"What is your employment status?\"]==\"Seasonal\"][\"Employees in my organization are treated with respect and dignity.  \"]\n",
    "x_status4 = dei[dei[\"What is your employment status?\"]==\"Part-time, Seasonal\"][\"Employees in my organization are treated with respect and dignity.  \"]\n",
    "#defining data\n",
    "data=[go.Histogram(x=x_total,name='   ',opacity = .5),\n",
    "      go.Histogram(x=x_white,name='White',opacity = .5),\n",
    "      go.Histogram(x=x_latinx,name='Latino/Hispanic',opacity = .5),\n",
    "      go.Histogram(x=x_black,name='Black/African American',opacity = .5),\n",
    "      go.Histogram(x=x_two_plus,name='Two or more Races',opacity = .5),\n",
    "      go.Histogram(x=x_asian,name='Asian',opacity = .5),\n",
    "      go.Histogram(x=x_first_peoples,name='Indian/Native American',opacity = .5),\n",
    "      go.Histogram(x=x_age1,name='25-34', opacity = .5),\n",
    "      go.Histogram(x=x_age2,name='35-44',opacity = .5),\n",
    "      go.Histogram(x=x_age3,name='45-54',opacity = .5),\n",
    "      go.Histogram(x=x_age4,name='55-64',opacity = .5),\n",
    "      go.Histogram(x=x_age5,name='18-24',opacity = .5),\n",
    "      go.Histogram(x=x_age6,name='65-74',opacity = .5),\n",
    "      go.Histogram(x=x_straight,name='Straight',opacity = .5),\n",
    "      go.Histogram(x=x_lgbtq,name='LGBTQ+',opacity = .5),\n",
    "      go.Histogram(x=x_tenure1,name='1-3 years',opacity = .5),\n",
    "      go.Histogram(x=x_tenure2,name='3-5 years',opacity = .5),\n",
    "      go.Histogram(x=x_tenure3,name='< than a year',opacity = .5),\n",
    "      go.Histogram(x=x_tenure4,name='5-10 years',opacity = .5),\n",
    "      go.Histogram(x=x_tenure5,name='10+ years',opacity = .5),\n",
    "      go.Histogram(x=x_tenure6,name='1 year',opacity = .5),\n",
    "      go.Histogram(x=x_status1,name='Full-time',opacity = .5),\n",
    "      go.Histogram(x=x_status2,name='Part-time',opacity = .5),\n",
    "      go.Histogram(x=x_status2,name='Seasonal',opacity = .5),\n",
    "      go.Histogram(x=x_status2,name='Part-time, Seasonal',opacity = .5)\n",
    "     \n",
    "     ]\n",
    "\n",
    "\n",
    "#defining layout\n",
    "layout=go.Layout(title='Employees in my organization are treated with respect and dignity.',updatemenus=list([dict(buttons= list_updatemenus,type = 'buttons')]),barmode='stack')\n",
    "\n",
    "#defining layout and plotting\n",
    "fig = go.Figure(data,layout)\n",
    "fig.show()"
   ]
  },
  {
   "cell_type": "markdown",
   "metadata": {},
   "source": [
    "### Diversity and Inclusiveness issues are openly discussed.    "
   ]
  },
  {
   "cell_type": "code",
   "execution_count": 23,
   "metadata": {},
   "outputs": [
    {
     "data": {
      "application/vnd.plotly.v1+json": {
       "config": {
        "plotlyServerURL": "https://plot.ly"
       },
       "data": [
        {
         "name": "   ",
         "opacity": 0.5,
         "type": "histogram",
         "x": [
          4,
          3,
          5,
          5,
          1,
          3,
          3,
          1,
          1,
          4,
          2,
          1,
          1,
          3,
          2,
          1,
          3,
          2,
          5,
          1,
          2,
          5,
          2,
          3,
          4,
          4,
          3,
          5,
          5,
          2,
          1,
          2,
          1,
          1,
          1,
          1,
          3,
          1,
          2,
          1,
          2,
          4,
          3,
          5,
          2,
          5,
          3,
          2,
          4,
          2,
          3,
          2,
          2,
          2,
          3,
          5,
          4,
          3,
          4,
          3,
          3,
          3,
          2,
          4,
          4,
          4,
          4,
          4,
          3,
          3,
          5,
          4,
          4,
          4,
          5,
          4,
          3,
          4,
          4,
          5,
          4,
          5,
          5,
          5,
          5,
          5,
          3,
          5,
          4,
          4,
          3,
          4,
          4,
          3,
          5,
          5,
          4,
          5,
          4,
          4,
          5,
          1,
          2,
          4,
          3,
          3,
          4,
          4,
          5,
          3,
          5,
          4,
          3,
          5,
          5,
          5,
          1,
          4,
          1,
          2,
          1,
          2,
          3,
          2,
          3,
          3,
          3,
          2,
          2,
          2,
          1,
          4,
          2,
          4,
          3,
          3,
          3,
          3,
          3,
          5,
          2,
          3,
          3,
          3,
          3,
          2,
          3,
          3,
          5,
          4,
          3,
          1,
          4,
          4,
          3,
          5,
          3,
          4,
          4,
          1,
          3,
          4,
          4,
          4,
          3,
          4,
          2,
          5,
          3,
          3,
          4,
          5,
          4,
          2,
          4,
          4,
          4,
          4,
          5,
          5,
          4,
          4,
          5,
          5,
          3,
          5,
          3,
          5,
          3,
          3,
          5,
          5,
          5,
          3,
          4,
          5,
          5,
          3,
          3,
          3,
          5,
          5,
          4,
          3,
          3
         ]
        },
        {
         "name": "White",
         "opacity": 0.5,
         "type": "histogram",
         "x": [
          1,
          4,
          1,
          2,
          1,
          2,
          3,
          2,
          3,
          3,
          3,
          2,
          2,
          2,
          1,
          4,
          2,
          4,
          3,
          3,
          3,
          3,
          3,
          5,
          2,
          3,
          3,
          3,
          3,
          2,
          3,
          3,
          5,
          4,
          3,
          1,
          4,
          4,
          3,
          5,
          3,
          4,
          4,
          1,
          3,
          4,
          4,
          4,
          3,
          4,
          2,
          5,
          3,
          3,
          4,
          5,
          4,
          2,
          4,
          4,
          4,
          4,
          5,
          5,
          4,
          4,
          5,
          5,
          3,
          5,
          3,
          5,
          3,
          3,
          5,
          5,
          5,
          3,
          4,
          5,
          5,
          3,
          3,
          3,
          5,
          5
         ]
        },
        {
         "name": "Latino/Hispanic",
         "opacity": 0.5,
         "type": "histogram",
         "x": [
          2,
          1,
          1,
          1,
          1,
          3,
          1,
          2,
          1,
          2,
          4,
          3,
          5,
          2,
          5,
          3,
          2,
          4,
          2,
          3,
          2,
          2,
          2,
          3,
          5,
          4,
          3,
          4,
          3,
          3,
          3,
          2,
          4,
          4,
          4,
          4,
          4,
          3,
          3,
          5,
          4,
          4,
          4,
          5,
          4,
          3,
          4,
          4,
          5,
          4,
          5,
          5,
          5,
          5,
          5,
          3,
          5,
          4,
          4,
          3,
          4,
          4,
          3,
          5,
          5,
          4,
          5,
          4
         ]
        },
        {
         "name": "Black/African American",
         "opacity": 0.5,
         "type": "histogram",
         "x": [
          1,
          3,
          3,
          1,
          1,
          4,
          2,
          1,
          1,
          3,
          2,
          1,
          3,
          2,
          5,
          1,
          2,
          5,
          2,
          3,
          4,
          4,
          3,
          5
         ]
        },
        {
         "name": "Two or more Races",
         "opacity": 0.5,
         "type": "histogram",
         "x": [
          1,
          2,
          4,
          3,
          3,
          4,
          4,
          5,
          3,
          5,
          4,
          3,
          5,
          5,
          5
         ]
        },
        {
         "name": "Asian",
         "opacity": 0.5,
         "type": "histogram",
         "x": [
          3,
          5,
          5
         ]
        },
        {
         "name": "Indian/Native American",
         "opacity": 0.5,
         "type": "histogram",
         "x": [
          2,
          1
         ]
        },
        {
         "name": "25-34",
         "opacity": 0.5,
         "type": "histogram",
         "x": [
          3,
          5,
          3,
          3,
          3,
          2,
          1,
          5,
          5,
          4,
          3,
          5,
          2,
          1,
          2,
          2,
          5,
          2,
          2,
          3,
          2,
          2,
          5,
          3,
          3,
          2,
          4,
          4,
          5,
          4,
          4,
          4,
          4,
          5,
          5,
          3,
          5,
          4,
          4,
          5,
          5,
          5,
          1,
          3,
          4,
          5,
          5,
          5,
          5,
          1,
          2,
          1,
          2,
          3,
          3,
          3,
          4,
          3,
          3,
          5,
          3,
          3,
          5,
          3,
          5,
          4,
          1,
          3,
          4,
          4,
          2,
          5,
          4,
          5,
          4,
          2,
          4,
          4,
          4,
          3,
          5,
          3,
          5,
          3,
          4,
          3
         ]
        },
        {
         "name": "35-44",
         "opacity": 0.5,
         "type": "histogram",
         "x": [
          4,
          4,
          3,
          2,
          2,
          2,
          1,
          1,
          1,
          3,
          4,
          5,
          2,
          4,
          2,
          4,
          3,
          4,
          4,
          4,
          4,
          5,
          3,
          5,
          4,
          4,
          3,
          4,
          2,
          3,
          1,
          4,
          3,
          2,
          2,
          3,
          3,
          2,
          3,
          1,
          4,
          3,
          3,
          5,
          5,
          3,
          5
         ]
        },
        {
         "name": "45-54",
         "opacity": 0.5,
         "type": "histogram",
         "x": [
          1,
          1,
          4,
          1,
          3,
          3,
          3,
          4,
          3,
          4,
          4,
          4,
          2,
          1,
          4,
          3,
          2,
          3,
          3,
          3,
          4,
          3,
          3,
          4,
          5,
          5,
          3,
          5
         ]
        },
        {
         "name": "55-64",
         "opacity": 0.5,
         "type": "histogram",
         "x": [
          1,
          2,
          1,
          1,
          5,
          1,
          3,
          3,
          5,
          4,
          5,
          2,
          3,
          4,
          4,
          4,
          5,
          5,
          3,
          5,
          5,
          3,
          3,
          4,
          3
         ]
        },
        {
         "name": "18-24",
         "opacity": 0.5,
         "type": "histogram",
         "x": [
          5,
          1,
          4,
          5,
          5,
          4,
          4,
          3,
          2,
          4,
          4,
          5
         ]
        },
        {
         "name": "65-74",
         "opacity": 0.5,
         "type": "histogram",
         "x": [
          3,
          2,
          5,
          3,
          3,
          4
         ]
        },
        {
         "name": "Straight",
         "opacity": 0.5,
         "type": "histogram",
         "x": [
          5,
          5,
          1,
          3,
          3,
          1,
          1,
          4,
          2,
          1,
          1,
          3,
          2,
          1,
          3,
          2,
          1,
          2,
          5,
          2,
          4,
          4,
          3,
          5,
          5,
          2,
          1,
          1,
          1,
          3,
          1,
          2,
          1,
          2,
          4,
          3,
          5,
          3,
          4,
          2,
          3,
          2,
          2,
          2,
          3,
          5,
          4,
          3,
          4,
          3,
          3,
          2,
          4,
          4,
          4,
          4,
          3,
          3,
          5,
          4,
          4,
          4,
          5,
          4,
          3,
          4,
          5,
          5,
          5,
          5,
          3,
          5,
          4,
          4,
          3,
          4,
          4,
          3,
          5,
          5,
          4,
          5,
          4,
          4,
          5,
          2,
          4,
          3,
          3,
          4,
          5,
          3,
          5,
          4,
          3,
          5,
          5,
          5,
          1,
          4,
          1,
          2,
          3,
          3,
          3,
          2,
          2,
          1,
          2,
          4,
          3,
          3,
          3,
          5,
          2,
          3,
          3,
          3,
          3,
          2,
          3,
          5,
          3,
          1,
          4,
          3,
          4,
          4,
          4,
          4,
          5,
          3,
          3,
          4,
          5,
          4,
          2,
          4,
          4,
          5,
          5,
          5,
          3,
          5,
          3,
          3,
          3,
          5,
          5,
          5,
          3,
          4,
          5,
          5,
          3,
          3,
          3,
          5,
          5,
          4,
          3
         ]
        },
        {
         "name": "LGBTQ+",
         "opacity": 0.5,
         "type": "histogram",
         "x": [
          5,
          1,
          2,
          2,
          5,
          2,
          3,
          4,
          4,
          5,
          5,
          1,
          4,
          1,
          2,
          2,
          3,
          2,
          4,
          3,
          3,
          4,
          4,
          3,
          5,
          4,
          1,
          3,
          3,
          2,
          4,
          4,
          4,
          5,
          3
         ]
        },
        {
         "name": "1-3 years",
         "opacity": 0.5,
         "type": "histogram",
         "x": [
          4,
          3,
          5,
          5,
          1,
          1,
          1,
          1,
          1,
          2,
          5,
          1,
          2,
          3,
          5,
          2,
          1,
          1,
          3,
          2,
          5,
          3,
          5,
          4,
          3,
          3,
          2,
          4,
          4,
          4,
          4,
          4,
          5,
          5,
          4,
          4,
          4,
          3,
          3,
          5,
          5,
          1,
          1,
          3,
          3,
          3,
          2,
          1,
          4,
          4,
          3,
          5,
          3,
          2,
          3,
          3,
          4,
          4,
          4,
          2,
          3,
          4,
          2,
          5,
          5,
          4,
          5,
          3,
          5,
          3
         ]
        },
        {
         "name": "3-5 years",
         "opacity": 0.5,
         "type": "histogram",
         "x": [
          3,
          3,
          2,
          3,
          5,
          2,
          1,
          1,
          3,
          2,
          4,
          5,
          4,
          5,
          4,
          3,
          5,
          4,
          5,
          1,
          1,
          4,
          2,
          2,
          3,
          3,
          5,
          4,
          5,
          3,
          4,
          5,
          3,
          4,
          4,
          4,
          5,
          3,
          3,
          5
         ]
        },
        {
         "name": "< than a year",
         "opacity": 0.5,
         "type": "histogram",
         "x": [
          3,
          3,
          4,
          5,
          4,
          5,
          5,
          5,
          4,
          5,
          4,
          4,
          3,
          5,
          5,
          3,
          2,
          3,
          4,
          1,
          4,
          3,
          5,
          4,
          4,
          4,
          4,
          3,
          3,
          5,
          3,
          5
         ]
        },
        {
         "name": "5-10 years",
         "opacity": 0.5,
         "type": "histogram",
         "x": [
          4,
          2,
          4,
          4,
          5,
          1,
          1,
          4,
          2,
          2,
          2,
          3,
          3,
          4,
          4,
          5,
          2,
          3,
          2,
          2,
          2,
          3,
          3,
          1,
          4,
          4,
          5,
          3
         ]
        },
        {
         "name": "10+ years",
         "opacity": 0.5,
         "type": "histogram",
         "x": [
          3,
          2,
          2,
          4,
          2,
          4,
          3,
          3,
          3,
          3,
          3,
          3,
          4,
          4,
          3,
          3,
          3,
          3,
          5,
          5,
          3,
          5,
          4
         ]
        },
        {
         "name": "1 year",
         "opacity": 0.5,
         "type": "histogram",
         "x": [
          1,
          1,
          5,
          2,
          4,
          5,
          4,
          5,
          2,
          3,
          3
         ]
        },
        {
         "name": "Full-time",
         "opacity": 0.5,
         "type": "histogram",
         "x": [
          4,
          3,
          1,
          3,
          3,
          1,
          1,
          4,
          2,
          1,
          1,
          3,
          2,
          1,
          3,
          2,
          5,
          2,
          5,
          2,
          3,
          4,
          4,
          3,
          5,
          5,
          2,
          1,
          2,
          1,
          1,
          1,
          1,
          3,
          1,
          2,
          1,
          2,
          4,
          3,
          5,
          2,
          5,
          3,
          2,
          4,
          2,
          3,
          2,
          2,
          2,
          3,
          5,
          4,
          3,
          4,
          3,
          3,
          2,
          4,
          4,
          4,
          4,
          4,
          3,
          3,
          5,
          4,
          4,
          4,
          5,
          4,
          3,
          4,
          4,
          4,
          5,
          5,
          5,
          3,
          5,
          4,
          4,
          4,
          4,
          3,
          5,
          4,
          5,
          4,
          4,
          5,
          1,
          2,
          4,
          3,
          3,
          4,
          4,
          5,
          3,
          4,
          5,
          5,
          5,
          1,
          4,
          1,
          2,
          1,
          2,
          3,
          2,
          3,
          3,
          3,
          2,
          2,
          2,
          1,
          4,
          2,
          4,
          3,
          3,
          3,
          3,
          3,
          2,
          3,
          3,
          3,
          3,
          2,
          3,
          3,
          5,
          4,
          3,
          1,
          4,
          3,
          5,
          3,
          4,
          4,
          1,
          3,
          4,
          4,
          4,
          2,
          5,
          3,
          3,
          4,
          2,
          4,
          4,
          4,
          4,
          5,
          4,
          4,
          5,
          3,
          5,
          3,
          5,
          3,
          5,
          5,
          4,
          5,
          3,
          5,
          5,
          4,
          3,
          3
         ]
        },
        {
         "name": "Part-time",
         "opacity": 0.5,
         "type": "histogram",
         "x": [
          5,
          5,
          1,
          5,
          5,
          3,
          5,
          3,
          5,
          4,
          4,
          4,
          5,
          3,
          5,
          3,
          5,
          3,
          3
         ]
        },
        {
         "name": "Seasonal",
         "opacity": 0.5,
         "type": "histogram",
         "x": [
          5,
          5,
          1,
          5,
          5,
          3,
          5,
          3,
          5,
          4,
          4,
          4,
          5,
          3,
          5,
          3,
          5,
          3,
          3
         ]
        },
        {
         "name": "Part-time, Seasonal",
         "opacity": 0.5,
         "type": "histogram",
         "x": [
          5,
          5,
          1,
          5,
          5,
          3,
          5,
          3,
          5,
          4,
          4,
          4,
          5,
          3,
          5,
          3,
          5,
          3,
          3
         ]
        }
       ],
       "layout": {
        "barmode": "stack",
        "template": {
         "data": {
          "bar": [
           {
            "error_x": {
             "color": "#2a3f5f"
            },
            "error_y": {
             "color": "#2a3f5f"
            },
            "marker": {
             "line": {
              "color": "#E5ECF6",
              "width": 0.5
             }
            },
            "type": "bar"
           }
          ],
          "barpolar": [
           {
            "marker": {
             "line": {
              "color": "#E5ECF6",
              "width": 0.5
             }
            },
            "type": "barpolar"
           }
          ],
          "carpet": [
           {
            "aaxis": {
             "endlinecolor": "#2a3f5f",
             "gridcolor": "white",
             "linecolor": "white",
             "minorgridcolor": "white",
             "startlinecolor": "#2a3f5f"
            },
            "baxis": {
             "endlinecolor": "#2a3f5f",
             "gridcolor": "white",
             "linecolor": "white",
             "minorgridcolor": "white",
             "startlinecolor": "#2a3f5f"
            },
            "type": "carpet"
           }
          ],
          "choropleth": [
           {
            "colorbar": {
             "outlinewidth": 0,
             "ticks": ""
            },
            "type": "choropleth"
           }
          ],
          "contour": [
           {
            "colorbar": {
             "outlinewidth": 0,
             "ticks": ""
            },
            "colorscale": [
             [
              0,
              "#0d0887"
             ],
             [
              0.1111111111111111,
              "#46039f"
             ],
             [
              0.2222222222222222,
              "#7201a8"
             ],
             [
              0.3333333333333333,
              "#9c179e"
             ],
             [
              0.4444444444444444,
              "#bd3786"
             ],
             [
              0.5555555555555556,
              "#d8576b"
             ],
             [
              0.6666666666666666,
              "#ed7953"
             ],
             [
              0.7777777777777778,
              "#fb9f3a"
             ],
             [
              0.8888888888888888,
              "#fdca26"
             ],
             [
              1,
              "#f0f921"
             ]
            ],
            "type": "contour"
           }
          ],
          "contourcarpet": [
           {
            "colorbar": {
             "outlinewidth": 0,
             "ticks": ""
            },
            "type": "contourcarpet"
           }
          ],
          "heatmap": [
           {
            "colorbar": {
             "outlinewidth": 0,
             "ticks": ""
            },
            "colorscale": [
             [
              0,
              "#0d0887"
             ],
             [
              0.1111111111111111,
              "#46039f"
             ],
             [
              0.2222222222222222,
              "#7201a8"
             ],
             [
              0.3333333333333333,
              "#9c179e"
             ],
             [
              0.4444444444444444,
              "#bd3786"
             ],
             [
              0.5555555555555556,
              "#d8576b"
             ],
             [
              0.6666666666666666,
              "#ed7953"
             ],
             [
              0.7777777777777778,
              "#fb9f3a"
             ],
             [
              0.8888888888888888,
              "#fdca26"
             ],
             [
              1,
              "#f0f921"
             ]
            ],
            "type": "heatmap"
           }
          ],
          "heatmapgl": [
           {
            "colorbar": {
             "outlinewidth": 0,
             "ticks": ""
            },
            "colorscale": [
             [
              0,
              "#0d0887"
             ],
             [
              0.1111111111111111,
              "#46039f"
             ],
             [
              0.2222222222222222,
              "#7201a8"
             ],
             [
              0.3333333333333333,
              "#9c179e"
             ],
             [
              0.4444444444444444,
              "#bd3786"
             ],
             [
              0.5555555555555556,
              "#d8576b"
             ],
             [
              0.6666666666666666,
              "#ed7953"
             ],
             [
              0.7777777777777778,
              "#fb9f3a"
             ],
             [
              0.8888888888888888,
              "#fdca26"
             ],
             [
              1,
              "#f0f921"
             ]
            ],
            "type": "heatmapgl"
           }
          ],
          "histogram": [
           {
            "marker": {
             "colorbar": {
              "outlinewidth": 0,
              "ticks": ""
             }
            },
            "type": "histogram"
           }
          ],
          "histogram2d": [
           {
            "colorbar": {
             "outlinewidth": 0,
             "ticks": ""
            },
            "colorscale": [
             [
              0,
              "#0d0887"
             ],
             [
              0.1111111111111111,
              "#46039f"
             ],
             [
              0.2222222222222222,
              "#7201a8"
             ],
             [
              0.3333333333333333,
              "#9c179e"
             ],
             [
              0.4444444444444444,
              "#bd3786"
             ],
             [
              0.5555555555555556,
              "#d8576b"
             ],
             [
              0.6666666666666666,
              "#ed7953"
             ],
             [
              0.7777777777777778,
              "#fb9f3a"
             ],
             [
              0.8888888888888888,
              "#fdca26"
             ],
             [
              1,
              "#f0f921"
             ]
            ],
            "type": "histogram2d"
           }
          ],
          "histogram2dcontour": [
           {
            "colorbar": {
             "outlinewidth": 0,
             "ticks": ""
            },
            "colorscale": [
             [
              0,
              "#0d0887"
             ],
             [
              0.1111111111111111,
              "#46039f"
             ],
             [
              0.2222222222222222,
              "#7201a8"
             ],
             [
              0.3333333333333333,
              "#9c179e"
             ],
             [
              0.4444444444444444,
              "#bd3786"
             ],
             [
              0.5555555555555556,
              "#d8576b"
             ],
             [
              0.6666666666666666,
              "#ed7953"
             ],
             [
              0.7777777777777778,
              "#fb9f3a"
             ],
             [
              0.8888888888888888,
              "#fdca26"
             ],
             [
              1,
              "#f0f921"
             ]
            ],
            "type": "histogram2dcontour"
           }
          ],
          "mesh3d": [
           {
            "colorbar": {
             "outlinewidth": 0,
             "ticks": ""
            },
            "type": "mesh3d"
           }
          ],
          "parcoords": [
           {
            "line": {
             "colorbar": {
              "outlinewidth": 0,
              "ticks": ""
             }
            },
            "type": "parcoords"
           }
          ],
          "pie": [
           {
            "automargin": true,
            "type": "pie"
           }
          ],
          "scatter": [
           {
            "marker": {
             "colorbar": {
              "outlinewidth": 0,
              "ticks": ""
             }
            },
            "type": "scatter"
           }
          ],
          "scatter3d": [
           {
            "line": {
             "colorbar": {
              "outlinewidth": 0,
              "ticks": ""
             }
            },
            "marker": {
             "colorbar": {
              "outlinewidth": 0,
              "ticks": ""
             }
            },
            "type": "scatter3d"
           }
          ],
          "scattercarpet": [
           {
            "marker": {
             "colorbar": {
              "outlinewidth": 0,
              "ticks": ""
             }
            },
            "type": "scattercarpet"
           }
          ],
          "scattergeo": [
           {
            "marker": {
             "colorbar": {
              "outlinewidth": 0,
              "ticks": ""
             }
            },
            "type": "scattergeo"
           }
          ],
          "scattergl": [
           {
            "marker": {
             "colorbar": {
              "outlinewidth": 0,
              "ticks": ""
             }
            },
            "type": "scattergl"
           }
          ],
          "scattermapbox": [
           {
            "marker": {
             "colorbar": {
              "outlinewidth": 0,
              "ticks": ""
             }
            },
            "type": "scattermapbox"
           }
          ],
          "scatterpolar": [
           {
            "marker": {
             "colorbar": {
              "outlinewidth": 0,
              "ticks": ""
             }
            },
            "type": "scatterpolar"
           }
          ],
          "scatterpolargl": [
           {
            "marker": {
             "colorbar": {
              "outlinewidth": 0,
              "ticks": ""
             }
            },
            "type": "scatterpolargl"
           }
          ],
          "scatterternary": [
           {
            "marker": {
             "colorbar": {
              "outlinewidth": 0,
              "ticks": ""
             }
            },
            "type": "scatterternary"
           }
          ],
          "surface": [
           {
            "colorbar": {
             "outlinewidth": 0,
             "ticks": ""
            },
            "colorscale": [
             [
              0,
              "#0d0887"
             ],
             [
              0.1111111111111111,
              "#46039f"
             ],
             [
              0.2222222222222222,
              "#7201a8"
             ],
             [
              0.3333333333333333,
              "#9c179e"
             ],
             [
              0.4444444444444444,
              "#bd3786"
             ],
             [
              0.5555555555555556,
              "#d8576b"
             ],
             [
              0.6666666666666666,
              "#ed7953"
             ],
             [
              0.7777777777777778,
              "#fb9f3a"
             ],
             [
              0.8888888888888888,
              "#fdca26"
             ],
             [
              1,
              "#f0f921"
             ]
            ],
            "type": "surface"
           }
          ],
          "table": [
           {
            "cells": {
             "fill": {
              "color": "#EBF0F8"
             },
             "line": {
              "color": "white"
             }
            },
            "header": {
             "fill": {
              "color": "#C8D4E3"
             },
             "line": {
              "color": "white"
             }
            },
            "type": "table"
           }
          ]
         },
         "layout": {
          "annotationdefaults": {
           "arrowcolor": "#2a3f5f",
           "arrowhead": 0,
           "arrowwidth": 1
          },
          "coloraxis": {
           "colorbar": {
            "outlinewidth": 0,
            "ticks": ""
           }
          },
          "colorscale": {
           "diverging": [
            [
             0,
             "#8e0152"
            ],
            [
             0.1,
             "#c51b7d"
            ],
            [
             0.2,
             "#de77ae"
            ],
            [
             0.3,
             "#f1b6da"
            ],
            [
             0.4,
             "#fde0ef"
            ],
            [
             0.5,
             "#f7f7f7"
            ],
            [
             0.6,
             "#e6f5d0"
            ],
            [
             0.7,
             "#b8e186"
            ],
            [
             0.8,
             "#7fbc41"
            ],
            [
             0.9,
             "#4d9221"
            ],
            [
             1,
             "#276419"
            ]
           ],
           "sequential": [
            [
             0,
             "#0d0887"
            ],
            [
             0.1111111111111111,
             "#46039f"
            ],
            [
             0.2222222222222222,
             "#7201a8"
            ],
            [
             0.3333333333333333,
             "#9c179e"
            ],
            [
             0.4444444444444444,
             "#bd3786"
            ],
            [
             0.5555555555555556,
             "#d8576b"
            ],
            [
             0.6666666666666666,
             "#ed7953"
            ],
            [
             0.7777777777777778,
             "#fb9f3a"
            ],
            [
             0.8888888888888888,
             "#fdca26"
            ],
            [
             1,
             "#f0f921"
            ]
           ],
           "sequentialminus": [
            [
             0,
             "#0d0887"
            ],
            [
             0.1111111111111111,
             "#46039f"
            ],
            [
             0.2222222222222222,
             "#7201a8"
            ],
            [
             0.3333333333333333,
             "#9c179e"
            ],
            [
             0.4444444444444444,
             "#bd3786"
            ],
            [
             0.5555555555555556,
             "#d8576b"
            ],
            [
             0.6666666666666666,
             "#ed7953"
            ],
            [
             0.7777777777777778,
             "#fb9f3a"
            ],
            [
             0.8888888888888888,
             "#fdca26"
            ],
            [
             1,
             "#f0f921"
            ]
           ]
          },
          "colorway": [
           "#636efa",
           "#EF553B",
           "#00cc96",
           "#ab63fa",
           "#FFA15A",
           "#19d3f3",
           "#FF6692",
           "#B6E880",
           "#FF97FF",
           "#FECB52"
          ],
          "font": {
           "color": "#2a3f5f"
          },
          "geo": {
           "bgcolor": "white",
           "lakecolor": "white",
           "landcolor": "#E5ECF6",
           "showlakes": true,
           "showland": true,
           "subunitcolor": "white"
          },
          "hoverlabel": {
           "align": "left"
          },
          "hovermode": "closest",
          "mapbox": {
           "style": "light"
          },
          "paper_bgcolor": "white",
          "plot_bgcolor": "#E5ECF6",
          "polar": {
           "angularaxis": {
            "gridcolor": "white",
            "linecolor": "white",
            "ticks": ""
           },
           "bgcolor": "#E5ECF6",
           "radialaxis": {
            "gridcolor": "white",
            "linecolor": "white",
            "ticks": ""
           }
          },
          "scene": {
           "xaxis": {
            "backgroundcolor": "#E5ECF6",
            "gridcolor": "white",
            "gridwidth": 2,
            "linecolor": "white",
            "showbackground": true,
            "ticks": "",
            "zerolinecolor": "white"
           },
           "yaxis": {
            "backgroundcolor": "#E5ECF6",
            "gridcolor": "white",
            "gridwidth": 2,
            "linecolor": "white",
            "showbackground": true,
            "ticks": "",
            "zerolinecolor": "white"
           },
           "zaxis": {
            "backgroundcolor": "#E5ECF6",
            "gridcolor": "white",
            "gridwidth": 2,
            "linecolor": "white",
            "showbackground": true,
            "ticks": "",
            "zerolinecolor": "white"
           }
          },
          "shapedefaults": {
           "line": {
            "color": "#2a3f5f"
           }
          },
          "ternary": {
           "aaxis": {
            "gridcolor": "white",
            "linecolor": "white",
            "ticks": ""
           },
           "baxis": {
            "gridcolor": "white",
            "linecolor": "white",
            "ticks": ""
           },
           "bgcolor": "#E5ECF6",
           "caxis": {
            "gridcolor": "white",
            "linecolor": "white",
            "ticks": ""
           }
          },
          "title": {
           "x": 0.05
          },
          "xaxis": {
           "automargin": true,
           "gridcolor": "white",
           "linecolor": "white",
           "ticks": "",
           "title": {
            "standoff": 15
           },
           "zerolinecolor": "white",
           "zerolinewidth": 2
          },
          "yaxis": {
           "automargin": true,
           "gridcolor": "white",
           "linecolor": "white",
           "ticks": "",
           "title": {
            "standoff": 15
           },
           "zerolinecolor": "white",
           "zerolinewidth": 2
          }
         }
        },
        "title": {
         "text": "Diversity and Inclusiveness issues are openly discussed."
        },
        "updatemenus": [
         {
          "buttons": [
           {
            "args": [
             {
              "visible": [
               true,
               false,
               false,
               false,
               false,
               false,
               false,
               false,
               false,
               false,
               false,
               false,
               false,
               false,
               false,
               false,
               false,
               false,
               false,
               false,
               false,
               false,
               false,
               false,
               false
              ]
             },
             {
              "title": "Employees in my organization are treated with respect and dignity."
             }
            ],
            "label": "Total",
            "method": "update"
           },
           {
            "args": [
             {
              "visible": [
               false,
               true,
               true,
               true,
               true,
               true,
               true,
               false,
               false,
               false,
               false,
               false,
               false,
               false,
               false,
               false,
               false,
               false,
               false,
               false,
               false,
               false,
               false,
               false,
               false
              ]
             },
             {
              "title": "Diversity and Inclusiveness issues are openly discussed."
             }
            ],
            "label": "Race",
            "method": "update"
           },
           {
            "args": [
             {
              "visible": [
               false,
               false,
               false,
               false,
               false,
               false,
               false,
               true,
               true,
               true,
               true,
               true,
               true,
               false,
               false,
               false,
               false,
               false,
               false,
               false,
               false,
               false,
               false,
               false,
               false
              ]
             },
             {
              "title": "Diversity and Inclusiveness issues are openly discussed."
             }
            ],
            "label": "Age",
            "method": "update"
           },
           {
            "args": [
             {
              "visible": [
               false,
               false,
               false,
               false,
               false,
               false,
               false,
               false,
               false,
               false,
               false,
               false,
               false,
               true,
               true,
               false,
               false,
               false,
               false,
               false,
               false,
               false,
               false,
               false,
               false
              ]
             },
             {
              "title": "Diversity and Inclusiveness issues are openly discussed."
             }
            ],
            "label": "Sexual Orientation",
            "method": "update"
           },
           {
            "args": [
             {
              "visible": [
               false,
               false,
               false,
               false,
               false,
               false,
               false,
               false,
               false,
               false,
               false,
               false,
               false,
               false,
               false,
               true,
               true,
               true,
               true,
               true,
               true,
               false,
               false,
               false,
               false
              ]
             },
             {
              "title": "Diversity and Inclusiveness issues are openly discussed.  "
             }
            ],
            "label": "Tenure",
            "method": "update"
           },
           {
            "args": [
             {
              "visible": [
               false,
               false,
               false,
               false,
               false,
               false,
               false,
               false,
               false,
               false,
               false,
               false,
               false,
               false,
               false,
               false,
               false,
               false,
               false,
               false,
               false,
               true,
               true,
               true,
               true
              ]
             },
             {
              "title": "Diversity and Inclusiveness issues are openly discussed.  "
             }
            ],
            "label": "Status",
            "method": "update"
           }
          ],
          "type": "buttons"
         }
        ]
       }
      },
      "text/html": [
       "<div>\n",
       "        \n",
       "        \n",
       "            <div id=\"170f7ed9-c748-4e11-a1f8-b5e8cc874d77\" class=\"plotly-graph-div\" style=\"height:525px; width:100%;\"></div>\n",
       "            <script type=\"text/javascript\">\n",
       "                require([\"plotly\"], function(Plotly) {\n",
       "                    window.PLOTLYENV=window.PLOTLYENV || {};\n",
       "                    \n",
       "                if (document.getElementById(\"170f7ed9-c748-4e11-a1f8-b5e8cc874d77\")) {\n",
       "                    Plotly.newPlot(\n",
       "                        '170f7ed9-c748-4e11-a1f8-b5e8cc874d77',\n",
       "                        [{\"name\": \"   \", \"opacity\": 0.5, \"type\": \"histogram\", \"x\": [4, 3, 5, 5, 1, 3, 3, 1, 1, 4, 2, 1, 1, 3, 2, 1, 3, 2, 5, 1, 2, 5, 2, 3, 4, 4, 3, 5, 5, 2, 1, 2, 1, 1, 1, 1, 3, 1, 2, 1, 2, 4, 3, 5, 2, 5, 3, 2, 4, 2, 3, 2, 2, 2, 3, 5, 4, 3, 4, 3, 3, 3, 2, 4, 4, 4, 4, 4, 3, 3, 5, 4, 4, 4, 5, 4, 3, 4, 4, 5, 4, 5, 5, 5, 5, 5, 3, 5, 4, 4, 3, 4, 4, 3, 5, 5, 4, 5, 4, 4, 5, 1, 2, 4, 3, 3, 4, 4, 5, 3, 5, 4, 3, 5, 5, 5, 1, 4, 1, 2, 1, 2, 3, 2, 3, 3, 3, 2, 2, 2, 1, 4, 2, 4, 3, 3, 3, 3, 3, 5, 2, 3, 3, 3, 3, 2, 3, 3, 5, 4, 3, 1, 4, 4, 3, 5, 3, 4, 4, 1, 3, 4, 4, 4, 3, 4, 2, 5, 3, 3, 4, 5, 4, 2, 4, 4, 4, 4, 5, 5, 4, 4, 5, 5, 3, 5, 3, 5, 3, 3, 5, 5, 5, 3, 4, 5, 5, 3, 3, 3, 5, 5, 4, 3, 3]}, {\"name\": \"White\", \"opacity\": 0.5, \"type\": \"histogram\", \"x\": [1, 4, 1, 2, 1, 2, 3, 2, 3, 3, 3, 2, 2, 2, 1, 4, 2, 4, 3, 3, 3, 3, 3, 5, 2, 3, 3, 3, 3, 2, 3, 3, 5, 4, 3, 1, 4, 4, 3, 5, 3, 4, 4, 1, 3, 4, 4, 4, 3, 4, 2, 5, 3, 3, 4, 5, 4, 2, 4, 4, 4, 4, 5, 5, 4, 4, 5, 5, 3, 5, 3, 5, 3, 3, 5, 5, 5, 3, 4, 5, 5, 3, 3, 3, 5, 5]}, {\"name\": \"Latino/Hispanic\", \"opacity\": 0.5, \"type\": \"histogram\", \"x\": [2, 1, 1, 1, 1, 3, 1, 2, 1, 2, 4, 3, 5, 2, 5, 3, 2, 4, 2, 3, 2, 2, 2, 3, 5, 4, 3, 4, 3, 3, 3, 2, 4, 4, 4, 4, 4, 3, 3, 5, 4, 4, 4, 5, 4, 3, 4, 4, 5, 4, 5, 5, 5, 5, 5, 3, 5, 4, 4, 3, 4, 4, 3, 5, 5, 4, 5, 4]}, {\"name\": \"Black/African American\", \"opacity\": 0.5, \"type\": \"histogram\", \"x\": [1, 3, 3, 1, 1, 4, 2, 1, 1, 3, 2, 1, 3, 2, 5, 1, 2, 5, 2, 3, 4, 4, 3, 5]}, {\"name\": \"Two or more Races\", \"opacity\": 0.5, \"type\": \"histogram\", \"x\": [1, 2, 4, 3, 3, 4, 4, 5, 3, 5, 4, 3, 5, 5, 5]}, {\"name\": \"Asian\", \"opacity\": 0.5, \"type\": \"histogram\", \"x\": [3, 5, 5]}, {\"name\": \"Indian/Native American\", \"opacity\": 0.5, \"type\": \"histogram\", \"x\": [2, 1]}, {\"name\": \"25-34\", \"opacity\": 0.5, \"type\": \"histogram\", \"x\": [3, 5, 3, 3, 3, 2, 1, 5, 5, 4, 3, 5, 2, 1, 2, 2, 5, 2, 2, 3, 2, 2, 5, 3, 3, 2, 4, 4, 5, 4, 4, 4, 4, 5, 5, 3, 5, 4, 4, 5, 5, 5, 1, 3, 4, 5, 5, 5, 5, 1, 2, 1, 2, 3, 3, 3, 4, 3, 3, 5, 3, 3, 5, 3, 5, 4, 1, 3, 4, 4, 2, 5, 4, 5, 4, 2, 4, 4, 4, 3, 5, 3, 5, 3, 4, 3]}, {\"name\": \"35-44\", \"opacity\": 0.5, \"type\": \"histogram\", \"x\": [4, 4, 3, 2, 2, 2, 1, 1, 1, 3, 4, 5, 2, 4, 2, 4, 3, 4, 4, 4, 4, 5, 3, 5, 4, 4, 3, 4, 2, 3, 1, 4, 3, 2, 2, 3, 3, 2, 3, 1, 4, 3, 3, 5, 5, 3, 5]}, {\"name\": \"45-54\", \"opacity\": 0.5, \"type\": \"histogram\", \"x\": [1, 1, 4, 1, 3, 3, 3, 4, 3, 4, 4, 4, 2, 1, 4, 3, 2, 3, 3, 3, 4, 3, 3, 4, 5, 5, 3, 5]}, {\"name\": \"55-64\", \"opacity\": 0.5, \"type\": \"histogram\", \"x\": [1, 2, 1, 1, 5, 1, 3, 3, 5, 4, 5, 2, 3, 4, 4, 4, 5, 5, 3, 5, 5, 3, 3, 4, 3]}, {\"name\": \"18-24\", \"opacity\": 0.5, \"type\": \"histogram\", \"x\": [5, 1, 4, 5, 5, 4, 4, 3, 2, 4, 4, 5]}, {\"name\": \"65-74\", \"opacity\": 0.5, \"type\": \"histogram\", \"x\": [3, 2, 5, 3, 3, 4]}, {\"name\": \"Straight\", \"opacity\": 0.5, \"type\": \"histogram\", \"x\": [5, 5, 1, 3, 3, 1, 1, 4, 2, 1, 1, 3, 2, 1, 3, 2, 1, 2, 5, 2, 4, 4, 3, 5, 5, 2, 1, 1, 1, 3, 1, 2, 1, 2, 4, 3, 5, 3, 4, 2, 3, 2, 2, 2, 3, 5, 4, 3, 4, 3, 3, 2, 4, 4, 4, 4, 3, 3, 5, 4, 4, 4, 5, 4, 3, 4, 5, 5, 5, 5, 3, 5, 4, 4, 3, 4, 4, 3, 5, 5, 4, 5, 4, 4, 5, 2, 4, 3, 3, 4, 5, 3, 5, 4, 3, 5, 5, 5, 1, 4, 1, 2, 3, 3, 3, 2, 2, 1, 2, 4, 3, 3, 3, 5, 2, 3, 3, 3, 3, 2, 3, 5, 3, 1, 4, 3, 4, 4, 4, 4, 5, 3, 3, 4, 5, 4, 2, 4, 4, 5, 5, 5, 3, 5, 3, 3, 3, 5, 5, 5, 3, 4, 5, 5, 3, 3, 3, 5, 5, 4, 3]}, {\"name\": \"LGBTQ+\", \"opacity\": 0.5, \"type\": \"histogram\", \"x\": [5, 1, 2, 2, 5, 2, 3, 4, 4, 5, 5, 1, 4, 1, 2, 2, 3, 2, 4, 3, 3, 4, 4, 3, 5, 4, 1, 3, 3, 2, 4, 4, 4, 5, 3]}, {\"name\": \"1-3 years\", \"opacity\": 0.5, \"type\": \"histogram\", \"x\": [4, 3, 5, 5, 1, 1, 1, 1, 1, 2, 5, 1, 2, 3, 5, 2, 1, 1, 3, 2, 5, 3, 5, 4, 3, 3, 2, 4, 4, 4, 4, 4, 5, 5, 4, 4, 4, 3, 3, 5, 5, 1, 1, 3, 3, 3, 2, 1, 4, 4, 3, 5, 3, 2, 3, 3, 4, 4, 4, 2, 3, 4, 2, 5, 5, 4, 5, 3, 5, 3]}, {\"name\": \"3-5 years\", \"opacity\": 0.5, \"type\": \"histogram\", \"x\": [3, 3, 2, 3, 5, 2, 1, 1, 3, 2, 4, 5, 4, 5, 4, 3, 5, 4, 5, 1, 1, 4, 2, 2, 3, 3, 5, 4, 5, 3, 4, 5, 3, 4, 4, 4, 5, 3, 3, 5]}, {\"name\": \"< than a year\", \"opacity\": 0.5, \"type\": \"histogram\", \"x\": [3, 3, 4, 5, 4, 5, 5, 5, 4, 5, 4, 4, 3, 5, 5, 3, 2, 3, 4, 1, 4, 3, 5, 4, 4, 4, 4, 3, 3, 5, 3, 5]}, {\"name\": \"5-10 years\", \"opacity\": 0.5, \"type\": \"histogram\", \"x\": [4, 2, 4, 4, 5, 1, 1, 4, 2, 2, 2, 3, 3, 4, 4, 5, 2, 3, 2, 2, 2, 3, 3, 1, 4, 4, 5, 3]}, {\"name\": \"10+ years\", \"opacity\": 0.5, \"type\": \"histogram\", \"x\": [3, 2, 2, 4, 2, 4, 3, 3, 3, 3, 3, 3, 4, 4, 3, 3, 3, 3, 5, 5, 3, 5, 4]}, {\"name\": \"1 year\", \"opacity\": 0.5, \"type\": \"histogram\", \"x\": [1, 1, 5, 2, 4, 5, 4, 5, 2, 3, 3]}, {\"name\": \"Full-time\", \"opacity\": 0.5, \"type\": \"histogram\", \"x\": [4, 3, 1, 3, 3, 1, 1, 4, 2, 1, 1, 3, 2, 1, 3, 2, 5, 2, 5, 2, 3, 4, 4, 3, 5, 5, 2, 1, 2, 1, 1, 1, 1, 3, 1, 2, 1, 2, 4, 3, 5, 2, 5, 3, 2, 4, 2, 3, 2, 2, 2, 3, 5, 4, 3, 4, 3, 3, 2, 4, 4, 4, 4, 4, 3, 3, 5, 4, 4, 4, 5, 4, 3, 4, 4, 4, 5, 5, 5, 3, 5, 4, 4, 4, 4, 3, 5, 4, 5, 4, 4, 5, 1, 2, 4, 3, 3, 4, 4, 5, 3, 4, 5, 5, 5, 1, 4, 1, 2, 1, 2, 3, 2, 3, 3, 3, 2, 2, 2, 1, 4, 2, 4, 3, 3, 3, 3, 3, 2, 3, 3, 3, 3, 2, 3, 3, 5, 4, 3, 1, 4, 3, 5, 3, 4, 4, 1, 3, 4, 4, 4, 2, 5, 3, 3, 4, 2, 4, 4, 4, 4, 5, 4, 4, 5, 3, 5, 3, 5, 3, 5, 5, 4, 5, 3, 5, 5, 4, 3, 3]}, {\"name\": \"Part-time\", \"opacity\": 0.5, \"type\": \"histogram\", \"x\": [5, 5, 1, 5, 5, 3, 5, 3, 5, 4, 4, 4, 5, 3, 5, 3, 5, 3, 3]}, {\"name\": \"Seasonal\", \"opacity\": 0.5, \"type\": \"histogram\", \"x\": [5, 5, 1, 5, 5, 3, 5, 3, 5, 4, 4, 4, 5, 3, 5, 3, 5, 3, 3]}, {\"name\": \"Part-time, Seasonal\", \"opacity\": 0.5, \"type\": \"histogram\", \"x\": [5, 5, 1, 5, 5, 3, 5, 3, 5, 4, 4, 4, 5, 3, 5, 3, 5, 3, 3]}],\n",
       "                        {\"barmode\": \"stack\", \"template\": {\"data\": {\"bar\": [{\"error_x\": {\"color\": \"#2a3f5f\"}, \"error_y\": {\"color\": \"#2a3f5f\"}, \"marker\": {\"line\": {\"color\": \"#E5ECF6\", \"width\": 0.5}}, \"type\": \"bar\"}], \"barpolar\": [{\"marker\": {\"line\": {\"color\": \"#E5ECF6\", \"width\": 0.5}}, \"type\": \"barpolar\"}], \"carpet\": [{\"aaxis\": {\"endlinecolor\": \"#2a3f5f\", \"gridcolor\": \"white\", \"linecolor\": \"white\", \"minorgridcolor\": \"white\", \"startlinecolor\": \"#2a3f5f\"}, \"baxis\": {\"endlinecolor\": \"#2a3f5f\", \"gridcolor\": \"white\", \"linecolor\": \"white\", \"minorgridcolor\": \"white\", \"startlinecolor\": \"#2a3f5f\"}, \"type\": \"carpet\"}], \"choropleth\": [{\"colorbar\": {\"outlinewidth\": 0, \"ticks\": \"\"}, \"type\": \"choropleth\"}], \"contour\": [{\"colorbar\": {\"outlinewidth\": 0, \"ticks\": \"\"}, \"colorscale\": [[0.0, \"#0d0887\"], [0.1111111111111111, \"#46039f\"], [0.2222222222222222, \"#7201a8\"], [0.3333333333333333, \"#9c179e\"], [0.4444444444444444, \"#bd3786\"], [0.5555555555555556, \"#d8576b\"], [0.6666666666666666, \"#ed7953\"], [0.7777777777777778, \"#fb9f3a\"], [0.8888888888888888, \"#fdca26\"], [1.0, \"#f0f921\"]], \"type\": \"contour\"}], \"contourcarpet\": [{\"colorbar\": {\"outlinewidth\": 0, \"ticks\": \"\"}, \"type\": \"contourcarpet\"}], \"heatmap\": [{\"colorbar\": {\"outlinewidth\": 0, \"ticks\": \"\"}, \"colorscale\": [[0.0, \"#0d0887\"], [0.1111111111111111, \"#46039f\"], [0.2222222222222222, \"#7201a8\"], [0.3333333333333333, \"#9c179e\"], [0.4444444444444444, \"#bd3786\"], [0.5555555555555556, \"#d8576b\"], [0.6666666666666666, \"#ed7953\"], [0.7777777777777778, \"#fb9f3a\"], [0.8888888888888888, \"#fdca26\"], [1.0, \"#f0f921\"]], \"type\": \"heatmap\"}], \"heatmapgl\": [{\"colorbar\": {\"outlinewidth\": 0, \"ticks\": \"\"}, \"colorscale\": [[0.0, \"#0d0887\"], [0.1111111111111111, \"#46039f\"], [0.2222222222222222, \"#7201a8\"], [0.3333333333333333, \"#9c179e\"], [0.4444444444444444, \"#bd3786\"], [0.5555555555555556, \"#d8576b\"], [0.6666666666666666, \"#ed7953\"], [0.7777777777777778, \"#fb9f3a\"], [0.8888888888888888, \"#fdca26\"], [1.0, \"#f0f921\"]], \"type\": \"heatmapgl\"}], \"histogram\": [{\"marker\": {\"colorbar\": {\"outlinewidth\": 0, \"ticks\": \"\"}}, \"type\": \"histogram\"}], \"histogram2d\": [{\"colorbar\": {\"outlinewidth\": 0, \"ticks\": \"\"}, \"colorscale\": [[0.0, \"#0d0887\"], [0.1111111111111111, \"#46039f\"], [0.2222222222222222, \"#7201a8\"], [0.3333333333333333, \"#9c179e\"], [0.4444444444444444, \"#bd3786\"], [0.5555555555555556, \"#d8576b\"], [0.6666666666666666, \"#ed7953\"], [0.7777777777777778, \"#fb9f3a\"], [0.8888888888888888, \"#fdca26\"], [1.0, \"#f0f921\"]], \"type\": \"histogram2d\"}], \"histogram2dcontour\": [{\"colorbar\": {\"outlinewidth\": 0, \"ticks\": \"\"}, \"colorscale\": [[0.0, \"#0d0887\"], [0.1111111111111111, \"#46039f\"], [0.2222222222222222, \"#7201a8\"], [0.3333333333333333, \"#9c179e\"], [0.4444444444444444, \"#bd3786\"], [0.5555555555555556, \"#d8576b\"], [0.6666666666666666, \"#ed7953\"], [0.7777777777777778, \"#fb9f3a\"], [0.8888888888888888, \"#fdca26\"], [1.0, \"#f0f921\"]], \"type\": \"histogram2dcontour\"}], \"mesh3d\": [{\"colorbar\": {\"outlinewidth\": 0, \"ticks\": \"\"}, \"type\": \"mesh3d\"}], \"parcoords\": [{\"line\": {\"colorbar\": {\"outlinewidth\": 0, \"ticks\": \"\"}}, \"type\": \"parcoords\"}], \"pie\": [{\"automargin\": true, \"type\": \"pie\"}], \"scatter\": [{\"marker\": {\"colorbar\": {\"outlinewidth\": 0, \"ticks\": \"\"}}, \"type\": \"scatter\"}], \"scatter3d\": [{\"line\": {\"colorbar\": {\"outlinewidth\": 0, \"ticks\": \"\"}}, \"marker\": {\"colorbar\": {\"outlinewidth\": 0, \"ticks\": \"\"}}, \"type\": \"scatter3d\"}], \"scattercarpet\": [{\"marker\": {\"colorbar\": {\"outlinewidth\": 0, \"ticks\": \"\"}}, \"type\": \"scattercarpet\"}], \"scattergeo\": [{\"marker\": {\"colorbar\": {\"outlinewidth\": 0, \"ticks\": \"\"}}, \"type\": \"scattergeo\"}], \"scattergl\": [{\"marker\": {\"colorbar\": {\"outlinewidth\": 0, \"ticks\": \"\"}}, \"type\": \"scattergl\"}], \"scattermapbox\": [{\"marker\": {\"colorbar\": {\"outlinewidth\": 0, \"ticks\": \"\"}}, \"type\": \"scattermapbox\"}], \"scatterpolar\": [{\"marker\": {\"colorbar\": {\"outlinewidth\": 0, \"ticks\": \"\"}}, \"type\": \"scatterpolar\"}], \"scatterpolargl\": [{\"marker\": {\"colorbar\": {\"outlinewidth\": 0, \"ticks\": \"\"}}, \"type\": \"scatterpolargl\"}], \"scatterternary\": [{\"marker\": {\"colorbar\": {\"outlinewidth\": 0, \"ticks\": \"\"}}, \"type\": \"scatterternary\"}], \"surface\": [{\"colorbar\": {\"outlinewidth\": 0, \"ticks\": \"\"}, \"colorscale\": [[0.0, \"#0d0887\"], [0.1111111111111111, \"#46039f\"], [0.2222222222222222, \"#7201a8\"], [0.3333333333333333, \"#9c179e\"], [0.4444444444444444, \"#bd3786\"], [0.5555555555555556, \"#d8576b\"], [0.6666666666666666, \"#ed7953\"], [0.7777777777777778, \"#fb9f3a\"], [0.8888888888888888, \"#fdca26\"], [1.0, \"#f0f921\"]], \"type\": \"surface\"}], \"table\": [{\"cells\": {\"fill\": {\"color\": \"#EBF0F8\"}, \"line\": {\"color\": \"white\"}}, \"header\": {\"fill\": {\"color\": \"#C8D4E3\"}, \"line\": {\"color\": \"white\"}}, \"type\": \"table\"}]}, \"layout\": {\"annotationdefaults\": {\"arrowcolor\": \"#2a3f5f\", \"arrowhead\": 0, \"arrowwidth\": 1}, \"coloraxis\": {\"colorbar\": {\"outlinewidth\": 0, \"ticks\": \"\"}}, \"colorscale\": {\"diverging\": [[0, \"#8e0152\"], [0.1, \"#c51b7d\"], [0.2, \"#de77ae\"], [0.3, \"#f1b6da\"], [0.4, \"#fde0ef\"], [0.5, \"#f7f7f7\"], [0.6, \"#e6f5d0\"], [0.7, \"#b8e186\"], [0.8, \"#7fbc41\"], [0.9, \"#4d9221\"], [1, \"#276419\"]], \"sequential\": [[0.0, \"#0d0887\"], [0.1111111111111111, \"#46039f\"], [0.2222222222222222, \"#7201a8\"], [0.3333333333333333, \"#9c179e\"], [0.4444444444444444, \"#bd3786\"], [0.5555555555555556, \"#d8576b\"], [0.6666666666666666, \"#ed7953\"], [0.7777777777777778, \"#fb9f3a\"], [0.8888888888888888, \"#fdca26\"], [1.0, \"#f0f921\"]], \"sequentialminus\": [[0.0, \"#0d0887\"], [0.1111111111111111, \"#46039f\"], [0.2222222222222222, \"#7201a8\"], [0.3333333333333333, \"#9c179e\"], [0.4444444444444444, \"#bd3786\"], [0.5555555555555556, \"#d8576b\"], [0.6666666666666666, \"#ed7953\"], [0.7777777777777778, \"#fb9f3a\"], [0.8888888888888888, \"#fdca26\"], [1.0, \"#f0f921\"]]}, \"colorway\": [\"#636efa\", \"#EF553B\", \"#00cc96\", \"#ab63fa\", \"#FFA15A\", \"#19d3f3\", \"#FF6692\", \"#B6E880\", \"#FF97FF\", \"#FECB52\"], \"font\": {\"color\": \"#2a3f5f\"}, \"geo\": {\"bgcolor\": \"white\", \"lakecolor\": \"white\", \"landcolor\": \"#E5ECF6\", \"showlakes\": true, \"showland\": true, \"subunitcolor\": \"white\"}, \"hoverlabel\": {\"align\": \"left\"}, \"hovermode\": \"closest\", \"mapbox\": {\"style\": \"light\"}, \"paper_bgcolor\": \"white\", \"plot_bgcolor\": \"#E5ECF6\", \"polar\": {\"angularaxis\": {\"gridcolor\": \"white\", \"linecolor\": \"white\", \"ticks\": \"\"}, \"bgcolor\": \"#E5ECF6\", \"radialaxis\": {\"gridcolor\": \"white\", \"linecolor\": \"white\", \"ticks\": \"\"}}, \"scene\": {\"xaxis\": {\"backgroundcolor\": \"#E5ECF6\", \"gridcolor\": \"white\", \"gridwidth\": 2, \"linecolor\": \"white\", \"showbackground\": true, \"ticks\": \"\", \"zerolinecolor\": \"white\"}, \"yaxis\": {\"backgroundcolor\": \"#E5ECF6\", \"gridcolor\": \"white\", \"gridwidth\": 2, \"linecolor\": \"white\", \"showbackground\": true, \"ticks\": \"\", \"zerolinecolor\": \"white\"}, \"zaxis\": {\"backgroundcolor\": \"#E5ECF6\", \"gridcolor\": \"white\", \"gridwidth\": 2, \"linecolor\": \"white\", \"showbackground\": true, \"ticks\": \"\", \"zerolinecolor\": \"white\"}}, \"shapedefaults\": {\"line\": {\"color\": \"#2a3f5f\"}}, \"ternary\": {\"aaxis\": {\"gridcolor\": \"white\", \"linecolor\": \"white\", \"ticks\": \"\"}, \"baxis\": {\"gridcolor\": \"white\", \"linecolor\": \"white\", \"ticks\": \"\"}, \"bgcolor\": \"#E5ECF6\", \"caxis\": {\"gridcolor\": \"white\", \"linecolor\": \"white\", \"ticks\": \"\"}}, \"title\": {\"x\": 0.05}, \"xaxis\": {\"automargin\": true, \"gridcolor\": \"white\", \"linecolor\": \"white\", \"ticks\": \"\", \"title\": {\"standoff\": 15}, \"zerolinecolor\": \"white\", \"zerolinewidth\": 2}, \"yaxis\": {\"automargin\": true, \"gridcolor\": \"white\", \"linecolor\": \"white\", \"ticks\": \"\", \"title\": {\"standoff\": 15}, \"zerolinecolor\": \"white\", \"zerolinewidth\": 2}}}, \"title\": {\"text\": \"Diversity and Inclusiveness issues are openly discussed.\"}, \"updatemenus\": [{\"buttons\": [{\"args\": [{\"visible\": [true, false, false, false, false, false, false, false, false, false, false, false, false, false, false, false, false, false, false, false, false, false, false, false, false]}, {\"title\": \"Employees in my organization are treated with respect and dignity.\"}], \"label\": \"Total\", \"method\": \"update\"}, {\"args\": [{\"visible\": [false, true, true, true, true, true, true, false, false, false, false, false, false, false, false, false, false, false, false, false, false, false, false, false, false]}, {\"title\": \"Diversity and Inclusiveness issues are openly discussed.\"}], \"label\": \"Race\", \"method\": \"update\"}, {\"args\": [{\"visible\": [false, false, false, false, false, false, false, true, true, true, true, true, true, false, false, false, false, false, false, false, false, false, false, false, false]}, {\"title\": \"Diversity and Inclusiveness issues are openly discussed.\"}], \"label\": \"Age\", \"method\": \"update\"}, {\"args\": [{\"visible\": [false, false, false, false, false, false, false, false, false, false, false, false, false, true, true, false, false, false, false, false, false, false, false, false, false]}, {\"title\": \"Diversity and Inclusiveness issues are openly discussed.\"}], \"label\": \"Sexual Orientation\", \"method\": \"update\"}, {\"args\": [{\"visible\": [false, false, false, false, false, false, false, false, false, false, false, false, false, false, false, true, true, true, true, true, true, false, false, false, false]}, {\"title\": \"Diversity and Inclusiveness issues are openly discussed.  \"}], \"label\": \"Tenure\", \"method\": \"update\"}, {\"args\": [{\"visible\": [false, false, false, false, false, false, false, false, false, false, false, false, false, false, false, false, false, false, false, false, false, true, true, true, true]}, {\"title\": \"Diversity and Inclusiveness issues are openly discussed.  \"}], \"label\": \"Status\", \"method\": \"update\"}], \"type\": \"buttons\"}]},\n",
       "                        {\"responsive\": true}\n",
       "                    ).then(function(){\n",
       "                            \n",
       "var gd = document.getElementById('170f7ed9-c748-4e11-a1f8-b5e8cc874d77');\n",
       "var x = new MutationObserver(function (mutations, observer) {{\n",
       "        var display = window.getComputedStyle(gd).display;\n",
       "        if (!display || display === 'none') {{\n",
       "            console.log([gd, 'removed!']);\n",
       "            Plotly.purge(gd);\n",
       "            observer.disconnect();\n",
       "        }}\n",
       "}});\n",
       "\n",
       "// Listen for the removal of the full notebook cells\n",
       "var notebookContainer = gd.closest('#notebook-container');\n",
       "if (notebookContainer) {{\n",
       "    x.observe(notebookContainer, {childList: true});\n",
       "}}\n",
       "\n",
       "// Listen for the clearing of the current output cell\n",
       "var outputEl = gd.closest('.output');\n",
       "if (outputEl) {{\n",
       "    x.observe(outputEl, {childList: true});\n",
       "}}\n",
       "\n",
       "                        })\n",
       "                };\n",
       "                });\n",
       "            </script>\n",
       "        </div>"
      ]
     },
     "metadata": {},
     "output_type": "display_data"
    }
   ],
   "source": [
    "#defining list_updatemenus\n",
    "list_updatemenus = [{'label': 'Total',\n",
    "                     'method': 'update',\n",
    "                     'args': [{'visible': [True, False, False, False, False, False, False, False, False, False, False, False, False, False, False, False, False, False, False, False, False, False, False, False, False]}, {'title': 'Employees in my organization are treated with respect and dignity.'}]},\n",
    "                    {'label': 'Race',\n",
    "                     'method': 'update',\n",
    "                     'args': [{'visible': [False, True, True, True, True, True, True, False, False, False, False, False, False, False, False, False, False, False, False, False, False, False, False, False, False]}, {'title': 'Diversity and Inclusiveness issues are openly discussed.'}]},\n",
    "                    {'label': 'Age',\n",
    "                     'method': 'update',\n",
    "                     'args': [{'visible': [False, False, False, False, False, False, False, True, True, True, True, True, True, False, False, False, False, False, False, False, False, False, False, False, False]}, {'title': 'Diversity and Inclusiveness issues are openly discussed.'}]},\n",
    "                    {'label': 'Sexual Orientation',\n",
    "                     'method': 'update',\n",
    "                     'args': [{'visible': [False, False, False, False, False, False, False, False, False, False, False, False, False, True, True, False, False, False, False, False, False, False, False, False, False]}, {'title': 'Diversity and Inclusiveness issues are openly discussed.'}]},\n",
    "                   {'label': 'Tenure',\n",
    "                     'method': 'update',\n",
    "                     'args': [{'visible': [False, False, False, False, False, False, False, False, False, False, False, False, False, False, False, True, True, True, True, True, True, False, False, False, False]}, {'title': 'Diversity and Inclusiveness issues are openly discussed.  '}]},\n",
    "                   {'label': 'Status',\n",
    "                     'method': 'update',\n",
    "                     'args': [{'visible': [False, False, False, False, False, False, False, False, False, False, False, False, False, False, False, False, False, False, False, False, False, True, True, True, True]}, {'title': 'Diversity and Inclusiveness issues are openly discussed.  '}]}\n",
    "                   ]\n",
    "#defining graph objects\n",
    "x_total = dei[\"Diversity and Inclusiveness issues are openly discussed.  \"]\n",
    "x_white = dei[dei['What is your race? ']==\"White\"][\"Diversity and Inclusiveness issues are openly discussed.  \"]\n",
    "x_latinx = dei[dei['What is your race? ']==\"Latino/Hispanic\"][\"Diversity and Inclusiveness issues are openly discussed.  \"]\n",
    "x_black = dei[dei['What is your race? ']==\"Black/ African American\"][\"Diversity and Inclusiveness issues are openly discussed.  \"]\n",
    "x_two_plus = dei[dei['What is your race? ']==\"Two or more Races\"][\"Diversity and Inclusiveness issues are openly discussed.  \"]\n",
    "x_asian = dei[dei['What is your race? ']==\"Asian\"][\"Diversity and Inclusiveness issues are openly discussed.  \"]\n",
    "x_first_peoples = dei[dei['What is your race? ']==\"Indian/ Native American\"][\"Diversity and Inclusiveness issues are openly discussed.  \"]\n",
    "x_age1 = dei[dei[\"What is your age?\"]==\"25-34\"][\"Diversity and Inclusiveness issues are openly discussed.  \"]\n",
    "x_age2 = dei[dei[\"What is your age?\"]==\"35-44\"][\"Diversity and Inclusiveness issues are openly discussed.  \"]\n",
    "x_age3 = dei[dei[\"What is your age?\"]==\"45-54\"][\"Diversity and Inclusiveness issues are openly discussed.  \"]\n",
    "x_age4 = dei[dei[\"What is your age?\"]==\"55-64\"][\"Diversity and Inclusiveness issues are openly discussed.  \"]\n",
    "x_age5 = dei[dei[\"What is your age?\"]==\"18-24\"][\"Diversity and Inclusiveness issues are openly discussed.  \"]\n",
    "x_age6 = dei[dei[\"What is your age?\"]==\"65-74\"][\"Diversity and Inclusiveness issues are openly discussed.  \"]\n",
    "x_straight = dei[dei[\"What is your sexual orientation?\"]==\"Straight\"][\"Diversity and Inclusiveness issues are openly discussed.  \"]\n",
    "x_lgbtq = dei[dei[\"What is your sexual orientation?\"]==\"LGBTQ+\"][\"Diversity and Inclusiveness issues are openly discussed.  \"]\n",
    "x_tenure1 = dei[dei[\"How long have you worked for FC?\"]==\"1-3 years\"][\"Diversity and Inclusiveness issues are openly discussed.  \"]\n",
    "x_tenure2 = dei[dei[\"How long have you worked for FC?\"]==\"3-5 years\"][\"Diversity and Inclusiveness issues are openly discussed.  \"]\n",
    "x_tenure3 = dei[dei[\"How long have you worked for FC?\"]==\"Less than a year\"][\"Diversity and Inclusiveness issues are openly discussed.  \"]\n",
    "x_tenure4 = dei[dei[\"How long have you worked for FC?\"]==\"5-10 years\"][\"Diversity and Inclusiveness issues are openly discussed.  \"]\n",
    "x_tenure5 = dei[dei[\"How long have you worked for FC?\"]==\"10+ years\"][\"Diversity and Inclusiveness issues are openly discussed.  \"]\n",
    "x_tenure6 = dei[dei[\"How long have you worked for FC?\"]==\"1 year\"][\"Diversity and Inclusiveness issues are openly discussed.  \"]\n",
    "x_status1 = dei[dei[\"What is your employment status?\"]==\"Full-time\"][\"Diversity and Inclusiveness issues are openly discussed.  \"]\n",
    "x_status2 = dei[dei[\"What is your employment status?\"]==\"Part-time\"][\"Diversity and Inclusiveness issues are openly discussed.  \"]\n",
    "x_status3 = dei[dei[\"What is your employment status?\"]==\"Seasonal\"][\"Diversity and Inclusiveness issues are openly discussed.  \"]\n",
    "x_status4 = dei[dei[\"What is your employment status?\"]==\"Part-time, Seasonal\"][\"Diversity and Inclusiveness issues are openly discussed.  \"]\n",
    "#defining data\n",
    "data=[go.Histogram(x=x_total,name='   ',opacity = .5),\n",
    "      go.Histogram(x=x_white,name='White',opacity = .5),\n",
    "      go.Histogram(x=x_latinx,name='Latino/Hispanic',opacity = .5),\n",
    "      go.Histogram(x=x_black,name='Black/African American',opacity = .5),\n",
    "      go.Histogram(x=x_two_plus,name='Two or more Races',opacity = .5),\n",
    "      go.Histogram(x=x_asian,name='Asian',opacity = .5),\n",
    "      go.Histogram(x=x_first_peoples,name='Indian/Native American',opacity = .5),\n",
    "      go.Histogram(x=x_age1,name='25-34', opacity = .5),\n",
    "      go.Histogram(x=x_age2,name='35-44',opacity = .5),\n",
    "      go.Histogram(x=x_age3,name='45-54',opacity = .5),\n",
    "      go.Histogram(x=x_age4,name='55-64',opacity = .5),\n",
    "      go.Histogram(x=x_age5,name='18-24',opacity = .5),\n",
    "      go.Histogram(x=x_age6,name='65-74',opacity = .5),\n",
    "      go.Histogram(x=x_straight,name='Straight',opacity = .5),\n",
    "      go.Histogram(x=x_lgbtq,name='LGBTQ+',opacity = .5),\n",
    "      go.Histogram(x=x_tenure1,name='1-3 years',opacity = .5),\n",
    "      go.Histogram(x=x_tenure2,name='3-5 years',opacity = .5),\n",
    "      go.Histogram(x=x_tenure3,name='< than a year',opacity = .5),\n",
    "      go.Histogram(x=x_tenure4,name='5-10 years',opacity = .5),\n",
    "      go.Histogram(x=x_tenure5,name='10+ years',opacity = .5),\n",
    "      go.Histogram(x=x_tenure6,name='1 year',opacity = .5),\n",
    "      go.Histogram(x=x_status1,name='Full-time',opacity = .5),\n",
    "      go.Histogram(x=x_status2,name='Part-time',opacity = .5),\n",
    "      go.Histogram(x=x_status2,name='Seasonal',opacity = .5),\n",
    "      go.Histogram(x=x_status2,name='Part-time, Seasonal',opacity = .5)\n",
    "     \n",
    "     ]\n",
    "\n",
    "\n",
    "#defining layout\n",
    "layout=go.Layout(title='Diversity and Inclusiveness issues are openly discussed.',updatemenus=list([dict(buttons= list_updatemenus,type = 'buttons')]),barmode='stack')\n",
    "\n",
    "#defining layout and plotting\n",
    "fig = go.Figure(data,layout)\n",
    "fig.show()"
   ]
  },
  {
   "cell_type": "markdown",
   "metadata": {},
   "source": [
    "### Everyone at this organization is treated fairly regardless of ethnic background, race, gender, age, disability, or other differences not related to job performance. "
   ]
  },
  {
   "cell_type": "code",
   "execution_count": 26,
   "metadata": {},
   "outputs": [
    {
     "data": {
      "application/vnd.plotly.v1+json": {
       "config": {
        "plotlyServerURL": "https://plot.ly"
       },
       "data": [
        {
         "name": "  ",
         "opacity": 0.5,
         "type": "histogram",
         "x": [
          4,
          3,
          5,
          4,
          1,
          1,
          1,
          1,
          1,
          2,
          2,
          1,
          1,
          3,
          2,
          2,
          2,
          1,
          3,
          3,
          3,
          5,
          3,
          4,
          5,
          5,
          3,
          5,
          5,
          3,
          3,
          1,
          null,
          1,
          2,
          2,
          5,
          2,
          4,
          2,
          4,
          2,
          3,
          1,
          5,
          3,
          2,
          2,
          2,
          3,
          3,
          2,
          3,
          4,
          4,
          4,
          2,
          3,
          3,
          3,
          3,
          3,
          2,
          4,
          3,
          4,
          3,
          5,
          4,
          4,
          5,
          4,
          3,
          4,
          5,
          4,
          4,
          3,
          3,
          5,
          5,
          5,
          5,
          3,
          5,
          5,
          5,
          5,
          3,
          5,
          5,
          5,
          5,
          3,
          5,
          5,
          5,
          5,
          5,
          4,
          5,
          1,
          3,
          4,
          4,
          4,
          3,
          5,
          5,
          4,
          5,
          5,
          5,
          5,
          null,
          5,
          1,
          3,
          2,
          1,
          2,
          3,
          2,
          1,
          3,
          2,
          3,
          2,
          2,
          2,
          3,
          2,
          4,
          2,
          5,
          2,
          3,
          3,
          2,
          5,
          2,
          3,
          2,
          3,
          3,
          2,
          3,
          3,
          4,
          4,
          4,
          3,
          4,
          3,
          3,
          4,
          4,
          4,
          4,
          3,
          3,
          3,
          3,
          3,
          5,
          5,
          3,
          5,
          2,
          3,
          4,
          4,
          5,
          4,
          4,
          4,
          5,
          4,
          5,
          5,
          5,
          5,
          5,
          4,
          5,
          5,
          4,
          5,
          4,
          null,
          5,
          5,
          5,
          3,
          3,
          5,
          5,
          4,
          4,
          4,
          5,
          5,
          5,
          3,
          2
         ]
        },
        {
         "name": "White",
         "opacity": 0.5,
         "type": "histogram",
         "x": [
          1,
          3,
          2,
          1,
          2,
          3,
          2,
          1,
          3,
          2,
          3,
          2,
          2,
          2,
          3,
          2,
          4,
          2,
          5,
          2,
          3,
          3,
          2,
          5,
          2,
          3,
          2,
          3,
          3,
          2,
          3,
          3,
          4,
          4,
          4,
          3,
          4,
          3,
          3,
          4,
          4,
          4,
          4,
          3,
          3,
          3,
          3,
          3,
          5,
          5,
          3,
          5,
          2,
          3,
          4,
          4,
          5,
          4,
          4,
          4,
          5,
          4,
          5,
          5,
          5,
          5,
          5,
          4,
          5,
          5,
          4,
          5,
          4,
          null,
          5,
          5,
          5,
          3,
          3,
          5,
          5,
          4,
          4,
          4,
          5,
          5
         ]
        },
        {
         "name": "Latino/Hispanic",
         "opacity": 0.5,
         "type": "histogram",
         "x": [
          1,
          null,
          1,
          2,
          2,
          5,
          2,
          4,
          2,
          4,
          2,
          3,
          1,
          5,
          3,
          2,
          2,
          2,
          3,
          3,
          2,
          3,
          4,
          4,
          4,
          2,
          3,
          3,
          3,
          3,
          3,
          2,
          4,
          3,
          4,
          3,
          5,
          4,
          4,
          5,
          4,
          3,
          4,
          5,
          4,
          4,
          3,
          3,
          5,
          5,
          5,
          5,
          3,
          5,
          5,
          5,
          5,
          3,
          5,
          5,
          5,
          5,
          3,
          5,
          5,
          5,
          5,
          5
         ]
        },
        {
         "name": "Black/African American",
         "opacity": 0.5,
         "type": "histogram",
         "x": [
          1,
          1,
          1,
          1,
          1,
          2,
          2,
          1,
          1,
          3,
          2,
          2,
          2,
          1,
          3,
          3,
          3,
          5,
          3,
          4,
          5,
          5,
          3,
          5
         ]
        },
        {
         "name": "Two or more Races",
         "opacity": 0.5,
         "type": "histogram",
         "x": [
          1,
          3,
          4,
          4,
          4,
          3,
          5,
          5,
          4,
          5,
          5,
          5,
          5,
          null,
          5
         ]
        },
        {
         "name": "Asian",
         "opacity": 0.5,
         "type": "histogram",
         "x": [
          3,
          5,
          4
         ]
        },
        {
         "name": "Indian/Native American",
         "opacity": 0.5,
         "type": "histogram",
         "x": [
          3,
          3
         ]
        },
        {
         "name": "25-34",
         "opacity": 0.5,
         "type": "histogram",
         "x": [
          3,
          4,
          1,
          1,
          3,
          2,
          2,
          3,
          5,
          5,
          3,
          5,
          1,
          1,
          4,
          4,
          3,
          2,
          3,
          3,
          3,
          4,
          4,
          3,
          3,
          2,
          4,
          5,
          5,
          4,
          4,
          3,
          3,
          5,
          5,
          5,
          5,
          5,
          5,
          5,
          5,
          5,
          1,
          4,
          3,
          5,
          5,
          null,
          5,
          2,
          1,
          2,
          1,
          3,
          2,
          3,
          2,
          2,
          2,
          5,
          3,
          3,
          4,
          3,
          4,
          4,
          3,
          3,
          3,
          3,
          3,
          5,
          4,
          4,
          5,
          4,
          4,
          5,
          5,
          5,
          5,
          4,
          5,
          3,
          3,
          3
         ]
        },
        {
         "name": "35-44",
         "opacity": 0.5,
         "type": "histogram",
         "x": [
          4,
          2,
          2,
          1,
          3,
          3,
          null,
          2,
          2,
          5,
          2,
          1,
          5,
          2,
          2,
          2,
          3,
          3,
          4,
          3,
          3,
          5,
          4,
          5,
          3,
          5,
          3,
          5,
          3,
          4,
          1,
          3,
          2,
          2,
          4,
          5,
          3,
          2,
          4,
          3,
          4,
          5,
          3,
          5,
          5,
          4,
          5
         ]
        },
        {
         "name": "45-54",
         "opacity": 0.5,
         "type": "histogram",
         "x": [
          1,
          1,
          5,
          3,
          3,
          2,
          3,
          3,
          4,
          4,
          4,
          5,
          3,
          3,
          2,
          3,
          2,
          3,
          2,
          3,
          4,
          4,
          2,
          4,
          5,
          5,
          null,
          5
         ]
        },
        {
         "name": "55-64",
         "opacity": 0.5,
         "type": "histogram",
         "x": [
          1,
          2,
          1,
          3,
          5,
          2,
          4,
          4,
          5,
          4,
          5,
          2,
          3,
          3,
          3,
          4,
          5,
          4,
          4,
          5,
          5,
          4,
          4,
          5,
          2
         ]
        },
        {
         "name": "18-24",
         "opacity": 0.5,
         "type": "histogram",
         "x": [
          5,
          2,
          5,
          5,
          5,
          5,
          5,
          5,
          2,
          4,
          5,
          5
         ]
        },
        {
         "name": "65-74",
         "opacity": 0.5,
         "type": "histogram",
         "x": [
          4,
          3,
          3,
          5,
          4,
          5
         ]
        },
        {
         "name": "Straight",
         "opacity": 0.5,
         "type": "histogram",
         "x": [
          5,
          4,
          1,
          1,
          1,
          1,
          1,
          2,
          2,
          1,
          1,
          3,
          2,
          2,
          2,
          1,
          3,
          3,
          5,
          3,
          5,
          5,
          3,
          5,
          5,
          3,
          1,
          2,
          2,
          5,
          2,
          4,
          2,
          4,
          2,
          3,
          1,
          2,
          2,
          3,
          3,
          2,
          3,
          4,
          4,
          4,
          2,
          3,
          3,
          3,
          3,
          2,
          4,
          3,
          4,
          5,
          4,
          4,
          5,
          4,
          3,
          4,
          5,
          4,
          4,
          3,
          5,
          3,
          5,
          5,
          5,
          5,
          3,
          5,
          5,
          5,
          5,
          3,
          5,
          5,
          5,
          5,
          5,
          4,
          5,
          3,
          4,
          4,
          4,
          5,
          5,
          4,
          5,
          5,
          5,
          5,
          null,
          5,
          1,
          3,
          2,
          1,
          2,
          3,
          3,
          2,
          2,
          3,
          4,
          2,
          5,
          2,
          3,
          5,
          2,
          3,
          2,
          3,
          3,
          2,
          3,
          4,
          4,
          3,
          3,
          4,
          3,
          3,
          3,
          5,
          5,
          2,
          3,
          4,
          4,
          5,
          4,
          5,
          4,
          5,
          5,
          4,
          5,
          5,
          4,
          4,
          null,
          5,
          5,
          5,
          3,
          3,
          5,
          5,
          4,
          4,
          4,
          5,
          5,
          5,
          2
         ]
        },
        {
         "name": "LGBTQ+",
         "opacity": 0.5,
         "type": "histogram",
         "x": [
          3,
          3,
          1,
          5,
          3,
          2,
          3,
          3,
          5,
          5,
          5,
          1,
          3,
          2,
          3,
          1,
          2,
          2,
          2,
          2,
          3,
          4,
          4,
          3,
          4,
          4,
          3,
          3,
          5,
          3,
          4,
          5,
          5,
          5,
          3
         ]
        },
        {
         "name": "1-3 years",
         "opacity": 0.5,
         "type": "histogram",
         "x": [
          4,
          3,
          5,
          4,
          1,
          1,
          1,
          1,
          1,
          2,
          3,
          3,
          3,
          3,
          5,
          1,
          2,
          2,
          5,
          4,
          3,
          3,
          4,
          2,
          3,
          3,
          2,
          3,
          4,
          5,
          4,
          3,
          5,
          5,
          3,
          5,
          5,
          4,
          4,
          5,
          null,
          2,
          2,
          3,
          2,
          3,
          2,
          3,
          2,
          2,
          2,
          5,
          2,
          2,
          3,
          3,
          4,
          4,
          3,
          3,
          2,
          4,
          4,
          5,
          5,
          3,
          5,
          4,
          5,
          2
         ]
        },
        {
         "name": "3-5 years",
         "opacity": 0.5,
         "type": "histogram",
         "x": [
          1,
          1,
          2,
          2,
          5,
          3,
          null,
          2,
          3,
          5,
          4,
          5,
          3,
          5,
          3,
          3,
          5,
          5,
          5,
          1,
          1,
          3,
          1,
          1,
          3,
          3,
          4,
          4,
          4,
          3,
          3,
          5,
          3,
          5,
          4,
          4,
          5,
          5,
          4,
          5
         ]
        },
        {
         "name": "< than a year",
         "opacity": 0.5,
         "type": "histogram",
         "x": [
          3,
          2,
          4,
          5,
          5,
          5,
          5,
          5,
          5,
          5,
          3,
          5,
          5,
          5,
          5,
          2,
          2,
          3,
          4,
          3,
          3,
          5,
          4,
          4,
          5,
          5,
          5,
          4,
          null,
          5,
          3,
          5
         ]
        },
        {
         "name": "5-10 years",
         "opacity": 0.5,
         "type": "histogram",
         "x": [
          2,
          1,
          5,
          5,
          5,
          3,
          1,
          2,
          3,
          3,
          4,
          4,
          3,
          3,
          4,
          3,
          3,
          4,
          3,
          2,
          4,
          3,
          3,
          3,
          3,
          5,
          4,
          4
         ]
        },
        {
         "name": "10+ years",
         "opacity": 0.5,
         "type": "histogram",
         "x": [
          4,
          3,
          4,
          2,
          2,
          3,
          3,
          4,
          4,
          4,
          5,
          5,
          4,
          4,
          2,
          3,
          4,
          4,
          5,
          5,
          4,
          5,
          5
         ]
        },
        {
         "name": "1 year",
         "opacity": 0.5,
         "type": "histogram",
         "x": [
          2,
          2,
          1,
          2,
          5,
          5,
          5,
          5,
          2,
          5,
          3
         ]
        },
        {
         "name": "Full-time",
         "opacity": 0.5,
         "type": "histogram",
         "x": [
          4,
          3,
          1,
          1,
          1,
          1,
          1,
          2,
          2,
          1,
          1,
          3,
          2,
          2,
          2,
          1,
          3,
          3,
          5,
          3,
          4,
          5,
          5,
          3,
          5,
          5,
          3,
          3,
          1,
          null,
          1,
          2,
          2,
          5,
          2,
          4,
          2,
          4,
          2,
          3,
          1,
          5,
          3,
          2,
          2,
          2,
          3,
          3,
          2,
          3,
          4,
          4,
          4,
          2,
          3,
          3,
          3,
          3,
          2,
          4,
          3,
          4,
          3,
          5,
          4,
          4,
          5,
          4,
          3,
          4,
          5,
          4,
          4,
          3,
          3,
          5,
          5,
          3,
          5,
          5,
          5,
          3,
          5,
          5,
          5,
          3,
          5,
          5,
          5,
          5,
          4,
          5,
          1,
          3,
          4,
          4,
          4,
          3,
          5,
          5,
          4,
          5,
          5,
          null,
          5,
          1,
          3,
          2,
          1,
          2,
          3,
          2,
          1,
          3,
          2,
          3,
          2,
          2,
          2,
          3,
          2,
          4,
          2,
          5,
          2,
          3,
          3,
          2,
          2,
          3,
          2,
          3,
          3,
          2,
          3,
          3,
          4,
          4,
          4,
          3,
          3,
          3,
          4,
          4,
          4,
          4,
          3,
          3,
          3,
          3,
          5,
          3,
          5,
          2,
          3,
          4,
          4,
          4,
          4,
          5,
          4,
          5,
          5,
          5,
          4,
          5,
          5,
          4,
          5,
          4,
          5,
          5,
          3,
          5,
          4,
          5,
          5,
          5,
          3,
          2
         ]
        },
        {
         "name": "Part-time",
         "opacity": 0.5,
         "type": "histogram",
         "x": [
          5,
          4,
          3,
          5,
          5,
          5,
          5,
          5,
          5,
          4,
          3,
          5,
          5,
          null,
          5,
          3,
          5,
          4,
          4
         ]
        },
        {
         "name": "Seasonal",
         "opacity": 0.5,
         "type": "histogram",
         "x": [
          5,
          4,
          3,
          5,
          5,
          5,
          5,
          5,
          5,
          4,
          3,
          5,
          5,
          null,
          5,
          3,
          5,
          4,
          4
         ]
        },
        {
         "name": "Part-time, Seasonal",
         "opacity": 0.5,
         "type": "histogram",
         "x": [
          5,
          4,
          3,
          5,
          5,
          5,
          5,
          5,
          5,
          4,
          3,
          5,
          5,
          null,
          5,
          3,
          5,
          4,
          4
         ]
        }
       ],
       "layout": {
        "barmode": "stack",
        "template": {
         "data": {
          "bar": [
           {
            "error_x": {
             "color": "#2a3f5f"
            },
            "error_y": {
             "color": "#2a3f5f"
            },
            "marker": {
             "line": {
              "color": "#E5ECF6",
              "width": 0.5
             }
            },
            "type": "bar"
           }
          ],
          "barpolar": [
           {
            "marker": {
             "line": {
              "color": "#E5ECF6",
              "width": 0.5
             }
            },
            "type": "barpolar"
           }
          ],
          "carpet": [
           {
            "aaxis": {
             "endlinecolor": "#2a3f5f",
             "gridcolor": "white",
             "linecolor": "white",
             "minorgridcolor": "white",
             "startlinecolor": "#2a3f5f"
            },
            "baxis": {
             "endlinecolor": "#2a3f5f",
             "gridcolor": "white",
             "linecolor": "white",
             "minorgridcolor": "white",
             "startlinecolor": "#2a3f5f"
            },
            "type": "carpet"
           }
          ],
          "choropleth": [
           {
            "colorbar": {
             "outlinewidth": 0,
             "ticks": ""
            },
            "type": "choropleth"
           }
          ],
          "contour": [
           {
            "colorbar": {
             "outlinewidth": 0,
             "ticks": ""
            },
            "colorscale": [
             [
              0,
              "#0d0887"
             ],
             [
              0.1111111111111111,
              "#46039f"
             ],
             [
              0.2222222222222222,
              "#7201a8"
             ],
             [
              0.3333333333333333,
              "#9c179e"
             ],
             [
              0.4444444444444444,
              "#bd3786"
             ],
             [
              0.5555555555555556,
              "#d8576b"
             ],
             [
              0.6666666666666666,
              "#ed7953"
             ],
             [
              0.7777777777777778,
              "#fb9f3a"
             ],
             [
              0.8888888888888888,
              "#fdca26"
             ],
             [
              1,
              "#f0f921"
             ]
            ],
            "type": "contour"
           }
          ],
          "contourcarpet": [
           {
            "colorbar": {
             "outlinewidth": 0,
             "ticks": ""
            },
            "type": "contourcarpet"
           }
          ],
          "heatmap": [
           {
            "colorbar": {
             "outlinewidth": 0,
             "ticks": ""
            },
            "colorscale": [
             [
              0,
              "#0d0887"
             ],
             [
              0.1111111111111111,
              "#46039f"
             ],
             [
              0.2222222222222222,
              "#7201a8"
             ],
             [
              0.3333333333333333,
              "#9c179e"
             ],
             [
              0.4444444444444444,
              "#bd3786"
             ],
             [
              0.5555555555555556,
              "#d8576b"
             ],
             [
              0.6666666666666666,
              "#ed7953"
             ],
             [
              0.7777777777777778,
              "#fb9f3a"
             ],
             [
              0.8888888888888888,
              "#fdca26"
             ],
             [
              1,
              "#f0f921"
             ]
            ],
            "type": "heatmap"
           }
          ],
          "heatmapgl": [
           {
            "colorbar": {
             "outlinewidth": 0,
             "ticks": ""
            },
            "colorscale": [
             [
              0,
              "#0d0887"
             ],
             [
              0.1111111111111111,
              "#46039f"
             ],
             [
              0.2222222222222222,
              "#7201a8"
             ],
             [
              0.3333333333333333,
              "#9c179e"
             ],
             [
              0.4444444444444444,
              "#bd3786"
             ],
             [
              0.5555555555555556,
              "#d8576b"
             ],
             [
              0.6666666666666666,
              "#ed7953"
             ],
             [
              0.7777777777777778,
              "#fb9f3a"
             ],
             [
              0.8888888888888888,
              "#fdca26"
             ],
             [
              1,
              "#f0f921"
             ]
            ],
            "type": "heatmapgl"
           }
          ],
          "histogram": [
           {
            "marker": {
             "colorbar": {
              "outlinewidth": 0,
              "ticks": ""
             }
            },
            "type": "histogram"
           }
          ],
          "histogram2d": [
           {
            "colorbar": {
             "outlinewidth": 0,
             "ticks": ""
            },
            "colorscale": [
             [
              0,
              "#0d0887"
             ],
             [
              0.1111111111111111,
              "#46039f"
             ],
             [
              0.2222222222222222,
              "#7201a8"
             ],
             [
              0.3333333333333333,
              "#9c179e"
             ],
             [
              0.4444444444444444,
              "#bd3786"
             ],
             [
              0.5555555555555556,
              "#d8576b"
             ],
             [
              0.6666666666666666,
              "#ed7953"
             ],
             [
              0.7777777777777778,
              "#fb9f3a"
             ],
             [
              0.8888888888888888,
              "#fdca26"
             ],
             [
              1,
              "#f0f921"
             ]
            ],
            "type": "histogram2d"
           }
          ],
          "histogram2dcontour": [
           {
            "colorbar": {
             "outlinewidth": 0,
             "ticks": ""
            },
            "colorscale": [
             [
              0,
              "#0d0887"
             ],
             [
              0.1111111111111111,
              "#46039f"
             ],
             [
              0.2222222222222222,
              "#7201a8"
             ],
             [
              0.3333333333333333,
              "#9c179e"
             ],
             [
              0.4444444444444444,
              "#bd3786"
             ],
             [
              0.5555555555555556,
              "#d8576b"
             ],
             [
              0.6666666666666666,
              "#ed7953"
             ],
             [
              0.7777777777777778,
              "#fb9f3a"
             ],
             [
              0.8888888888888888,
              "#fdca26"
             ],
             [
              1,
              "#f0f921"
             ]
            ],
            "type": "histogram2dcontour"
           }
          ],
          "mesh3d": [
           {
            "colorbar": {
             "outlinewidth": 0,
             "ticks": ""
            },
            "type": "mesh3d"
           }
          ],
          "parcoords": [
           {
            "line": {
             "colorbar": {
              "outlinewidth": 0,
              "ticks": ""
             }
            },
            "type": "parcoords"
           }
          ],
          "pie": [
           {
            "automargin": true,
            "type": "pie"
           }
          ],
          "scatter": [
           {
            "marker": {
             "colorbar": {
              "outlinewidth": 0,
              "ticks": ""
             }
            },
            "type": "scatter"
           }
          ],
          "scatter3d": [
           {
            "line": {
             "colorbar": {
              "outlinewidth": 0,
              "ticks": ""
             }
            },
            "marker": {
             "colorbar": {
              "outlinewidth": 0,
              "ticks": ""
             }
            },
            "type": "scatter3d"
           }
          ],
          "scattercarpet": [
           {
            "marker": {
             "colorbar": {
              "outlinewidth": 0,
              "ticks": ""
             }
            },
            "type": "scattercarpet"
           }
          ],
          "scattergeo": [
           {
            "marker": {
             "colorbar": {
              "outlinewidth": 0,
              "ticks": ""
             }
            },
            "type": "scattergeo"
           }
          ],
          "scattergl": [
           {
            "marker": {
             "colorbar": {
              "outlinewidth": 0,
              "ticks": ""
             }
            },
            "type": "scattergl"
           }
          ],
          "scattermapbox": [
           {
            "marker": {
             "colorbar": {
              "outlinewidth": 0,
              "ticks": ""
             }
            },
            "type": "scattermapbox"
           }
          ],
          "scatterpolar": [
           {
            "marker": {
             "colorbar": {
              "outlinewidth": 0,
              "ticks": ""
             }
            },
            "type": "scatterpolar"
           }
          ],
          "scatterpolargl": [
           {
            "marker": {
             "colorbar": {
              "outlinewidth": 0,
              "ticks": ""
             }
            },
            "type": "scatterpolargl"
           }
          ],
          "scatterternary": [
           {
            "marker": {
             "colorbar": {
              "outlinewidth": 0,
              "ticks": ""
             }
            },
            "type": "scatterternary"
           }
          ],
          "surface": [
           {
            "colorbar": {
             "outlinewidth": 0,
             "ticks": ""
            },
            "colorscale": [
             [
              0,
              "#0d0887"
             ],
             [
              0.1111111111111111,
              "#46039f"
             ],
             [
              0.2222222222222222,
              "#7201a8"
             ],
             [
              0.3333333333333333,
              "#9c179e"
             ],
             [
              0.4444444444444444,
              "#bd3786"
             ],
             [
              0.5555555555555556,
              "#d8576b"
             ],
             [
              0.6666666666666666,
              "#ed7953"
             ],
             [
              0.7777777777777778,
              "#fb9f3a"
             ],
             [
              0.8888888888888888,
              "#fdca26"
             ],
             [
              1,
              "#f0f921"
             ]
            ],
            "type": "surface"
           }
          ],
          "table": [
           {
            "cells": {
             "fill": {
              "color": "#EBF0F8"
             },
             "line": {
              "color": "white"
             }
            },
            "header": {
             "fill": {
              "color": "#C8D4E3"
             },
             "line": {
              "color": "white"
             }
            },
            "type": "table"
           }
          ]
         },
         "layout": {
          "annotationdefaults": {
           "arrowcolor": "#2a3f5f",
           "arrowhead": 0,
           "arrowwidth": 1
          },
          "coloraxis": {
           "colorbar": {
            "outlinewidth": 0,
            "ticks": ""
           }
          },
          "colorscale": {
           "diverging": [
            [
             0,
             "#8e0152"
            ],
            [
             0.1,
             "#c51b7d"
            ],
            [
             0.2,
             "#de77ae"
            ],
            [
             0.3,
             "#f1b6da"
            ],
            [
             0.4,
             "#fde0ef"
            ],
            [
             0.5,
             "#f7f7f7"
            ],
            [
             0.6,
             "#e6f5d0"
            ],
            [
             0.7,
             "#b8e186"
            ],
            [
             0.8,
             "#7fbc41"
            ],
            [
             0.9,
             "#4d9221"
            ],
            [
             1,
             "#276419"
            ]
           ],
           "sequential": [
            [
             0,
             "#0d0887"
            ],
            [
             0.1111111111111111,
             "#46039f"
            ],
            [
             0.2222222222222222,
             "#7201a8"
            ],
            [
             0.3333333333333333,
             "#9c179e"
            ],
            [
             0.4444444444444444,
             "#bd3786"
            ],
            [
             0.5555555555555556,
             "#d8576b"
            ],
            [
             0.6666666666666666,
             "#ed7953"
            ],
            [
             0.7777777777777778,
             "#fb9f3a"
            ],
            [
             0.8888888888888888,
             "#fdca26"
            ],
            [
             1,
             "#f0f921"
            ]
           ],
           "sequentialminus": [
            [
             0,
             "#0d0887"
            ],
            [
             0.1111111111111111,
             "#46039f"
            ],
            [
             0.2222222222222222,
             "#7201a8"
            ],
            [
             0.3333333333333333,
             "#9c179e"
            ],
            [
             0.4444444444444444,
             "#bd3786"
            ],
            [
             0.5555555555555556,
             "#d8576b"
            ],
            [
             0.6666666666666666,
             "#ed7953"
            ],
            [
             0.7777777777777778,
             "#fb9f3a"
            ],
            [
             0.8888888888888888,
             "#fdca26"
            ],
            [
             1,
             "#f0f921"
            ]
           ]
          },
          "colorway": [
           "#636efa",
           "#EF553B",
           "#00cc96",
           "#ab63fa",
           "#FFA15A",
           "#19d3f3",
           "#FF6692",
           "#B6E880",
           "#FF97FF",
           "#FECB52"
          ],
          "font": {
           "color": "#2a3f5f"
          },
          "geo": {
           "bgcolor": "white",
           "lakecolor": "white",
           "landcolor": "#E5ECF6",
           "showlakes": true,
           "showland": true,
           "subunitcolor": "white"
          },
          "hoverlabel": {
           "align": "left"
          },
          "hovermode": "closest",
          "mapbox": {
           "style": "light"
          },
          "paper_bgcolor": "white",
          "plot_bgcolor": "#E5ECF6",
          "polar": {
           "angularaxis": {
            "gridcolor": "white",
            "linecolor": "white",
            "ticks": ""
           },
           "bgcolor": "#E5ECF6",
           "radialaxis": {
            "gridcolor": "white",
            "linecolor": "white",
            "ticks": ""
           }
          },
          "scene": {
           "xaxis": {
            "backgroundcolor": "#E5ECF6",
            "gridcolor": "white",
            "gridwidth": 2,
            "linecolor": "white",
            "showbackground": true,
            "ticks": "",
            "zerolinecolor": "white"
           },
           "yaxis": {
            "backgroundcolor": "#E5ECF6",
            "gridcolor": "white",
            "gridwidth": 2,
            "linecolor": "white",
            "showbackground": true,
            "ticks": "",
            "zerolinecolor": "white"
           },
           "zaxis": {
            "backgroundcolor": "#E5ECF6",
            "gridcolor": "white",
            "gridwidth": 2,
            "linecolor": "white",
            "showbackground": true,
            "ticks": "",
            "zerolinecolor": "white"
           }
          },
          "shapedefaults": {
           "line": {
            "color": "#2a3f5f"
           }
          },
          "ternary": {
           "aaxis": {
            "gridcolor": "white",
            "linecolor": "white",
            "ticks": ""
           },
           "baxis": {
            "gridcolor": "white",
            "linecolor": "white",
            "ticks": ""
           },
           "bgcolor": "#E5ECF6",
           "caxis": {
            "gridcolor": "white",
            "linecolor": "white",
            "ticks": ""
           }
          },
          "title": {
           "x": 0.05
          },
          "xaxis": {
           "automargin": true,
           "gridcolor": "white",
           "linecolor": "white",
           "ticks": "",
           "title": {
            "standoff": 15
           },
           "zerolinecolor": "white",
           "zerolinewidth": 2
          },
          "yaxis": {
           "automargin": true,
           "gridcolor": "white",
           "linecolor": "white",
           "ticks": "",
           "title": {
            "standoff": 15
           },
           "zerolinecolor": "white",
           "zerolinewidth": 2
          }
         }
        },
        "title": {
         "text": "Everyone at this organization is treated fairly regardless of ethnic background, race, gender, age, disability, or other differences not related to job performance."
        },
        "updatemenus": [
         {
          "buttons": [
           {
            "args": [
             {
              "visible": [
               true,
               false,
               false,
               false,
               false,
               false,
               false,
               false,
               false,
               false,
               false,
               false,
               false,
               false,
               false,
               false,
               false,
               false,
               false,
               false,
               false,
               false,
               false,
               false,
               false
              ]
             },
             {
              "title": "Everyone at this organization is treated fairly regardless of ethnic background, race, gender, age, disability, or other differences not related to job performance."
             }
            ],
            "label": "Total",
            "method": "update"
           },
           {
            "args": [
             {
              "visible": [
               false,
               true,
               true,
               true,
               true,
               true,
               true,
               false,
               false,
               false,
               false,
               false,
               false,
               false,
               false,
               false,
               false,
               false,
               false,
               false,
               false,
               false,
               false,
               false,
               false
              ]
             },
             {
              "title": "Everyone at this organization is treated fairly regardless of ethnic background, race, gender, age, disability, or other differences not related to job performance."
             }
            ],
            "label": "Race",
            "method": "update"
           },
           {
            "args": [
             {
              "visible": [
               false,
               false,
               false,
               false,
               false,
               false,
               false,
               true,
               true,
               true,
               true,
               true,
               true,
               false,
               false,
               false,
               false,
               false,
               false,
               false,
               false,
               false,
               false,
               false,
               false
              ]
             },
             {
              "title": "Everyone at this organization is treated fairly regardless of ethnic background, race, gender, age, disability, or other differences not related to job performance."
             }
            ],
            "label": "Age",
            "method": "update"
           },
           {
            "args": [
             {
              "visible": [
               false,
               false,
               false,
               false,
               false,
               false,
               false,
               false,
               false,
               false,
               false,
               false,
               false,
               true,
               true,
               false,
               false,
               false,
               false,
               false,
               false,
               false,
               false,
               false,
               false
              ]
             },
             {
              "title": "Everyone at this organization is treated fairly regardless of ethnic background, race, gender, age, disability, or other differences not related to job performance."
             }
            ],
            "label": "Sexual Orientation",
            "method": "update"
           },
           {
            "args": [
             {
              "visible": [
               false,
               false,
               false,
               false,
               false,
               false,
               false,
               false,
               false,
               false,
               false,
               false,
               false,
               false,
               false,
               true,
               true,
               true,
               true,
               true,
               true,
               false,
               false,
               false,
               false
              ]
             },
             {
              "title": "Everyone at this organization is treated fairly regardless of ethnic background, race, gender, age, disability, or other differences not related to job performance.  "
             }
            ],
            "label": "Tenure",
            "method": "update"
           },
           {
            "args": [
             {
              "visible": [
               false,
               false,
               false,
               false,
               false,
               false,
               false,
               false,
               false,
               false,
               false,
               false,
               false,
               false,
               false,
               false,
               false,
               false,
               false,
               false,
               false,
               true,
               true,
               true,
               true
              ]
             },
             {
              "title": "Everyone at this organization is treated fairly regardless of ethnic background, race, gender, age, disability, or other differences not related to job performance.  "
             }
            ],
            "label": "Status",
            "method": "update"
           }
          ],
          "type": "buttons"
         }
        ]
       }
      },
      "text/html": [
       "<div>\n",
       "        \n",
       "        \n",
       "            <div id=\"e79065f4-06ae-4a5b-ac4e-01032e7dc24a\" class=\"plotly-graph-div\" style=\"height:525px; width:100%;\"></div>\n",
       "            <script type=\"text/javascript\">\n",
       "                require([\"plotly\"], function(Plotly) {\n",
       "                    window.PLOTLYENV=window.PLOTLYENV || {};\n",
       "                    \n",
       "                if (document.getElementById(\"e79065f4-06ae-4a5b-ac4e-01032e7dc24a\")) {\n",
       "                    Plotly.newPlot(\n",
       "                        'e79065f4-06ae-4a5b-ac4e-01032e7dc24a',\n",
       "                        [{\"name\": \"  \", \"opacity\": 0.5, \"type\": \"histogram\", \"x\": [4.0, 3.0, 5.0, 4.0, 1.0, 1.0, 1.0, 1.0, 1.0, 2.0, 2.0, 1.0, 1.0, 3.0, 2.0, 2.0, 2.0, 1.0, 3.0, 3.0, 3.0, 5.0, 3.0, 4.0, 5.0, 5.0, 3.0, 5.0, 5.0, 3.0, 3.0, 1.0, null, 1.0, 2.0, 2.0, 5.0, 2.0, 4.0, 2.0, 4.0, 2.0, 3.0, 1.0, 5.0, 3.0, 2.0, 2.0, 2.0, 3.0, 3.0, 2.0, 3.0, 4.0, 4.0, 4.0, 2.0, 3.0, 3.0, 3.0, 3.0, 3.0, 2.0, 4.0, 3.0, 4.0, 3.0, 5.0, 4.0, 4.0, 5.0, 4.0, 3.0, 4.0, 5.0, 4.0, 4.0, 3.0, 3.0, 5.0, 5.0, 5.0, 5.0, 3.0, 5.0, 5.0, 5.0, 5.0, 3.0, 5.0, 5.0, 5.0, 5.0, 3.0, 5.0, 5.0, 5.0, 5.0, 5.0, 4.0, 5.0, 1.0, 3.0, 4.0, 4.0, 4.0, 3.0, 5.0, 5.0, 4.0, 5.0, 5.0, 5.0, 5.0, null, 5.0, 1.0, 3.0, 2.0, 1.0, 2.0, 3.0, 2.0, 1.0, 3.0, 2.0, 3.0, 2.0, 2.0, 2.0, 3.0, 2.0, 4.0, 2.0, 5.0, 2.0, 3.0, 3.0, 2.0, 5.0, 2.0, 3.0, 2.0, 3.0, 3.0, 2.0, 3.0, 3.0, 4.0, 4.0, 4.0, 3.0, 4.0, 3.0, 3.0, 4.0, 4.0, 4.0, 4.0, 3.0, 3.0, 3.0, 3.0, 3.0, 5.0, 5.0, 3.0, 5.0, 2.0, 3.0, 4.0, 4.0, 5.0, 4.0, 4.0, 4.0, 5.0, 4.0, 5.0, 5.0, 5.0, 5.0, 5.0, 4.0, 5.0, 5.0, 4.0, 5.0, 4.0, null, 5.0, 5.0, 5.0, 3.0, 3.0, 5.0, 5.0, 4.0, 4.0, 4.0, 5.0, 5.0, 5.0, 3.0, 2.0]}, {\"name\": \"White\", \"opacity\": 0.5, \"type\": \"histogram\", \"x\": [1.0, 3.0, 2.0, 1.0, 2.0, 3.0, 2.0, 1.0, 3.0, 2.0, 3.0, 2.0, 2.0, 2.0, 3.0, 2.0, 4.0, 2.0, 5.0, 2.0, 3.0, 3.0, 2.0, 5.0, 2.0, 3.0, 2.0, 3.0, 3.0, 2.0, 3.0, 3.0, 4.0, 4.0, 4.0, 3.0, 4.0, 3.0, 3.0, 4.0, 4.0, 4.0, 4.0, 3.0, 3.0, 3.0, 3.0, 3.0, 5.0, 5.0, 3.0, 5.0, 2.0, 3.0, 4.0, 4.0, 5.0, 4.0, 4.0, 4.0, 5.0, 4.0, 5.0, 5.0, 5.0, 5.0, 5.0, 4.0, 5.0, 5.0, 4.0, 5.0, 4.0, null, 5.0, 5.0, 5.0, 3.0, 3.0, 5.0, 5.0, 4.0, 4.0, 4.0, 5.0, 5.0]}, {\"name\": \"Latino/Hispanic\", \"opacity\": 0.5, \"type\": \"histogram\", \"x\": [1.0, null, 1.0, 2.0, 2.0, 5.0, 2.0, 4.0, 2.0, 4.0, 2.0, 3.0, 1.0, 5.0, 3.0, 2.0, 2.0, 2.0, 3.0, 3.0, 2.0, 3.0, 4.0, 4.0, 4.0, 2.0, 3.0, 3.0, 3.0, 3.0, 3.0, 2.0, 4.0, 3.0, 4.0, 3.0, 5.0, 4.0, 4.0, 5.0, 4.0, 3.0, 4.0, 5.0, 4.0, 4.0, 3.0, 3.0, 5.0, 5.0, 5.0, 5.0, 3.0, 5.0, 5.0, 5.0, 5.0, 3.0, 5.0, 5.0, 5.0, 5.0, 3.0, 5.0, 5.0, 5.0, 5.0, 5.0]}, {\"name\": \"Black/African American\", \"opacity\": 0.5, \"type\": \"histogram\", \"x\": [1.0, 1.0, 1.0, 1.0, 1.0, 2.0, 2.0, 1.0, 1.0, 3.0, 2.0, 2.0, 2.0, 1.0, 3.0, 3.0, 3.0, 5.0, 3.0, 4.0, 5.0, 5.0, 3.0, 5.0]}, {\"name\": \"Two or more Races\", \"opacity\": 0.5, \"type\": \"histogram\", \"x\": [1.0, 3.0, 4.0, 4.0, 4.0, 3.0, 5.0, 5.0, 4.0, 5.0, 5.0, 5.0, 5.0, null, 5.0]}, {\"name\": \"Asian\", \"opacity\": 0.5, \"type\": \"histogram\", \"x\": [3.0, 5.0, 4.0]}, {\"name\": \"Indian/Native American\", \"opacity\": 0.5, \"type\": \"histogram\", \"x\": [3.0, 3.0]}, {\"name\": \"25-34\", \"opacity\": 0.5, \"type\": \"histogram\", \"x\": [3.0, 4.0, 1.0, 1.0, 3.0, 2.0, 2.0, 3.0, 5.0, 5.0, 3.0, 5.0, 1.0, 1.0, 4.0, 4.0, 3.0, 2.0, 3.0, 3.0, 3.0, 4.0, 4.0, 3.0, 3.0, 2.0, 4.0, 5.0, 5.0, 4.0, 4.0, 3.0, 3.0, 5.0, 5.0, 5.0, 5.0, 5.0, 5.0, 5.0, 5.0, 5.0, 1.0, 4.0, 3.0, 5.0, 5.0, null, 5.0, 2.0, 1.0, 2.0, 1.0, 3.0, 2.0, 3.0, 2.0, 2.0, 2.0, 5.0, 3.0, 3.0, 4.0, 3.0, 4.0, 4.0, 3.0, 3.0, 3.0, 3.0, 3.0, 5.0, 4.0, 4.0, 5.0, 4.0, 4.0, 5.0, 5.0, 5.0, 5.0, 4.0, 5.0, 3.0, 3.0, 3.0]}, {\"name\": \"35-44\", \"opacity\": 0.5, \"type\": \"histogram\", \"x\": [4.0, 2.0, 2.0, 1.0, 3.0, 3.0, null, 2.0, 2.0, 5.0, 2.0, 1.0, 5.0, 2.0, 2.0, 2.0, 3.0, 3.0, 4.0, 3.0, 3.0, 5.0, 4.0, 5.0, 3.0, 5.0, 3.0, 5.0, 3.0, 4.0, 1.0, 3.0, 2.0, 2.0, 4.0, 5.0, 3.0, 2.0, 4.0, 3.0, 4.0, 5.0, 3.0, 5.0, 5.0, 4.0, 5.0]}, {\"name\": \"45-54\", \"opacity\": 0.5, \"type\": \"histogram\", \"x\": [1.0, 1.0, 5.0, 3.0, 3.0, 2.0, 3.0, 3.0, 4.0, 4.0, 4.0, 5.0, 3.0, 3.0, 2.0, 3.0, 2.0, 3.0, 2.0, 3.0, 4.0, 4.0, 2.0, 4.0, 5.0, 5.0, null, 5.0]}, {\"name\": \"55-64\", \"opacity\": 0.5, \"type\": \"histogram\", \"x\": [1.0, 2.0, 1.0, 3.0, 5.0, 2.0, 4.0, 4.0, 5.0, 4.0, 5.0, 2.0, 3.0, 3.0, 3.0, 4.0, 5.0, 4.0, 4.0, 5.0, 5.0, 4.0, 4.0, 5.0, 2.0]}, {\"name\": \"18-24\", \"opacity\": 0.5, \"type\": \"histogram\", \"x\": [5.0, 2.0, 5.0, 5.0, 5.0, 5.0, 5.0, 5.0, 2.0, 4.0, 5.0, 5.0]}, {\"name\": \"65-74\", \"opacity\": 0.5, \"type\": \"histogram\", \"x\": [4.0, 3.0, 3.0, 5.0, 4.0, 5.0]}, {\"name\": \"Straight\", \"opacity\": 0.5, \"type\": \"histogram\", \"x\": [5.0, 4.0, 1.0, 1.0, 1.0, 1.0, 1.0, 2.0, 2.0, 1.0, 1.0, 3.0, 2.0, 2.0, 2.0, 1.0, 3.0, 3.0, 5.0, 3.0, 5.0, 5.0, 3.0, 5.0, 5.0, 3.0, 1.0, 2.0, 2.0, 5.0, 2.0, 4.0, 2.0, 4.0, 2.0, 3.0, 1.0, 2.0, 2.0, 3.0, 3.0, 2.0, 3.0, 4.0, 4.0, 4.0, 2.0, 3.0, 3.0, 3.0, 3.0, 2.0, 4.0, 3.0, 4.0, 5.0, 4.0, 4.0, 5.0, 4.0, 3.0, 4.0, 5.0, 4.0, 4.0, 3.0, 5.0, 3.0, 5.0, 5.0, 5.0, 5.0, 3.0, 5.0, 5.0, 5.0, 5.0, 3.0, 5.0, 5.0, 5.0, 5.0, 5.0, 4.0, 5.0, 3.0, 4.0, 4.0, 4.0, 5.0, 5.0, 4.0, 5.0, 5.0, 5.0, 5.0, null, 5.0, 1.0, 3.0, 2.0, 1.0, 2.0, 3.0, 3.0, 2.0, 2.0, 3.0, 4.0, 2.0, 5.0, 2.0, 3.0, 5.0, 2.0, 3.0, 2.0, 3.0, 3.0, 2.0, 3.0, 4.0, 4.0, 3.0, 3.0, 4.0, 3.0, 3.0, 3.0, 5.0, 5.0, 2.0, 3.0, 4.0, 4.0, 5.0, 4.0, 5.0, 4.0, 5.0, 5.0, 4.0, 5.0, 5.0, 4.0, 4.0, null, 5.0, 5.0, 5.0, 3.0, 3.0, 5.0, 5.0, 4.0, 4.0, 4.0, 5.0, 5.0, 5.0, 2.0]}, {\"name\": \"LGBTQ+\", \"opacity\": 0.5, \"type\": \"histogram\", \"x\": [3.0, 3.0, 1.0, 5.0, 3.0, 2.0, 3.0, 3.0, 5.0, 5.0, 5.0, 1.0, 3.0, 2.0, 3.0, 1.0, 2.0, 2.0, 2.0, 2.0, 3.0, 4.0, 4.0, 3.0, 4.0, 4.0, 3.0, 3.0, 5.0, 3.0, 4.0, 5.0, 5.0, 5.0, 3.0]}, {\"name\": \"1-3 years\", \"opacity\": 0.5, \"type\": \"histogram\", \"x\": [4.0, 3.0, 5.0, 4.0, 1.0, 1.0, 1.0, 1.0, 1.0, 2.0, 3.0, 3.0, 3.0, 3.0, 5.0, 1.0, 2.0, 2.0, 5.0, 4.0, 3.0, 3.0, 4.0, 2.0, 3.0, 3.0, 2.0, 3.0, 4.0, 5.0, 4.0, 3.0, 5.0, 5.0, 3.0, 5.0, 5.0, 4.0, 4.0, 5.0, null, 2.0, 2.0, 3.0, 2.0, 3.0, 2.0, 3.0, 2.0, 2.0, 2.0, 5.0, 2.0, 2.0, 3.0, 3.0, 4.0, 4.0, 3.0, 3.0, 2.0, 4.0, 4.0, 5.0, 5.0, 3.0, 5.0, 4.0, 5.0, 2.0]}, {\"name\": \"3-5 years\", \"opacity\": 0.5, \"type\": \"histogram\", \"x\": [1.0, 1.0, 2.0, 2.0, 5.0, 3.0, null, 2.0, 3.0, 5.0, 4.0, 5.0, 3.0, 5.0, 3.0, 3.0, 5.0, 5.0, 5.0, 1.0, 1.0, 3.0, 1.0, 1.0, 3.0, 3.0, 4.0, 4.0, 4.0, 3.0, 3.0, 5.0, 3.0, 5.0, 4.0, 4.0, 5.0, 5.0, 4.0, 5.0]}, {\"name\": \"< than a year\", \"opacity\": 0.5, \"type\": \"histogram\", \"x\": [3.0, 2.0, 4.0, 5.0, 5.0, 5.0, 5.0, 5.0, 5.0, 5.0, 3.0, 5.0, 5.0, 5.0, 5.0, 2.0, 2.0, 3.0, 4.0, 3.0, 3.0, 5.0, 4.0, 4.0, 5.0, 5.0, 5.0, 4.0, null, 5.0, 3.0, 5.0]}, {\"name\": \"5-10 years\", \"opacity\": 0.5, \"type\": \"histogram\", \"x\": [2.0, 1.0, 5.0, 5.0, 5.0, 3.0, 1.0, 2.0, 3.0, 3.0, 4.0, 4.0, 3.0, 3.0, 4.0, 3.0, 3.0, 4.0, 3.0, 2.0, 4.0, 3.0, 3.0, 3.0, 3.0, 5.0, 4.0, 4.0]}, {\"name\": \"10+ years\", \"opacity\": 0.5, \"type\": \"histogram\", \"x\": [4.0, 3.0, 4.0, 2.0, 2.0, 3.0, 3.0, 4.0, 4.0, 4.0, 5.0, 5.0, 4.0, 4.0, 2.0, 3.0, 4.0, 4.0, 5.0, 5.0, 4.0, 5.0, 5.0]}, {\"name\": \"1 year\", \"opacity\": 0.5, \"type\": \"histogram\", \"x\": [2.0, 2.0, 1.0, 2.0, 5.0, 5.0, 5.0, 5.0, 2.0, 5.0, 3.0]}, {\"name\": \"Full-time\", \"opacity\": 0.5, \"type\": \"histogram\", \"x\": [4.0, 3.0, 1.0, 1.0, 1.0, 1.0, 1.0, 2.0, 2.0, 1.0, 1.0, 3.0, 2.0, 2.0, 2.0, 1.0, 3.0, 3.0, 5.0, 3.0, 4.0, 5.0, 5.0, 3.0, 5.0, 5.0, 3.0, 3.0, 1.0, null, 1.0, 2.0, 2.0, 5.0, 2.0, 4.0, 2.0, 4.0, 2.0, 3.0, 1.0, 5.0, 3.0, 2.0, 2.0, 2.0, 3.0, 3.0, 2.0, 3.0, 4.0, 4.0, 4.0, 2.0, 3.0, 3.0, 3.0, 3.0, 2.0, 4.0, 3.0, 4.0, 3.0, 5.0, 4.0, 4.0, 5.0, 4.0, 3.0, 4.0, 5.0, 4.0, 4.0, 3.0, 3.0, 5.0, 5.0, 3.0, 5.0, 5.0, 5.0, 3.0, 5.0, 5.0, 5.0, 3.0, 5.0, 5.0, 5.0, 5.0, 4.0, 5.0, 1.0, 3.0, 4.0, 4.0, 4.0, 3.0, 5.0, 5.0, 4.0, 5.0, 5.0, null, 5.0, 1.0, 3.0, 2.0, 1.0, 2.0, 3.0, 2.0, 1.0, 3.0, 2.0, 3.0, 2.0, 2.0, 2.0, 3.0, 2.0, 4.0, 2.0, 5.0, 2.0, 3.0, 3.0, 2.0, 2.0, 3.0, 2.0, 3.0, 3.0, 2.0, 3.0, 3.0, 4.0, 4.0, 4.0, 3.0, 3.0, 3.0, 4.0, 4.0, 4.0, 4.0, 3.0, 3.0, 3.0, 3.0, 5.0, 3.0, 5.0, 2.0, 3.0, 4.0, 4.0, 4.0, 4.0, 5.0, 4.0, 5.0, 5.0, 5.0, 4.0, 5.0, 5.0, 4.0, 5.0, 4.0, 5.0, 5.0, 3.0, 5.0, 4.0, 5.0, 5.0, 5.0, 3.0, 2.0]}, {\"name\": \"Part-time\", \"opacity\": 0.5, \"type\": \"histogram\", \"x\": [5.0, 4.0, 3.0, 5.0, 5.0, 5.0, 5.0, 5.0, 5.0, 4.0, 3.0, 5.0, 5.0, null, 5.0, 3.0, 5.0, 4.0, 4.0]}, {\"name\": \"Seasonal\", \"opacity\": 0.5, \"type\": \"histogram\", \"x\": [5.0, 4.0, 3.0, 5.0, 5.0, 5.0, 5.0, 5.0, 5.0, 4.0, 3.0, 5.0, 5.0, null, 5.0, 3.0, 5.0, 4.0, 4.0]}, {\"name\": \"Part-time, Seasonal\", \"opacity\": 0.5, \"type\": \"histogram\", \"x\": [5.0, 4.0, 3.0, 5.0, 5.0, 5.0, 5.0, 5.0, 5.0, 4.0, 3.0, 5.0, 5.0, null, 5.0, 3.0, 5.0, 4.0, 4.0]}],\n",
       "                        {\"barmode\": \"stack\", \"template\": {\"data\": {\"bar\": [{\"error_x\": {\"color\": \"#2a3f5f\"}, \"error_y\": {\"color\": \"#2a3f5f\"}, \"marker\": {\"line\": {\"color\": \"#E5ECF6\", \"width\": 0.5}}, \"type\": \"bar\"}], \"barpolar\": [{\"marker\": {\"line\": {\"color\": \"#E5ECF6\", \"width\": 0.5}}, \"type\": \"barpolar\"}], \"carpet\": [{\"aaxis\": {\"endlinecolor\": \"#2a3f5f\", \"gridcolor\": \"white\", \"linecolor\": \"white\", \"minorgridcolor\": \"white\", \"startlinecolor\": \"#2a3f5f\"}, \"baxis\": {\"endlinecolor\": \"#2a3f5f\", \"gridcolor\": \"white\", \"linecolor\": \"white\", \"minorgridcolor\": \"white\", \"startlinecolor\": \"#2a3f5f\"}, \"type\": \"carpet\"}], \"choropleth\": [{\"colorbar\": {\"outlinewidth\": 0, \"ticks\": \"\"}, \"type\": \"choropleth\"}], \"contour\": [{\"colorbar\": {\"outlinewidth\": 0, \"ticks\": \"\"}, \"colorscale\": [[0.0, \"#0d0887\"], [0.1111111111111111, \"#46039f\"], [0.2222222222222222, \"#7201a8\"], [0.3333333333333333, \"#9c179e\"], [0.4444444444444444, \"#bd3786\"], [0.5555555555555556, \"#d8576b\"], [0.6666666666666666, \"#ed7953\"], [0.7777777777777778, \"#fb9f3a\"], [0.8888888888888888, \"#fdca26\"], [1.0, \"#f0f921\"]], \"type\": \"contour\"}], \"contourcarpet\": [{\"colorbar\": {\"outlinewidth\": 0, \"ticks\": \"\"}, \"type\": \"contourcarpet\"}], \"heatmap\": [{\"colorbar\": {\"outlinewidth\": 0, \"ticks\": \"\"}, \"colorscale\": [[0.0, \"#0d0887\"], [0.1111111111111111, \"#46039f\"], [0.2222222222222222, \"#7201a8\"], [0.3333333333333333, \"#9c179e\"], [0.4444444444444444, \"#bd3786\"], [0.5555555555555556, \"#d8576b\"], [0.6666666666666666, \"#ed7953\"], [0.7777777777777778, \"#fb9f3a\"], [0.8888888888888888, \"#fdca26\"], [1.0, \"#f0f921\"]], \"type\": \"heatmap\"}], \"heatmapgl\": [{\"colorbar\": {\"outlinewidth\": 0, \"ticks\": \"\"}, \"colorscale\": [[0.0, \"#0d0887\"], [0.1111111111111111, \"#46039f\"], [0.2222222222222222, \"#7201a8\"], [0.3333333333333333, \"#9c179e\"], [0.4444444444444444, \"#bd3786\"], [0.5555555555555556, \"#d8576b\"], [0.6666666666666666, \"#ed7953\"], [0.7777777777777778, \"#fb9f3a\"], [0.8888888888888888, \"#fdca26\"], [1.0, \"#f0f921\"]], \"type\": \"heatmapgl\"}], \"histogram\": [{\"marker\": {\"colorbar\": {\"outlinewidth\": 0, \"ticks\": \"\"}}, \"type\": \"histogram\"}], \"histogram2d\": [{\"colorbar\": {\"outlinewidth\": 0, \"ticks\": \"\"}, \"colorscale\": [[0.0, \"#0d0887\"], [0.1111111111111111, \"#46039f\"], [0.2222222222222222, \"#7201a8\"], [0.3333333333333333, \"#9c179e\"], [0.4444444444444444, \"#bd3786\"], [0.5555555555555556, \"#d8576b\"], [0.6666666666666666, \"#ed7953\"], [0.7777777777777778, \"#fb9f3a\"], [0.8888888888888888, \"#fdca26\"], [1.0, \"#f0f921\"]], \"type\": \"histogram2d\"}], \"histogram2dcontour\": [{\"colorbar\": {\"outlinewidth\": 0, \"ticks\": \"\"}, \"colorscale\": [[0.0, \"#0d0887\"], [0.1111111111111111, \"#46039f\"], [0.2222222222222222, \"#7201a8\"], [0.3333333333333333, \"#9c179e\"], [0.4444444444444444, \"#bd3786\"], [0.5555555555555556, \"#d8576b\"], [0.6666666666666666, \"#ed7953\"], [0.7777777777777778, \"#fb9f3a\"], [0.8888888888888888, \"#fdca26\"], [1.0, \"#f0f921\"]], \"type\": \"histogram2dcontour\"}], \"mesh3d\": [{\"colorbar\": {\"outlinewidth\": 0, \"ticks\": \"\"}, \"type\": \"mesh3d\"}], \"parcoords\": [{\"line\": {\"colorbar\": {\"outlinewidth\": 0, \"ticks\": \"\"}}, \"type\": \"parcoords\"}], \"pie\": [{\"automargin\": true, \"type\": \"pie\"}], \"scatter\": [{\"marker\": {\"colorbar\": {\"outlinewidth\": 0, \"ticks\": \"\"}}, \"type\": \"scatter\"}], \"scatter3d\": [{\"line\": {\"colorbar\": {\"outlinewidth\": 0, \"ticks\": \"\"}}, \"marker\": {\"colorbar\": {\"outlinewidth\": 0, \"ticks\": \"\"}}, \"type\": \"scatter3d\"}], \"scattercarpet\": [{\"marker\": {\"colorbar\": {\"outlinewidth\": 0, \"ticks\": \"\"}}, \"type\": \"scattercarpet\"}], \"scattergeo\": [{\"marker\": {\"colorbar\": {\"outlinewidth\": 0, \"ticks\": \"\"}}, \"type\": \"scattergeo\"}], \"scattergl\": [{\"marker\": {\"colorbar\": {\"outlinewidth\": 0, \"ticks\": \"\"}}, \"type\": \"scattergl\"}], \"scattermapbox\": [{\"marker\": {\"colorbar\": {\"outlinewidth\": 0, \"ticks\": \"\"}}, \"type\": \"scattermapbox\"}], \"scatterpolar\": [{\"marker\": {\"colorbar\": {\"outlinewidth\": 0, \"ticks\": \"\"}}, \"type\": \"scatterpolar\"}], \"scatterpolargl\": [{\"marker\": {\"colorbar\": {\"outlinewidth\": 0, \"ticks\": \"\"}}, \"type\": \"scatterpolargl\"}], \"scatterternary\": [{\"marker\": {\"colorbar\": {\"outlinewidth\": 0, \"ticks\": \"\"}}, \"type\": \"scatterternary\"}], \"surface\": [{\"colorbar\": {\"outlinewidth\": 0, \"ticks\": \"\"}, \"colorscale\": [[0.0, \"#0d0887\"], [0.1111111111111111, \"#46039f\"], [0.2222222222222222, \"#7201a8\"], [0.3333333333333333, \"#9c179e\"], [0.4444444444444444, \"#bd3786\"], [0.5555555555555556, \"#d8576b\"], [0.6666666666666666, \"#ed7953\"], [0.7777777777777778, \"#fb9f3a\"], [0.8888888888888888, \"#fdca26\"], [1.0, \"#f0f921\"]], \"type\": \"surface\"}], \"table\": [{\"cells\": {\"fill\": {\"color\": \"#EBF0F8\"}, \"line\": {\"color\": \"white\"}}, \"header\": {\"fill\": {\"color\": \"#C8D4E3\"}, \"line\": {\"color\": \"white\"}}, \"type\": \"table\"}]}, \"layout\": {\"annotationdefaults\": {\"arrowcolor\": \"#2a3f5f\", \"arrowhead\": 0, \"arrowwidth\": 1}, \"coloraxis\": {\"colorbar\": {\"outlinewidth\": 0, \"ticks\": \"\"}}, \"colorscale\": {\"diverging\": [[0, \"#8e0152\"], [0.1, \"#c51b7d\"], [0.2, \"#de77ae\"], [0.3, \"#f1b6da\"], [0.4, \"#fde0ef\"], [0.5, \"#f7f7f7\"], [0.6, \"#e6f5d0\"], [0.7, \"#b8e186\"], [0.8, \"#7fbc41\"], [0.9, \"#4d9221\"], [1, \"#276419\"]], \"sequential\": [[0.0, \"#0d0887\"], [0.1111111111111111, \"#46039f\"], [0.2222222222222222, \"#7201a8\"], [0.3333333333333333, \"#9c179e\"], [0.4444444444444444, \"#bd3786\"], [0.5555555555555556, \"#d8576b\"], [0.6666666666666666, \"#ed7953\"], [0.7777777777777778, \"#fb9f3a\"], [0.8888888888888888, \"#fdca26\"], [1.0, \"#f0f921\"]], \"sequentialminus\": [[0.0, \"#0d0887\"], [0.1111111111111111, \"#46039f\"], [0.2222222222222222, \"#7201a8\"], [0.3333333333333333, \"#9c179e\"], [0.4444444444444444, \"#bd3786\"], [0.5555555555555556, \"#d8576b\"], [0.6666666666666666, \"#ed7953\"], [0.7777777777777778, \"#fb9f3a\"], [0.8888888888888888, \"#fdca26\"], [1.0, \"#f0f921\"]]}, \"colorway\": [\"#636efa\", \"#EF553B\", \"#00cc96\", \"#ab63fa\", \"#FFA15A\", \"#19d3f3\", \"#FF6692\", \"#B6E880\", \"#FF97FF\", \"#FECB52\"], \"font\": {\"color\": \"#2a3f5f\"}, \"geo\": {\"bgcolor\": \"white\", \"lakecolor\": \"white\", \"landcolor\": \"#E5ECF6\", \"showlakes\": true, \"showland\": true, \"subunitcolor\": \"white\"}, \"hoverlabel\": {\"align\": \"left\"}, \"hovermode\": \"closest\", \"mapbox\": {\"style\": \"light\"}, \"paper_bgcolor\": \"white\", \"plot_bgcolor\": \"#E5ECF6\", \"polar\": {\"angularaxis\": {\"gridcolor\": \"white\", \"linecolor\": \"white\", \"ticks\": \"\"}, \"bgcolor\": \"#E5ECF6\", \"radialaxis\": {\"gridcolor\": \"white\", \"linecolor\": \"white\", \"ticks\": \"\"}}, \"scene\": {\"xaxis\": {\"backgroundcolor\": \"#E5ECF6\", \"gridcolor\": \"white\", \"gridwidth\": 2, \"linecolor\": \"white\", \"showbackground\": true, \"ticks\": \"\", \"zerolinecolor\": \"white\"}, \"yaxis\": {\"backgroundcolor\": \"#E5ECF6\", \"gridcolor\": \"white\", \"gridwidth\": 2, \"linecolor\": \"white\", \"showbackground\": true, \"ticks\": \"\", \"zerolinecolor\": \"white\"}, \"zaxis\": {\"backgroundcolor\": \"#E5ECF6\", \"gridcolor\": \"white\", \"gridwidth\": 2, \"linecolor\": \"white\", \"showbackground\": true, \"ticks\": \"\", \"zerolinecolor\": \"white\"}}, \"shapedefaults\": {\"line\": {\"color\": \"#2a3f5f\"}}, \"ternary\": {\"aaxis\": {\"gridcolor\": \"white\", \"linecolor\": \"white\", \"ticks\": \"\"}, \"baxis\": {\"gridcolor\": \"white\", \"linecolor\": \"white\", \"ticks\": \"\"}, \"bgcolor\": \"#E5ECF6\", \"caxis\": {\"gridcolor\": \"white\", \"linecolor\": \"white\", \"ticks\": \"\"}}, \"title\": {\"x\": 0.05}, \"xaxis\": {\"automargin\": true, \"gridcolor\": \"white\", \"linecolor\": \"white\", \"ticks\": \"\", \"title\": {\"standoff\": 15}, \"zerolinecolor\": \"white\", \"zerolinewidth\": 2}, \"yaxis\": {\"automargin\": true, \"gridcolor\": \"white\", \"linecolor\": \"white\", \"ticks\": \"\", \"title\": {\"standoff\": 15}, \"zerolinecolor\": \"white\", \"zerolinewidth\": 2}}}, \"title\": {\"text\": \"Everyone at this organization is treated fairly regardless of ethnic background, race, gender, age, disability, or other differences not related to job performance.\"}, \"updatemenus\": [{\"buttons\": [{\"args\": [{\"visible\": [true, false, false, false, false, false, false, false, false, false, false, false, false, false, false, false, false, false, false, false, false, false, false, false, false]}, {\"title\": \"Everyone at this organization is treated fairly regardless of ethnic background, race, gender, age, disability, or other differences not related to job performance.\"}], \"label\": \"Total\", \"method\": \"update\"}, {\"args\": [{\"visible\": [false, true, true, true, true, true, true, false, false, false, false, false, false, false, false, false, false, false, false, false, false, false, false, false, false]}, {\"title\": \"Everyone at this organization is treated fairly regardless of ethnic background, race, gender, age, disability, or other differences not related to job performance.\"}], \"label\": \"Race\", \"method\": \"update\"}, {\"args\": [{\"visible\": [false, false, false, false, false, false, false, true, true, true, true, true, true, false, false, false, false, false, false, false, false, false, false, false, false]}, {\"title\": \"Everyone at this organization is treated fairly regardless of ethnic background, race, gender, age, disability, or other differences not related to job performance.\"}], \"label\": \"Age\", \"method\": \"update\"}, {\"args\": [{\"visible\": [false, false, false, false, false, false, false, false, false, false, false, false, false, true, true, false, false, false, false, false, false, false, false, false, false]}, {\"title\": \"Everyone at this organization is treated fairly regardless of ethnic background, race, gender, age, disability, or other differences not related to job performance.\"}], \"label\": \"Sexual Orientation\", \"method\": \"update\"}, {\"args\": [{\"visible\": [false, false, false, false, false, false, false, false, false, false, false, false, false, false, false, true, true, true, true, true, true, false, false, false, false]}, {\"title\": \"Everyone at this organization is treated fairly regardless of ethnic background, race, gender, age, disability, or other differences not related to job performance.  \"}], \"label\": \"Tenure\", \"method\": \"update\"}, {\"args\": [{\"visible\": [false, false, false, false, false, false, false, false, false, false, false, false, false, false, false, false, false, false, false, false, false, true, true, true, true]}, {\"title\": \"Everyone at this organization is treated fairly regardless of ethnic background, race, gender, age, disability, or other differences not related to job performance.  \"}], \"label\": \"Status\", \"method\": \"update\"}], \"type\": \"buttons\"}]},\n",
       "                        {\"responsive\": true}\n",
       "                    ).then(function(){\n",
       "                            \n",
       "var gd = document.getElementById('e79065f4-06ae-4a5b-ac4e-01032e7dc24a');\n",
       "var x = new MutationObserver(function (mutations, observer) {{\n",
       "        var display = window.getComputedStyle(gd).display;\n",
       "        if (!display || display === 'none') {{\n",
       "            console.log([gd, 'removed!']);\n",
       "            Plotly.purge(gd);\n",
       "            observer.disconnect();\n",
       "        }}\n",
       "}});\n",
       "\n",
       "// Listen for the removal of the full notebook cells\n",
       "var notebookContainer = gd.closest('#notebook-container');\n",
       "if (notebookContainer) {{\n",
       "    x.observe(notebookContainer, {childList: true});\n",
       "}}\n",
       "\n",
       "// Listen for the clearing of the current output cell\n",
       "var outputEl = gd.closest('.output');\n",
       "if (outputEl) {{\n",
       "    x.observe(outputEl, {childList: true});\n",
       "}}\n",
       "\n",
       "                        })\n",
       "                };\n",
       "                });\n",
       "            </script>\n",
       "        </div>"
      ]
     },
     "metadata": {},
     "output_type": "display_data"
    }
   ],
   "source": [
    "#defining list_updatemenus\n",
    "list_updatemenus = [{'label': 'Total',\n",
    "                     'method': 'update',\n",
    "                     'args': [{'visible': [True, False, False, False, False, False, False, False, False, False, False, False, False, False, False, False, False, False, False, False, False, False, False, False, False]}, {'title': 'Everyone at this organization is treated fairly regardless of ethnic background, race, gender, age, disability, or other differences not related to job performance.'}]},\n",
    "                    {'label': 'Race',\n",
    "                     'method': 'update',\n",
    "                     'args': [{'visible': [False, True, True, True, True, True, True, False, False, False, False, False, False, False, False, False, False, False, False, False, False, False, False, False, False]}, {'title': 'Everyone at this organization is treated fairly regardless of ethnic background, race, gender, age, disability, or other differences not related to job performance.'}]},\n",
    "                    {'label': 'Age',\n",
    "                     'method': 'update',\n",
    "                     'args': [{'visible': [False, False, False, False, False, False, False, True, True, True, True, True, True, False, False, False, False, False, False, False, False, False, False, False, False]}, {'title': 'Everyone at this organization is treated fairly regardless of ethnic background, race, gender, age, disability, or other differences not related to job performance.'}]},\n",
    "                    {'label': 'Sexual Orientation',\n",
    "                     'method': 'update',\n",
    "                     'args': [{'visible': [False, False, False, False, False, False, False, False, False, False, False, False, False, True, True, False, False, False, False, False, False, False, False, False, False]}, {'title': 'Everyone at this organization is treated fairly regardless of ethnic background, race, gender, age, disability, or other differences not related to job performance.'}]},\n",
    "                   {'label': 'Tenure',\n",
    "                     'method': 'update',\n",
    "                     'args': [{'visible': [False, False, False, False, False, False, False, False, False, False, False, False, False, False, False, True, True, True, True, True, True, False, False, False, False]}, {'title': 'Everyone at this organization is treated fairly regardless of ethnic background, race, gender, age, disability, or other differences not related to job performance.  '}]},\n",
    "                   {'label': 'Status',\n",
    "                     'method': 'update',\n",
    "                     'args': [{'visible': [False, False, False, False, False, False, False, False, False, False, False, False, False, False, False, False, False, False, False, False, False, True, True, True, True]}, {'title': 'Everyone at this organization is treated fairly regardless of ethnic background, race, gender, age, disability, or other differences not related to job performance.  '}]}\n",
    "                   ]\n",
    "#defining graph objects\n",
    "x_total = dei[\"Everyone at this organization is treated fairly regardless of ethnic background, race, gender, age, disability, or other differences not related to job performance.  \"]\n",
    "x_white = dei[dei['What is your race? ']==\"White\"][\"Everyone at this organization is treated fairly regardless of ethnic background, race, gender, age, disability, or other differences not related to job performance.  \"]\n",
    "x_latinx = dei[dei['What is your race? ']==\"Latino/Hispanic\"][\"Everyone at this organization is treated fairly regardless of ethnic background, race, gender, age, disability, or other differences not related to job performance.  \"]\n",
    "x_black = dei[dei['What is your race? ']==\"Black/ African American\"][\"Everyone at this organization is treated fairly regardless of ethnic background, race, gender, age, disability, or other differences not related to job performance.  \"]\n",
    "x_two_plus = dei[dei['What is your race? ']==\"Two or more Races\"][\"Everyone at this organization is treated fairly regardless of ethnic background, race, gender, age, disability, or other differences not related to job performance.  \"]\n",
    "x_asian = dei[dei['What is your race? ']==\"Asian\"][\"Everyone at this organization is treated fairly regardless of ethnic background, race, gender, age, disability, or other differences not related to job performance.  \"]\n",
    "x_first_peoples = dei[dei['What is your race? ']==\"Indian/ Native American\"][\"Everyone at this organization is treated fairly regardless of ethnic background, race, gender, age, disability, or other differences not related to job performance.  \"]\n",
    "x_age1 = dei[dei[\"What is your age?\"]==\"25-34\"][\"Everyone at this organization is treated fairly regardless of ethnic background, race, gender, age, disability, or other differences not related to job performance.  \"]\n",
    "x_age2 = dei[dei[\"What is your age?\"]==\"35-44\"][\"Everyone at this organization is treated fairly regardless of ethnic background, race, gender, age, disability, or other differences not related to job performance.  \"]\n",
    "x_age3 = dei[dei[\"What is your age?\"]==\"45-54\"][\"Everyone at this organization is treated fairly regardless of ethnic background, race, gender, age, disability, or other differences not related to job performance.  \"]\n",
    "x_age4 = dei[dei[\"What is your age?\"]==\"55-64\"][\"Everyone at this organization is treated fairly regardless of ethnic background, race, gender, age, disability, or other differences not related to job performance.  \"]\n",
    "x_age5 = dei[dei[\"What is your age?\"]==\"18-24\"][\"Everyone at this organization is treated fairly regardless of ethnic background, race, gender, age, disability, or other differences not related to job performance.  \"]\n",
    "x_age6 = dei[dei[\"What is your age?\"]==\"65-74\"][\"Everyone at this organization is treated fairly regardless of ethnic background, race, gender, age, disability, or other differences not related to job performance.  \"]\n",
    "x_straight = dei[dei[\"What is your sexual orientation?\"]==\"Straight\"][\"Everyone at this organization is treated fairly regardless of ethnic background, race, gender, age, disability, or other differences not related to job performance.  \"]\n",
    "x_lgbtq = dei[dei[\"What is your sexual orientation?\"]==\"LGBTQ+\"][\"Everyone at this organization is treated fairly regardless of ethnic background, race, gender, age, disability, or other differences not related to job performance.  \"]\n",
    "x_tenure1 = dei[dei[\"How long have you worked for FC?\"]==\"1-3 years\"][\"Everyone at this organization is treated fairly regardless of ethnic background, race, gender, age, disability, or other differences not related to job performance.  \"]\n",
    "x_tenure2 = dei[dei[\"How long have you worked for FC?\"]==\"3-5 years\"][\"Everyone at this organization is treated fairly regardless of ethnic background, race, gender, age, disability, or other differences not related to job performance.  \"]\n",
    "x_tenure3 = dei[dei[\"How long have you worked for FC?\"]==\"Less than a year\"][\"Everyone at this organization is treated fairly regardless of ethnic background, race, gender, age, disability, or other differences not related to job performance.  \"]\n",
    "x_tenure4 = dei[dei[\"How long have you worked for FC?\"]==\"5-10 years\"][\"Everyone at this organization is treated fairly regardless of ethnic background, race, gender, age, disability, or other differences not related to job performance.  \"]\n",
    "x_tenure5 = dei[dei[\"How long have you worked for FC?\"]==\"10+ years\"][\"Everyone at this organization is treated fairly regardless of ethnic background, race, gender, age, disability, or other differences not related to job performance.  \"]\n",
    "x_tenure6 = dei[dei[\"How long have you worked for FC?\"]==\"1 year\"][\"Everyone at this organization is treated fairly regardless of ethnic background, race, gender, age, disability, or other differences not related to job performance.  \"]\n",
    "x_status1 = dei[dei[\"What is your employment status?\"]==\"Full-time\"][\"Everyone at this organization is treated fairly regardless of ethnic background, race, gender, age, disability, or other differences not related to job performance.  \"]\n",
    "x_status2 = dei[dei[\"What is your employment status?\"]==\"Part-time\"][\"Everyone at this organization is treated fairly regardless of ethnic background, race, gender, age, disability, or other differences not related to job performance.  \"]\n",
    "x_status3 = dei[dei[\"What is your employment status?\"]==\"Seasonal\"][\"Everyone at this organization is treated fairly regardless of ethnic background, race, gender, age, disability, or other differences not related to job performance.  \"]\n",
    "x_status4 = dei[dei[\"What is your employment status?\"]==\"Part-time, Seasonal\"][\"Everyone at this organization is treated fairly regardless of ethnic background, race, gender, age, disability, or other differences not related to job performance.  \"]\n",
    "#defining data\n",
    "data=[go.Histogram(x=x_total,name='  ',opacity = .5),\n",
    "      go.Histogram(x=x_white,name='White',opacity = .5),\n",
    "      go.Histogram(x=x_latinx,name='Latino/Hispanic',opacity = .5),\n",
    "      go.Histogram(x=x_black,name='Black/African American',opacity = .5),\n",
    "      go.Histogram(x=x_two_plus,name='Two or more Races',opacity = .5),\n",
    "      go.Histogram(x=x_asian,name='Asian',opacity = .5),\n",
    "      go.Histogram(x=x_first_peoples,name='Indian/Native American',opacity = .5),\n",
    "      go.Histogram(x=x_age1,name='25-34', opacity = .5),\n",
    "      go.Histogram(x=x_age2,name='35-44',opacity = .5),\n",
    "      go.Histogram(x=x_age3,name='45-54',opacity = .5),\n",
    "      go.Histogram(x=x_age4,name='55-64',opacity = .5),\n",
    "      go.Histogram(x=x_age5,name='18-24',opacity = .5),\n",
    "      go.Histogram(x=x_age6,name='65-74',opacity = .5),\n",
    "      go.Histogram(x=x_straight,name='Straight',opacity = .5),\n",
    "      go.Histogram(x=x_lgbtq,name='LGBTQ+',opacity = .5),\n",
    "      go.Histogram(x=x_tenure1,name='1-3 years',opacity = .5),\n",
    "      go.Histogram(x=x_tenure2,name='3-5 years',opacity = .5),\n",
    "      go.Histogram(x=x_tenure3,name='< than a year',opacity = .5),\n",
    "      go.Histogram(x=x_tenure4,name='5-10 years',opacity = .5),\n",
    "      go.Histogram(x=x_tenure5,name='10+ years',opacity = .5),\n",
    "      go.Histogram(x=x_tenure6,name='1 year',opacity = .5),\n",
    "      go.Histogram(x=x_status1,name='Full-time',opacity = .5),\n",
    "      go.Histogram(x=x_status2,name='Part-time',opacity = .5),\n",
    "      go.Histogram(x=x_status2,name='Seasonal',opacity = .5),\n",
    "      go.Histogram(x=x_status2,name='Part-time, Seasonal',opacity = .5)\n",
    "     \n",
    "     ]\n",
    "\n",
    "\n",
    "#defining layout\n",
    "layout=go.Layout(title='Everyone at this organization is treated fairly regardless of ethnic background, race, gender, age, disability, or other differences not related to job performance.',updatemenus=list([dict(buttons= list_updatemenus,type = 'buttons')]),barmode='stack')\n",
    "\n",
    "#defining layout and plotting\n",
    "fig = go.Figure(data,layout)\n",
    "fig.show()"
   ]
  },
  {
   "cell_type": "markdown",
   "metadata": {},
   "source": [
    "### I have the same opportunities for advancement as other team members at my organization with similar experience and performance levels."
   ]
  },
  {
   "cell_type": "code",
   "execution_count": 25,
   "metadata": {},
   "outputs": [
    {
     "data": {
      "application/vnd.plotly.v1+json": {
       "config": {
        "plotlyServerURL": "https://plot.ly"
       },
       "data": [
        {
         "name": "   ",
         "opacity": 0.5,
         "type": "histogram",
         "x": [
          3,
          3,
          4,
          5,
          1,
          1,
          1,
          1,
          1,
          3,
          3,
          1,
          2,
          1,
          1,
          1,
          1,
          1,
          5,
          3,
          2,
          5,
          2,
          4,
          1,
          4,
          4,
          5,
          3,
          4,
          1,
          1,
          null,
          1,
          2,
          2,
          4,
          3,
          3,
          1,
          3,
          3,
          3,
          1,
          5,
          2,
          2,
          4,
          3,
          4,
          2,
          3,
          4,
          4,
          2,
          4,
          3,
          3,
          3,
          3,
          2,
          1,
          3,
          4,
          4,
          4,
          3,
          5,
          4,
          4,
          5,
          3,
          1,
          5,
          5,
          4,
          3,
          4,
          3,
          5,
          5,
          5,
          5,
          5,
          2,
          5,
          5,
          5,
          5,
          5,
          5,
          5,
          5,
          4,
          5,
          5,
          5,
          5,
          3,
          4,
          5,
          1,
          3,
          4,
          5,
          5,
          4,
          5,
          5,
          5,
          5,
          5,
          5,
          5,
          5,
          4,
          2,
          4,
          4,
          5,
          2,
          3,
          1,
          3,
          4,
          2,
          4,
          2,
          3,
          2,
          3,
          3,
          5,
          3,
          5,
          4,
          3,
          4,
          3,
          3,
          4,
          3,
          3,
          3,
          2,
          2,
          5,
          3,
          5,
          3,
          4,
          4,
          4,
          3,
          2,
          4,
          4,
          4,
          5,
          3,
          4,
          5,
          5,
          3,
          4,
          4,
          4,
          4,
          4,
          4,
          4,
          5,
          5,
          4,
          5,
          5,
          4,
          4,
          5,
          5,
          5,
          5,
          3,
          3,
          5,
          5,
          5,
          5,
          5,
          null,
          5,
          5,
          5,
          3,
          4,
          5,
          5,
          5,
          4,
          4,
          5,
          5,
          2,
          null,
          3
         ]
        },
        {
         "name": "White",
         "opacity": 0.5,
         "type": "histogram",
         "x": [
          2,
          4,
          4,
          5,
          2,
          3,
          1,
          3,
          4,
          2,
          4,
          2,
          3,
          2,
          3,
          3,
          5,
          3,
          5,
          4,
          3,
          4,
          3,
          3,
          4,
          3,
          3,
          3,
          2,
          2,
          5,
          3,
          5,
          3,
          4,
          4,
          4,
          3,
          2,
          4,
          4,
          4,
          5,
          3,
          4,
          5,
          5,
          3,
          4,
          4,
          4,
          4,
          4,
          4,
          4,
          5,
          5,
          4,
          5,
          5,
          4,
          4,
          5,
          5,
          5,
          5,
          3,
          3,
          5,
          5,
          5,
          5,
          5,
          null,
          5,
          5,
          5,
          3,
          4,
          5,
          5,
          5,
          4,
          4,
          5,
          5
         ]
        },
        {
         "name": "Latino/Hispanic",
         "opacity": 0.5,
         "type": "histogram",
         "x": [
          1,
          null,
          1,
          2,
          2,
          4,
          3,
          3,
          1,
          3,
          3,
          3,
          1,
          5,
          2,
          2,
          4,
          3,
          4,
          2,
          3,
          4,
          4,
          2,
          4,
          3,
          3,
          3,
          3,
          2,
          1,
          3,
          4,
          4,
          4,
          3,
          5,
          4,
          4,
          5,
          3,
          1,
          5,
          5,
          4,
          3,
          4,
          3,
          5,
          5,
          5,
          5,
          5,
          2,
          5,
          5,
          5,
          5,
          5,
          5,
          5,
          5,
          4,
          5,
          5,
          5,
          5,
          3
         ]
        },
        {
         "name": "Black/African American",
         "opacity": 0.5,
         "type": "histogram",
         "x": [
          1,
          1,
          1,
          1,
          1,
          3,
          3,
          1,
          2,
          1,
          1,
          1,
          1,
          1,
          5,
          3,
          2,
          5,
          2,
          4,
          1,
          4,
          4,
          5
         ]
        },
        {
         "name": "Two or more Races",
         "opacity": 0.5,
         "type": "histogram",
         "x": [
          1,
          3,
          4,
          5,
          5,
          4,
          5,
          5,
          5,
          5,
          5,
          5,
          5,
          5,
          4
         ]
        },
        {
         "name": "Asian",
         "opacity": 0.5,
         "type": "histogram",
         "x": [
          3,
          4,
          5
         ]
        },
        {
         "name": "Indian/Native American",
         "opacity": 0.5,
         "type": "histogram",
         "x": [
          4,
          1
         ]
        },
        {
         "name": "25-34",
         "opacity": 0.5,
         "type": "histogram",
         "x": [
          3,
          5,
          1,
          1,
          1,
          1,
          1,
          5,
          5,
          4,
          4,
          5,
          1,
          1,
          3,
          3,
          2,
          4,
          4,
          2,
          4,
          4,
          4,
          2,
          1,
          3,
          4,
          5,
          5,
          5,
          4,
          4,
          3,
          5,
          5,
          5,
          5,
          5,
          5,
          5,
          5,
          5,
          1,
          5,
          4,
          5,
          5,
          5,
          4,
          4,
          5,
          2,
          3,
          4,
          2,
          4,
          3,
          4,
          3,
          3,
          3,
          3,
          5,
          2,
          4,
          4,
          3,
          4,
          5,
          3,
          4,
          4,
          4,
          5,
          5,
          4,
          5,
          4,
          5,
          5,
          5,
          5,
          5,
          3,
          4,
          null
         ]
        },
        {
         "name": "35-44",
         "opacity": 0.5,
         "type": "histogram",
         "x": [
          3,
          3,
          1,
          1,
          2,
          2,
          null,
          2,
          2,
          4,
          3,
          1,
          5,
          3,
          3,
          3,
          3,
          3,
          4,
          3,
          1,
          5,
          3,
          2,
          5,
          5,
          4,
          3,
          3,
          5,
          2,
          4,
          1,
          3,
          5,
          5,
          4,
          2,
          4,
          4,
          5,
          4,
          4,
          5,
          5,
          4,
          5
         ]
        },
        {
         "name": "45-54",
         "opacity": 0.5,
         "type": "histogram",
         "x": [
          1,
          1,
          1,
          1,
          3,
          2,
          3,
          4,
          4,
          3,
          4,
          5,
          3,
          3,
          3,
          3,
          4,
          3,
          3,
          5,
          3,
          4,
          4,
          4,
          5,
          5,
          null,
          5
         ]
        },
        {
         "name": "55-64",
         "opacity": 0.5,
         "type": "histogram",
         "x": [
          1,
          3,
          2,
          3,
          3,
          1,
          2,
          4,
          5,
          4,
          5,
          2,
          2,
          3,
          5,
          5,
          3,
          3,
          5,
          5,
          5,
          5,
          4,
          2,
          3
         ]
        },
        {
         "name": "18-24",
         "opacity": 0.5,
         "type": "histogram",
         "x": [
          4,
          3,
          5,
          5,
          5,
          5,
          5,
          5,
          2,
          4,
          5,
          5
         ]
        },
        {
         "name": "65-74",
         "opacity": 0.5,
         "type": "histogram",
         "x": [
          4,
          4,
          5,
          5,
          5,
          4
         ]
        },
        {
         "name": "Straight",
         "opacity": 0.5,
         "type": "histogram",
         "x": [
          4,
          5,
          1,
          1,
          1,
          1,
          1,
          3,
          3,
          1,
          2,
          1,
          1,
          1,
          1,
          1,
          3,
          2,
          5,
          2,
          1,
          4,
          4,
          5,
          3,
          4,
          1,
          2,
          2,
          4,
          3,
          3,
          1,
          3,
          3,
          3,
          1,
          2,
          3,
          4,
          2,
          3,
          4,
          4,
          2,
          4,
          3,
          3,
          3,
          3,
          2,
          3,
          4,
          4,
          4,
          5,
          4,
          4,
          5,
          3,
          1,
          5,
          5,
          4,
          3,
          3,
          5,
          5,
          2,
          5,
          5,
          5,
          5,
          5,
          5,
          5,
          5,
          4,
          5,
          5,
          5,
          5,
          3,
          4,
          5,
          3,
          4,
          5,
          5,
          5,
          5,
          5,
          5,
          5,
          5,
          5,
          5,
          4,
          2,
          4,
          4,
          5,
          1,
          4,
          4,
          3,
          2,
          3,
          5,
          3,
          5,
          4,
          4,
          3,
          4,
          3,
          3,
          3,
          2,
          2,
          5,
          5,
          4,
          4,
          3,
          4,
          5,
          5,
          3,
          4,
          4,
          4,
          4,
          4,
          5,
          5,
          4,
          4,
          4,
          5,
          3,
          3,
          5,
          5,
          5,
          5,
          null,
          5,
          5,
          5,
          3,
          4,
          5,
          5,
          5,
          4,
          4,
          5,
          5,
          2,
          3
         ]
        },
        {
         "name": "LGBTQ+",
         "opacity": 0.5,
         "type": "histogram",
         "x": [
          5,
          1,
          1,
          5,
          2,
          4,
          1,
          3,
          5,
          5,
          5,
          1,
          4,
          2,
          3,
          3,
          2,
          2,
          3,
          3,
          3,
          3,
          4,
          2,
          4,
          4,
          3,
          4,
          4,
          4,
          5,
          5,
          5,
          5,
          null
         ]
        },
        {
         "name": "1-3 years",
         "opacity": 0.5,
         "type": "histogram",
         "x": [
          3,
          3,
          4,
          5,
          1,
          1,
          1,
          1,
          2,
          1,
          5,
          3,
          2,
          4,
          5,
          1,
          2,
          2,
          4,
          3,
          2,
          2,
          4,
          3,
          2,
          1,
          3,
          4,
          4,
          5,
          3,
          4,
          5,
          5,
          5,
          5,
          5,
          5,
          5,
          5,
          5,
          4,
          2,
          4,
          2,
          4,
          2,
          3,
          3,
          3,
          4,
          3,
          3,
          2,
          3,
          2,
          4,
          5,
          5,
          4,
          4,
          4,
          4,
          5,
          5,
          4,
          5,
          4,
          5,
          3
         ]
        },
        {
         "name": "3-5 years",
         "opacity": 0.5,
         "type": "histogram",
         "x": [
          1,
          1,
          3,
          1,
          5,
          2,
          null,
          1,
          3,
          5,
          4,
          5,
          1,
          5,
          3,
          4,
          5,
          3,
          5,
          1,
          2,
          4,
          5,
          3,
          3,
          3,
          5,
          3,
          4,
          4,
          5,
          4,
          4,
          5,
          5,
          4,
          3,
          5,
          5,
          5
         ]
        },
        {
         "name": "< than a year",
         "opacity": 0.5,
         "type": "histogram",
         "x": [
          1,
          2,
          4,
          5,
          5,
          2,
          5,
          5,
          5,
          5,
          4,
          5,
          5,
          5,
          4,
          3,
          4,
          2,
          4,
          3,
          3,
          4,
          5,
          5,
          4,
          5,
          5,
          5,
          null,
          5,
          3,
          5
         ]
        },
        {
         "name": "5-10 years",
         "opacity": 0.5,
         "type": "histogram",
         "x": [
          3,
          1,
          1,
          4,
          3,
          1,
          1,
          3,
          4,
          4,
          4,
          2,
          3,
          3,
          5,
          5,
          3,
          5,
          3,
          2,
          5,
          3,
          4,
          4,
          3,
          4,
          3,
          4
         ]
        },
        {
         "name": "10+ years",
         "opacity": 0.5,
         "type": "histogram",
         "x": [
          4,
          4,
          3,
          3,
          3,
          3,
          3,
          4,
          4,
          3,
          5,
          5,
          4,
          4,
          1,
          5,
          4,
          4,
          5,
          5,
          5,
          5,
          2
         ]
        },
        {
         "name": "1 year",
         "opacity": 0.5,
         "type": "histogram",
         "x": [
          1,
          3,
          1,
          4,
          5,
          5,
          5,
          5,
          3,
          5,
          null
         ]
        },
        {
         "name": "Full-time",
         "opacity": 0.5,
         "type": "histogram",
         "x": [
          3,
          3,
          1,
          1,
          1,
          1,
          1,
          3,
          3,
          1,
          2,
          1,
          1,
          1,
          1,
          1,
          5,
          2,
          5,
          2,
          4,
          1,
          4,
          4,
          5,
          3,
          4,
          1,
          1,
          null,
          1,
          2,
          2,
          4,
          3,
          3,
          1,
          3,
          3,
          3,
          1,
          5,
          2,
          2,
          4,
          3,
          4,
          2,
          3,
          4,
          4,
          2,
          4,
          3,
          3,
          3,
          3,
          1,
          3,
          4,
          4,
          4,
          3,
          5,
          4,
          4,
          5,
          3,
          1,
          5,
          5,
          4,
          3,
          4,
          3,
          5,
          5,
          5,
          2,
          5,
          5,
          5,
          5,
          5,
          5,
          4,
          5,
          5,
          5,
          3,
          4,
          5,
          1,
          3,
          4,
          5,
          5,
          4,
          5,
          5,
          5,
          5,
          5,
          5,
          4,
          2,
          4,
          4,
          5,
          2,
          3,
          1,
          3,
          4,
          2,
          4,
          2,
          3,
          2,
          3,
          3,
          5,
          3,
          5,
          4,
          3,
          4,
          3,
          4,
          3,
          3,
          3,
          2,
          2,
          5,
          3,
          5,
          3,
          4,
          4,
          3,
          2,
          4,
          4,
          4,
          5,
          3,
          4,
          5,
          3,
          4,
          4,
          4,
          4,
          4,
          4,
          4,
          5,
          5,
          4,
          4,
          5,
          5,
          5,
          3,
          5,
          5,
          5,
          5,
          5,
          5,
          5,
          4,
          5,
          4,
          5,
          5,
          2,
          null,
          3
         ]
        },
        {
         "name": "Part-time",
         "opacity": 0.5,
         "type": "histogram",
         "x": [
          4,
          5,
          3,
          5,
          5,
          5,
          5,
          5,
          3,
          4,
          5,
          5,
          3,
          null,
          5,
          3,
          5,
          5,
          4
         ]
        },
        {
         "name": "Seasonal",
         "opacity": 0.5,
         "type": "histogram",
         "x": [
          4,
          5,
          3,
          5,
          5,
          5,
          5,
          5,
          3,
          4,
          5,
          5,
          3,
          null,
          5,
          3,
          5,
          5,
          4
         ]
        },
        {
         "name": "Part-time, Seasonal",
         "opacity": 0.5,
         "type": "histogram",
         "x": [
          4,
          5,
          3,
          5,
          5,
          5,
          5,
          5,
          3,
          4,
          5,
          5,
          3,
          null,
          5,
          3,
          5,
          5,
          4
         ]
        }
       ],
       "layout": {
        "barmode": "stack",
        "template": {
         "data": {
          "bar": [
           {
            "error_x": {
             "color": "#2a3f5f"
            },
            "error_y": {
             "color": "#2a3f5f"
            },
            "marker": {
             "line": {
              "color": "#E5ECF6",
              "width": 0.5
             }
            },
            "type": "bar"
           }
          ],
          "barpolar": [
           {
            "marker": {
             "line": {
              "color": "#E5ECF6",
              "width": 0.5
             }
            },
            "type": "barpolar"
           }
          ],
          "carpet": [
           {
            "aaxis": {
             "endlinecolor": "#2a3f5f",
             "gridcolor": "white",
             "linecolor": "white",
             "minorgridcolor": "white",
             "startlinecolor": "#2a3f5f"
            },
            "baxis": {
             "endlinecolor": "#2a3f5f",
             "gridcolor": "white",
             "linecolor": "white",
             "minorgridcolor": "white",
             "startlinecolor": "#2a3f5f"
            },
            "type": "carpet"
           }
          ],
          "choropleth": [
           {
            "colorbar": {
             "outlinewidth": 0,
             "ticks": ""
            },
            "type": "choropleth"
           }
          ],
          "contour": [
           {
            "colorbar": {
             "outlinewidth": 0,
             "ticks": ""
            },
            "colorscale": [
             [
              0,
              "#0d0887"
             ],
             [
              0.1111111111111111,
              "#46039f"
             ],
             [
              0.2222222222222222,
              "#7201a8"
             ],
             [
              0.3333333333333333,
              "#9c179e"
             ],
             [
              0.4444444444444444,
              "#bd3786"
             ],
             [
              0.5555555555555556,
              "#d8576b"
             ],
             [
              0.6666666666666666,
              "#ed7953"
             ],
             [
              0.7777777777777778,
              "#fb9f3a"
             ],
             [
              0.8888888888888888,
              "#fdca26"
             ],
             [
              1,
              "#f0f921"
             ]
            ],
            "type": "contour"
           }
          ],
          "contourcarpet": [
           {
            "colorbar": {
             "outlinewidth": 0,
             "ticks": ""
            },
            "type": "contourcarpet"
           }
          ],
          "heatmap": [
           {
            "colorbar": {
             "outlinewidth": 0,
             "ticks": ""
            },
            "colorscale": [
             [
              0,
              "#0d0887"
             ],
             [
              0.1111111111111111,
              "#46039f"
             ],
             [
              0.2222222222222222,
              "#7201a8"
             ],
             [
              0.3333333333333333,
              "#9c179e"
             ],
             [
              0.4444444444444444,
              "#bd3786"
             ],
             [
              0.5555555555555556,
              "#d8576b"
             ],
             [
              0.6666666666666666,
              "#ed7953"
             ],
             [
              0.7777777777777778,
              "#fb9f3a"
             ],
             [
              0.8888888888888888,
              "#fdca26"
             ],
             [
              1,
              "#f0f921"
             ]
            ],
            "type": "heatmap"
           }
          ],
          "heatmapgl": [
           {
            "colorbar": {
             "outlinewidth": 0,
             "ticks": ""
            },
            "colorscale": [
             [
              0,
              "#0d0887"
             ],
             [
              0.1111111111111111,
              "#46039f"
             ],
             [
              0.2222222222222222,
              "#7201a8"
             ],
             [
              0.3333333333333333,
              "#9c179e"
             ],
             [
              0.4444444444444444,
              "#bd3786"
             ],
             [
              0.5555555555555556,
              "#d8576b"
             ],
             [
              0.6666666666666666,
              "#ed7953"
             ],
             [
              0.7777777777777778,
              "#fb9f3a"
             ],
             [
              0.8888888888888888,
              "#fdca26"
             ],
             [
              1,
              "#f0f921"
             ]
            ],
            "type": "heatmapgl"
           }
          ],
          "histogram": [
           {
            "marker": {
             "colorbar": {
              "outlinewidth": 0,
              "ticks": ""
             }
            },
            "type": "histogram"
           }
          ],
          "histogram2d": [
           {
            "colorbar": {
             "outlinewidth": 0,
             "ticks": ""
            },
            "colorscale": [
             [
              0,
              "#0d0887"
             ],
             [
              0.1111111111111111,
              "#46039f"
             ],
             [
              0.2222222222222222,
              "#7201a8"
             ],
             [
              0.3333333333333333,
              "#9c179e"
             ],
             [
              0.4444444444444444,
              "#bd3786"
             ],
             [
              0.5555555555555556,
              "#d8576b"
             ],
             [
              0.6666666666666666,
              "#ed7953"
             ],
             [
              0.7777777777777778,
              "#fb9f3a"
             ],
             [
              0.8888888888888888,
              "#fdca26"
             ],
             [
              1,
              "#f0f921"
             ]
            ],
            "type": "histogram2d"
           }
          ],
          "histogram2dcontour": [
           {
            "colorbar": {
             "outlinewidth": 0,
             "ticks": ""
            },
            "colorscale": [
             [
              0,
              "#0d0887"
             ],
             [
              0.1111111111111111,
              "#46039f"
             ],
             [
              0.2222222222222222,
              "#7201a8"
             ],
             [
              0.3333333333333333,
              "#9c179e"
             ],
             [
              0.4444444444444444,
              "#bd3786"
             ],
             [
              0.5555555555555556,
              "#d8576b"
             ],
             [
              0.6666666666666666,
              "#ed7953"
             ],
             [
              0.7777777777777778,
              "#fb9f3a"
             ],
             [
              0.8888888888888888,
              "#fdca26"
             ],
             [
              1,
              "#f0f921"
             ]
            ],
            "type": "histogram2dcontour"
           }
          ],
          "mesh3d": [
           {
            "colorbar": {
             "outlinewidth": 0,
             "ticks": ""
            },
            "type": "mesh3d"
           }
          ],
          "parcoords": [
           {
            "line": {
             "colorbar": {
              "outlinewidth": 0,
              "ticks": ""
             }
            },
            "type": "parcoords"
           }
          ],
          "pie": [
           {
            "automargin": true,
            "type": "pie"
           }
          ],
          "scatter": [
           {
            "marker": {
             "colorbar": {
              "outlinewidth": 0,
              "ticks": ""
             }
            },
            "type": "scatter"
           }
          ],
          "scatter3d": [
           {
            "line": {
             "colorbar": {
              "outlinewidth": 0,
              "ticks": ""
             }
            },
            "marker": {
             "colorbar": {
              "outlinewidth": 0,
              "ticks": ""
             }
            },
            "type": "scatter3d"
           }
          ],
          "scattercarpet": [
           {
            "marker": {
             "colorbar": {
              "outlinewidth": 0,
              "ticks": ""
             }
            },
            "type": "scattercarpet"
           }
          ],
          "scattergeo": [
           {
            "marker": {
             "colorbar": {
              "outlinewidth": 0,
              "ticks": ""
             }
            },
            "type": "scattergeo"
           }
          ],
          "scattergl": [
           {
            "marker": {
             "colorbar": {
              "outlinewidth": 0,
              "ticks": ""
             }
            },
            "type": "scattergl"
           }
          ],
          "scattermapbox": [
           {
            "marker": {
             "colorbar": {
              "outlinewidth": 0,
              "ticks": ""
             }
            },
            "type": "scattermapbox"
           }
          ],
          "scatterpolar": [
           {
            "marker": {
             "colorbar": {
              "outlinewidth": 0,
              "ticks": ""
             }
            },
            "type": "scatterpolar"
           }
          ],
          "scatterpolargl": [
           {
            "marker": {
             "colorbar": {
              "outlinewidth": 0,
              "ticks": ""
             }
            },
            "type": "scatterpolargl"
           }
          ],
          "scatterternary": [
           {
            "marker": {
             "colorbar": {
              "outlinewidth": 0,
              "ticks": ""
             }
            },
            "type": "scatterternary"
           }
          ],
          "surface": [
           {
            "colorbar": {
             "outlinewidth": 0,
             "ticks": ""
            },
            "colorscale": [
             [
              0,
              "#0d0887"
             ],
             [
              0.1111111111111111,
              "#46039f"
             ],
             [
              0.2222222222222222,
              "#7201a8"
             ],
             [
              0.3333333333333333,
              "#9c179e"
             ],
             [
              0.4444444444444444,
              "#bd3786"
             ],
             [
              0.5555555555555556,
              "#d8576b"
             ],
             [
              0.6666666666666666,
              "#ed7953"
             ],
             [
              0.7777777777777778,
              "#fb9f3a"
             ],
             [
              0.8888888888888888,
              "#fdca26"
             ],
             [
              1,
              "#f0f921"
             ]
            ],
            "type": "surface"
           }
          ],
          "table": [
           {
            "cells": {
             "fill": {
              "color": "#EBF0F8"
             },
             "line": {
              "color": "white"
             }
            },
            "header": {
             "fill": {
              "color": "#C8D4E3"
             },
             "line": {
              "color": "white"
             }
            },
            "type": "table"
           }
          ]
         },
         "layout": {
          "annotationdefaults": {
           "arrowcolor": "#2a3f5f",
           "arrowhead": 0,
           "arrowwidth": 1
          },
          "coloraxis": {
           "colorbar": {
            "outlinewidth": 0,
            "ticks": ""
           }
          },
          "colorscale": {
           "diverging": [
            [
             0,
             "#8e0152"
            ],
            [
             0.1,
             "#c51b7d"
            ],
            [
             0.2,
             "#de77ae"
            ],
            [
             0.3,
             "#f1b6da"
            ],
            [
             0.4,
             "#fde0ef"
            ],
            [
             0.5,
             "#f7f7f7"
            ],
            [
             0.6,
             "#e6f5d0"
            ],
            [
             0.7,
             "#b8e186"
            ],
            [
             0.8,
             "#7fbc41"
            ],
            [
             0.9,
             "#4d9221"
            ],
            [
             1,
             "#276419"
            ]
           ],
           "sequential": [
            [
             0,
             "#0d0887"
            ],
            [
             0.1111111111111111,
             "#46039f"
            ],
            [
             0.2222222222222222,
             "#7201a8"
            ],
            [
             0.3333333333333333,
             "#9c179e"
            ],
            [
             0.4444444444444444,
             "#bd3786"
            ],
            [
             0.5555555555555556,
             "#d8576b"
            ],
            [
             0.6666666666666666,
             "#ed7953"
            ],
            [
             0.7777777777777778,
             "#fb9f3a"
            ],
            [
             0.8888888888888888,
             "#fdca26"
            ],
            [
             1,
             "#f0f921"
            ]
           ],
           "sequentialminus": [
            [
             0,
             "#0d0887"
            ],
            [
             0.1111111111111111,
             "#46039f"
            ],
            [
             0.2222222222222222,
             "#7201a8"
            ],
            [
             0.3333333333333333,
             "#9c179e"
            ],
            [
             0.4444444444444444,
             "#bd3786"
            ],
            [
             0.5555555555555556,
             "#d8576b"
            ],
            [
             0.6666666666666666,
             "#ed7953"
            ],
            [
             0.7777777777777778,
             "#fb9f3a"
            ],
            [
             0.8888888888888888,
             "#fdca26"
            ],
            [
             1,
             "#f0f921"
            ]
           ]
          },
          "colorway": [
           "#636efa",
           "#EF553B",
           "#00cc96",
           "#ab63fa",
           "#FFA15A",
           "#19d3f3",
           "#FF6692",
           "#B6E880",
           "#FF97FF",
           "#FECB52"
          ],
          "font": {
           "color": "#2a3f5f"
          },
          "geo": {
           "bgcolor": "white",
           "lakecolor": "white",
           "landcolor": "#E5ECF6",
           "showlakes": true,
           "showland": true,
           "subunitcolor": "white"
          },
          "hoverlabel": {
           "align": "left"
          },
          "hovermode": "closest",
          "mapbox": {
           "style": "light"
          },
          "paper_bgcolor": "white",
          "plot_bgcolor": "#E5ECF6",
          "polar": {
           "angularaxis": {
            "gridcolor": "white",
            "linecolor": "white",
            "ticks": ""
           },
           "bgcolor": "#E5ECF6",
           "radialaxis": {
            "gridcolor": "white",
            "linecolor": "white",
            "ticks": ""
           }
          },
          "scene": {
           "xaxis": {
            "backgroundcolor": "#E5ECF6",
            "gridcolor": "white",
            "gridwidth": 2,
            "linecolor": "white",
            "showbackground": true,
            "ticks": "",
            "zerolinecolor": "white"
           },
           "yaxis": {
            "backgroundcolor": "#E5ECF6",
            "gridcolor": "white",
            "gridwidth": 2,
            "linecolor": "white",
            "showbackground": true,
            "ticks": "",
            "zerolinecolor": "white"
           },
           "zaxis": {
            "backgroundcolor": "#E5ECF6",
            "gridcolor": "white",
            "gridwidth": 2,
            "linecolor": "white",
            "showbackground": true,
            "ticks": "",
            "zerolinecolor": "white"
           }
          },
          "shapedefaults": {
           "line": {
            "color": "#2a3f5f"
           }
          },
          "ternary": {
           "aaxis": {
            "gridcolor": "white",
            "linecolor": "white",
            "ticks": ""
           },
           "baxis": {
            "gridcolor": "white",
            "linecolor": "white",
            "ticks": ""
           },
           "bgcolor": "#E5ECF6",
           "caxis": {
            "gridcolor": "white",
            "linecolor": "white",
            "ticks": ""
           }
          },
          "title": {
           "x": 0.05
          },
          "xaxis": {
           "automargin": true,
           "gridcolor": "white",
           "linecolor": "white",
           "ticks": "",
           "title": {
            "standoff": 15
           },
           "zerolinecolor": "white",
           "zerolinewidth": 2
          },
          "yaxis": {
           "automargin": true,
           "gridcolor": "white",
           "linecolor": "white",
           "ticks": "",
           "title": {
            "standoff": 15
           },
           "zerolinecolor": "white",
           "zerolinewidth": 2
          }
         }
        },
        "title": {
         "text": "I have the same opportunities for advancement as other team members at my organization with similar experience and performance levels."
        },
        "updatemenus": [
         {
          "buttons": [
           {
            "args": [
             {
              "visible": [
               true,
               false,
               false,
               false,
               false,
               false,
               false,
               false,
               false,
               false,
               false,
               false,
               false,
               false,
               false,
               false,
               false,
               false,
               false,
               false,
               false,
               false,
               false,
               false,
               false
              ]
             },
             {
              "title": "I have the same opportunities for advancement as other team members at my organization with similar experience and performance levels."
             }
            ],
            "label": "Total",
            "method": "update"
           },
           {
            "args": [
             {
              "visible": [
               false,
               true,
               true,
               true,
               true,
               true,
               true,
               false,
               false,
               false,
               false,
               false,
               false,
               false,
               false,
               false,
               false,
               false,
               false,
               false,
               false,
               false,
               false,
               false,
               false
              ]
             },
             {
              "title": "I have the same opportunities for advancement as other team members at my organization with similar experience and performance levels."
             }
            ],
            "label": "Race",
            "method": "update"
           },
           {
            "args": [
             {
              "visible": [
               false,
               false,
               false,
               false,
               false,
               false,
               false,
               true,
               true,
               true,
               true,
               true,
               true,
               false,
               false,
               false,
               false,
               false,
               false,
               false,
               false,
               false,
               false,
               false,
               false
              ]
             },
             {
              "title": "I have the same opportunities for advancement as other team members at my organization with similar experience and performance levels."
             }
            ],
            "label": "Age",
            "method": "update"
           },
           {
            "args": [
             {
              "visible": [
               false,
               false,
               false,
               false,
               false,
               false,
               false,
               false,
               false,
               false,
               false,
               false,
               false,
               true,
               true,
               false,
               false,
               false,
               false,
               false,
               false,
               false,
               false,
               false,
               false
              ]
             },
             {
              "title": "I have the same opportunities for advancement as other team members at my organization with similar experience and performance levels."
             }
            ],
            "label": "Sexual Orientation",
            "method": "update"
           },
           {
            "args": [
             {
              "visible": [
               false,
               false,
               false,
               false,
               false,
               false,
               false,
               false,
               false,
               false,
               false,
               false,
               false,
               false,
               false,
               true,
               true,
               true,
               true,
               true,
               true,
               false,
               false,
               false,
               false
              ]
             },
             {
              "title": "I have the same opportunities for advancement as other team members at my organization with similar experience and performance levels."
             }
            ],
            "label": "Tenure",
            "method": "update"
           },
           {
            "args": [
             {
              "visible": [
               false,
               false,
               false,
               false,
               false,
               false,
               false,
               false,
               false,
               false,
               false,
               false,
               false,
               false,
               false,
               false,
               false,
               false,
               false,
               false,
               false,
               true,
               true,
               true,
               true
              ]
             },
             {
              "title": "I have the same opportunities for advancement as other team members at my organization with similar experience and performance levels."
             }
            ],
            "label": "Status",
            "method": "update"
           }
          ],
          "type": "buttons"
         }
        ]
       }
      },
      "text/html": [
       "<div>\n",
       "        \n",
       "        \n",
       "            <div id=\"3b02072e-463c-465c-9950-2f5f5bc07e1e\" class=\"plotly-graph-div\" style=\"height:525px; width:100%;\"></div>\n",
       "            <script type=\"text/javascript\">\n",
       "                require([\"plotly\"], function(Plotly) {\n",
       "                    window.PLOTLYENV=window.PLOTLYENV || {};\n",
       "                    \n",
       "                if (document.getElementById(\"3b02072e-463c-465c-9950-2f5f5bc07e1e\")) {\n",
       "                    Plotly.newPlot(\n",
       "                        '3b02072e-463c-465c-9950-2f5f5bc07e1e',\n",
       "                        [{\"name\": \"   \", \"opacity\": 0.5, \"type\": \"histogram\", \"x\": [3.0, 3.0, 4.0, 5.0, 1.0, 1.0, 1.0, 1.0, 1.0, 3.0, 3.0, 1.0, 2.0, 1.0, 1.0, 1.0, 1.0, 1.0, 5.0, 3.0, 2.0, 5.0, 2.0, 4.0, 1.0, 4.0, 4.0, 5.0, 3.0, 4.0, 1.0, 1.0, null, 1.0, 2.0, 2.0, 4.0, 3.0, 3.0, 1.0, 3.0, 3.0, 3.0, 1.0, 5.0, 2.0, 2.0, 4.0, 3.0, 4.0, 2.0, 3.0, 4.0, 4.0, 2.0, 4.0, 3.0, 3.0, 3.0, 3.0, 2.0, 1.0, 3.0, 4.0, 4.0, 4.0, 3.0, 5.0, 4.0, 4.0, 5.0, 3.0, 1.0, 5.0, 5.0, 4.0, 3.0, 4.0, 3.0, 5.0, 5.0, 5.0, 5.0, 5.0, 2.0, 5.0, 5.0, 5.0, 5.0, 5.0, 5.0, 5.0, 5.0, 4.0, 5.0, 5.0, 5.0, 5.0, 3.0, 4.0, 5.0, 1.0, 3.0, 4.0, 5.0, 5.0, 4.0, 5.0, 5.0, 5.0, 5.0, 5.0, 5.0, 5.0, 5.0, 4.0, 2.0, 4.0, 4.0, 5.0, 2.0, 3.0, 1.0, 3.0, 4.0, 2.0, 4.0, 2.0, 3.0, 2.0, 3.0, 3.0, 5.0, 3.0, 5.0, 4.0, 3.0, 4.0, 3.0, 3.0, 4.0, 3.0, 3.0, 3.0, 2.0, 2.0, 5.0, 3.0, 5.0, 3.0, 4.0, 4.0, 4.0, 3.0, 2.0, 4.0, 4.0, 4.0, 5.0, 3.0, 4.0, 5.0, 5.0, 3.0, 4.0, 4.0, 4.0, 4.0, 4.0, 4.0, 4.0, 5.0, 5.0, 4.0, 5.0, 5.0, 4.0, 4.0, 5.0, 5.0, 5.0, 5.0, 3.0, 3.0, 5.0, 5.0, 5.0, 5.0, 5.0, null, 5.0, 5.0, 5.0, 3.0, 4.0, 5.0, 5.0, 5.0, 4.0, 4.0, 5.0, 5.0, 2.0, null, 3.0]}, {\"name\": \"White\", \"opacity\": 0.5, \"type\": \"histogram\", \"x\": [2.0, 4.0, 4.0, 5.0, 2.0, 3.0, 1.0, 3.0, 4.0, 2.0, 4.0, 2.0, 3.0, 2.0, 3.0, 3.0, 5.0, 3.0, 5.0, 4.0, 3.0, 4.0, 3.0, 3.0, 4.0, 3.0, 3.0, 3.0, 2.0, 2.0, 5.0, 3.0, 5.0, 3.0, 4.0, 4.0, 4.0, 3.0, 2.0, 4.0, 4.0, 4.0, 5.0, 3.0, 4.0, 5.0, 5.0, 3.0, 4.0, 4.0, 4.0, 4.0, 4.0, 4.0, 4.0, 5.0, 5.0, 4.0, 5.0, 5.0, 4.0, 4.0, 5.0, 5.0, 5.0, 5.0, 3.0, 3.0, 5.0, 5.0, 5.0, 5.0, 5.0, null, 5.0, 5.0, 5.0, 3.0, 4.0, 5.0, 5.0, 5.0, 4.0, 4.0, 5.0, 5.0]}, {\"name\": \"Latino/Hispanic\", \"opacity\": 0.5, \"type\": \"histogram\", \"x\": [1.0, null, 1.0, 2.0, 2.0, 4.0, 3.0, 3.0, 1.0, 3.0, 3.0, 3.0, 1.0, 5.0, 2.0, 2.0, 4.0, 3.0, 4.0, 2.0, 3.0, 4.0, 4.0, 2.0, 4.0, 3.0, 3.0, 3.0, 3.0, 2.0, 1.0, 3.0, 4.0, 4.0, 4.0, 3.0, 5.0, 4.0, 4.0, 5.0, 3.0, 1.0, 5.0, 5.0, 4.0, 3.0, 4.0, 3.0, 5.0, 5.0, 5.0, 5.0, 5.0, 2.0, 5.0, 5.0, 5.0, 5.0, 5.0, 5.0, 5.0, 5.0, 4.0, 5.0, 5.0, 5.0, 5.0, 3.0]}, {\"name\": \"Black/African American\", \"opacity\": 0.5, \"type\": \"histogram\", \"x\": [1.0, 1.0, 1.0, 1.0, 1.0, 3.0, 3.0, 1.0, 2.0, 1.0, 1.0, 1.0, 1.0, 1.0, 5.0, 3.0, 2.0, 5.0, 2.0, 4.0, 1.0, 4.0, 4.0, 5.0]}, {\"name\": \"Two or more Races\", \"opacity\": 0.5, \"type\": \"histogram\", \"x\": [1.0, 3.0, 4.0, 5.0, 5.0, 4.0, 5.0, 5.0, 5.0, 5.0, 5.0, 5.0, 5.0, 5.0, 4.0]}, {\"name\": \"Asian\", \"opacity\": 0.5, \"type\": \"histogram\", \"x\": [3.0, 4.0, 5.0]}, {\"name\": \"Indian/Native American\", \"opacity\": 0.5, \"type\": \"histogram\", \"x\": [4.0, 1.0]}, {\"name\": \"25-34\", \"opacity\": 0.5, \"type\": \"histogram\", \"x\": [3.0, 5.0, 1.0, 1.0, 1.0, 1.0, 1.0, 5.0, 5.0, 4.0, 4.0, 5.0, 1.0, 1.0, 3.0, 3.0, 2.0, 4.0, 4.0, 2.0, 4.0, 4.0, 4.0, 2.0, 1.0, 3.0, 4.0, 5.0, 5.0, 5.0, 4.0, 4.0, 3.0, 5.0, 5.0, 5.0, 5.0, 5.0, 5.0, 5.0, 5.0, 5.0, 1.0, 5.0, 4.0, 5.0, 5.0, 5.0, 4.0, 4.0, 5.0, 2.0, 3.0, 4.0, 2.0, 4.0, 3.0, 4.0, 3.0, 3.0, 3.0, 3.0, 5.0, 2.0, 4.0, 4.0, 3.0, 4.0, 5.0, 3.0, 4.0, 4.0, 4.0, 5.0, 5.0, 4.0, 5.0, 4.0, 5.0, 5.0, 5.0, 5.0, 5.0, 3.0, 4.0, null]}, {\"name\": \"35-44\", \"opacity\": 0.5, \"type\": \"histogram\", \"x\": [3.0, 3.0, 1.0, 1.0, 2.0, 2.0, null, 2.0, 2.0, 4.0, 3.0, 1.0, 5.0, 3.0, 3.0, 3.0, 3.0, 3.0, 4.0, 3.0, 1.0, 5.0, 3.0, 2.0, 5.0, 5.0, 4.0, 3.0, 3.0, 5.0, 2.0, 4.0, 1.0, 3.0, 5.0, 5.0, 4.0, 2.0, 4.0, 4.0, 5.0, 4.0, 4.0, 5.0, 5.0, 4.0, 5.0]}, {\"name\": \"45-54\", \"opacity\": 0.5, \"type\": \"histogram\", \"x\": [1.0, 1.0, 1.0, 1.0, 3.0, 2.0, 3.0, 4.0, 4.0, 3.0, 4.0, 5.0, 3.0, 3.0, 3.0, 3.0, 4.0, 3.0, 3.0, 5.0, 3.0, 4.0, 4.0, 4.0, 5.0, 5.0, null, 5.0]}, {\"name\": \"55-64\", \"opacity\": 0.5, \"type\": \"histogram\", \"x\": [1.0, 3.0, 2.0, 3.0, 3.0, 1.0, 2.0, 4.0, 5.0, 4.0, 5.0, 2.0, 2.0, 3.0, 5.0, 5.0, 3.0, 3.0, 5.0, 5.0, 5.0, 5.0, 4.0, 2.0, 3.0]}, {\"name\": \"18-24\", \"opacity\": 0.5, \"type\": \"histogram\", \"x\": [4.0, 3.0, 5.0, 5.0, 5.0, 5.0, 5.0, 5.0, 2.0, 4.0, 5.0, 5.0]}, {\"name\": \"65-74\", \"opacity\": 0.5, \"type\": \"histogram\", \"x\": [4.0, 4.0, 5.0, 5.0, 5.0, 4.0]}, {\"name\": \"Straight\", \"opacity\": 0.5, \"type\": \"histogram\", \"x\": [4.0, 5.0, 1.0, 1.0, 1.0, 1.0, 1.0, 3.0, 3.0, 1.0, 2.0, 1.0, 1.0, 1.0, 1.0, 1.0, 3.0, 2.0, 5.0, 2.0, 1.0, 4.0, 4.0, 5.0, 3.0, 4.0, 1.0, 2.0, 2.0, 4.0, 3.0, 3.0, 1.0, 3.0, 3.0, 3.0, 1.0, 2.0, 3.0, 4.0, 2.0, 3.0, 4.0, 4.0, 2.0, 4.0, 3.0, 3.0, 3.0, 3.0, 2.0, 3.0, 4.0, 4.0, 4.0, 5.0, 4.0, 4.0, 5.0, 3.0, 1.0, 5.0, 5.0, 4.0, 3.0, 3.0, 5.0, 5.0, 2.0, 5.0, 5.0, 5.0, 5.0, 5.0, 5.0, 5.0, 5.0, 4.0, 5.0, 5.0, 5.0, 5.0, 3.0, 4.0, 5.0, 3.0, 4.0, 5.0, 5.0, 5.0, 5.0, 5.0, 5.0, 5.0, 5.0, 5.0, 5.0, 4.0, 2.0, 4.0, 4.0, 5.0, 1.0, 4.0, 4.0, 3.0, 2.0, 3.0, 5.0, 3.0, 5.0, 4.0, 4.0, 3.0, 4.0, 3.0, 3.0, 3.0, 2.0, 2.0, 5.0, 5.0, 4.0, 4.0, 3.0, 4.0, 5.0, 5.0, 3.0, 4.0, 4.0, 4.0, 4.0, 4.0, 5.0, 5.0, 4.0, 4.0, 4.0, 5.0, 3.0, 3.0, 5.0, 5.0, 5.0, 5.0, null, 5.0, 5.0, 5.0, 3.0, 4.0, 5.0, 5.0, 5.0, 4.0, 4.0, 5.0, 5.0, 2.0, 3.0]}, {\"name\": \"LGBTQ+\", \"opacity\": 0.5, \"type\": \"histogram\", \"x\": [5.0, 1.0, 1.0, 5.0, 2.0, 4.0, 1.0, 3.0, 5.0, 5.0, 5.0, 1.0, 4.0, 2.0, 3.0, 3.0, 2.0, 2.0, 3.0, 3.0, 3.0, 3.0, 4.0, 2.0, 4.0, 4.0, 3.0, 4.0, 4.0, 4.0, 5.0, 5.0, 5.0, 5.0, null]}, {\"name\": \"1-3 years\", \"opacity\": 0.5, \"type\": \"histogram\", \"x\": [3.0, 3.0, 4.0, 5.0, 1.0, 1.0, 1.0, 1.0, 2.0, 1.0, 5.0, 3.0, 2.0, 4.0, 5.0, 1.0, 2.0, 2.0, 4.0, 3.0, 2.0, 2.0, 4.0, 3.0, 2.0, 1.0, 3.0, 4.0, 4.0, 5.0, 3.0, 4.0, 5.0, 5.0, 5.0, 5.0, 5.0, 5.0, 5.0, 5.0, 5.0, 4.0, 2.0, 4.0, 2.0, 4.0, 2.0, 3.0, 3.0, 3.0, 4.0, 3.0, 3.0, 2.0, 3.0, 2.0, 4.0, 5.0, 5.0, 4.0, 4.0, 4.0, 4.0, 5.0, 5.0, 4.0, 5.0, 4.0, 5.0, 3.0]}, {\"name\": \"3-5 years\", \"opacity\": 0.5, \"type\": \"histogram\", \"x\": [1.0, 1.0, 3.0, 1.0, 5.0, 2.0, null, 1.0, 3.0, 5.0, 4.0, 5.0, 1.0, 5.0, 3.0, 4.0, 5.0, 3.0, 5.0, 1.0, 2.0, 4.0, 5.0, 3.0, 3.0, 3.0, 5.0, 3.0, 4.0, 4.0, 5.0, 4.0, 4.0, 5.0, 5.0, 4.0, 3.0, 5.0, 5.0, 5.0]}, {\"name\": \"< than a year\", \"opacity\": 0.5, \"type\": \"histogram\", \"x\": [1.0, 2.0, 4.0, 5.0, 5.0, 2.0, 5.0, 5.0, 5.0, 5.0, 4.0, 5.0, 5.0, 5.0, 4.0, 3.0, 4.0, 2.0, 4.0, 3.0, 3.0, 4.0, 5.0, 5.0, 4.0, 5.0, 5.0, 5.0, null, 5.0, 3.0, 5.0]}, {\"name\": \"5-10 years\", \"opacity\": 0.5, \"type\": \"histogram\", \"x\": [3.0, 1.0, 1.0, 4.0, 3.0, 1.0, 1.0, 3.0, 4.0, 4.0, 4.0, 2.0, 3.0, 3.0, 5.0, 5.0, 3.0, 5.0, 3.0, 2.0, 5.0, 3.0, 4.0, 4.0, 3.0, 4.0, 3.0, 4.0]}, {\"name\": \"10+ years\", \"opacity\": 0.5, \"type\": \"histogram\", \"x\": [4.0, 4.0, 3.0, 3.0, 3.0, 3.0, 3.0, 4.0, 4.0, 3.0, 5.0, 5.0, 4.0, 4.0, 1.0, 5.0, 4.0, 4.0, 5.0, 5.0, 5.0, 5.0, 2.0]}, {\"name\": \"1 year\", \"opacity\": 0.5, \"type\": \"histogram\", \"x\": [1.0, 3.0, 1.0, 4.0, 5.0, 5.0, 5.0, 5.0, 3.0, 5.0, null]}, {\"name\": \"Full-time\", \"opacity\": 0.5, \"type\": \"histogram\", \"x\": [3.0, 3.0, 1.0, 1.0, 1.0, 1.0, 1.0, 3.0, 3.0, 1.0, 2.0, 1.0, 1.0, 1.0, 1.0, 1.0, 5.0, 2.0, 5.0, 2.0, 4.0, 1.0, 4.0, 4.0, 5.0, 3.0, 4.0, 1.0, 1.0, null, 1.0, 2.0, 2.0, 4.0, 3.0, 3.0, 1.0, 3.0, 3.0, 3.0, 1.0, 5.0, 2.0, 2.0, 4.0, 3.0, 4.0, 2.0, 3.0, 4.0, 4.0, 2.0, 4.0, 3.0, 3.0, 3.0, 3.0, 1.0, 3.0, 4.0, 4.0, 4.0, 3.0, 5.0, 4.0, 4.0, 5.0, 3.0, 1.0, 5.0, 5.0, 4.0, 3.0, 4.0, 3.0, 5.0, 5.0, 5.0, 2.0, 5.0, 5.0, 5.0, 5.0, 5.0, 5.0, 4.0, 5.0, 5.0, 5.0, 3.0, 4.0, 5.0, 1.0, 3.0, 4.0, 5.0, 5.0, 4.0, 5.0, 5.0, 5.0, 5.0, 5.0, 5.0, 4.0, 2.0, 4.0, 4.0, 5.0, 2.0, 3.0, 1.0, 3.0, 4.0, 2.0, 4.0, 2.0, 3.0, 2.0, 3.0, 3.0, 5.0, 3.0, 5.0, 4.0, 3.0, 4.0, 3.0, 4.0, 3.0, 3.0, 3.0, 2.0, 2.0, 5.0, 3.0, 5.0, 3.0, 4.0, 4.0, 3.0, 2.0, 4.0, 4.0, 4.0, 5.0, 3.0, 4.0, 5.0, 3.0, 4.0, 4.0, 4.0, 4.0, 4.0, 4.0, 4.0, 5.0, 5.0, 4.0, 4.0, 5.0, 5.0, 5.0, 3.0, 5.0, 5.0, 5.0, 5.0, 5.0, 5.0, 5.0, 4.0, 5.0, 4.0, 5.0, 5.0, 2.0, null, 3.0]}, {\"name\": \"Part-time\", \"opacity\": 0.5, \"type\": \"histogram\", \"x\": [4.0, 5.0, 3.0, 5.0, 5.0, 5.0, 5.0, 5.0, 3.0, 4.0, 5.0, 5.0, 3.0, null, 5.0, 3.0, 5.0, 5.0, 4.0]}, {\"name\": \"Seasonal\", \"opacity\": 0.5, \"type\": \"histogram\", \"x\": [4.0, 5.0, 3.0, 5.0, 5.0, 5.0, 5.0, 5.0, 3.0, 4.0, 5.0, 5.0, 3.0, null, 5.0, 3.0, 5.0, 5.0, 4.0]}, {\"name\": \"Part-time, Seasonal\", \"opacity\": 0.5, \"type\": \"histogram\", \"x\": [4.0, 5.0, 3.0, 5.0, 5.0, 5.0, 5.0, 5.0, 3.0, 4.0, 5.0, 5.0, 3.0, null, 5.0, 3.0, 5.0, 5.0, 4.0]}],\n",
       "                        {\"barmode\": \"stack\", \"template\": {\"data\": {\"bar\": [{\"error_x\": {\"color\": \"#2a3f5f\"}, \"error_y\": {\"color\": \"#2a3f5f\"}, \"marker\": {\"line\": {\"color\": \"#E5ECF6\", \"width\": 0.5}}, \"type\": \"bar\"}], \"barpolar\": [{\"marker\": {\"line\": {\"color\": \"#E5ECF6\", \"width\": 0.5}}, \"type\": \"barpolar\"}], \"carpet\": [{\"aaxis\": {\"endlinecolor\": \"#2a3f5f\", \"gridcolor\": \"white\", \"linecolor\": \"white\", \"minorgridcolor\": \"white\", \"startlinecolor\": \"#2a3f5f\"}, \"baxis\": {\"endlinecolor\": \"#2a3f5f\", \"gridcolor\": \"white\", \"linecolor\": \"white\", \"minorgridcolor\": \"white\", \"startlinecolor\": \"#2a3f5f\"}, \"type\": \"carpet\"}], \"choropleth\": [{\"colorbar\": {\"outlinewidth\": 0, \"ticks\": \"\"}, \"type\": \"choropleth\"}], \"contour\": [{\"colorbar\": {\"outlinewidth\": 0, \"ticks\": \"\"}, \"colorscale\": [[0.0, \"#0d0887\"], [0.1111111111111111, \"#46039f\"], [0.2222222222222222, \"#7201a8\"], [0.3333333333333333, \"#9c179e\"], [0.4444444444444444, \"#bd3786\"], [0.5555555555555556, \"#d8576b\"], [0.6666666666666666, \"#ed7953\"], [0.7777777777777778, \"#fb9f3a\"], [0.8888888888888888, \"#fdca26\"], [1.0, \"#f0f921\"]], \"type\": \"contour\"}], \"contourcarpet\": [{\"colorbar\": {\"outlinewidth\": 0, \"ticks\": \"\"}, \"type\": \"contourcarpet\"}], \"heatmap\": [{\"colorbar\": {\"outlinewidth\": 0, \"ticks\": \"\"}, \"colorscale\": [[0.0, \"#0d0887\"], [0.1111111111111111, \"#46039f\"], [0.2222222222222222, \"#7201a8\"], [0.3333333333333333, \"#9c179e\"], [0.4444444444444444, \"#bd3786\"], [0.5555555555555556, \"#d8576b\"], [0.6666666666666666, \"#ed7953\"], [0.7777777777777778, \"#fb9f3a\"], [0.8888888888888888, \"#fdca26\"], [1.0, \"#f0f921\"]], \"type\": \"heatmap\"}], \"heatmapgl\": [{\"colorbar\": {\"outlinewidth\": 0, \"ticks\": \"\"}, \"colorscale\": [[0.0, \"#0d0887\"], [0.1111111111111111, \"#46039f\"], [0.2222222222222222, \"#7201a8\"], [0.3333333333333333, \"#9c179e\"], [0.4444444444444444, \"#bd3786\"], [0.5555555555555556, \"#d8576b\"], [0.6666666666666666, \"#ed7953\"], [0.7777777777777778, \"#fb9f3a\"], [0.8888888888888888, \"#fdca26\"], [1.0, \"#f0f921\"]], \"type\": \"heatmapgl\"}], \"histogram\": [{\"marker\": {\"colorbar\": {\"outlinewidth\": 0, \"ticks\": \"\"}}, \"type\": \"histogram\"}], \"histogram2d\": [{\"colorbar\": {\"outlinewidth\": 0, \"ticks\": \"\"}, \"colorscale\": [[0.0, \"#0d0887\"], [0.1111111111111111, \"#46039f\"], [0.2222222222222222, \"#7201a8\"], [0.3333333333333333, \"#9c179e\"], [0.4444444444444444, \"#bd3786\"], [0.5555555555555556, \"#d8576b\"], [0.6666666666666666, \"#ed7953\"], [0.7777777777777778, \"#fb9f3a\"], [0.8888888888888888, \"#fdca26\"], [1.0, \"#f0f921\"]], \"type\": \"histogram2d\"}], \"histogram2dcontour\": [{\"colorbar\": {\"outlinewidth\": 0, \"ticks\": \"\"}, \"colorscale\": [[0.0, \"#0d0887\"], [0.1111111111111111, \"#46039f\"], [0.2222222222222222, \"#7201a8\"], [0.3333333333333333, \"#9c179e\"], [0.4444444444444444, \"#bd3786\"], [0.5555555555555556, \"#d8576b\"], [0.6666666666666666, \"#ed7953\"], [0.7777777777777778, \"#fb9f3a\"], [0.8888888888888888, \"#fdca26\"], [1.0, \"#f0f921\"]], \"type\": \"histogram2dcontour\"}], \"mesh3d\": [{\"colorbar\": {\"outlinewidth\": 0, \"ticks\": \"\"}, \"type\": \"mesh3d\"}], \"parcoords\": [{\"line\": {\"colorbar\": {\"outlinewidth\": 0, \"ticks\": \"\"}}, \"type\": \"parcoords\"}], \"pie\": [{\"automargin\": true, \"type\": \"pie\"}], \"scatter\": [{\"marker\": {\"colorbar\": {\"outlinewidth\": 0, \"ticks\": \"\"}}, \"type\": \"scatter\"}], \"scatter3d\": [{\"line\": {\"colorbar\": {\"outlinewidth\": 0, \"ticks\": \"\"}}, \"marker\": {\"colorbar\": {\"outlinewidth\": 0, \"ticks\": \"\"}}, \"type\": \"scatter3d\"}], \"scattercarpet\": [{\"marker\": {\"colorbar\": {\"outlinewidth\": 0, \"ticks\": \"\"}}, \"type\": \"scattercarpet\"}], \"scattergeo\": [{\"marker\": {\"colorbar\": {\"outlinewidth\": 0, \"ticks\": \"\"}}, \"type\": \"scattergeo\"}], \"scattergl\": [{\"marker\": {\"colorbar\": {\"outlinewidth\": 0, \"ticks\": \"\"}}, \"type\": \"scattergl\"}], \"scattermapbox\": [{\"marker\": {\"colorbar\": {\"outlinewidth\": 0, \"ticks\": \"\"}}, \"type\": \"scattermapbox\"}], \"scatterpolar\": [{\"marker\": {\"colorbar\": {\"outlinewidth\": 0, \"ticks\": \"\"}}, \"type\": \"scatterpolar\"}], \"scatterpolargl\": [{\"marker\": {\"colorbar\": {\"outlinewidth\": 0, \"ticks\": \"\"}}, \"type\": \"scatterpolargl\"}], \"scatterternary\": [{\"marker\": {\"colorbar\": {\"outlinewidth\": 0, \"ticks\": \"\"}}, \"type\": \"scatterternary\"}], \"surface\": [{\"colorbar\": {\"outlinewidth\": 0, \"ticks\": \"\"}, \"colorscale\": [[0.0, \"#0d0887\"], [0.1111111111111111, \"#46039f\"], [0.2222222222222222, \"#7201a8\"], [0.3333333333333333, \"#9c179e\"], [0.4444444444444444, \"#bd3786\"], [0.5555555555555556, \"#d8576b\"], [0.6666666666666666, \"#ed7953\"], [0.7777777777777778, \"#fb9f3a\"], [0.8888888888888888, \"#fdca26\"], [1.0, \"#f0f921\"]], \"type\": \"surface\"}], \"table\": [{\"cells\": {\"fill\": {\"color\": \"#EBF0F8\"}, \"line\": {\"color\": \"white\"}}, \"header\": {\"fill\": {\"color\": \"#C8D4E3\"}, \"line\": {\"color\": \"white\"}}, \"type\": \"table\"}]}, \"layout\": {\"annotationdefaults\": {\"arrowcolor\": \"#2a3f5f\", \"arrowhead\": 0, \"arrowwidth\": 1}, \"coloraxis\": {\"colorbar\": {\"outlinewidth\": 0, \"ticks\": \"\"}}, \"colorscale\": {\"diverging\": [[0, \"#8e0152\"], [0.1, \"#c51b7d\"], [0.2, \"#de77ae\"], [0.3, \"#f1b6da\"], [0.4, \"#fde0ef\"], [0.5, \"#f7f7f7\"], [0.6, \"#e6f5d0\"], [0.7, \"#b8e186\"], [0.8, \"#7fbc41\"], [0.9, \"#4d9221\"], [1, \"#276419\"]], \"sequential\": [[0.0, \"#0d0887\"], [0.1111111111111111, \"#46039f\"], [0.2222222222222222, \"#7201a8\"], [0.3333333333333333, \"#9c179e\"], [0.4444444444444444, \"#bd3786\"], [0.5555555555555556, \"#d8576b\"], [0.6666666666666666, \"#ed7953\"], [0.7777777777777778, \"#fb9f3a\"], [0.8888888888888888, \"#fdca26\"], [1.0, \"#f0f921\"]], \"sequentialminus\": [[0.0, \"#0d0887\"], [0.1111111111111111, \"#46039f\"], [0.2222222222222222, \"#7201a8\"], [0.3333333333333333, \"#9c179e\"], [0.4444444444444444, \"#bd3786\"], [0.5555555555555556, \"#d8576b\"], [0.6666666666666666, \"#ed7953\"], [0.7777777777777778, \"#fb9f3a\"], [0.8888888888888888, \"#fdca26\"], [1.0, \"#f0f921\"]]}, \"colorway\": [\"#636efa\", \"#EF553B\", \"#00cc96\", \"#ab63fa\", \"#FFA15A\", \"#19d3f3\", \"#FF6692\", \"#B6E880\", \"#FF97FF\", \"#FECB52\"], \"font\": {\"color\": \"#2a3f5f\"}, \"geo\": {\"bgcolor\": \"white\", \"lakecolor\": \"white\", \"landcolor\": \"#E5ECF6\", \"showlakes\": true, \"showland\": true, \"subunitcolor\": \"white\"}, \"hoverlabel\": {\"align\": \"left\"}, \"hovermode\": \"closest\", \"mapbox\": {\"style\": \"light\"}, \"paper_bgcolor\": \"white\", \"plot_bgcolor\": \"#E5ECF6\", \"polar\": {\"angularaxis\": {\"gridcolor\": \"white\", \"linecolor\": \"white\", \"ticks\": \"\"}, \"bgcolor\": \"#E5ECF6\", \"radialaxis\": {\"gridcolor\": \"white\", \"linecolor\": \"white\", \"ticks\": \"\"}}, \"scene\": {\"xaxis\": {\"backgroundcolor\": \"#E5ECF6\", \"gridcolor\": \"white\", \"gridwidth\": 2, \"linecolor\": \"white\", \"showbackground\": true, \"ticks\": \"\", \"zerolinecolor\": \"white\"}, \"yaxis\": {\"backgroundcolor\": \"#E5ECF6\", \"gridcolor\": \"white\", \"gridwidth\": 2, \"linecolor\": \"white\", \"showbackground\": true, \"ticks\": \"\", \"zerolinecolor\": \"white\"}, \"zaxis\": {\"backgroundcolor\": \"#E5ECF6\", \"gridcolor\": \"white\", \"gridwidth\": 2, \"linecolor\": \"white\", \"showbackground\": true, \"ticks\": \"\", \"zerolinecolor\": \"white\"}}, \"shapedefaults\": {\"line\": {\"color\": \"#2a3f5f\"}}, \"ternary\": {\"aaxis\": {\"gridcolor\": \"white\", \"linecolor\": \"white\", \"ticks\": \"\"}, \"baxis\": {\"gridcolor\": \"white\", \"linecolor\": \"white\", \"ticks\": \"\"}, \"bgcolor\": \"#E5ECF6\", \"caxis\": {\"gridcolor\": \"white\", \"linecolor\": \"white\", \"ticks\": \"\"}}, \"title\": {\"x\": 0.05}, \"xaxis\": {\"automargin\": true, \"gridcolor\": \"white\", \"linecolor\": \"white\", \"ticks\": \"\", \"title\": {\"standoff\": 15}, \"zerolinecolor\": \"white\", \"zerolinewidth\": 2}, \"yaxis\": {\"automargin\": true, \"gridcolor\": \"white\", \"linecolor\": \"white\", \"ticks\": \"\", \"title\": {\"standoff\": 15}, \"zerolinecolor\": \"white\", \"zerolinewidth\": 2}}}, \"title\": {\"text\": \"I have the same opportunities for advancement as other team members at my organization with similar experience and performance levels.\"}, \"updatemenus\": [{\"buttons\": [{\"args\": [{\"visible\": [true, false, false, false, false, false, false, false, false, false, false, false, false, false, false, false, false, false, false, false, false, false, false, false, false]}, {\"title\": \"I have the same opportunities for advancement as other team members at my organization with similar experience and performance levels.\"}], \"label\": \"Total\", \"method\": \"update\"}, {\"args\": [{\"visible\": [false, true, true, true, true, true, true, false, false, false, false, false, false, false, false, false, false, false, false, false, false, false, false, false, false]}, {\"title\": \"I have the same opportunities for advancement as other team members at my organization with similar experience and performance levels.\"}], \"label\": \"Race\", \"method\": \"update\"}, {\"args\": [{\"visible\": [false, false, false, false, false, false, false, true, true, true, true, true, true, false, false, false, false, false, false, false, false, false, false, false, false]}, {\"title\": \"I have the same opportunities for advancement as other team members at my organization with similar experience and performance levels.\"}], \"label\": \"Age\", \"method\": \"update\"}, {\"args\": [{\"visible\": [false, false, false, false, false, false, false, false, false, false, false, false, false, true, true, false, false, false, false, false, false, false, false, false, false]}, {\"title\": \"I have the same opportunities for advancement as other team members at my organization with similar experience and performance levels.\"}], \"label\": \"Sexual Orientation\", \"method\": \"update\"}, {\"args\": [{\"visible\": [false, false, false, false, false, false, false, false, false, false, false, false, false, false, false, true, true, true, true, true, true, false, false, false, false]}, {\"title\": \"I have the same opportunities for advancement as other team members at my organization with similar experience and performance levels.\"}], \"label\": \"Tenure\", \"method\": \"update\"}, {\"args\": [{\"visible\": [false, false, false, false, false, false, false, false, false, false, false, false, false, false, false, false, false, false, false, false, false, true, true, true, true]}, {\"title\": \"I have the same opportunities for advancement as other team members at my organization with similar experience and performance levels.\"}], \"label\": \"Status\", \"method\": \"update\"}], \"type\": \"buttons\"}]},\n",
       "                        {\"responsive\": true}\n",
       "                    ).then(function(){\n",
       "                            \n",
       "var gd = document.getElementById('3b02072e-463c-465c-9950-2f5f5bc07e1e');\n",
       "var x = new MutationObserver(function (mutations, observer) {{\n",
       "        var display = window.getComputedStyle(gd).display;\n",
       "        if (!display || display === 'none') {{\n",
       "            console.log([gd, 'removed!']);\n",
       "            Plotly.purge(gd);\n",
       "            observer.disconnect();\n",
       "        }}\n",
       "}});\n",
       "\n",
       "// Listen for the removal of the full notebook cells\n",
       "var notebookContainer = gd.closest('#notebook-container');\n",
       "if (notebookContainer) {{\n",
       "    x.observe(notebookContainer, {childList: true});\n",
       "}}\n",
       "\n",
       "// Listen for the clearing of the current output cell\n",
       "var outputEl = gd.closest('.output');\n",
       "if (outputEl) {{\n",
       "    x.observe(outputEl, {childList: true});\n",
       "}}\n",
       "\n",
       "                        })\n",
       "                };\n",
       "                });\n",
       "            </script>\n",
       "        </div>"
      ]
     },
     "metadata": {},
     "output_type": "display_data"
    }
   ],
   "source": [
    "#defining list_updatemenus\n",
    "list_updatemenus = [{'label': 'Total',\n",
    "                     'method': 'update',\n",
    "                     'args': [{'visible': [True, False, False, False, False, False, False, False, False, False, False, False, False, False, False, False, False, False, False, False, False, False, False, False, False]}, {'title': 'I have the same opportunities for advancement as other team members at my organization with similar experience and performance levels.'}]},\n",
    "                    {'label': 'Race',\n",
    "                     'method': 'update',\n",
    "                     'args': [{'visible': [False, True, True, True, True, True, True, False, False, False, False, False, False, False, False, False, False, False, False, False, False, False, False, False, False]}, {'title': 'I have the same opportunities for advancement as other team members at my organization with similar experience and performance levels.'}]},\n",
    "                    {'label': 'Age',\n",
    "                     'method': 'update',\n",
    "                     'args': [{'visible': [False, False, False, False, False, False, False, True, True, True, True, True, True, False, False, False, False, False, False, False, False, False, False, False, False]}, {'title': 'I have the same opportunities for advancement as other team members at my organization with similar experience and performance levels.'}]},\n",
    "                    {'label': 'Sexual Orientation',\n",
    "                     'method': 'update',\n",
    "                     'args': [{'visible': [False, False, False, False, False, False, False, False, False, False, False, False, False, True, True, False, False, False, False, False, False, False, False, False, False]}, {'title': 'I have the same opportunities for advancement as other team members at my organization with similar experience and performance levels.'}]},\n",
    "                   {'label': 'Tenure',\n",
    "                     'method': 'update',\n",
    "                     'args': [{'visible': [False, False, False, False, False, False, False, False, False, False, False, False, False, False, False, True, True, True, True, True, True, False, False, False, False]}, {'title': 'I have the same opportunities for advancement as other team members at my organization with similar experience and performance levels.'}]},\n",
    "                   {'label': 'Status',\n",
    "                     'method': 'update',\n",
    "                     'args': [{'visible': [False, False, False, False, False, False, False, False, False, False, False, False, False, False, False, False, False, False, False, False, False, True, True, True, True]}, {'title': 'I have the same opportunities for advancement as other team members at my organization with similar experience and performance levels.'}]}\n",
    "                   ]\n",
    "#defining graph objects\n",
    "x_total = dei[\"I have the same opportunities for advancement as other team members at my organization with similar experience and performance levels.  \"]\n",
    "x_white = dei[dei['What is your race? ']==\"White\"][\"I have the same opportunities for advancement as other team members at my organization with similar experience and performance levels.  \"]\n",
    "x_latinx = dei[dei['What is your race? ']==\"Latino/Hispanic\"][\"I have the same opportunities for advancement as other team members at my organization with similar experience and performance levels.  \"]\n",
    "x_black = dei[dei['What is your race? ']==\"Black/ African American\"][\"I have the same opportunities for advancement as other team members at my organization with similar experience and performance levels.  \"]\n",
    "x_two_plus = dei[dei['What is your race? ']==\"Two or more Races\"][\"I have the same opportunities for advancement as other team members at my organization with similar experience and performance levels.  \"]\n",
    "x_asian = dei[dei['What is your race? ']==\"Asian\"][\"I have the same opportunities for advancement as other team members at my organization with similar experience and performance levels.  \"]\n",
    "x_first_peoples = dei[dei['What is your race? ']==\"Indian/ Native American\"][\"I have the same opportunities for advancement as other team members at my organization with similar experience and performance levels.  \"]\n",
    "x_age1 = dei[dei[\"What is your age?\"]==\"25-34\"][\"I have the same opportunities for advancement as other team members at my organization with similar experience and performance levels.  \"]\n",
    "x_age2 = dei[dei[\"What is your age?\"]==\"35-44\"][\"I have the same opportunities for advancement as other team members at my organization with similar experience and performance levels.  \"]\n",
    "x_age3 = dei[dei[\"What is your age?\"]==\"45-54\"][\"I have the same opportunities for advancement as other team members at my organization with similar experience and performance levels.  \"]\n",
    "x_age4 = dei[dei[\"What is your age?\"]==\"55-64\"][\"I have the same opportunities for advancement as other team members at my organization with similar experience and performance levels.  \"]\n",
    "x_age5 = dei[dei[\"What is your age?\"]==\"18-24\"][\"I have the same opportunities for advancement as other team members at my organization with similar experience and performance levels.  \"]\n",
    "x_age6 = dei[dei[\"What is your age?\"]==\"65-74\"][\"I have the same opportunities for advancement as other team members at my organization with similar experience and performance levels.  \"]\n",
    "x_straight = dei[dei[\"What is your sexual orientation?\"]==\"Straight\"][\"I have the same opportunities for advancement as other team members at my organization with similar experience and performance levels.  \"]\n",
    "x_lgbtq = dei[dei[\"What is your sexual orientation?\"]==\"LGBTQ+\"][\"I have the same opportunities for advancement as other team members at my organization with similar experience and performance levels.  \"]\n",
    "x_tenure1 = dei[dei[\"How long have you worked for FC?\"]==\"1-3 years\"][\"I have the same opportunities for advancement as other team members at my organization with similar experience and performance levels.  \"]\n",
    "x_tenure2 = dei[dei[\"How long have you worked for FC?\"]==\"3-5 years\"][\"I have the same opportunities for advancement as other team members at my organization with similar experience and performance levels.  \"]\n",
    "x_tenure3 = dei[dei[\"How long have you worked for FC?\"]==\"Less than a year\"][\"I have the same opportunities for advancement as other team members at my organization with similar experience and performance levels.  \"]\n",
    "x_tenure4 = dei[dei[\"How long have you worked for FC?\"]==\"5-10 years\"][\"I have the same opportunities for advancement as other team members at my organization with similar experience and performance levels.  \"]\n",
    "x_tenure5 = dei[dei[\"How long have you worked for FC?\"]==\"10+ years\"][\"I have the same opportunities for advancement as other team members at my organization with similar experience and performance levels.  \"]\n",
    "x_tenure6 = dei[dei[\"How long have you worked for FC?\"]==\"1 year\"][\"I have the same opportunities for advancement as other team members at my organization with similar experience and performance levels.  \"]\n",
    "x_status1 = dei[dei[\"What is your employment status?\"]==\"Full-time\"][\"I have the same opportunities for advancement as other team members at my organization with similar experience and performance levels.  \"]\n",
    "x_status2 = dei[dei[\"What is your employment status?\"]==\"Part-time\"][\"I have the same opportunities for advancement as other team members at my organization with similar experience and performance levels.  \"]\n",
    "x_status3 = dei[dei[\"What is your employment status?\"]==\"Seasonal\"][\"I have the same opportunities for advancement as other team members at my organization with similar experience and performance levels.  \"]\n",
    "x_status4 = dei[dei[\"What is your employment status?\"]==\"Part-time, Seasonal\"][\"I have the same opportunities for advancement as other team members at my organization with similar experience and performance levels.  \"]\n",
    "#defining data\n",
    "data=[go.Histogram(x=x_total,name='   ',opacity = .5),\n",
    "      go.Histogram(x=x_white,name='White',opacity = .5),\n",
    "      go.Histogram(x=x_latinx,name='Latino/Hispanic',opacity = .5),\n",
    "      go.Histogram(x=x_black,name='Black/African American',opacity = .5),\n",
    "      go.Histogram(x=x_two_plus,name='Two or more Races',opacity = .5),\n",
    "      go.Histogram(x=x_asian,name='Asian',opacity = .5),\n",
    "      go.Histogram(x=x_first_peoples,name='Indian/Native American',opacity = .5),\n",
    "      go.Histogram(x=x_age1,name='25-34', opacity = .5),\n",
    "      go.Histogram(x=x_age2,name='35-44',opacity = .5),\n",
    "      go.Histogram(x=x_age3,name='45-54',opacity = .5),\n",
    "      go.Histogram(x=x_age4,name='55-64',opacity = .5),\n",
    "      go.Histogram(x=x_age5,name='18-24',opacity = .5),\n",
    "      go.Histogram(x=x_age6,name='65-74',opacity = .5),\n",
    "      go.Histogram(x=x_straight,name='Straight',opacity = .5),\n",
    "      go.Histogram(x=x_lgbtq,name='LGBTQ+',opacity = .5),\n",
    "      go.Histogram(x=x_tenure1,name='1-3 years',opacity = .5),\n",
    "      go.Histogram(x=x_tenure2,name='3-5 years',opacity = .5),\n",
    "      go.Histogram(x=x_tenure3,name='< than a year',opacity = .5),\n",
    "      go.Histogram(x=x_tenure4,name='5-10 years',opacity = .5),\n",
    "      go.Histogram(x=x_tenure5,name='10+ years',opacity = .5),\n",
    "      go.Histogram(x=x_tenure6,name='1 year',opacity = .5),\n",
    "      go.Histogram(x=x_status1,name='Full-time',opacity = .5),\n",
    "      go.Histogram(x=x_status2,name='Part-time',opacity = .5),\n",
    "      go.Histogram(x=x_status2,name='Seasonal',opacity = .5),\n",
    "      go.Histogram(x=x_status2,name='Part-time, Seasonal',opacity = .5)\n",
    "     \n",
    "     ]\n",
    "\n",
    "\n",
    "#defining layout\n",
    "layout=go.Layout(title='I have the same opportunities for advancement as other team members at my organization with similar experience and performance levels.',updatemenus=list([dict(buttons= list_updatemenus,type = 'buttons')]),barmode='stack')\n",
    "\n",
    "#defining layout and plotting\n",
    "fig = go.Figure(data,layout)\n",
    "fig.show()"
   ]
  },
  {
   "cell_type": "markdown",
   "metadata": {},
   "source": [
    "### If I raised a concern about ethics and integrity, I am confident my employer would do what is right. "
   ]
  },
  {
   "cell_type": "code",
   "execution_count": 28,
   "metadata": {},
   "outputs": [
    {
     "data": {
      "application/vnd.plotly.v1+json": {
       "config": {
        "plotlyServerURL": "https://plot.ly"
       },
       "data": [
        {
         "name": "   ",
         "opacity": 0.5,
         "type": "histogram",
         "x": [
          3,
          3,
          5,
          5,
          1,
          1,
          1,
          1,
          1,
          2,
          2,
          2,
          2,
          2,
          3,
          3,
          3,
          3,
          3,
          3,
          3,
          3,
          3,
          4,
          4,
          5,
          5,
          5,
          5,
          2,
          3,
          1,
          1,
          1,
          1,
          1,
          1,
          1,
          2,
          2,
          2,
          2,
          2,
          2,
          2,
          2,
          2,
          2,
          2,
          2,
          2,
          2,
          2,
          3,
          3,
          3,
          3,
          3,
          3,
          3,
          3,
          3,
          4,
          4,
          4,
          4,
          4,
          4,
          4,
          4,
          4,
          4,
          4,
          4,
          4,
          4,
          4,
          4,
          4,
          5,
          5,
          5,
          5,
          5,
          5,
          5,
          5,
          5,
          5,
          5,
          5,
          5,
          5,
          5,
          5,
          5,
          5,
          5,
          5,
          4,
          5,
          1,
          2,
          4,
          4,
          4,
          4,
          5,
          5,
          5,
          5,
          5,
          5,
          5,
          null,
          null,
          1,
          1,
          1,
          1,
          1,
          1,
          1,
          1,
          2,
          2,
          2,
          2,
          2,
          2,
          2,
          2,
          2,
          2,
          2,
          2,
          3,
          3,
          3,
          3,
          3,
          3,
          3,
          3,
          3,
          3,
          3,
          3,
          3,
          3,
          3,
          3,
          3,
          3,
          4,
          4,
          4,
          4,
          4,
          4,
          4,
          4,
          4,
          4,
          4,
          4,
          4,
          4,
          4,
          4,
          4,
          4,
          4,
          4,
          4,
          4,
          4,
          4,
          4,
          5,
          5,
          5,
          5,
          5,
          5,
          5,
          5,
          5,
          5,
          5,
          5,
          5,
          5,
          5,
          5,
          5,
          5,
          5,
          5,
          5,
          5,
          5,
          4,
          3,
          3
         ]
        },
        {
         "name": "White",
         "opacity": 0.5,
         "type": "histogram",
         "x": [
          1,
          1,
          1,
          1,
          1,
          1,
          1,
          1,
          2,
          2,
          2,
          2,
          2,
          2,
          2,
          2,
          2,
          2,
          2,
          2,
          3,
          3,
          3,
          3,
          3,
          3,
          3,
          3,
          3,
          3,
          3,
          3,
          3,
          3,
          3,
          3,
          3,
          3,
          4,
          4,
          4,
          4,
          4,
          4,
          4,
          4,
          4,
          4,
          4,
          4,
          4,
          4,
          4,
          4,
          4,
          4,
          4,
          4,
          4,
          4,
          4,
          4,
          4,
          5,
          5,
          5,
          5,
          5,
          5,
          5,
          5,
          5,
          5,
          5,
          5,
          5,
          5,
          5,
          5,
          5,
          5,
          5,
          5,
          5,
          5,
          5
         ]
        },
        {
         "name": "Latino/Hispanic",
         "opacity": 0.5,
         "type": "histogram",
         "x": [
          1,
          1,
          1,
          1,
          1,
          1,
          1,
          2,
          2,
          2,
          2,
          2,
          2,
          2,
          2,
          2,
          2,
          2,
          2,
          2,
          2,
          2,
          3,
          3,
          3,
          3,
          3,
          3,
          3,
          3,
          3,
          4,
          4,
          4,
          4,
          4,
          4,
          4,
          4,
          4,
          4,
          4,
          4,
          4,
          4,
          4,
          4,
          4,
          5,
          5,
          5,
          5,
          5,
          5,
          5,
          5,
          5,
          5,
          5,
          5,
          5,
          5,
          5,
          5,
          5,
          5,
          5,
          5
         ]
        },
        {
         "name": "Black/African American",
         "opacity": 0.5,
         "type": "histogram",
         "x": [
          1,
          1,
          1,
          1,
          1,
          2,
          2,
          2,
          2,
          2,
          3,
          3,
          3,
          3,
          3,
          3,
          3,
          3,
          3,
          4,
          4,
          5,
          5,
          5
         ]
        },
        {
         "name": "Two or more Races",
         "opacity": 0.5,
         "type": "histogram",
         "x": [
          1,
          2,
          4,
          4,
          4,
          4,
          5,
          5,
          5,
          5,
          5,
          5,
          5,
          null,
          null
         ]
        },
        {
         "name": "Asian",
         "opacity": 0.5,
         "type": "histogram",
         "x": [
          3,
          4,
          5
         ]
        },
        {
         "name": "Indian/Native American",
         "opacity": 0.5,
         "type": "histogram",
         "x": [
          2,
          3
         ]
        },
        {
         "name": "25-34",
         "opacity": 0.5,
         "type": "histogram",
         "x": [
          3,
          5,
          1,
          1,
          2,
          3,
          3,
          3,
          3,
          5,
          5,
          5,
          1,
          1,
          2,
          2,
          2,
          2,
          2,
          2,
          2,
          3,
          3,
          3,
          3,
          4,
          4,
          4,
          4,
          4,
          4,
          4,
          4,
          5,
          5,
          5,
          5,
          5,
          5,
          5,
          5,
          5,
          1,
          4,
          4,
          5,
          5,
          null,
          null,
          1,
          1,
          1,
          1,
          2,
          2,
          2,
          2,
          2,
          3,
          3,
          3,
          3,
          3,
          4,
          4,
          4,
          4,
          4,
          4,
          4,
          4,
          4,
          4,
          4,
          4,
          4,
          4,
          4,
          5,
          5,
          5,
          5,
          5,
          5,
          5,
          3
         ]
        },
        {
         "name": "35-44",
         "opacity": 0.5,
         "type": "histogram",
         "x": [
          3,
          2,
          3,
          3,
          3,
          3,
          1,
          1,
          1,
          1,
          2,
          2,
          2,
          2,
          2,
          3,
          3,
          3,
          4,
          4,
          4,
          4,
          4,
          5,
          5,
          5,
          5,
          5,
          2,
          4,
          1,
          1,
          1,
          2,
          2,
          2,
          3,
          3,
          3,
          3,
          4,
          4,
          4,
          5,
          5,
          5,
          5
         ]
        },
        {
         "name": "45-54",
         "opacity": 0.5,
         "type": "histogram",
         "x": [
          1,
          2,
          4,
          3,
          2,
          2,
          3,
          4,
          4,
          4,
          4,
          5,
          1,
          2,
          2,
          3,
          3,
          3,
          3,
          3,
          3,
          4,
          4,
          4,
          4,
          5,
          5,
          5
         ]
        },
        {
         "name": "55-64",
         "opacity": 0.5,
         "type": "histogram",
         "x": [
          1,
          2,
          2,
          3,
          5,
          2,
          3,
          4,
          5,
          4,
          5,
          2,
          3,
          3,
          4,
          4,
          5,
          5,
          5,
          5,
          5,
          5,
          5,
          4,
          3
         ]
        },
        {
         "name": "18-24",
         "opacity": 0.5,
         "type": "histogram",
         "x": [
          5,
          1,
          5,
          5,
          5,
          5,
          5,
          5,
          2,
          3,
          5,
          5
         ]
        },
        {
         "name": "65-74",
         "opacity": 0.5,
         "type": "histogram",
         "x": [
          4,
          2,
          5,
          5,
          5,
          4
         ]
        },
        {
         "name": "Straight",
         "opacity": 0.5,
         "type": "histogram",
         "x": [
          5,
          5,
          1,
          1,
          1,
          1,
          1,
          2,
          2,
          2,
          2,
          2,
          3,
          3,
          3,
          3,
          3,
          3,
          3,
          3,
          4,
          5,
          5,
          5,
          5,
          2,
          1,
          1,
          1,
          1,
          1,
          2,
          2,
          2,
          2,
          2,
          2,
          2,
          2,
          2,
          2,
          2,
          2,
          3,
          3,
          3,
          3,
          3,
          3,
          3,
          3,
          4,
          4,
          4,
          4,
          4,
          4,
          4,
          4,
          4,
          4,
          4,
          4,
          4,
          4,
          4,
          5,
          5,
          5,
          5,
          5,
          5,
          5,
          5,
          5,
          5,
          5,
          5,
          5,
          5,
          5,
          5,
          5,
          4,
          5,
          2,
          4,
          4,
          4,
          5,
          5,
          5,
          5,
          5,
          5,
          5,
          null,
          null,
          1,
          1,
          1,
          1,
          1,
          2,
          2,
          2,
          2,
          2,
          2,
          2,
          2,
          2,
          3,
          3,
          3,
          3,
          3,
          3,
          3,
          3,
          3,
          3,
          3,
          3,
          3,
          4,
          4,
          4,
          4,
          4,
          4,
          4,
          4,
          4,
          4,
          4,
          4,
          4,
          4,
          5,
          5,
          5,
          5,
          5,
          5,
          5,
          5,
          5,
          5,
          5,
          5,
          5,
          5,
          5,
          5,
          5,
          5,
          5,
          5,
          4,
          3
         ]
        },
        {
         "name": "LGBTQ+",
         "opacity": 0.5,
         "type": "histogram",
         "x": [
          3,
          3,
          1,
          2,
          2,
          2,
          3,
          4,
          5,
          5,
          5,
          1,
          4,
          1,
          1,
          1,
          2,
          2,
          2,
          3,
          3,
          3,
          3,
          4,
          4,
          4,
          4,
          4,
          4,
          4,
          4,
          5,
          5,
          5,
          3
         ]
        },
        {
         "name": "1-3 years",
         "opacity": 0.5,
         "type": "histogram",
         "x": [
          3,
          3,
          5,
          5,
          1,
          1,
          1,
          2,
          2,
          3,
          3,
          3,
          3,
          5,
          5,
          1,
          1,
          1,
          1,
          2,
          2,
          2,
          3,
          3,
          3,
          3,
          4,
          4,
          4,
          4,
          4,
          4,
          5,
          5,
          5,
          5,
          5,
          4,
          4,
          5,
          null,
          1,
          1,
          2,
          2,
          2,
          2,
          2,
          2,
          2,
          2,
          3,
          3,
          3,
          3,
          4,
          4,
          4,
          4,
          4,
          4,
          4,
          4,
          5,
          5,
          5,
          5,
          5,
          5,
          3
         ]
        },
        {
         "name": "3-5 years",
         "opacity": 0.5,
         "type": "histogram",
         "x": [
          1,
          1,
          2,
          3,
          3,
          3,
          1,
          2,
          2,
          2,
          4,
          4,
          4,
          4,
          4,
          5,
          5,
          5,
          5,
          1,
          1,
          1,
          1,
          1,
          3,
          3,
          3,
          3,
          4,
          4,
          4,
          4,
          4,
          4,
          4,
          4,
          5,
          5,
          5,
          5
         ]
        },
        {
         "name": "< than a year",
         "opacity": 0.5,
         "type": "histogram",
         "x": [
          2,
          2,
          4,
          5,
          5,
          5,
          5,
          5,
          5,
          5,
          4,
          5,
          5,
          5,
          null,
          3,
          3,
          3,
          3,
          4,
          4,
          4,
          4,
          4,
          4,
          5,
          5,
          5,
          5,
          5,
          5,
          5
         ]
        },
        {
         "name": "5-10 years",
         "opacity": 0.5,
         "type": "histogram",
         "x": [
          2,
          3,
          4,
          5,
          5,
          3,
          1,
          2,
          2,
          2,
          3,
          3,
          3,
          4,
          4,
          5,
          2,
          5,
          1,
          2,
          2,
          3,
          3,
          3,
          3,
          4,
          5,
          5
         ]
        },
        {
         "name": "10+ years",
         "opacity": 0.5,
         "type": "histogram",
         "x": [
          4,
          2,
          2,
          2,
          2,
          3,
          3,
          4,
          4,
          4,
          5,
          5,
          4,
          4,
          1,
          3,
          3,
          4,
          5,
          5,
          5,
          5,
          4
         ]
        },
        {
         "name": "1 year",
         "opacity": 0.5,
         "type": "histogram",
         "x": [
          3,
          1,
          2,
          2,
          5,
          5,
          5,
          5,
          2,
          2,
          3
         ]
        },
        {
         "name": "Full-time",
         "opacity": 0.5,
         "type": "histogram",
         "x": [
          3,
          3,
          1,
          1,
          1,
          1,
          1,
          2,
          2,
          2,
          2,
          2,
          3,
          3,
          3,
          3,
          3,
          3,
          3,
          3,
          4,
          4,
          5,
          5,
          5,
          5,
          2,
          3,
          1,
          1,
          1,
          1,
          1,
          1,
          1,
          2,
          2,
          2,
          2,
          2,
          2,
          2,
          2,
          2,
          2,
          2,
          2,
          2,
          2,
          2,
          3,
          3,
          3,
          3,
          3,
          3,
          3,
          3,
          4,
          4,
          4,
          4,
          4,
          4,
          4,
          4,
          4,
          4,
          4,
          4,
          4,
          4,
          4,
          4,
          4,
          5,
          5,
          5,
          5,
          5,
          5,
          5,
          5,
          5,
          5,
          5,
          5,
          5,
          5,
          5,
          4,
          5,
          1,
          2,
          4,
          4,
          4,
          4,
          5,
          5,
          5,
          5,
          5,
          null,
          null,
          1,
          1,
          1,
          1,
          1,
          1,
          1,
          1,
          2,
          2,
          2,
          2,
          2,
          2,
          2,
          2,
          2,
          2,
          2,
          2,
          3,
          3,
          3,
          3,
          3,
          3,
          3,
          3,
          3,
          3,
          3,
          3,
          3,
          3,
          3,
          3,
          4,
          4,
          4,
          4,
          4,
          4,
          4,
          4,
          4,
          4,
          4,
          4,
          4,
          4,
          4,
          4,
          4,
          4,
          4,
          4,
          5,
          5,
          5,
          5,
          5,
          5,
          5,
          5,
          5,
          5,
          5,
          5,
          5,
          5,
          5,
          5,
          4,
          3,
          3
         ]
        },
        {
         "name": "Part-time",
         "opacity": 0.5,
         "type": "histogram",
         "x": [
          5,
          5,
          3,
          5,
          5,
          5,
          5,
          5,
          3,
          3,
          4,
          4,
          5,
          5,
          5,
          5,
          5,
          5,
          5
         ]
        },
        {
         "name": "Seasonal",
         "opacity": 0.5,
         "type": "histogram",
         "x": [
          5,
          5,
          3,
          5,
          5,
          5,
          5,
          5,
          3,
          3,
          4,
          4,
          5,
          5,
          5,
          5,
          5,
          5,
          5
         ]
        },
        {
         "name": "Part-time, Seasonal",
         "opacity": 0.5,
         "type": "histogram",
         "x": [
          5,
          5,
          3,
          5,
          5,
          5,
          5,
          5,
          3,
          3,
          4,
          4,
          5,
          5,
          5,
          5,
          5,
          5,
          5
         ]
        }
       ],
       "layout": {
        "barmode": "stack",
        "template": {
         "data": {
          "bar": [
           {
            "error_x": {
             "color": "#2a3f5f"
            },
            "error_y": {
             "color": "#2a3f5f"
            },
            "marker": {
             "line": {
              "color": "#E5ECF6",
              "width": 0.5
             }
            },
            "type": "bar"
           }
          ],
          "barpolar": [
           {
            "marker": {
             "line": {
              "color": "#E5ECF6",
              "width": 0.5
             }
            },
            "type": "barpolar"
           }
          ],
          "carpet": [
           {
            "aaxis": {
             "endlinecolor": "#2a3f5f",
             "gridcolor": "white",
             "linecolor": "white",
             "minorgridcolor": "white",
             "startlinecolor": "#2a3f5f"
            },
            "baxis": {
             "endlinecolor": "#2a3f5f",
             "gridcolor": "white",
             "linecolor": "white",
             "minorgridcolor": "white",
             "startlinecolor": "#2a3f5f"
            },
            "type": "carpet"
           }
          ],
          "choropleth": [
           {
            "colorbar": {
             "outlinewidth": 0,
             "ticks": ""
            },
            "type": "choropleth"
           }
          ],
          "contour": [
           {
            "colorbar": {
             "outlinewidth": 0,
             "ticks": ""
            },
            "colorscale": [
             [
              0,
              "#0d0887"
             ],
             [
              0.1111111111111111,
              "#46039f"
             ],
             [
              0.2222222222222222,
              "#7201a8"
             ],
             [
              0.3333333333333333,
              "#9c179e"
             ],
             [
              0.4444444444444444,
              "#bd3786"
             ],
             [
              0.5555555555555556,
              "#d8576b"
             ],
             [
              0.6666666666666666,
              "#ed7953"
             ],
             [
              0.7777777777777778,
              "#fb9f3a"
             ],
             [
              0.8888888888888888,
              "#fdca26"
             ],
             [
              1,
              "#f0f921"
             ]
            ],
            "type": "contour"
           }
          ],
          "contourcarpet": [
           {
            "colorbar": {
             "outlinewidth": 0,
             "ticks": ""
            },
            "type": "contourcarpet"
           }
          ],
          "heatmap": [
           {
            "colorbar": {
             "outlinewidth": 0,
             "ticks": ""
            },
            "colorscale": [
             [
              0,
              "#0d0887"
             ],
             [
              0.1111111111111111,
              "#46039f"
             ],
             [
              0.2222222222222222,
              "#7201a8"
             ],
             [
              0.3333333333333333,
              "#9c179e"
             ],
             [
              0.4444444444444444,
              "#bd3786"
             ],
             [
              0.5555555555555556,
              "#d8576b"
             ],
             [
              0.6666666666666666,
              "#ed7953"
             ],
             [
              0.7777777777777778,
              "#fb9f3a"
             ],
             [
              0.8888888888888888,
              "#fdca26"
             ],
             [
              1,
              "#f0f921"
             ]
            ],
            "type": "heatmap"
           }
          ],
          "heatmapgl": [
           {
            "colorbar": {
             "outlinewidth": 0,
             "ticks": ""
            },
            "colorscale": [
             [
              0,
              "#0d0887"
             ],
             [
              0.1111111111111111,
              "#46039f"
             ],
             [
              0.2222222222222222,
              "#7201a8"
             ],
             [
              0.3333333333333333,
              "#9c179e"
             ],
             [
              0.4444444444444444,
              "#bd3786"
             ],
             [
              0.5555555555555556,
              "#d8576b"
             ],
             [
              0.6666666666666666,
              "#ed7953"
             ],
             [
              0.7777777777777778,
              "#fb9f3a"
             ],
             [
              0.8888888888888888,
              "#fdca26"
             ],
             [
              1,
              "#f0f921"
             ]
            ],
            "type": "heatmapgl"
           }
          ],
          "histogram": [
           {
            "marker": {
             "colorbar": {
              "outlinewidth": 0,
              "ticks": ""
             }
            },
            "type": "histogram"
           }
          ],
          "histogram2d": [
           {
            "colorbar": {
             "outlinewidth": 0,
             "ticks": ""
            },
            "colorscale": [
             [
              0,
              "#0d0887"
             ],
             [
              0.1111111111111111,
              "#46039f"
             ],
             [
              0.2222222222222222,
              "#7201a8"
             ],
             [
              0.3333333333333333,
              "#9c179e"
             ],
             [
              0.4444444444444444,
              "#bd3786"
             ],
             [
              0.5555555555555556,
              "#d8576b"
             ],
             [
              0.6666666666666666,
              "#ed7953"
             ],
             [
              0.7777777777777778,
              "#fb9f3a"
             ],
             [
              0.8888888888888888,
              "#fdca26"
             ],
             [
              1,
              "#f0f921"
             ]
            ],
            "type": "histogram2d"
           }
          ],
          "histogram2dcontour": [
           {
            "colorbar": {
             "outlinewidth": 0,
             "ticks": ""
            },
            "colorscale": [
             [
              0,
              "#0d0887"
             ],
             [
              0.1111111111111111,
              "#46039f"
             ],
             [
              0.2222222222222222,
              "#7201a8"
             ],
             [
              0.3333333333333333,
              "#9c179e"
             ],
             [
              0.4444444444444444,
              "#bd3786"
             ],
             [
              0.5555555555555556,
              "#d8576b"
             ],
             [
              0.6666666666666666,
              "#ed7953"
             ],
             [
              0.7777777777777778,
              "#fb9f3a"
             ],
             [
              0.8888888888888888,
              "#fdca26"
             ],
             [
              1,
              "#f0f921"
             ]
            ],
            "type": "histogram2dcontour"
           }
          ],
          "mesh3d": [
           {
            "colorbar": {
             "outlinewidth": 0,
             "ticks": ""
            },
            "type": "mesh3d"
           }
          ],
          "parcoords": [
           {
            "line": {
             "colorbar": {
              "outlinewidth": 0,
              "ticks": ""
             }
            },
            "type": "parcoords"
           }
          ],
          "pie": [
           {
            "automargin": true,
            "type": "pie"
           }
          ],
          "scatter": [
           {
            "marker": {
             "colorbar": {
              "outlinewidth": 0,
              "ticks": ""
             }
            },
            "type": "scatter"
           }
          ],
          "scatter3d": [
           {
            "line": {
             "colorbar": {
              "outlinewidth": 0,
              "ticks": ""
             }
            },
            "marker": {
             "colorbar": {
              "outlinewidth": 0,
              "ticks": ""
             }
            },
            "type": "scatter3d"
           }
          ],
          "scattercarpet": [
           {
            "marker": {
             "colorbar": {
              "outlinewidth": 0,
              "ticks": ""
             }
            },
            "type": "scattercarpet"
           }
          ],
          "scattergeo": [
           {
            "marker": {
             "colorbar": {
              "outlinewidth": 0,
              "ticks": ""
             }
            },
            "type": "scattergeo"
           }
          ],
          "scattergl": [
           {
            "marker": {
             "colorbar": {
              "outlinewidth": 0,
              "ticks": ""
             }
            },
            "type": "scattergl"
           }
          ],
          "scattermapbox": [
           {
            "marker": {
             "colorbar": {
              "outlinewidth": 0,
              "ticks": ""
             }
            },
            "type": "scattermapbox"
           }
          ],
          "scatterpolar": [
           {
            "marker": {
             "colorbar": {
              "outlinewidth": 0,
              "ticks": ""
             }
            },
            "type": "scatterpolar"
           }
          ],
          "scatterpolargl": [
           {
            "marker": {
             "colorbar": {
              "outlinewidth": 0,
              "ticks": ""
             }
            },
            "type": "scatterpolargl"
           }
          ],
          "scatterternary": [
           {
            "marker": {
             "colorbar": {
              "outlinewidth": 0,
              "ticks": ""
             }
            },
            "type": "scatterternary"
           }
          ],
          "surface": [
           {
            "colorbar": {
             "outlinewidth": 0,
             "ticks": ""
            },
            "colorscale": [
             [
              0,
              "#0d0887"
             ],
             [
              0.1111111111111111,
              "#46039f"
             ],
             [
              0.2222222222222222,
              "#7201a8"
             ],
             [
              0.3333333333333333,
              "#9c179e"
             ],
             [
              0.4444444444444444,
              "#bd3786"
             ],
             [
              0.5555555555555556,
              "#d8576b"
             ],
             [
              0.6666666666666666,
              "#ed7953"
             ],
             [
              0.7777777777777778,
              "#fb9f3a"
             ],
             [
              0.8888888888888888,
              "#fdca26"
             ],
             [
              1,
              "#f0f921"
             ]
            ],
            "type": "surface"
           }
          ],
          "table": [
           {
            "cells": {
             "fill": {
              "color": "#EBF0F8"
             },
             "line": {
              "color": "white"
             }
            },
            "header": {
             "fill": {
              "color": "#C8D4E3"
             },
             "line": {
              "color": "white"
             }
            },
            "type": "table"
           }
          ]
         },
         "layout": {
          "annotationdefaults": {
           "arrowcolor": "#2a3f5f",
           "arrowhead": 0,
           "arrowwidth": 1
          },
          "coloraxis": {
           "colorbar": {
            "outlinewidth": 0,
            "ticks": ""
           }
          },
          "colorscale": {
           "diverging": [
            [
             0,
             "#8e0152"
            ],
            [
             0.1,
             "#c51b7d"
            ],
            [
             0.2,
             "#de77ae"
            ],
            [
             0.3,
             "#f1b6da"
            ],
            [
             0.4,
             "#fde0ef"
            ],
            [
             0.5,
             "#f7f7f7"
            ],
            [
             0.6,
             "#e6f5d0"
            ],
            [
             0.7,
             "#b8e186"
            ],
            [
             0.8,
             "#7fbc41"
            ],
            [
             0.9,
             "#4d9221"
            ],
            [
             1,
             "#276419"
            ]
           ],
           "sequential": [
            [
             0,
             "#0d0887"
            ],
            [
             0.1111111111111111,
             "#46039f"
            ],
            [
             0.2222222222222222,
             "#7201a8"
            ],
            [
             0.3333333333333333,
             "#9c179e"
            ],
            [
             0.4444444444444444,
             "#bd3786"
            ],
            [
             0.5555555555555556,
             "#d8576b"
            ],
            [
             0.6666666666666666,
             "#ed7953"
            ],
            [
             0.7777777777777778,
             "#fb9f3a"
            ],
            [
             0.8888888888888888,
             "#fdca26"
            ],
            [
             1,
             "#f0f921"
            ]
           ],
           "sequentialminus": [
            [
             0,
             "#0d0887"
            ],
            [
             0.1111111111111111,
             "#46039f"
            ],
            [
             0.2222222222222222,
             "#7201a8"
            ],
            [
             0.3333333333333333,
             "#9c179e"
            ],
            [
             0.4444444444444444,
             "#bd3786"
            ],
            [
             0.5555555555555556,
             "#d8576b"
            ],
            [
             0.6666666666666666,
             "#ed7953"
            ],
            [
             0.7777777777777778,
             "#fb9f3a"
            ],
            [
             0.8888888888888888,
             "#fdca26"
            ],
            [
             1,
             "#f0f921"
            ]
           ]
          },
          "colorway": [
           "#636efa",
           "#EF553B",
           "#00cc96",
           "#ab63fa",
           "#FFA15A",
           "#19d3f3",
           "#FF6692",
           "#B6E880",
           "#FF97FF",
           "#FECB52"
          ],
          "font": {
           "color": "#2a3f5f"
          },
          "geo": {
           "bgcolor": "white",
           "lakecolor": "white",
           "landcolor": "#E5ECF6",
           "showlakes": true,
           "showland": true,
           "subunitcolor": "white"
          },
          "hoverlabel": {
           "align": "left"
          },
          "hovermode": "closest",
          "mapbox": {
           "style": "light"
          },
          "paper_bgcolor": "white",
          "plot_bgcolor": "#E5ECF6",
          "polar": {
           "angularaxis": {
            "gridcolor": "white",
            "linecolor": "white",
            "ticks": ""
           },
           "bgcolor": "#E5ECF6",
           "radialaxis": {
            "gridcolor": "white",
            "linecolor": "white",
            "ticks": ""
           }
          },
          "scene": {
           "xaxis": {
            "backgroundcolor": "#E5ECF6",
            "gridcolor": "white",
            "gridwidth": 2,
            "linecolor": "white",
            "showbackground": true,
            "ticks": "",
            "zerolinecolor": "white"
           },
           "yaxis": {
            "backgroundcolor": "#E5ECF6",
            "gridcolor": "white",
            "gridwidth": 2,
            "linecolor": "white",
            "showbackground": true,
            "ticks": "",
            "zerolinecolor": "white"
           },
           "zaxis": {
            "backgroundcolor": "#E5ECF6",
            "gridcolor": "white",
            "gridwidth": 2,
            "linecolor": "white",
            "showbackground": true,
            "ticks": "",
            "zerolinecolor": "white"
           }
          },
          "shapedefaults": {
           "line": {
            "color": "#2a3f5f"
           }
          },
          "ternary": {
           "aaxis": {
            "gridcolor": "white",
            "linecolor": "white",
            "ticks": ""
           },
           "baxis": {
            "gridcolor": "white",
            "linecolor": "white",
            "ticks": ""
           },
           "bgcolor": "#E5ECF6",
           "caxis": {
            "gridcolor": "white",
            "linecolor": "white",
            "ticks": ""
           }
          },
          "title": {
           "x": 0.05
          },
          "xaxis": {
           "automargin": true,
           "gridcolor": "white",
           "linecolor": "white",
           "ticks": "",
           "title": {
            "standoff": 15
           },
           "zerolinecolor": "white",
           "zerolinewidth": 2
          },
          "yaxis": {
           "automargin": true,
           "gridcolor": "white",
           "linecolor": "white",
           "ticks": "",
           "title": {
            "standoff": 15
           },
           "zerolinecolor": "white",
           "zerolinewidth": 2
          }
         }
        },
        "title": {
         "text": "If I raised a concern about ethics and integrity, I am confident my employer would do what is right."
        },
        "updatemenus": [
         {
          "buttons": [
           {
            "args": [
             {
              "visible": [
               true,
               false,
               false,
               false,
               false,
               false,
               false,
               false,
               false,
               false,
               false,
               false,
               false,
               false,
               false,
               false,
               false,
               false,
               false,
               false,
               false,
               false,
               false,
               false,
               false
              ]
             },
             {
              "title": "If I raised a concern about ethics and integrity, I am confident my employer would do what is right."
             }
            ],
            "label": "Total",
            "method": "update"
           },
           {
            "args": [
             {
              "visible": [
               false,
               true,
               true,
               true,
               true,
               true,
               true,
               false,
               false,
               false,
               false,
               false,
               false,
               false,
               false,
               false,
               false,
               false,
               false,
               false,
               false,
               false,
               false,
               false,
               false
              ]
             },
             {
              "title": "If I raised a concern about ethics and integrity, I am confident my employer would do what is right."
             }
            ],
            "label": "Race",
            "method": "update"
           },
           {
            "args": [
             {
              "visible": [
               false,
               false,
               false,
               false,
               false,
               false,
               false,
               true,
               true,
               true,
               true,
               true,
               true,
               false,
               false,
               false,
               false,
               false,
               false,
               false,
               false,
               false,
               false,
               false,
               false
              ]
             },
             {
              "title": "If I raised a concern about ethics and integrity, I am confident my employer would do what is right."
             }
            ],
            "label": "Age",
            "method": "update"
           },
           {
            "args": [
             {
              "visible": [
               false,
               false,
               false,
               false,
               false,
               false,
               false,
               false,
               false,
               false,
               false,
               false,
               false,
               true,
               true,
               false,
               false,
               false,
               false,
               false,
               false,
               false,
               false,
               false,
               false
              ]
             },
             {
              "title": "If I raised a concern about ethics and integrity, I am confident my employer would do what is right."
             }
            ],
            "label": "Sexual Orientation",
            "method": "update"
           },
           {
            "args": [
             {
              "visible": [
               false,
               false,
               false,
               false,
               false,
               false,
               false,
               false,
               false,
               false,
               false,
               false,
               false,
               false,
               false,
               true,
               true,
               true,
               true,
               true,
               true,
               false,
               false,
               false,
               false
              ]
             },
             {
              "title": "If I raised a concern about ethics and integrity, I am confident my employer would do what is right. "
             }
            ],
            "label": "Tenure",
            "method": "update"
           },
           {
            "args": [
             {
              "visible": [
               false,
               false,
               false,
               false,
               false,
               false,
               false,
               false,
               false,
               false,
               false,
               false,
               false,
               false,
               false,
               false,
               false,
               false,
               false,
               false,
               false,
               true,
               true,
               true,
               true
              ]
             },
             {
              "title": "If I raised a concern about ethics and integrity, I am confident my employer would do what is right."
             }
            ],
            "label": "Status",
            "method": "update"
           }
          ],
          "type": "buttons"
         }
        ]
       }
      },
      "text/html": [
       "<div>\n",
       "        \n",
       "        \n",
       "            <div id=\"3e0743f0-a848-4b21-8890-58a334c13ee2\" class=\"plotly-graph-div\" style=\"height:525px; width:100%;\"></div>\n",
       "            <script type=\"text/javascript\">\n",
       "                require([\"plotly\"], function(Plotly) {\n",
       "                    window.PLOTLYENV=window.PLOTLYENV || {};\n",
       "                    \n",
       "                if (document.getElementById(\"3e0743f0-a848-4b21-8890-58a334c13ee2\")) {\n",
       "                    Plotly.newPlot(\n",
       "                        '3e0743f0-a848-4b21-8890-58a334c13ee2',\n",
       "                        [{\"name\": \"   \", \"opacity\": 0.5, \"type\": \"histogram\", \"x\": [3.0, 3.0, 5.0, 5.0, 1.0, 1.0, 1.0, 1.0, 1.0, 2.0, 2.0, 2.0, 2.0, 2.0, 3.0, 3.0, 3.0, 3.0, 3.0, 3.0, 3.0, 3.0, 3.0, 4.0, 4.0, 5.0, 5.0, 5.0, 5.0, 2.0, 3.0, 1.0, 1.0, 1.0, 1.0, 1.0, 1.0, 1.0, 2.0, 2.0, 2.0, 2.0, 2.0, 2.0, 2.0, 2.0, 2.0, 2.0, 2.0, 2.0, 2.0, 2.0, 2.0, 3.0, 3.0, 3.0, 3.0, 3.0, 3.0, 3.0, 3.0, 3.0, 4.0, 4.0, 4.0, 4.0, 4.0, 4.0, 4.0, 4.0, 4.0, 4.0, 4.0, 4.0, 4.0, 4.0, 4.0, 4.0, 4.0, 5.0, 5.0, 5.0, 5.0, 5.0, 5.0, 5.0, 5.0, 5.0, 5.0, 5.0, 5.0, 5.0, 5.0, 5.0, 5.0, 5.0, 5.0, 5.0, 5.0, 4.0, 5.0, 1.0, 2.0, 4.0, 4.0, 4.0, 4.0, 5.0, 5.0, 5.0, 5.0, 5.0, 5.0, 5.0, null, null, 1.0, 1.0, 1.0, 1.0, 1.0, 1.0, 1.0, 1.0, 2.0, 2.0, 2.0, 2.0, 2.0, 2.0, 2.0, 2.0, 2.0, 2.0, 2.0, 2.0, 3.0, 3.0, 3.0, 3.0, 3.0, 3.0, 3.0, 3.0, 3.0, 3.0, 3.0, 3.0, 3.0, 3.0, 3.0, 3.0, 3.0, 3.0, 4.0, 4.0, 4.0, 4.0, 4.0, 4.0, 4.0, 4.0, 4.0, 4.0, 4.0, 4.0, 4.0, 4.0, 4.0, 4.0, 4.0, 4.0, 4.0, 4.0, 4.0, 4.0, 4.0, 4.0, 4.0, 5.0, 5.0, 5.0, 5.0, 5.0, 5.0, 5.0, 5.0, 5.0, 5.0, 5.0, 5.0, 5.0, 5.0, 5.0, 5.0, 5.0, 5.0, 5.0, 5.0, 5.0, 5.0, 5.0, 4.0, 3.0, 3.0]}, {\"name\": \"White\", \"opacity\": 0.5, \"type\": \"histogram\", \"x\": [1.0, 1.0, 1.0, 1.0, 1.0, 1.0, 1.0, 1.0, 2.0, 2.0, 2.0, 2.0, 2.0, 2.0, 2.0, 2.0, 2.0, 2.0, 2.0, 2.0, 3.0, 3.0, 3.0, 3.0, 3.0, 3.0, 3.0, 3.0, 3.0, 3.0, 3.0, 3.0, 3.0, 3.0, 3.0, 3.0, 3.0, 3.0, 4.0, 4.0, 4.0, 4.0, 4.0, 4.0, 4.0, 4.0, 4.0, 4.0, 4.0, 4.0, 4.0, 4.0, 4.0, 4.0, 4.0, 4.0, 4.0, 4.0, 4.0, 4.0, 4.0, 4.0, 4.0, 5.0, 5.0, 5.0, 5.0, 5.0, 5.0, 5.0, 5.0, 5.0, 5.0, 5.0, 5.0, 5.0, 5.0, 5.0, 5.0, 5.0, 5.0, 5.0, 5.0, 5.0, 5.0, 5.0]}, {\"name\": \"Latino/Hispanic\", \"opacity\": 0.5, \"type\": \"histogram\", \"x\": [1.0, 1.0, 1.0, 1.0, 1.0, 1.0, 1.0, 2.0, 2.0, 2.0, 2.0, 2.0, 2.0, 2.0, 2.0, 2.0, 2.0, 2.0, 2.0, 2.0, 2.0, 2.0, 3.0, 3.0, 3.0, 3.0, 3.0, 3.0, 3.0, 3.0, 3.0, 4.0, 4.0, 4.0, 4.0, 4.0, 4.0, 4.0, 4.0, 4.0, 4.0, 4.0, 4.0, 4.0, 4.0, 4.0, 4.0, 4.0, 5.0, 5.0, 5.0, 5.0, 5.0, 5.0, 5.0, 5.0, 5.0, 5.0, 5.0, 5.0, 5.0, 5.0, 5.0, 5.0, 5.0, 5.0, 5.0, 5.0]}, {\"name\": \"Black/African American\", \"opacity\": 0.5, \"type\": \"histogram\", \"x\": [1.0, 1.0, 1.0, 1.0, 1.0, 2.0, 2.0, 2.0, 2.0, 2.0, 3.0, 3.0, 3.0, 3.0, 3.0, 3.0, 3.0, 3.0, 3.0, 4.0, 4.0, 5.0, 5.0, 5.0]}, {\"name\": \"Two or more Races\", \"opacity\": 0.5, \"type\": \"histogram\", \"x\": [1.0, 2.0, 4.0, 4.0, 4.0, 4.0, 5.0, 5.0, 5.0, 5.0, 5.0, 5.0, 5.0, null, null]}, {\"name\": \"Asian\", \"opacity\": 0.5, \"type\": \"histogram\", \"x\": [3.0, 4.0, 5.0]}, {\"name\": \"Indian/Native American\", \"opacity\": 0.5, \"type\": \"histogram\", \"x\": [2.0, 3.0]}, {\"name\": \"25-34\", \"opacity\": 0.5, \"type\": \"histogram\", \"x\": [3.0, 5.0, 1.0, 1.0, 2.0, 3.0, 3.0, 3.0, 3.0, 5.0, 5.0, 5.0, 1.0, 1.0, 2.0, 2.0, 2.0, 2.0, 2.0, 2.0, 2.0, 3.0, 3.0, 3.0, 3.0, 4.0, 4.0, 4.0, 4.0, 4.0, 4.0, 4.0, 4.0, 5.0, 5.0, 5.0, 5.0, 5.0, 5.0, 5.0, 5.0, 5.0, 1.0, 4.0, 4.0, 5.0, 5.0, null, null, 1.0, 1.0, 1.0, 1.0, 2.0, 2.0, 2.0, 2.0, 2.0, 3.0, 3.0, 3.0, 3.0, 3.0, 4.0, 4.0, 4.0, 4.0, 4.0, 4.0, 4.0, 4.0, 4.0, 4.0, 4.0, 4.0, 4.0, 4.0, 4.0, 5.0, 5.0, 5.0, 5.0, 5.0, 5.0, 5.0, 3.0]}, {\"name\": \"35-44\", \"opacity\": 0.5, \"type\": \"histogram\", \"x\": [3.0, 2.0, 3.0, 3.0, 3.0, 3.0, 1.0, 1.0, 1.0, 1.0, 2.0, 2.0, 2.0, 2.0, 2.0, 3.0, 3.0, 3.0, 4.0, 4.0, 4.0, 4.0, 4.0, 5.0, 5.0, 5.0, 5.0, 5.0, 2.0, 4.0, 1.0, 1.0, 1.0, 2.0, 2.0, 2.0, 3.0, 3.0, 3.0, 3.0, 4.0, 4.0, 4.0, 5.0, 5.0, 5.0, 5.0]}, {\"name\": \"45-54\", \"opacity\": 0.5, \"type\": \"histogram\", \"x\": [1.0, 2.0, 4.0, 3.0, 2.0, 2.0, 3.0, 4.0, 4.0, 4.0, 4.0, 5.0, 1.0, 2.0, 2.0, 3.0, 3.0, 3.0, 3.0, 3.0, 3.0, 4.0, 4.0, 4.0, 4.0, 5.0, 5.0, 5.0]}, {\"name\": \"55-64\", \"opacity\": 0.5, \"type\": \"histogram\", \"x\": [1.0, 2.0, 2.0, 3.0, 5.0, 2.0, 3.0, 4.0, 5.0, 4.0, 5.0, 2.0, 3.0, 3.0, 4.0, 4.0, 5.0, 5.0, 5.0, 5.0, 5.0, 5.0, 5.0, 4.0, 3.0]}, {\"name\": \"18-24\", \"opacity\": 0.5, \"type\": \"histogram\", \"x\": [5.0, 1.0, 5.0, 5.0, 5.0, 5.0, 5.0, 5.0, 2.0, 3.0, 5.0, 5.0]}, {\"name\": \"65-74\", \"opacity\": 0.5, \"type\": \"histogram\", \"x\": [4.0, 2.0, 5.0, 5.0, 5.0, 4.0]}, {\"name\": \"Straight\", \"opacity\": 0.5, \"type\": \"histogram\", \"x\": [5.0, 5.0, 1.0, 1.0, 1.0, 1.0, 1.0, 2.0, 2.0, 2.0, 2.0, 2.0, 3.0, 3.0, 3.0, 3.0, 3.0, 3.0, 3.0, 3.0, 4.0, 5.0, 5.0, 5.0, 5.0, 2.0, 1.0, 1.0, 1.0, 1.0, 1.0, 2.0, 2.0, 2.0, 2.0, 2.0, 2.0, 2.0, 2.0, 2.0, 2.0, 2.0, 2.0, 3.0, 3.0, 3.0, 3.0, 3.0, 3.0, 3.0, 3.0, 4.0, 4.0, 4.0, 4.0, 4.0, 4.0, 4.0, 4.0, 4.0, 4.0, 4.0, 4.0, 4.0, 4.0, 4.0, 5.0, 5.0, 5.0, 5.0, 5.0, 5.0, 5.0, 5.0, 5.0, 5.0, 5.0, 5.0, 5.0, 5.0, 5.0, 5.0, 5.0, 4.0, 5.0, 2.0, 4.0, 4.0, 4.0, 5.0, 5.0, 5.0, 5.0, 5.0, 5.0, 5.0, null, null, 1.0, 1.0, 1.0, 1.0, 1.0, 2.0, 2.0, 2.0, 2.0, 2.0, 2.0, 2.0, 2.0, 2.0, 3.0, 3.0, 3.0, 3.0, 3.0, 3.0, 3.0, 3.0, 3.0, 3.0, 3.0, 3.0, 3.0, 4.0, 4.0, 4.0, 4.0, 4.0, 4.0, 4.0, 4.0, 4.0, 4.0, 4.0, 4.0, 4.0, 4.0, 5.0, 5.0, 5.0, 5.0, 5.0, 5.0, 5.0, 5.0, 5.0, 5.0, 5.0, 5.0, 5.0, 5.0, 5.0, 5.0, 5.0, 5.0, 5.0, 5.0, 4.0, 3.0]}, {\"name\": \"LGBTQ+\", \"opacity\": 0.5, \"type\": \"histogram\", \"x\": [3.0, 3.0, 1.0, 2.0, 2.0, 2.0, 3.0, 4.0, 5.0, 5.0, 5.0, 1.0, 4.0, 1.0, 1.0, 1.0, 2.0, 2.0, 2.0, 3.0, 3.0, 3.0, 3.0, 4.0, 4.0, 4.0, 4.0, 4.0, 4.0, 4.0, 4.0, 5.0, 5.0, 5.0, 3.0]}, {\"name\": \"1-3 years\", \"opacity\": 0.5, \"type\": \"histogram\", \"x\": [3.0, 3.0, 5.0, 5.0, 1.0, 1.0, 1.0, 2.0, 2.0, 3.0, 3.0, 3.0, 3.0, 5.0, 5.0, 1.0, 1.0, 1.0, 1.0, 2.0, 2.0, 2.0, 3.0, 3.0, 3.0, 3.0, 4.0, 4.0, 4.0, 4.0, 4.0, 4.0, 5.0, 5.0, 5.0, 5.0, 5.0, 4.0, 4.0, 5.0, null, 1.0, 1.0, 2.0, 2.0, 2.0, 2.0, 2.0, 2.0, 2.0, 2.0, 3.0, 3.0, 3.0, 3.0, 4.0, 4.0, 4.0, 4.0, 4.0, 4.0, 4.0, 4.0, 5.0, 5.0, 5.0, 5.0, 5.0, 5.0, 3.0]}, {\"name\": \"3-5 years\", \"opacity\": 0.5, \"type\": \"histogram\", \"x\": [1.0, 1.0, 2.0, 3.0, 3.0, 3.0, 1.0, 2.0, 2.0, 2.0, 4.0, 4.0, 4.0, 4.0, 4.0, 5.0, 5.0, 5.0, 5.0, 1.0, 1.0, 1.0, 1.0, 1.0, 3.0, 3.0, 3.0, 3.0, 4.0, 4.0, 4.0, 4.0, 4.0, 4.0, 4.0, 4.0, 5.0, 5.0, 5.0, 5.0]}, {\"name\": \"< than a year\", \"opacity\": 0.5, \"type\": \"histogram\", \"x\": [2.0, 2.0, 4.0, 5.0, 5.0, 5.0, 5.0, 5.0, 5.0, 5.0, 4.0, 5.0, 5.0, 5.0, null, 3.0, 3.0, 3.0, 3.0, 4.0, 4.0, 4.0, 4.0, 4.0, 4.0, 5.0, 5.0, 5.0, 5.0, 5.0, 5.0, 5.0]}, {\"name\": \"5-10 years\", \"opacity\": 0.5, \"type\": \"histogram\", \"x\": [2.0, 3.0, 4.0, 5.0, 5.0, 3.0, 1.0, 2.0, 2.0, 2.0, 3.0, 3.0, 3.0, 4.0, 4.0, 5.0, 2.0, 5.0, 1.0, 2.0, 2.0, 3.0, 3.0, 3.0, 3.0, 4.0, 5.0, 5.0]}, {\"name\": \"10+ years\", \"opacity\": 0.5, \"type\": \"histogram\", \"x\": [4.0, 2.0, 2.0, 2.0, 2.0, 3.0, 3.0, 4.0, 4.0, 4.0, 5.0, 5.0, 4.0, 4.0, 1.0, 3.0, 3.0, 4.0, 5.0, 5.0, 5.0, 5.0, 4.0]}, {\"name\": \"1 year\", \"opacity\": 0.5, \"type\": \"histogram\", \"x\": [3.0, 1.0, 2.0, 2.0, 5.0, 5.0, 5.0, 5.0, 2.0, 2.0, 3.0]}, {\"name\": \"Full-time\", \"opacity\": 0.5, \"type\": \"histogram\", \"x\": [3.0, 3.0, 1.0, 1.0, 1.0, 1.0, 1.0, 2.0, 2.0, 2.0, 2.0, 2.0, 3.0, 3.0, 3.0, 3.0, 3.0, 3.0, 3.0, 3.0, 4.0, 4.0, 5.0, 5.0, 5.0, 5.0, 2.0, 3.0, 1.0, 1.0, 1.0, 1.0, 1.0, 1.0, 1.0, 2.0, 2.0, 2.0, 2.0, 2.0, 2.0, 2.0, 2.0, 2.0, 2.0, 2.0, 2.0, 2.0, 2.0, 2.0, 3.0, 3.0, 3.0, 3.0, 3.0, 3.0, 3.0, 3.0, 4.0, 4.0, 4.0, 4.0, 4.0, 4.0, 4.0, 4.0, 4.0, 4.0, 4.0, 4.0, 4.0, 4.0, 4.0, 4.0, 4.0, 5.0, 5.0, 5.0, 5.0, 5.0, 5.0, 5.0, 5.0, 5.0, 5.0, 5.0, 5.0, 5.0, 5.0, 5.0, 4.0, 5.0, 1.0, 2.0, 4.0, 4.0, 4.0, 4.0, 5.0, 5.0, 5.0, 5.0, 5.0, null, null, 1.0, 1.0, 1.0, 1.0, 1.0, 1.0, 1.0, 1.0, 2.0, 2.0, 2.0, 2.0, 2.0, 2.0, 2.0, 2.0, 2.0, 2.0, 2.0, 2.0, 3.0, 3.0, 3.0, 3.0, 3.0, 3.0, 3.0, 3.0, 3.0, 3.0, 3.0, 3.0, 3.0, 3.0, 3.0, 3.0, 4.0, 4.0, 4.0, 4.0, 4.0, 4.0, 4.0, 4.0, 4.0, 4.0, 4.0, 4.0, 4.0, 4.0, 4.0, 4.0, 4.0, 4.0, 4.0, 4.0, 5.0, 5.0, 5.0, 5.0, 5.0, 5.0, 5.0, 5.0, 5.0, 5.0, 5.0, 5.0, 5.0, 5.0, 5.0, 5.0, 4.0, 3.0, 3.0]}, {\"name\": \"Part-time\", \"opacity\": 0.5, \"type\": \"histogram\", \"x\": [5.0, 5.0, 3.0, 5.0, 5.0, 5.0, 5.0, 5.0, 3.0, 3.0, 4.0, 4.0, 5.0, 5.0, 5.0, 5.0, 5.0, 5.0, 5.0]}, {\"name\": \"Seasonal\", \"opacity\": 0.5, \"type\": \"histogram\", \"x\": [5.0, 5.0, 3.0, 5.0, 5.0, 5.0, 5.0, 5.0, 3.0, 3.0, 4.0, 4.0, 5.0, 5.0, 5.0, 5.0, 5.0, 5.0, 5.0]}, {\"name\": \"Part-time, Seasonal\", \"opacity\": 0.5, \"type\": \"histogram\", \"x\": [5.0, 5.0, 3.0, 5.0, 5.0, 5.0, 5.0, 5.0, 3.0, 3.0, 4.0, 4.0, 5.0, 5.0, 5.0, 5.0, 5.0, 5.0, 5.0]}],\n",
       "                        {\"barmode\": \"stack\", \"template\": {\"data\": {\"bar\": [{\"error_x\": {\"color\": \"#2a3f5f\"}, \"error_y\": {\"color\": \"#2a3f5f\"}, \"marker\": {\"line\": {\"color\": \"#E5ECF6\", \"width\": 0.5}}, \"type\": \"bar\"}], \"barpolar\": [{\"marker\": {\"line\": {\"color\": \"#E5ECF6\", \"width\": 0.5}}, \"type\": \"barpolar\"}], \"carpet\": [{\"aaxis\": {\"endlinecolor\": \"#2a3f5f\", \"gridcolor\": \"white\", \"linecolor\": \"white\", \"minorgridcolor\": \"white\", \"startlinecolor\": \"#2a3f5f\"}, \"baxis\": {\"endlinecolor\": \"#2a3f5f\", \"gridcolor\": \"white\", \"linecolor\": \"white\", \"minorgridcolor\": \"white\", \"startlinecolor\": \"#2a3f5f\"}, \"type\": \"carpet\"}], \"choropleth\": [{\"colorbar\": {\"outlinewidth\": 0, \"ticks\": \"\"}, \"type\": \"choropleth\"}], \"contour\": [{\"colorbar\": {\"outlinewidth\": 0, \"ticks\": \"\"}, \"colorscale\": [[0.0, \"#0d0887\"], [0.1111111111111111, \"#46039f\"], [0.2222222222222222, \"#7201a8\"], [0.3333333333333333, \"#9c179e\"], [0.4444444444444444, \"#bd3786\"], [0.5555555555555556, \"#d8576b\"], [0.6666666666666666, \"#ed7953\"], [0.7777777777777778, \"#fb9f3a\"], [0.8888888888888888, \"#fdca26\"], [1.0, \"#f0f921\"]], \"type\": \"contour\"}], \"contourcarpet\": [{\"colorbar\": {\"outlinewidth\": 0, \"ticks\": \"\"}, \"type\": \"contourcarpet\"}], \"heatmap\": [{\"colorbar\": {\"outlinewidth\": 0, \"ticks\": \"\"}, \"colorscale\": [[0.0, \"#0d0887\"], [0.1111111111111111, \"#46039f\"], [0.2222222222222222, \"#7201a8\"], [0.3333333333333333, \"#9c179e\"], [0.4444444444444444, \"#bd3786\"], [0.5555555555555556, \"#d8576b\"], [0.6666666666666666, \"#ed7953\"], [0.7777777777777778, \"#fb9f3a\"], [0.8888888888888888, \"#fdca26\"], [1.0, \"#f0f921\"]], \"type\": \"heatmap\"}], \"heatmapgl\": [{\"colorbar\": {\"outlinewidth\": 0, \"ticks\": \"\"}, \"colorscale\": [[0.0, \"#0d0887\"], [0.1111111111111111, \"#46039f\"], [0.2222222222222222, \"#7201a8\"], [0.3333333333333333, \"#9c179e\"], [0.4444444444444444, \"#bd3786\"], [0.5555555555555556, \"#d8576b\"], [0.6666666666666666, \"#ed7953\"], [0.7777777777777778, \"#fb9f3a\"], [0.8888888888888888, \"#fdca26\"], [1.0, \"#f0f921\"]], \"type\": \"heatmapgl\"}], \"histogram\": [{\"marker\": {\"colorbar\": {\"outlinewidth\": 0, \"ticks\": \"\"}}, \"type\": \"histogram\"}], \"histogram2d\": [{\"colorbar\": {\"outlinewidth\": 0, \"ticks\": \"\"}, \"colorscale\": [[0.0, \"#0d0887\"], [0.1111111111111111, \"#46039f\"], [0.2222222222222222, \"#7201a8\"], [0.3333333333333333, \"#9c179e\"], [0.4444444444444444, \"#bd3786\"], [0.5555555555555556, \"#d8576b\"], [0.6666666666666666, \"#ed7953\"], [0.7777777777777778, \"#fb9f3a\"], [0.8888888888888888, \"#fdca26\"], [1.0, \"#f0f921\"]], \"type\": \"histogram2d\"}], \"histogram2dcontour\": [{\"colorbar\": {\"outlinewidth\": 0, \"ticks\": \"\"}, \"colorscale\": [[0.0, \"#0d0887\"], [0.1111111111111111, \"#46039f\"], [0.2222222222222222, \"#7201a8\"], [0.3333333333333333, \"#9c179e\"], [0.4444444444444444, \"#bd3786\"], [0.5555555555555556, \"#d8576b\"], [0.6666666666666666, \"#ed7953\"], [0.7777777777777778, \"#fb9f3a\"], [0.8888888888888888, \"#fdca26\"], [1.0, \"#f0f921\"]], \"type\": \"histogram2dcontour\"}], \"mesh3d\": [{\"colorbar\": {\"outlinewidth\": 0, \"ticks\": \"\"}, \"type\": \"mesh3d\"}], \"parcoords\": [{\"line\": {\"colorbar\": {\"outlinewidth\": 0, \"ticks\": \"\"}}, \"type\": \"parcoords\"}], \"pie\": [{\"automargin\": true, \"type\": \"pie\"}], \"scatter\": [{\"marker\": {\"colorbar\": {\"outlinewidth\": 0, \"ticks\": \"\"}}, \"type\": \"scatter\"}], \"scatter3d\": [{\"line\": {\"colorbar\": {\"outlinewidth\": 0, \"ticks\": \"\"}}, \"marker\": {\"colorbar\": {\"outlinewidth\": 0, \"ticks\": \"\"}}, \"type\": \"scatter3d\"}], \"scattercarpet\": [{\"marker\": {\"colorbar\": {\"outlinewidth\": 0, \"ticks\": \"\"}}, \"type\": \"scattercarpet\"}], \"scattergeo\": [{\"marker\": {\"colorbar\": {\"outlinewidth\": 0, \"ticks\": \"\"}}, \"type\": \"scattergeo\"}], \"scattergl\": [{\"marker\": {\"colorbar\": {\"outlinewidth\": 0, \"ticks\": \"\"}}, \"type\": \"scattergl\"}], \"scattermapbox\": [{\"marker\": {\"colorbar\": {\"outlinewidth\": 0, \"ticks\": \"\"}}, \"type\": \"scattermapbox\"}], \"scatterpolar\": [{\"marker\": {\"colorbar\": {\"outlinewidth\": 0, \"ticks\": \"\"}}, \"type\": \"scatterpolar\"}], \"scatterpolargl\": [{\"marker\": {\"colorbar\": {\"outlinewidth\": 0, \"ticks\": \"\"}}, \"type\": \"scatterpolargl\"}], \"scatterternary\": [{\"marker\": {\"colorbar\": {\"outlinewidth\": 0, \"ticks\": \"\"}}, \"type\": \"scatterternary\"}], \"surface\": [{\"colorbar\": {\"outlinewidth\": 0, \"ticks\": \"\"}, \"colorscale\": [[0.0, \"#0d0887\"], [0.1111111111111111, \"#46039f\"], [0.2222222222222222, \"#7201a8\"], [0.3333333333333333, \"#9c179e\"], [0.4444444444444444, \"#bd3786\"], [0.5555555555555556, \"#d8576b\"], [0.6666666666666666, \"#ed7953\"], [0.7777777777777778, \"#fb9f3a\"], [0.8888888888888888, \"#fdca26\"], [1.0, \"#f0f921\"]], \"type\": \"surface\"}], \"table\": [{\"cells\": {\"fill\": {\"color\": \"#EBF0F8\"}, \"line\": {\"color\": \"white\"}}, \"header\": {\"fill\": {\"color\": \"#C8D4E3\"}, \"line\": {\"color\": \"white\"}}, \"type\": \"table\"}]}, \"layout\": {\"annotationdefaults\": {\"arrowcolor\": \"#2a3f5f\", \"arrowhead\": 0, \"arrowwidth\": 1}, \"coloraxis\": {\"colorbar\": {\"outlinewidth\": 0, \"ticks\": \"\"}}, \"colorscale\": {\"diverging\": [[0, \"#8e0152\"], [0.1, \"#c51b7d\"], [0.2, \"#de77ae\"], [0.3, \"#f1b6da\"], [0.4, \"#fde0ef\"], [0.5, \"#f7f7f7\"], [0.6, \"#e6f5d0\"], [0.7, \"#b8e186\"], [0.8, \"#7fbc41\"], [0.9, \"#4d9221\"], [1, \"#276419\"]], \"sequential\": [[0.0, \"#0d0887\"], [0.1111111111111111, \"#46039f\"], [0.2222222222222222, \"#7201a8\"], [0.3333333333333333, \"#9c179e\"], [0.4444444444444444, \"#bd3786\"], [0.5555555555555556, \"#d8576b\"], [0.6666666666666666, \"#ed7953\"], [0.7777777777777778, \"#fb9f3a\"], [0.8888888888888888, \"#fdca26\"], [1.0, \"#f0f921\"]], \"sequentialminus\": [[0.0, \"#0d0887\"], [0.1111111111111111, \"#46039f\"], [0.2222222222222222, \"#7201a8\"], [0.3333333333333333, \"#9c179e\"], [0.4444444444444444, \"#bd3786\"], [0.5555555555555556, \"#d8576b\"], [0.6666666666666666, \"#ed7953\"], [0.7777777777777778, \"#fb9f3a\"], [0.8888888888888888, \"#fdca26\"], [1.0, \"#f0f921\"]]}, \"colorway\": [\"#636efa\", \"#EF553B\", \"#00cc96\", \"#ab63fa\", \"#FFA15A\", \"#19d3f3\", \"#FF6692\", \"#B6E880\", \"#FF97FF\", \"#FECB52\"], \"font\": {\"color\": \"#2a3f5f\"}, \"geo\": {\"bgcolor\": \"white\", \"lakecolor\": \"white\", \"landcolor\": \"#E5ECF6\", \"showlakes\": true, \"showland\": true, \"subunitcolor\": \"white\"}, \"hoverlabel\": {\"align\": \"left\"}, \"hovermode\": \"closest\", \"mapbox\": {\"style\": \"light\"}, \"paper_bgcolor\": \"white\", \"plot_bgcolor\": \"#E5ECF6\", \"polar\": {\"angularaxis\": {\"gridcolor\": \"white\", \"linecolor\": \"white\", \"ticks\": \"\"}, \"bgcolor\": \"#E5ECF6\", \"radialaxis\": {\"gridcolor\": \"white\", \"linecolor\": \"white\", \"ticks\": \"\"}}, \"scene\": {\"xaxis\": {\"backgroundcolor\": \"#E5ECF6\", \"gridcolor\": \"white\", \"gridwidth\": 2, \"linecolor\": \"white\", \"showbackground\": true, \"ticks\": \"\", \"zerolinecolor\": \"white\"}, \"yaxis\": {\"backgroundcolor\": \"#E5ECF6\", \"gridcolor\": \"white\", \"gridwidth\": 2, \"linecolor\": \"white\", \"showbackground\": true, \"ticks\": \"\", \"zerolinecolor\": \"white\"}, \"zaxis\": {\"backgroundcolor\": \"#E5ECF6\", \"gridcolor\": \"white\", \"gridwidth\": 2, \"linecolor\": \"white\", \"showbackground\": true, \"ticks\": \"\", \"zerolinecolor\": \"white\"}}, \"shapedefaults\": {\"line\": {\"color\": \"#2a3f5f\"}}, \"ternary\": {\"aaxis\": {\"gridcolor\": \"white\", \"linecolor\": \"white\", \"ticks\": \"\"}, \"baxis\": {\"gridcolor\": \"white\", \"linecolor\": \"white\", \"ticks\": \"\"}, \"bgcolor\": \"#E5ECF6\", \"caxis\": {\"gridcolor\": \"white\", \"linecolor\": \"white\", \"ticks\": \"\"}}, \"title\": {\"x\": 0.05}, \"xaxis\": {\"automargin\": true, \"gridcolor\": \"white\", \"linecolor\": \"white\", \"ticks\": \"\", \"title\": {\"standoff\": 15}, \"zerolinecolor\": \"white\", \"zerolinewidth\": 2}, \"yaxis\": {\"automargin\": true, \"gridcolor\": \"white\", \"linecolor\": \"white\", \"ticks\": \"\", \"title\": {\"standoff\": 15}, \"zerolinecolor\": \"white\", \"zerolinewidth\": 2}}}, \"title\": {\"text\": \"If I raised a concern about ethics and integrity, I am confident my employer would do what is right.\"}, \"updatemenus\": [{\"buttons\": [{\"args\": [{\"visible\": [true, false, false, false, false, false, false, false, false, false, false, false, false, false, false, false, false, false, false, false, false, false, false, false, false]}, {\"title\": \"If I raised a concern about ethics and integrity, I am confident my employer would do what is right.\"}], \"label\": \"Total\", \"method\": \"update\"}, {\"args\": [{\"visible\": [false, true, true, true, true, true, true, false, false, false, false, false, false, false, false, false, false, false, false, false, false, false, false, false, false]}, {\"title\": \"If I raised a concern about ethics and integrity, I am confident my employer would do what is right.\"}], \"label\": \"Race\", \"method\": \"update\"}, {\"args\": [{\"visible\": [false, false, false, false, false, false, false, true, true, true, true, true, true, false, false, false, false, false, false, false, false, false, false, false, false]}, {\"title\": \"If I raised a concern about ethics and integrity, I am confident my employer would do what is right.\"}], \"label\": \"Age\", \"method\": \"update\"}, {\"args\": [{\"visible\": [false, false, false, false, false, false, false, false, false, false, false, false, false, true, true, false, false, false, false, false, false, false, false, false, false]}, {\"title\": \"If I raised a concern about ethics and integrity, I am confident my employer would do what is right.\"}], \"label\": \"Sexual Orientation\", \"method\": \"update\"}, {\"args\": [{\"visible\": [false, false, false, false, false, false, false, false, false, false, false, false, false, false, false, true, true, true, true, true, true, false, false, false, false]}, {\"title\": \"If I raised a concern about ethics and integrity, I am confident my employer would do what is right. \"}], \"label\": \"Tenure\", \"method\": \"update\"}, {\"args\": [{\"visible\": [false, false, false, false, false, false, false, false, false, false, false, false, false, false, false, false, false, false, false, false, false, true, true, true, true]}, {\"title\": \"If I raised a concern about ethics and integrity, I am confident my employer would do what is right.\"}], \"label\": \"Status\", \"method\": \"update\"}], \"type\": \"buttons\"}]},\n",
       "                        {\"responsive\": true}\n",
       "                    ).then(function(){\n",
       "                            \n",
       "var gd = document.getElementById('3e0743f0-a848-4b21-8890-58a334c13ee2');\n",
       "var x = new MutationObserver(function (mutations, observer) {{\n",
       "        var display = window.getComputedStyle(gd).display;\n",
       "        if (!display || display === 'none') {{\n",
       "            console.log([gd, 'removed!']);\n",
       "            Plotly.purge(gd);\n",
       "            observer.disconnect();\n",
       "        }}\n",
       "}});\n",
       "\n",
       "// Listen for the removal of the full notebook cells\n",
       "var notebookContainer = gd.closest('#notebook-container');\n",
       "if (notebookContainer) {{\n",
       "    x.observe(notebookContainer, {childList: true});\n",
       "}}\n",
       "\n",
       "// Listen for the clearing of the current output cell\n",
       "var outputEl = gd.closest('.output');\n",
       "if (outputEl) {{\n",
       "    x.observe(outputEl, {childList: true});\n",
       "}}\n",
       "\n",
       "                        })\n",
       "                };\n",
       "                });\n",
       "            </script>\n",
       "        </div>"
      ]
     },
     "metadata": {},
     "output_type": "display_data"
    }
   ],
   "source": [
    "#defining list_updatemenus\n",
    "list_updatemenus = [{'label': 'Total',\n",
    "                     'method': 'update',\n",
    "                     'args': [{'visible': [True, False, False, False, False, False, False, False, False, False, False, False, False, False, False, False, False, False, False, False, False, False, False, False, False]}, {'title': 'If I raised a concern about ethics and integrity, I am confident my employer would do what is right.'}]},\n",
    "                    {'label': 'Race',\n",
    "                     'method': 'update',\n",
    "                     'args': [{'visible': [False, True, True, True, True, True, True, False, False, False, False, False, False, False, False, False, False, False, False, False, False, False, False, False, False]}, {'title': 'If I raised a concern about ethics and integrity, I am confident my employer would do what is right.'}]},\n",
    "                    {'label': 'Age',\n",
    "                     'method': 'update',\n",
    "                     'args': [{'visible': [False, False, False, False, False, False, False, True, True, True, True, True, True, False, False, False, False, False, False, False, False, False, False, False, False]}, {'title': 'If I raised a concern about ethics and integrity, I am confident my employer would do what is right.'}]},\n",
    "                    {'label': 'Sexual Orientation',\n",
    "                     'method': 'update',\n",
    "                     'args': [{'visible': [False, False, False, False, False, False, False, False, False, False, False, False, False, True, True, False, False, False, False, False, False, False, False, False, False]}, {'title': 'If I raised a concern about ethics and integrity, I am confident my employer would do what is right.'}]},\n",
    "                   {'label': 'Tenure',\n",
    "                     'method': 'update',\n",
    "                     'args': [{'visible': [False, False, False, False, False, False, False, False, False, False, False, False, False, False, False, True, True, True, True, True, True, False, False, False, False]}, {'title': 'If I raised a concern about ethics and integrity, I am confident my employer would do what is right. '}]},\n",
    "                   {'label': 'Status',\n",
    "                     'method': 'update',\n",
    "                     'args': [{'visible': [False, False, False, False, False, False, False, False, False, False, False, False, False, False, False, False, False, False, False, False, False, True, True, True, True]}, {'title': 'If I raised a concern about ethics and integrity, I am confident my employer would do what is right.'}]}\n",
    "                   ]\n",
    "#defining graph objects\n",
    "x_total = dei[\"If I raised a concern about ethics and integrity, I am confident my employer would do what is right. \"]\n",
    "x_white = dei[dei['What is your race? ']==\"White\"][\"If I raised a concern about ethics and integrity, I am confident my employer would do what is right. \"]\n",
    "x_latinx = dei[dei['What is your race? ']==\"Latino/Hispanic\"][\"If I raised a concern about ethics and integrity, I am confident my employer would do what is right. \"]\n",
    "x_black = dei[dei['What is your race? ']==\"Black/ African American\"][\"If I raised a concern about ethics and integrity, I am confident my employer would do what is right. \"]\n",
    "x_two_plus = dei[dei['What is your race? ']==\"Two or more Races\"][\"If I raised a concern about ethics and integrity, I am confident my employer would do what is right. \"]\n",
    "x_asian = dei[dei['What is your race? ']==\"Asian\"][\"I have the same opportunities for advancement as other team members at my organization with similar experience and performance levels.  \"]\n",
    "x_first_peoples = dei[dei['What is your race? ']==\"Indian/ Native American\"][\"If I raised a concern about ethics and integrity, I am confident my employer would do what is right. \"]\n",
    "x_age1 = dei[dei[\"What is your age?\"]==\"25-34\"][\"If I raised a concern about ethics and integrity, I am confident my employer would do what is right. \"]\n",
    "x_age2 = dei[dei[\"What is your age?\"]==\"35-44\"][\"If I raised a concern about ethics and integrity, I am confident my employer would do what is right. \"]\n",
    "x_age3 = dei[dei[\"What is your age?\"]==\"45-54\"][\"If I raised a concern about ethics and integrity, I am confident my employer would do what is right. \"]\n",
    "x_age4 = dei[dei[\"What is your age?\"]==\"55-64\"][\"If I raised a concern about ethics and integrity, I am confident my employer would do what is right. \"]\n",
    "x_age5 = dei[dei[\"What is your age?\"]==\"18-24\"][\"If I raised a concern about ethics and integrity, I am confident my employer would do what is right. \"]\n",
    "x_age6 = dei[dei[\"What is your age?\"]==\"65-74\"][\"If I raised a concern about ethics and integrity, I am confident my employer would do what is right. \"]\n",
    "x_straight = dei[dei[\"What is your sexual orientation?\"]==\"Straight\"][\"If I raised a concern about ethics and integrity, I am confident my employer would do what is right. \"]\n",
    "x_lgbtq = dei[dei[\"What is your sexual orientation?\"]==\"LGBTQ+\"][\"If I raised a concern about ethics and integrity, I am confident my employer would do what is right. \"]\n",
    "x_tenure1 = dei[dei[\"How long have you worked for FC?\"]==\"1-3 years\"][\"If I raised a concern about ethics and integrity, I am confident my employer would do what is right. \"]\n",
    "x_tenure2 = dei[dei[\"How long have you worked for FC?\"]==\"3-5 years\"][\"If I raised a concern about ethics and integrity, I am confident my employer would do what is right. \"]\n",
    "x_tenure3 = dei[dei[\"How long have you worked for FC?\"]==\"Less than a year\"][\"If I raised a concern about ethics and integrity, I am confident my employer would do what is right. \"]\n",
    "x_tenure4 = dei[dei[\"How long have you worked for FC?\"]==\"5-10 years\"][\"If I raised a concern about ethics and integrity, I am confident my employer would do what is right. \"]\n",
    "x_tenure5 = dei[dei[\"How long have you worked for FC?\"]==\"10+ years\"][\"If I raised a concern about ethics and integrity, I am confident my employer would do what is right. \"]\n",
    "x_tenure6 = dei[dei[\"How long have you worked for FC?\"]==\"1 year\"][\"If I raised a concern about ethics and integrity, I am confident my employer would do what is right. \"]\n",
    "x_status1 = dei[dei[\"What is your employment status?\"]==\"Full-time\"][\"If I raised a concern about ethics and integrity, I am confident my employer would do what is right. \"]\n",
    "x_status2 = dei[dei[\"What is your employment status?\"]==\"Part-time\"][\"If I raised a concern about ethics and integrity, I am confident my employer would do what is right. \"]\n",
    "x_status3 = dei[dei[\"What is your employment status?\"]==\"Seasonal\"][\"If I raised a concern about ethics and integrity, I am confident my employer would do what is right. \"]\n",
    "x_status4 = dei[dei[\"What is your employment status?\"]==\"Part-time, Seasonal\"][\"If I raised a concern about ethics and integrity, I am confident my employer would do what is right. \"]\n",
    "#defining data\n",
    "data=[go.Histogram(x=x_total,name='   ',opacity = .5),\n",
    "      go.Histogram(x=x_white,name='White',opacity = .5),\n",
    "      go.Histogram(x=x_latinx,name='Latino/Hispanic',opacity = .5),\n",
    "      go.Histogram(x=x_black,name='Black/African American',opacity = .5),\n",
    "      go.Histogram(x=x_two_plus,name='Two or more Races',opacity = .5),\n",
    "      go.Histogram(x=x_asian,name='Asian',opacity = .5),\n",
    "      go.Histogram(x=x_first_peoples,name='Indian/Native American',opacity = .5),\n",
    "      go.Histogram(x=x_age1,name='25-34', opacity = .5),\n",
    "      go.Histogram(x=x_age2,name='35-44',opacity = .5),\n",
    "      go.Histogram(x=x_age3,name='45-54',opacity = .5),\n",
    "      go.Histogram(x=x_age4,name='55-64',opacity = .5),\n",
    "      go.Histogram(x=x_age5,name='18-24',opacity = .5),\n",
    "      go.Histogram(x=x_age6,name='65-74',opacity = .5),\n",
    "      go.Histogram(x=x_straight,name='Straight',opacity = .5),\n",
    "      go.Histogram(x=x_lgbtq,name='LGBTQ+',opacity = .5),\n",
    "      go.Histogram(x=x_tenure1,name='1-3 years',opacity = .5),\n",
    "      go.Histogram(x=x_tenure2,name='3-5 years',opacity = .5),\n",
    "      go.Histogram(x=x_tenure3,name='< than a year',opacity = .5),\n",
    "      go.Histogram(x=x_tenure4,name='5-10 years',opacity = .5),\n",
    "      go.Histogram(x=x_tenure5,name='10+ years',opacity = .5),\n",
    "      go.Histogram(x=x_tenure6,name='1 year',opacity = .5),\n",
    "      go.Histogram(x=x_status1,name='Full-time',opacity = .5),\n",
    "      go.Histogram(x=x_status2,name='Part-time',opacity = .5),\n",
    "      go.Histogram(x=x_status2,name='Seasonal',opacity = .5),\n",
    "      go.Histogram(x=x_status2,name='Part-time, Seasonal',opacity = .5)\n",
    "     \n",
    "     ]\n",
    "\n",
    "\n",
    "#defining layout\n",
    "layout=go.Layout(title='If I raised a concern about ethics and integrity, I am confident my employer would do what is right.',updatemenus=list([dict(buttons= list_updatemenus,type = 'buttons')]),barmode='stack')\n",
    "\n",
    "#defining layout and plotting\n",
    "fig = go.Figure(data,layout)\n",
    "fig.show()"
   ]
  },
  {
   "cell_type": "markdown",
   "metadata": {},
   "source": [
    "### My organization treasures diverse opinions and ideas."
   ]
  },
  {
   "cell_type": "code",
   "execution_count": 29,
   "metadata": {},
   "outputs": [
    {
     "data": {
      "application/vnd.plotly.v1+json": {
       "config": {
        "plotlyServerURL": "https://plot.ly"
       },
       "data": [
        {
         "name": "   ",
         "opacity": 0.5,
         "type": "histogram",
         "x": [
          4,
          3,
          5,
          5,
          1,
          3,
          3,
          2,
          1,
          2,
          1,
          1,
          3,
          2,
          4,
          3,
          2,
          3,
          3,
          4,
          3,
          3,
          4,
          4,
          4,
          5,
          4,
          5,
          5,
          3,
          2,
          1,
          3,
          1,
          1,
          1,
          4,
          3,
          3,
          2,
          2,
          2,
          3,
          3,
          1,
          2,
          2,
          1,
          3,
          2,
          3,
          2,
          2,
          5,
          4,
          4,
          4,
          3,
          3,
          3,
          2,
          2,
          2,
          3,
          4,
          4,
          4,
          4,
          4,
          3,
          5,
          4,
          3,
          4,
          4,
          4,
          3,
          5,
          4,
          5,
          5,
          5,
          5,
          5,
          5,
          5,
          3,
          5,
          3,
          4,
          5,
          4,
          5,
          4,
          5,
          5,
          5,
          5,
          5,
          4,
          5,
          1,
          3,
          4,
          4,
          4,
          4,
          5,
          5,
          4,
          5,
          5,
          5,
          5,
          null,
          5,
          1,
          2,
          2,
          2,
          2,
          1,
          1,
          3,
          2,
          2,
          3,
          1,
          4,
          3,
          2,
          3,
          3,
          3,
          2,
          3,
          3,
          3,
          3,
          5,
          3,
          3,
          3,
          1,
          3,
          2,
          3,
          3,
          4,
          3,
          4,
          3,
          4,
          2,
          4,
          3,
          4,
          4,
          4,
          3,
          4,
          4,
          2,
          5,
          4,
          3,
          2,
          4,
          3,
          4,
          4,
          5,
          5,
          4,
          4,
          4,
          5,
          4,
          5,
          5,
          5,
          5,
          5,
          4,
          4,
          5,
          4,
          5,
          5,
          null,
          5,
          4,
          5,
          3,
          4,
          5,
          5,
          5,
          4,
          4,
          5,
          5,
          4,
          3,
          2
         ]
        },
        {
         "name": "White",
         "opacity": 0.5,
         "type": "histogram",
         "x": [
          1,
          2,
          2,
          2,
          2,
          1,
          1,
          3,
          2,
          2,
          3,
          1,
          4,
          3,
          2,
          3,
          3,
          3,
          2,
          3,
          3,
          3,
          3,
          5,
          3,
          3,
          3,
          1,
          3,
          2,
          3,
          3,
          4,
          3,
          4,
          3,
          4,
          2,
          4,
          3,
          4,
          4,
          4,
          3,
          4,
          4,
          2,
          5,
          4,
          3,
          2,
          4,
          3,
          4,
          4,
          5,
          5,
          4,
          4,
          4,
          5,
          4,
          5,
          5,
          5,
          5,
          5,
          4,
          4,
          5,
          4,
          5,
          5,
          null,
          5,
          4,
          5,
          3,
          4,
          5,
          5,
          5,
          4,
          4,
          5,
          5
         ]
        },
        {
         "name": "Latino/Hispanic",
         "opacity": 0.5,
         "type": "histogram",
         "x": [
          1,
          3,
          1,
          1,
          1,
          4,
          3,
          3,
          2,
          2,
          2,
          3,
          3,
          1,
          2,
          2,
          1,
          3,
          2,
          3,
          2,
          2,
          5,
          4,
          4,
          4,
          3,
          3,
          3,
          2,
          2,
          2,
          3,
          4,
          4,
          4,
          4,
          4,
          3,
          5,
          4,
          3,
          4,
          4,
          4,
          3,
          5,
          4,
          5,
          5,
          5,
          5,
          5,
          5,
          5,
          3,
          5,
          3,
          4,
          5,
          4,
          5,
          4,
          5,
          5,
          5,
          5,
          5
         ]
        },
        {
         "name": "Black/African American",
         "opacity": 0.5,
         "type": "histogram",
         "x": [
          1,
          3,
          3,
          2,
          1,
          2,
          1,
          1,
          3,
          2,
          4,
          3,
          2,
          3,
          3,
          4,
          3,
          3,
          4,
          4,
          4,
          5,
          4,
          5
         ]
        },
        {
         "name": "Two or more Races",
         "opacity": 0.5,
         "type": "histogram",
         "x": [
          1,
          3,
          4,
          4,
          4,
          4,
          5,
          5,
          4,
          5,
          5,
          5,
          5,
          null,
          5
         ]
        },
        {
         "name": "Asian",
         "opacity": 0.5,
         "type": "histogram",
         "x": [
          3,
          5,
          5
         ]
        },
        {
         "name": "Indian/Native American",
         "opacity": 0.5,
         "type": "histogram",
         "x": [
          3,
          2
         ]
        },
        {
         "name": "25-34",
         "opacity": 0.5,
         "type": "histogram",
         "x": [
          3,
          5,
          3,
          3,
          2,
          4,
          3,
          3,
          3,
          5,
          4,
          5,
          1,
          1,
          3,
          2,
          2,
          1,
          2,
          3,
          2,
          5,
          4,
          2,
          2,
          2,
          3,
          4,
          5,
          4,
          4,
          5,
          4,
          5,
          5,
          3,
          5,
          4,
          5,
          5,
          5,
          5,
          1,
          4,
          4,
          5,
          5,
          null,
          5,
          2,
          2,
          2,
          3,
          2,
          2,
          3,
          3,
          3,
          3,
          5,
          1,
          3,
          4,
          4,
          3,
          4,
          3,
          4,
          2,
          5,
          2,
          4,
          4,
          5,
          5,
          4,
          4,
          5,
          5,
          4,
          5,
          5,
          5,
          3,
          4,
          3
         ]
        },
        {
         "name": "35-44",
         "opacity": 0.5,
         "type": "histogram",
         "x": [
          4,
          2,
          2,
          3,
          3,
          4,
          3,
          1,
          1,
          4,
          2,
          3,
          1,
          3,
          2,
          4,
          3,
          3,
          4,
          4,
          3,
          4,
          3,
          5,
          3,
          4,
          4,
          5,
          3,
          4,
          1,
          2,
          1,
          4,
          3,
          2,
          3,
          2,
          4,
          3,
          4,
          4,
          4,
          5,
          5,
          4,
          5
         ]
        },
        {
         "name": "45-54",
         "opacity": 0.5,
         "type": "histogram",
         "x": [
          1,
          1,
          4,
          2,
          3,
          2,
          3,
          4,
          4,
          4,
          4,
          5,
          1,
          2,
          3,
          3,
          3,
          3,
          3,
          3,
          3,
          4,
          3,
          4,
          5,
          5,
          null,
          5
         ]
        },
        {
         "name": "55-64",
         "opacity": 0.5,
         "type": "histogram",
         "x": [
          1,
          1,
          3,
          4,
          5,
          2,
          4,
          3,
          5,
          4,
          5,
          3,
          3,
          2,
          4,
          4,
          5,
          4,
          4,
          4,
          5,
          5,
          4,
          4,
          2
         ]
        },
        {
         "name": "18-24",
         "opacity": 0.5,
         "type": "histogram",
         "x": [
          5,
          3,
          5,
          5,
          5,
          5,
          5,
          5,
          1,
          4,
          5,
          5
         ]
        },
        {
         "name": "65-74",
         "opacity": 0.5,
         "type": "histogram",
         "x": [
          4,
          3,
          5,
          5,
          4,
          3
         ]
        },
        {
         "name": "Straight",
         "opacity": 0.5,
         "type": "histogram",
         "x": [
          5,
          5,
          1,
          3,
          3,
          2,
          1,
          2,
          1,
          1,
          3,
          2,
          4,
          3,
          2,
          3,
          4,
          3,
          3,
          4,
          4,
          5,
          4,
          5,
          5,
          3,
          1,
          1,
          1,
          4,
          3,
          3,
          2,
          2,
          2,
          3,
          3,
          2,
          3,
          2,
          3,
          2,
          2,
          5,
          4,
          4,
          4,
          3,
          3,
          3,
          2,
          2,
          3,
          4,
          4,
          4,
          4,
          3,
          5,
          4,
          3,
          4,
          4,
          4,
          3,
          4,
          5,
          5,
          5,
          5,
          3,
          5,
          3,
          4,
          5,
          4,
          5,
          4,
          5,
          5,
          5,
          5,
          5,
          4,
          5,
          3,
          4,
          4,
          4,
          5,
          5,
          4,
          5,
          5,
          5,
          5,
          null,
          5,
          1,
          2,
          2,
          2,
          1,
          2,
          3,
          4,
          3,
          2,
          3,
          3,
          2,
          3,
          3,
          5,
          3,
          3,
          3,
          1,
          3,
          2,
          3,
          4,
          4,
          3,
          2,
          4,
          4,
          2,
          5,
          3,
          4,
          3,
          4,
          4,
          5,
          5,
          4,
          5,
          4,
          5,
          5,
          4,
          4,
          5,
          4,
          5,
          null,
          5,
          4,
          5,
          3,
          4,
          5,
          5,
          5,
          4,
          4,
          5,
          5,
          4,
          2
         ]
        },
        {
         "name": "LGBTQ+",
         "opacity": 0.5,
         "type": "histogram",
         "x": [
          3,
          2,
          1,
          1,
          2,
          1,
          2,
          4,
          5,
          5,
          5,
          1,
          4,
          2,
          1,
          3,
          2,
          1,
          3,
          3,
          3,
          3,
          4,
          4,
          3,
          4,
          3,
          4,
          4,
          2,
          4,
          5,
          5,
          5,
          3
         ]
        },
        {
         "name": "1-3 years",
         "opacity": 0.5,
         "type": "histogram",
         "x": [
          4,
          3,
          5,
          5,
          1,
          2,
          1,
          1,
          3,
          4,
          3,
          4,
          3,
          4,
          5,
          1,
          1,
          1,
          4,
          2,
          2,
          3,
          4,
          4,
          2,
          2,
          2,
          4,
          4,
          4,
          4,
          5,
          5,
          5,
          3,
          4,
          5,
          4,
          4,
          5,
          null,
          2,
          2,
          2,
          2,
          3,
          1,
          2,
          3,
          3,
          3,
          5,
          3,
          2,
          3,
          4,
          4,
          4,
          4,
          2,
          3,
          4,
          4,
          5,
          5,
          4,
          5,
          4,
          5,
          2
         ]
        },
        {
         "name": "3-5 years",
         "opacity": 0.5,
         "type": "histogram",
         "x": [
          3,
          3,
          1,
          2,
          3,
          4,
          3,
          2,
          3,
          1,
          3,
          5,
          3,
          4,
          4,
          4,
          5,
          5,
          5,
          1,
          1,
          2,
          2,
          3,
          3,
          1,
          4,
          3,
          3,
          4,
          2,
          4,
          4,
          5,
          4,
          4,
          5,
          4,
          5,
          5
         ]
        },
        {
         "name": "< than a year",
         "opacity": 0.5,
         "type": "histogram",
         "x": [
          2,
          2,
          4,
          5,
          5,
          5,
          5,
          5,
          4,
          5,
          4,
          5,
          5,
          5,
          5,
          3,
          3,
          3,
          4,
          3,
          5,
          4,
          5,
          4,
          5,
          5,
          5,
          5,
          null,
          5,
          3,
          5
         ]
        },
        {
         "name": "5-10 years",
         "opacity": 0.5,
         "type": "histogram",
         "x": [
          2,
          3,
          4,
          5,
          5,
          2,
          1,
          3,
          2,
          2,
          5,
          4,
          3,
          4,
          4,
          5,
          3,
          4,
          1,
          3,
          3,
          3,
          3,
          3,
          2,
          3,
          4,
          4
         ]
        },
        {
         "name": "10+ years",
         "opacity": 0.5,
         "type": "histogram",
         "x": [
          4,
          3,
          3,
          2,
          2,
          3,
          3,
          4,
          3,
          3,
          3,
          5,
          4,
          4,
          1,
          3,
          4,
          4,
          5,
          5,
          4,
          4,
          4
         ]
        },
        {
         "name": "1 year",
         "opacity": 0.5,
         "type": "histogram",
         "x": [
          3,
          3,
          3,
          1,
          5,
          5,
          5,
          5,
          4,
          2,
          3
         ]
        },
        {
         "name": "Full-time",
         "opacity": 0.5,
         "type": "histogram",
         "x": [
          4,
          3,
          1,
          3,
          3,
          2,
          1,
          2,
          1,
          1,
          3,
          2,
          4,
          3,
          2,
          3,
          3,
          3,
          3,
          4,
          4,
          4,
          5,
          4,
          5,
          5,
          3,
          2,
          1,
          3,
          1,
          1,
          1,
          4,
          3,
          3,
          2,
          2,
          2,
          3,
          3,
          1,
          2,
          2,
          1,
          3,
          2,
          3,
          2,
          2,
          5,
          4,
          4,
          4,
          3,
          3,
          3,
          2,
          2,
          3,
          4,
          4,
          4,
          4,
          4,
          3,
          5,
          4,
          3,
          4,
          4,
          4,
          3,
          5,
          4,
          5,
          5,
          5,
          5,
          3,
          5,
          3,
          4,
          4,
          5,
          4,
          5,
          5,
          5,
          5,
          4,
          5,
          1,
          3,
          4,
          4,
          4,
          4,
          5,
          5,
          4,
          5,
          5,
          null,
          5,
          1,
          2,
          2,
          2,
          2,
          1,
          1,
          3,
          2,
          2,
          3,
          1,
          4,
          3,
          2,
          3,
          3,
          3,
          2,
          3,
          3,
          3,
          3,
          3,
          3,
          3,
          1,
          3,
          2,
          3,
          3,
          4,
          3,
          4,
          3,
          2,
          4,
          3,
          4,
          4,
          4,
          3,
          4,
          2,
          5,
          3,
          2,
          4,
          3,
          4,
          4,
          4,
          4,
          4,
          5,
          4,
          5,
          5,
          5,
          4,
          4,
          5,
          4,
          5,
          5,
          4,
          5,
          4,
          5,
          4,
          5,
          5,
          4,
          3,
          2
         ]
        },
        {
         "name": "Part-time",
         "opacity": 0.5,
         "type": "histogram",
         "x": [
          5,
          5,
          4,
          5,
          5,
          5,
          5,
          5,
          5,
          4,
          4,
          5,
          5,
          null,
          5,
          3,
          5,
          5,
          4
         ]
        },
        {
         "name": "Seasonal",
         "opacity": 0.5,
         "type": "histogram",
         "x": [
          5,
          5,
          4,
          5,
          5,
          5,
          5,
          5,
          5,
          4,
          4,
          5,
          5,
          null,
          5,
          3,
          5,
          5,
          4
         ]
        },
        {
         "name": "Part-time, Seasonal",
         "opacity": 0.5,
         "type": "histogram",
         "x": [
          5,
          5,
          4,
          5,
          5,
          5,
          5,
          5,
          5,
          4,
          4,
          5,
          5,
          null,
          5,
          3,
          5,
          5,
          4
         ]
        }
       ],
       "layout": {
        "barmode": "stack",
        "template": {
         "data": {
          "bar": [
           {
            "error_x": {
             "color": "#2a3f5f"
            },
            "error_y": {
             "color": "#2a3f5f"
            },
            "marker": {
             "line": {
              "color": "#E5ECF6",
              "width": 0.5
             }
            },
            "type": "bar"
           }
          ],
          "barpolar": [
           {
            "marker": {
             "line": {
              "color": "#E5ECF6",
              "width": 0.5
             }
            },
            "type": "barpolar"
           }
          ],
          "carpet": [
           {
            "aaxis": {
             "endlinecolor": "#2a3f5f",
             "gridcolor": "white",
             "linecolor": "white",
             "minorgridcolor": "white",
             "startlinecolor": "#2a3f5f"
            },
            "baxis": {
             "endlinecolor": "#2a3f5f",
             "gridcolor": "white",
             "linecolor": "white",
             "minorgridcolor": "white",
             "startlinecolor": "#2a3f5f"
            },
            "type": "carpet"
           }
          ],
          "choropleth": [
           {
            "colorbar": {
             "outlinewidth": 0,
             "ticks": ""
            },
            "type": "choropleth"
           }
          ],
          "contour": [
           {
            "colorbar": {
             "outlinewidth": 0,
             "ticks": ""
            },
            "colorscale": [
             [
              0,
              "#0d0887"
             ],
             [
              0.1111111111111111,
              "#46039f"
             ],
             [
              0.2222222222222222,
              "#7201a8"
             ],
             [
              0.3333333333333333,
              "#9c179e"
             ],
             [
              0.4444444444444444,
              "#bd3786"
             ],
             [
              0.5555555555555556,
              "#d8576b"
             ],
             [
              0.6666666666666666,
              "#ed7953"
             ],
             [
              0.7777777777777778,
              "#fb9f3a"
             ],
             [
              0.8888888888888888,
              "#fdca26"
             ],
             [
              1,
              "#f0f921"
             ]
            ],
            "type": "contour"
           }
          ],
          "contourcarpet": [
           {
            "colorbar": {
             "outlinewidth": 0,
             "ticks": ""
            },
            "type": "contourcarpet"
           }
          ],
          "heatmap": [
           {
            "colorbar": {
             "outlinewidth": 0,
             "ticks": ""
            },
            "colorscale": [
             [
              0,
              "#0d0887"
             ],
             [
              0.1111111111111111,
              "#46039f"
             ],
             [
              0.2222222222222222,
              "#7201a8"
             ],
             [
              0.3333333333333333,
              "#9c179e"
             ],
             [
              0.4444444444444444,
              "#bd3786"
             ],
             [
              0.5555555555555556,
              "#d8576b"
             ],
             [
              0.6666666666666666,
              "#ed7953"
             ],
             [
              0.7777777777777778,
              "#fb9f3a"
             ],
             [
              0.8888888888888888,
              "#fdca26"
             ],
             [
              1,
              "#f0f921"
             ]
            ],
            "type": "heatmap"
           }
          ],
          "heatmapgl": [
           {
            "colorbar": {
             "outlinewidth": 0,
             "ticks": ""
            },
            "colorscale": [
             [
              0,
              "#0d0887"
             ],
             [
              0.1111111111111111,
              "#46039f"
             ],
             [
              0.2222222222222222,
              "#7201a8"
             ],
             [
              0.3333333333333333,
              "#9c179e"
             ],
             [
              0.4444444444444444,
              "#bd3786"
             ],
             [
              0.5555555555555556,
              "#d8576b"
             ],
             [
              0.6666666666666666,
              "#ed7953"
             ],
             [
              0.7777777777777778,
              "#fb9f3a"
             ],
             [
              0.8888888888888888,
              "#fdca26"
             ],
             [
              1,
              "#f0f921"
             ]
            ],
            "type": "heatmapgl"
           }
          ],
          "histogram": [
           {
            "marker": {
             "colorbar": {
              "outlinewidth": 0,
              "ticks": ""
             }
            },
            "type": "histogram"
           }
          ],
          "histogram2d": [
           {
            "colorbar": {
             "outlinewidth": 0,
             "ticks": ""
            },
            "colorscale": [
             [
              0,
              "#0d0887"
             ],
             [
              0.1111111111111111,
              "#46039f"
             ],
             [
              0.2222222222222222,
              "#7201a8"
             ],
             [
              0.3333333333333333,
              "#9c179e"
             ],
             [
              0.4444444444444444,
              "#bd3786"
             ],
             [
              0.5555555555555556,
              "#d8576b"
             ],
             [
              0.6666666666666666,
              "#ed7953"
             ],
             [
              0.7777777777777778,
              "#fb9f3a"
             ],
             [
              0.8888888888888888,
              "#fdca26"
             ],
             [
              1,
              "#f0f921"
             ]
            ],
            "type": "histogram2d"
           }
          ],
          "histogram2dcontour": [
           {
            "colorbar": {
             "outlinewidth": 0,
             "ticks": ""
            },
            "colorscale": [
             [
              0,
              "#0d0887"
             ],
             [
              0.1111111111111111,
              "#46039f"
             ],
             [
              0.2222222222222222,
              "#7201a8"
             ],
             [
              0.3333333333333333,
              "#9c179e"
             ],
             [
              0.4444444444444444,
              "#bd3786"
             ],
             [
              0.5555555555555556,
              "#d8576b"
             ],
             [
              0.6666666666666666,
              "#ed7953"
             ],
             [
              0.7777777777777778,
              "#fb9f3a"
             ],
             [
              0.8888888888888888,
              "#fdca26"
             ],
             [
              1,
              "#f0f921"
             ]
            ],
            "type": "histogram2dcontour"
           }
          ],
          "mesh3d": [
           {
            "colorbar": {
             "outlinewidth": 0,
             "ticks": ""
            },
            "type": "mesh3d"
           }
          ],
          "parcoords": [
           {
            "line": {
             "colorbar": {
              "outlinewidth": 0,
              "ticks": ""
             }
            },
            "type": "parcoords"
           }
          ],
          "pie": [
           {
            "automargin": true,
            "type": "pie"
           }
          ],
          "scatter": [
           {
            "marker": {
             "colorbar": {
              "outlinewidth": 0,
              "ticks": ""
             }
            },
            "type": "scatter"
           }
          ],
          "scatter3d": [
           {
            "line": {
             "colorbar": {
              "outlinewidth": 0,
              "ticks": ""
             }
            },
            "marker": {
             "colorbar": {
              "outlinewidth": 0,
              "ticks": ""
             }
            },
            "type": "scatter3d"
           }
          ],
          "scattercarpet": [
           {
            "marker": {
             "colorbar": {
              "outlinewidth": 0,
              "ticks": ""
             }
            },
            "type": "scattercarpet"
           }
          ],
          "scattergeo": [
           {
            "marker": {
             "colorbar": {
              "outlinewidth": 0,
              "ticks": ""
             }
            },
            "type": "scattergeo"
           }
          ],
          "scattergl": [
           {
            "marker": {
             "colorbar": {
              "outlinewidth": 0,
              "ticks": ""
             }
            },
            "type": "scattergl"
           }
          ],
          "scattermapbox": [
           {
            "marker": {
             "colorbar": {
              "outlinewidth": 0,
              "ticks": ""
             }
            },
            "type": "scattermapbox"
           }
          ],
          "scatterpolar": [
           {
            "marker": {
             "colorbar": {
              "outlinewidth": 0,
              "ticks": ""
             }
            },
            "type": "scatterpolar"
           }
          ],
          "scatterpolargl": [
           {
            "marker": {
             "colorbar": {
              "outlinewidth": 0,
              "ticks": ""
             }
            },
            "type": "scatterpolargl"
           }
          ],
          "scatterternary": [
           {
            "marker": {
             "colorbar": {
              "outlinewidth": 0,
              "ticks": ""
             }
            },
            "type": "scatterternary"
           }
          ],
          "surface": [
           {
            "colorbar": {
             "outlinewidth": 0,
             "ticks": ""
            },
            "colorscale": [
             [
              0,
              "#0d0887"
             ],
             [
              0.1111111111111111,
              "#46039f"
             ],
             [
              0.2222222222222222,
              "#7201a8"
             ],
             [
              0.3333333333333333,
              "#9c179e"
             ],
             [
              0.4444444444444444,
              "#bd3786"
             ],
             [
              0.5555555555555556,
              "#d8576b"
             ],
             [
              0.6666666666666666,
              "#ed7953"
             ],
             [
              0.7777777777777778,
              "#fb9f3a"
             ],
             [
              0.8888888888888888,
              "#fdca26"
             ],
             [
              1,
              "#f0f921"
             ]
            ],
            "type": "surface"
           }
          ],
          "table": [
           {
            "cells": {
             "fill": {
              "color": "#EBF0F8"
             },
             "line": {
              "color": "white"
             }
            },
            "header": {
             "fill": {
              "color": "#C8D4E3"
             },
             "line": {
              "color": "white"
             }
            },
            "type": "table"
           }
          ]
         },
         "layout": {
          "annotationdefaults": {
           "arrowcolor": "#2a3f5f",
           "arrowhead": 0,
           "arrowwidth": 1
          },
          "coloraxis": {
           "colorbar": {
            "outlinewidth": 0,
            "ticks": ""
           }
          },
          "colorscale": {
           "diverging": [
            [
             0,
             "#8e0152"
            ],
            [
             0.1,
             "#c51b7d"
            ],
            [
             0.2,
             "#de77ae"
            ],
            [
             0.3,
             "#f1b6da"
            ],
            [
             0.4,
             "#fde0ef"
            ],
            [
             0.5,
             "#f7f7f7"
            ],
            [
             0.6,
             "#e6f5d0"
            ],
            [
             0.7,
             "#b8e186"
            ],
            [
             0.8,
             "#7fbc41"
            ],
            [
             0.9,
             "#4d9221"
            ],
            [
             1,
             "#276419"
            ]
           ],
           "sequential": [
            [
             0,
             "#0d0887"
            ],
            [
             0.1111111111111111,
             "#46039f"
            ],
            [
             0.2222222222222222,
             "#7201a8"
            ],
            [
             0.3333333333333333,
             "#9c179e"
            ],
            [
             0.4444444444444444,
             "#bd3786"
            ],
            [
             0.5555555555555556,
             "#d8576b"
            ],
            [
             0.6666666666666666,
             "#ed7953"
            ],
            [
             0.7777777777777778,
             "#fb9f3a"
            ],
            [
             0.8888888888888888,
             "#fdca26"
            ],
            [
             1,
             "#f0f921"
            ]
           ],
           "sequentialminus": [
            [
             0,
             "#0d0887"
            ],
            [
             0.1111111111111111,
             "#46039f"
            ],
            [
             0.2222222222222222,
             "#7201a8"
            ],
            [
             0.3333333333333333,
             "#9c179e"
            ],
            [
             0.4444444444444444,
             "#bd3786"
            ],
            [
             0.5555555555555556,
             "#d8576b"
            ],
            [
             0.6666666666666666,
             "#ed7953"
            ],
            [
             0.7777777777777778,
             "#fb9f3a"
            ],
            [
             0.8888888888888888,
             "#fdca26"
            ],
            [
             1,
             "#f0f921"
            ]
           ]
          },
          "colorway": [
           "#636efa",
           "#EF553B",
           "#00cc96",
           "#ab63fa",
           "#FFA15A",
           "#19d3f3",
           "#FF6692",
           "#B6E880",
           "#FF97FF",
           "#FECB52"
          ],
          "font": {
           "color": "#2a3f5f"
          },
          "geo": {
           "bgcolor": "white",
           "lakecolor": "white",
           "landcolor": "#E5ECF6",
           "showlakes": true,
           "showland": true,
           "subunitcolor": "white"
          },
          "hoverlabel": {
           "align": "left"
          },
          "hovermode": "closest",
          "mapbox": {
           "style": "light"
          },
          "paper_bgcolor": "white",
          "plot_bgcolor": "#E5ECF6",
          "polar": {
           "angularaxis": {
            "gridcolor": "white",
            "linecolor": "white",
            "ticks": ""
           },
           "bgcolor": "#E5ECF6",
           "radialaxis": {
            "gridcolor": "white",
            "linecolor": "white",
            "ticks": ""
           }
          },
          "scene": {
           "xaxis": {
            "backgroundcolor": "#E5ECF6",
            "gridcolor": "white",
            "gridwidth": 2,
            "linecolor": "white",
            "showbackground": true,
            "ticks": "",
            "zerolinecolor": "white"
           },
           "yaxis": {
            "backgroundcolor": "#E5ECF6",
            "gridcolor": "white",
            "gridwidth": 2,
            "linecolor": "white",
            "showbackground": true,
            "ticks": "",
            "zerolinecolor": "white"
           },
           "zaxis": {
            "backgroundcolor": "#E5ECF6",
            "gridcolor": "white",
            "gridwidth": 2,
            "linecolor": "white",
            "showbackground": true,
            "ticks": "",
            "zerolinecolor": "white"
           }
          },
          "shapedefaults": {
           "line": {
            "color": "#2a3f5f"
           }
          },
          "ternary": {
           "aaxis": {
            "gridcolor": "white",
            "linecolor": "white",
            "ticks": ""
           },
           "baxis": {
            "gridcolor": "white",
            "linecolor": "white",
            "ticks": ""
           },
           "bgcolor": "#E5ECF6",
           "caxis": {
            "gridcolor": "white",
            "linecolor": "white",
            "ticks": ""
           }
          },
          "title": {
           "x": 0.05
          },
          "xaxis": {
           "automargin": true,
           "gridcolor": "white",
           "linecolor": "white",
           "ticks": "",
           "title": {
            "standoff": 15
           },
           "zerolinecolor": "white",
           "zerolinewidth": 2
          },
          "yaxis": {
           "automargin": true,
           "gridcolor": "white",
           "linecolor": "white",
           "ticks": "",
           "title": {
            "standoff": 15
           },
           "zerolinecolor": "white",
           "zerolinewidth": 2
          }
         }
        },
        "title": {
         "text": "My organization treasures diverse opinions and ideas."
        },
        "updatemenus": [
         {
          "buttons": [
           {
            "args": [
             {
              "visible": [
               true,
               false,
               false,
               false,
               false,
               false,
               false,
               false,
               false,
               false,
               false,
               false,
               false,
               false,
               false,
               false,
               false,
               false,
               false,
               false,
               false,
               false,
               false,
               false,
               false
              ]
             },
             {
              "title": "My organization treasures diverse opinions and ideas."
             }
            ],
            "label": "Total",
            "method": "update"
           },
           {
            "args": [
             {
              "visible": [
               false,
               true,
               true,
               true,
               true,
               true,
               true,
               false,
               false,
               false,
               false,
               false,
               false,
               false,
               false,
               false,
               false,
               false,
               false,
               false,
               false,
               false,
               false,
               false,
               false
              ]
             },
             {
              "title": "My organization treasures diverse opinions and ideas."
             }
            ],
            "label": "Race",
            "method": "update"
           },
           {
            "args": [
             {
              "visible": [
               false,
               false,
               false,
               false,
               false,
               false,
               false,
               true,
               true,
               true,
               true,
               true,
               true,
               false,
               false,
               false,
               false,
               false,
               false,
               false,
               false,
               false,
               false,
               false,
               false
              ]
             },
             {
              "title": "My organization treasures diverse opinions and ideas."
             }
            ],
            "label": "Age",
            "method": "update"
           },
           {
            "args": [
             {
              "visible": [
               false,
               false,
               false,
               false,
               false,
               false,
               false,
               false,
               false,
               false,
               false,
               false,
               false,
               true,
               true,
               false,
               false,
               false,
               false,
               false,
               false,
               false,
               false,
               false,
               false
              ]
             },
             {
              "title": "My organization treasures diverse opinions and ideas."
             }
            ],
            "label": "Sexual Orientation",
            "method": "update"
           },
           {
            "args": [
             {
              "visible": [
               false,
               false,
               false,
               false,
               false,
               false,
               false,
               false,
               false,
               false,
               false,
               false,
               false,
               false,
               false,
               true,
               true,
               true,
               true,
               true,
               true,
               false,
               false,
               false,
               false
              ]
             },
             {
              "title": "My organization treasures diverse opinions and ideas."
             }
            ],
            "label": "Tenure",
            "method": "update"
           },
           {
            "args": [
             {
              "visible": [
               false,
               false,
               false,
               false,
               false,
               false,
               false,
               false,
               false,
               false,
               false,
               false,
               false,
               false,
               false,
               false,
               false,
               false,
               false,
               false,
               false,
               true,
               true,
               true,
               true
              ]
             },
             {
              "title": "My organization treasures diverse opinions and ideas."
             }
            ],
            "label": "Status",
            "method": "update"
           }
          ],
          "type": "buttons"
         }
        ]
       }
      },
      "text/html": [
       "<div>\n",
       "        \n",
       "        \n",
       "            <div id=\"fba3ddd2-812d-4c08-9b70-078830114f8a\" class=\"plotly-graph-div\" style=\"height:525px; width:100%;\"></div>\n",
       "            <script type=\"text/javascript\">\n",
       "                require([\"plotly\"], function(Plotly) {\n",
       "                    window.PLOTLYENV=window.PLOTLYENV || {};\n",
       "                    \n",
       "                if (document.getElementById(\"fba3ddd2-812d-4c08-9b70-078830114f8a\")) {\n",
       "                    Plotly.newPlot(\n",
       "                        'fba3ddd2-812d-4c08-9b70-078830114f8a',\n",
       "                        [{\"name\": \"   \", \"opacity\": 0.5, \"type\": \"histogram\", \"x\": [4.0, 3.0, 5.0, 5.0, 1.0, 3.0, 3.0, 2.0, 1.0, 2.0, 1.0, 1.0, 3.0, 2.0, 4.0, 3.0, 2.0, 3.0, 3.0, 4.0, 3.0, 3.0, 4.0, 4.0, 4.0, 5.0, 4.0, 5.0, 5.0, 3.0, 2.0, 1.0, 3.0, 1.0, 1.0, 1.0, 4.0, 3.0, 3.0, 2.0, 2.0, 2.0, 3.0, 3.0, 1.0, 2.0, 2.0, 1.0, 3.0, 2.0, 3.0, 2.0, 2.0, 5.0, 4.0, 4.0, 4.0, 3.0, 3.0, 3.0, 2.0, 2.0, 2.0, 3.0, 4.0, 4.0, 4.0, 4.0, 4.0, 3.0, 5.0, 4.0, 3.0, 4.0, 4.0, 4.0, 3.0, 5.0, 4.0, 5.0, 5.0, 5.0, 5.0, 5.0, 5.0, 5.0, 3.0, 5.0, 3.0, 4.0, 5.0, 4.0, 5.0, 4.0, 5.0, 5.0, 5.0, 5.0, 5.0, 4.0, 5.0, 1.0, 3.0, 4.0, 4.0, 4.0, 4.0, 5.0, 5.0, 4.0, 5.0, 5.0, 5.0, 5.0, null, 5.0, 1.0, 2.0, 2.0, 2.0, 2.0, 1.0, 1.0, 3.0, 2.0, 2.0, 3.0, 1.0, 4.0, 3.0, 2.0, 3.0, 3.0, 3.0, 2.0, 3.0, 3.0, 3.0, 3.0, 5.0, 3.0, 3.0, 3.0, 1.0, 3.0, 2.0, 3.0, 3.0, 4.0, 3.0, 4.0, 3.0, 4.0, 2.0, 4.0, 3.0, 4.0, 4.0, 4.0, 3.0, 4.0, 4.0, 2.0, 5.0, 4.0, 3.0, 2.0, 4.0, 3.0, 4.0, 4.0, 5.0, 5.0, 4.0, 4.0, 4.0, 5.0, 4.0, 5.0, 5.0, 5.0, 5.0, 5.0, 4.0, 4.0, 5.0, 4.0, 5.0, 5.0, null, 5.0, 4.0, 5.0, 3.0, 4.0, 5.0, 5.0, 5.0, 4.0, 4.0, 5.0, 5.0, 4.0, 3.0, 2.0]}, {\"name\": \"White\", \"opacity\": 0.5, \"type\": \"histogram\", \"x\": [1.0, 2.0, 2.0, 2.0, 2.0, 1.0, 1.0, 3.0, 2.0, 2.0, 3.0, 1.0, 4.0, 3.0, 2.0, 3.0, 3.0, 3.0, 2.0, 3.0, 3.0, 3.0, 3.0, 5.0, 3.0, 3.0, 3.0, 1.0, 3.0, 2.0, 3.0, 3.0, 4.0, 3.0, 4.0, 3.0, 4.0, 2.0, 4.0, 3.0, 4.0, 4.0, 4.0, 3.0, 4.0, 4.0, 2.0, 5.0, 4.0, 3.0, 2.0, 4.0, 3.0, 4.0, 4.0, 5.0, 5.0, 4.0, 4.0, 4.0, 5.0, 4.0, 5.0, 5.0, 5.0, 5.0, 5.0, 4.0, 4.0, 5.0, 4.0, 5.0, 5.0, null, 5.0, 4.0, 5.0, 3.0, 4.0, 5.0, 5.0, 5.0, 4.0, 4.0, 5.0, 5.0]}, {\"name\": \"Latino/Hispanic\", \"opacity\": 0.5, \"type\": \"histogram\", \"x\": [1.0, 3.0, 1.0, 1.0, 1.0, 4.0, 3.0, 3.0, 2.0, 2.0, 2.0, 3.0, 3.0, 1.0, 2.0, 2.0, 1.0, 3.0, 2.0, 3.0, 2.0, 2.0, 5.0, 4.0, 4.0, 4.0, 3.0, 3.0, 3.0, 2.0, 2.0, 2.0, 3.0, 4.0, 4.0, 4.0, 4.0, 4.0, 3.0, 5.0, 4.0, 3.0, 4.0, 4.0, 4.0, 3.0, 5.0, 4.0, 5.0, 5.0, 5.0, 5.0, 5.0, 5.0, 5.0, 3.0, 5.0, 3.0, 4.0, 5.0, 4.0, 5.0, 4.0, 5.0, 5.0, 5.0, 5.0, 5.0]}, {\"name\": \"Black/African American\", \"opacity\": 0.5, \"type\": \"histogram\", \"x\": [1.0, 3.0, 3.0, 2.0, 1.0, 2.0, 1.0, 1.0, 3.0, 2.0, 4.0, 3.0, 2.0, 3.0, 3.0, 4.0, 3.0, 3.0, 4.0, 4.0, 4.0, 5.0, 4.0, 5.0]}, {\"name\": \"Two or more Races\", \"opacity\": 0.5, \"type\": \"histogram\", \"x\": [1.0, 3.0, 4.0, 4.0, 4.0, 4.0, 5.0, 5.0, 4.0, 5.0, 5.0, 5.0, 5.0, null, 5.0]}, {\"name\": \"Asian\", \"opacity\": 0.5, \"type\": \"histogram\", \"x\": [3.0, 5.0, 5.0]}, {\"name\": \"Indian/Native American\", \"opacity\": 0.5, \"type\": \"histogram\", \"x\": [3.0, 2.0]}, {\"name\": \"25-34\", \"opacity\": 0.5, \"type\": \"histogram\", \"x\": [3.0, 5.0, 3.0, 3.0, 2.0, 4.0, 3.0, 3.0, 3.0, 5.0, 4.0, 5.0, 1.0, 1.0, 3.0, 2.0, 2.0, 1.0, 2.0, 3.0, 2.0, 5.0, 4.0, 2.0, 2.0, 2.0, 3.0, 4.0, 5.0, 4.0, 4.0, 5.0, 4.0, 5.0, 5.0, 3.0, 5.0, 4.0, 5.0, 5.0, 5.0, 5.0, 1.0, 4.0, 4.0, 5.0, 5.0, null, 5.0, 2.0, 2.0, 2.0, 3.0, 2.0, 2.0, 3.0, 3.0, 3.0, 3.0, 5.0, 1.0, 3.0, 4.0, 4.0, 3.0, 4.0, 3.0, 4.0, 2.0, 5.0, 2.0, 4.0, 4.0, 5.0, 5.0, 4.0, 4.0, 5.0, 5.0, 4.0, 5.0, 5.0, 5.0, 3.0, 4.0, 3.0]}, {\"name\": \"35-44\", \"opacity\": 0.5, \"type\": \"histogram\", \"x\": [4.0, 2.0, 2.0, 3.0, 3.0, 4.0, 3.0, 1.0, 1.0, 4.0, 2.0, 3.0, 1.0, 3.0, 2.0, 4.0, 3.0, 3.0, 4.0, 4.0, 3.0, 4.0, 3.0, 5.0, 3.0, 4.0, 4.0, 5.0, 3.0, 4.0, 1.0, 2.0, 1.0, 4.0, 3.0, 2.0, 3.0, 2.0, 4.0, 3.0, 4.0, 4.0, 4.0, 5.0, 5.0, 4.0, 5.0]}, {\"name\": \"45-54\", \"opacity\": 0.5, \"type\": \"histogram\", \"x\": [1.0, 1.0, 4.0, 2.0, 3.0, 2.0, 3.0, 4.0, 4.0, 4.0, 4.0, 5.0, 1.0, 2.0, 3.0, 3.0, 3.0, 3.0, 3.0, 3.0, 3.0, 4.0, 3.0, 4.0, 5.0, 5.0, null, 5.0]}, {\"name\": \"55-64\", \"opacity\": 0.5, \"type\": \"histogram\", \"x\": [1.0, 1.0, 3.0, 4.0, 5.0, 2.0, 4.0, 3.0, 5.0, 4.0, 5.0, 3.0, 3.0, 2.0, 4.0, 4.0, 5.0, 4.0, 4.0, 4.0, 5.0, 5.0, 4.0, 4.0, 2.0]}, {\"name\": \"18-24\", \"opacity\": 0.5, \"type\": \"histogram\", \"x\": [5.0, 3.0, 5.0, 5.0, 5.0, 5.0, 5.0, 5.0, 1.0, 4.0, 5.0, 5.0]}, {\"name\": \"65-74\", \"opacity\": 0.5, \"type\": \"histogram\", \"x\": [4.0, 3.0, 5.0, 5.0, 4.0, 3.0]}, {\"name\": \"Straight\", \"opacity\": 0.5, \"type\": \"histogram\", \"x\": [5.0, 5.0, 1.0, 3.0, 3.0, 2.0, 1.0, 2.0, 1.0, 1.0, 3.0, 2.0, 4.0, 3.0, 2.0, 3.0, 4.0, 3.0, 3.0, 4.0, 4.0, 5.0, 4.0, 5.0, 5.0, 3.0, 1.0, 1.0, 1.0, 4.0, 3.0, 3.0, 2.0, 2.0, 2.0, 3.0, 3.0, 2.0, 3.0, 2.0, 3.0, 2.0, 2.0, 5.0, 4.0, 4.0, 4.0, 3.0, 3.0, 3.0, 2.0, 2.0, 3.0, 4.0, 4.0, 4.0, 4.0, 3.0, 5.0, 4.0, 3.0, 4.0, 4.0, 4.0, 3.0, 4.0, 5.0, 5.0, 5.0, 5.0, 3.0, 5.0, 3.0, 4.0, 5.0, 4.0, 5.0, 4.0, 5.0, 5.0, 5.0, 5.0, 5.0, 4.0, 5.0, 3.0, 4.0, 4.0, 4.0, 5.0, 5.0, 4.0, 5.0, 5.0, 5.0, 5.0, null, 5.0, 1.0, 2.0, 2.0, 2.0, 1.0, 2.0, 3.0, 4.0, 3.0, 2.0, 3.0, 3.0, 2.0, 3.0, 3.0, 5.0, 3.0, 3.0, 3.0, 1.0, 3.0, 2.0, 3.0, 4.0, 4.0, 3.0, 2.0, 4.0, 4.0, 2.0, 5.0, 3.0, 4.0, 3.0, 4.0, 4.0, 5.0, 5.0, 4.0, 5.0, 4.0, 5.0, 5.0, 4.0, 4.0, 5.0, 4.0, 5.0, null, 5.0, 4.0, 5.0, 3.0, 4.0, 5.0, 5.0, 5.0, 4.0, 4.0, 5.0, 5.0, 4.0, 2.0]}, {\"name\": \"LGBTQ+\", \"opacity\": 0.5, \"type\": \"histogram\", \"x\": [3.0, 2.0, 1.0, 1.0, 2.0, 1.0, 2.0, 4.0, 5.0, 5.0, 5.0, 1.0, 4.0, 2.0, 1.0, 3.0, 2.0, 1.0, 3.0, 3.0, 3.0, 3.0, 4.0, 4.0, 3.0, 4.0, 3.0, 4.0, 4.0, 2.0, 4.0, 5.0, 5.0, 5.0, 3.0]}, {\"name\": \"1-3 years\", \"opacity\": 0.5, \"type\": \"histogram\", \"x\": [4.0, 3.0, 5.0, 5.0, 1.0, 2.0, 1.0, 1.0, 3.0, 4.0, 3.0, 4.0, 3.0, 4.0, 5.0, 1.0, 1.0, 1.0, 4.0, 2.0, 2.0, 3.0, 4.0, 4.0, 2.0, 2.0, 2.0, 4.0, 4.0, 4.0, 4.0, 5.0, 5.0, 5.0, 3.0, 4.0, 5.0, 4.0, 4.0, 5.0, null, 2.0, 2.0, 2.0, 2.0, 3.0, 1.0, 2.0, 3.0, 3.0, 3.0, 5.0, 3.0, 2.0, 3.0, 4.0, 4.0, 4.0, 4.0, 2.0, 3.0, 4.0, 4.0, 5.0, 5.0, 4.0, 5.0, 4.0, 5.0, 2.0]}, {\"name\": \"3-5 years\", \"opacity\": 0.5, \"type\": \"histogram\", \"x\": [3.0, 3.0, 1.0, 2.0, 3.0, 4.0, 3.0, 2.0, 3.0, 1.0, 3.0, 5.0, 3.0, 4.0, 4.0, 4.0, 5.0, 5.0, 5.0, 1.0, 1.0, 2.0, 2.0, 3.0, 3.0, 1.0, 4.0, 3.0, 3.0, 4.0, 2.0, 4.0, 4.0, 5.0, 4.0, 4.0, 5.0, 4.0, 5.0, 5.0]}, {\"name\": \"< than a year\", \"opacity\": 0.5, \"type\": \"histogram\", \"x\": [2.0, 2.0, 4.0, 5.0, 5.0, 5.0, 5.0, 5.0, 4.0, 5.0, 4.0, 5.0, 5.0, 5.0, 5.0, 3.0, 3.0, 3.0, 4.0, 3.0, 5.0, 4.0, 5.0, 4.0, 5.0, 5.0, 5.0, 5.0, null, 5.0, 3.0, 5.0]}, {\"name\": \"5-10 years\", \"opacity\": 0.5, \"type\": \"histogram\", \"x\": [2.0, 3.0, 4.0, 5.0, 5.0, 2.0, 1.0, 3.0, 2.0, 2.0, 5.0, 4.0, 3.0, 4.0, 4.0, 5.0, 3.0, 4.0, 1.0, 3.0, 3.0, 3.0, 3.0, 3.0, 2.0, 3.0, 4.0, 4.0]}, {\"name\": \"10+ years\", \"opacity\": 0.5, \"type\": \"histogram\", \"x\": [4.0, 3.0, 3.0, 2.0, 2.0, 3.0, 3.0, 4.0, 3.0, 3.0, 3.0, 5.0, 4.0, 4.0, 1.0, 3.0, 4.0, 4.0, 5.0, 5.0, 4.0, 4.0, 4.0]}, {\"name\": \"1 year\", \"opacity\": 0.5, \"type\": \"histogram\", \"x\": [3.0, 3.0, 3.0, 1.0, 5.0, 5.0, 5.0, 5.0, 4.0, 2.0, 3.0]}, {\"name\": \"Full-time\", \"opacity\": 0.5, \"type\": \"histogram\", \"x\": [4.0, 3.0, 1.0, 3.0, 3.0, 2.0, 1.0, 2.0, 1.0, 1.0, 3.0, 2.0, 4.0, 3.0, 2.0, 3.0, 3.0, 3.0, 3.0, 4.0, 4.0, 4.0, 5.0, 4.0, 5.0, 5.0, 3.0, 2.0, 1.0, 3.0, 1.0, 1.0, 1.0, 4.0, 3.0, 3.0, 2.0, 2.0, 2.0, 3.0, 3.0, 1.0, 2.0, 2.0, 1.0, 3.0, 2.0, 3.0, 2.0, 2.0, 5.0, 4.0, 4.0, 4.0, 3.0, 3.0, 3.0, 2.0, 2.0, 3.0, 4.0, 4.0, 4.0, 4.0, 4.0, 3.0, 5.0, 4.0, 3.0, 4.0, 4.0, 4.0, 3.0, 5.0, 4.0, 5.0, 5.0, 5.0, 5.0, 3.0, 5.0, 3.0, 4.0, 4.0, 5.0, 4.0, 5.0, 5.0, 5.0, 5.0, 4.0, 5.0, 1.0, 3.0, 4.0, 4.0, 4.0, 4.0, 5.0, 5.0, 4.0, 5.0, 5.0, null, 5.0, 1.0, 2.0, 2.0, 2.0, 2.0, 1.0, 1.0, 3.0, 2.0, 2.0, 3.0, 1.0, 4.0, 3.0, 2.0, 3.0, 3.0, 3.0, 2.0, 3.0, 3.0, 3.0, 3.0, 3.0, 3.0, 3.0, 1.0, 3.0, 2.0, 3.0, 3.0, 4.0, 3.0, 4.0, 3.0, 2.0, 4.0, 3.0, 4.0, 4.0, 4.0, 3.0, 4.0, 2.0, 5.0, 3.0, 2.0, 4.0, 3.0, 4.0, 4.0, 4.0, 4.0, 4.0, 5.0, 4.0, 5.0, 5.0, 5.0, 4.0, 4.0, 5.0, 4.0, 5.0, 5.0, 4.0, 5.0, 4.0, 5.0, 4.0, 5.0, 5.0, 4.0, 3.0, 2.0]}, {\"name\": \"Part-time\", \"opacity\": 0.5, \"type\": \"histogram\", \"x\": [5.0, 5.0, 4.0, 5.0, 5.0, 5.0, 5.0, 5.0, 5.0, 4.0, 4.0, 5.0, 5.0, null, 5.0, 3.0, 5.0, 5.0, 4.0]}, {\"name\": \"Seasonal\", \"opacity\": 0.5, \"type\": \"histogram\", \"x\": [5.0, 5.0, 4.0, 5.0, 5.0, 5.0, 5.0, 5.0, 5.0, 4.0, 4.0, 5.0, 5.0, null, 5.0, 3.0, 5.0, 5.0, 4.0]}, {\"name\": \"Part-time, Seasonal\", \"opacity\": 0.5, \"type\": \"histogram\", \"x\": [5.0, 5.0, 4.0, 5.0, 5.0, 5.0, 5.0, 5.0, 5.0, 4.0, 4.0, 5.0, 5.0, null, 5.0, 3.0, 5.0, 5.0, 4.0]}],\n",
       "                        {\"barmode\": \"stack\", \"template\": {\"data\": {\"bar\": [{\"error_x\": {\"color\": \"#2a3f5f\"}, \"error_y\": {\"color\": \"#2a3f5f\"}, \"marker\": {\"line\": {\"color\": \"#E5ECF6\", \"width\": 0.5}}, \"type\": \"bar\"}], \"barpolar\": [{\"marker\": {\"line\": {\"color\": \"#E5ECF6\", \"width\": 0.5}}, \"type\": \"barpolar\"}], \"carpet\": [{\"aaxis\": {\"endlinecolor\": \"#2a3f5f\", \"gridcolor\": \"white\", \"linecolor\": \"white\", \"minorgridcolor\": \"white\", \"startlinecolor\": \"#2a3f5f\"}, \"baxis\": {\"endlinecolor\": \"#2a3f5f\", \"gridcolor\": \"white\", \"linecolor\": \"white\", \"minorgridcolor\": \"white\", \"startlinecolor\": \"#2a3f5f\"}, \"type\": \"carpet\"}], \"choropleth\": [{\"colorbar\": {\"outlinewidth\": 0, \"ticks\": \"\"}, \"type\": \"choropleth\"}], \"contour\": [{\"colorbar\": {\"outlinewidth\": 0, \"ticks\": \"\"}, \"colorscale\": [[0.0, \"#0d0887\"], [0.1111111111111111, \"#46039f\"], [0.2222222222222222, \"#7201a8\"], [0.3333333333333333, \"#9c179e\"], [0.4444444444444444, \"#bd3786\"], [0.5555555555555556, \"#d8576b\"], [0.6666666666666666, \"#ed7953\"], [0.7777777777777778, \"#fb9f3a\"], [0.8888888888888888, \"#fdca26\"], [1.0, \"#f0f921\"]], \"type\": \"contour\"}], \"contourcarpet\": [{\"colorbar\": {\"outlinewidth\": 0, \"ticks\": \"\"}, \"type\": \"contourcarpet\"}], \"heatmap\": [{\"colorbar\": {\"outlinewidth\": 0, \"ticks\": \"\"}, \"colorscale\": [[0.0, \"#0d0887\"], [0.1111111111111111, \"#46039f\"], [0.2222222222222222, \"#7201a8\"], [0.3333333333333333, \"#9c179e\"], [0.4444444444444444, \"#bd3786\"], [0.5555555555555556, \"#d8576b\"], [0.6666666666666666, \"#ed7953\"], [0.7777777777777778, \"#fb9f3a\"], [0.8888888888888888, \"#fdca26\"], [1.0, \"#f0f921\"]], \"type\": \"heatmap\"}], \"heatmapgl\": [{\"colorbar\": {\"outlinewidth\": 0, \"ticks\": \"\"}, \"colorscale\": [[0.0, \"#0d0887\"], [0.1111111111111111, \"#46039f\"], [0.2222222222222222, \"#7201a8\"], [0.3333333333333333, \"#9c179e\"], [0.4444444444444444, \"#bd3786\"], [0.5555555555555556, \"#d8576b\"], [0.6666666666666666, \"#ed7953\"], [0.7777777777777778, \"#fb9f3a\"], [0.8888888888888888, \"#fdca26\"], [1.0, \"#f0f921\"]], \"type\": \"heatmapgl\"}], \"histogram\": [{\"marker\": {\"colorbar\": {\"outlinewidth\": 0, \"ticks\": \"\"}}, \"type\": \"histogram\"}], \"histogram2d\": [{\"colorbar\": {\"outlinewidth\": 0, \"ticks\": \"\"}, \"colorscale\": [[0.0, \"#0d0887\"], [0.1111111111111111, \"#46039f\"], [0.2222222222222222, \"#7201a8\"], [0.3333333333333333, \"#9c179e\"], [0.4444444444444444, \"#bd3786\"], [0.5555555555555556, \"#d8576b\"], [0.6666666666666666, \"#ed7953\"], [0.7777777777777778, \"#fb9f3a\"], [0.8888888888888888, \"#fdca26\"], [1.0, \"#f0f921\"]], \"type\": \"histogram2d\"}], \"histogram2dcontour\": [{\"colorbar\": {\"outlinewidth\": 0, \"ticks\": \"\"}, \"colorscale\": [[0.0, \"#0d0887\"], [0.1111111111111111, \"#46039f\"], [0.2222222222222222, \"#7201a8\"], [0.3333333333333333, \"#9c179e\"], [0.4444444444444444, \"#bd3786\"], [0.5555555555555556, \"#d8576b\"], [0.6666666666666666, \"#ed7953\"], [0.7777777777777778, \"#fb9f3a\"], [0.8888888888888888, \"#fdca26\"], [1.0, \"#f0f921\"]], \"type\": \"histogram2dcontour\"}], \"mesh3d\": [{\"colorbar\": {\"outlinewidth\": 0, \"ticks\": \"\"}, \"type\": \"mesh3d\"}], \"parcoords\": [{\"line\": {\"colorbar\": {\"outlinewidth\": 0, \"ticks\": \"\"}}, \"type\": \"parcoords\"}], \"pie\": [{\"automargin\": true, \"type\": \"pie\"}], \"scatter\": [{\"marker\": {\"colorbar\": {\"outlinewidth\": 0, \"ticks\": \"\"}}, \"type\": \"scatter\"}], \"scatter3d\": [{\"line\": {\"colorbar\": {\"outlinewidth\": 0, \"ticks\": \"\"}}, \"marker\": {\"colorbar\": {\"outlinewidth\": 0, \"ticks\": \"\"}}, \"type\": \"scatter3d\"}], \"scattercarpet\": [{\"marker\": {\"colorbar\": {\"outlinewidth\": 0, \"ticks\": \"\"}}, \"type\": \"scattercarpet\"}], \"scattergeo\": [{\"marker\": {\"colorbar\": {\"outlinewidth\": 0, \"ticks\": \"\"}}, \"type\": \"scattergeo\"}], \"scattergl\": [{\"marker\": {\"colorbar\": {\"outlinewidth\": 0, \"ticks\": \"\"}}, \"type\": \"scattergl\"}], \"scattermapbox\": [{\"marker\": {\"colorbar\": {\"outlinewidth\": 0, \"ticks\": \"\"}}, \"type\": \"scattermapbox\"}], \"scatterpolar\": [{\"marker\": {\"colorbar\": {\"outlinewidth\": 0, \"ticks\": \"\"}}, \"type\": \"scatterpolar\"}], \"scatterpolargl\": [{\"marker\": {\"colorbar\": {\"outlinewidth\": 0, \"ticks\": \"\"}}, \"type\": \"scatterpolargl\"}], \"scatterternary\": [{\"marker\": {\"colorbar\": {\"outlinewidth\": 0, \"ticks\": \"\"}}, \"type\": \"scatterternary\"}], \"surface\": [{\"colorbar\": {\"outlinewidth\": 0, \"ticks\": \"\"}, \"colorscale\": [[0.0, \"#0d0887\"], [0.1111111111111111, \"#46039f\"], [0.2222222222222222, \"#7201a8\"], [0.3333333333333333, \"#9c179e\"], [0.4444444444444444, \"#bd3786\"], [0.5555555555555556, \"#d8576b\"], [0.6666666666666666, \"#ed7953\"], [0.7777777777777778, \"#fb9f3a\"], [0.8888888888888888, \"#fdca26\"], [1.0, \"#f0f921\"]], \"type\": \"surface\"}], \"table\": [{\"cells\": {\"fill\": {\"color\": \"#EBF0F8\"}, \"line\": {\"color\": \"white\"}}, \"header\": {\"fill\": {\"color\": \"#C8D4E3\"}, \"line\": {\"color\": \"white\"}}, \"type\": \"table\"}]}, \"layout\": {\"annotationdefaults\": {\"arrowcolor\": \"#2a3f5f\", \"arrowhead\": 0, \"arrowwidth\": 1}, \"coloraxis\": {\"colorbar\": {\"outlinewidth\": 0, \"ticks\": \"\"}}, \"colorscale\": {\"diverging\": [[0, \"#8e0152\"], [0.1, \"#c51b7d\"], [0.2, \"#de77ae\"], [0.3, \"#f1b6da\"], [0.4, \"#fde0ef\"], [0.5, \"#f7f7f7\"], [0.6, \"#e6f5d0\"], [0.7, \"#b8e186\"], [0.8, \"#7fbc41\"], [0.9, \"#4d9221\"], [1, \"#276419\"]], \"sequential\": [[0.0, \"#0d0887\"], [0.1111111111111111, \"#46039f\"], [0.2222222222222222, \"#7201a8\"], [0.3333333333333333, \"#9c179e\"], [0.4444444444444444, \"#bd3786\"], [0.5555555555555556, \"#d8576b\"], [0.6666666666666666, \"#ed7953\"], [0.7777777777777778, \"#fb9f3a\"], [0.8888888888888888, \"#fdca26\"], [1.0, \"#f0f921\"]], \"sequentialminus\": [[0.0, \"#0d0887\"], [0.1111111111111111, \"#46039f\"], [0.2222222222222222, \"#7201a8\"], [0.3333333333333333, \"#9c179e\"], [0.4444444444444444, \"#bd3786\"], [0.5555555555555556, \"#d8576b\"], [0.6666666666666666, \"#ed7953\"], [0.7777777777777778, \"#fb9f3a\"], [0.8888888888888888, \"#fdca26\"], [1.0, \"#f0f921\"]]}, \"colorway\": [\"#636efa\", \"#EF553B\", \"#00cc96\", \"#ab63fa\", \"#FFA15A\", \"#19d3f3\", \"#FF6692\", \"#B6E880\", \"#FF97FF\", \"#FECB52\"], \"font\": {\"color\": \"#2a3f5f\"}, \"geo\": {\"bgcolor\": \"white\", \"lakecolor\": \"white\", \"landcolor\": \"#E5ECF6\", \"showlakes\": true, \"showland\": true, \"subunitcolor\": \"white\"}, \"hoverlabel\": {\"align\": \"left\"}, \"hovermode\": \"closest\", \"mapbox\": {\"style\": \"light\"}, \"paper_bgcolor\": \"white\", \"plot_bgcolor\": \"#E5ECF6\", \"polar\": {\"angularaxis\": {\"gridcolor\": \"white\", \"linecolor\": \"white\", \"ticks\": \"\"}, \"bgcolor\": \"#E5ECF6\", \"radialaxis\": {\"gridcolor\": \"white\", \"linecolor\": \"white\", \"ticks\": \"\"}}, \"scene\": {\"xaxis\": {\"backgroundcolor\": \"#E5ECF6\", \"gridcolor\": \"white\", \"gridwidth\": 2, \"linecolor\": \"white\", \"showbackground\": true, \"ticks\": \"\", \"zerolinecolor\": \"white\"}, \"yaxis\": {\"backgroundcolor\": \"#E5ECF6\", \"gridcolor\": \"white\", \"gridwidth\": 2, \"linecolor\": \"white\", \"showbackground\": true, \"ticks\": \"\", \"zerolinecolor\": \"white\"}, \"zaxis\": {\"backgroundcolor\": \"#E5ECF6\", \"gridcolor\": \"white\", \"gridwidth\": 2, \"linecolor\": \"white\", \"showbackground\": true, \"ticks\": \"\", \"zerolinecolor\": \"white\"}}, \"shapedefaults\": {\"line\": {\"color\": \"#2a3f5f\"}}, \"ternary\": {\"aaxis\": {\"gridcolor\": \"white\", \"linecolor\": \"white\", \"ticks\": \"\"}, \"baxis\": {\"gridcolor\": \"white\", \"linecolor\": \"white\", \"ticks\": \"\"}, \"bgcolor\": \"#E5ECF6\", \"caxis\": {\"gridcolor\": \"white\", \"linecolor\": \"white\", \"ticks\": \"\"}}, \"title\": {\"x\": 0.05}, \"xaxis\": {\"automargin\": true, \"gridcolor\": \"white\", \"linecolor\": \"white\", \"ticks\": \"\", \"title\": {\"standoff\": 15}, \"zerolinecolor\": \"white\", \"zerolinewidth\": 2}, \"yaxis\": {\"automargin\": true, \"gridcolor\": \"white\", \"linecolor\": \"white\", \"ticks\": \"\", \"title\": {\"standoff\": 15}, \"zerolinecolor\": \"white\", \"zerolinewidth\": 2}}}, \"title\": {\"text\": \"My organization treasures diverse opinions and ideas.\"}, \"updatemenus\": [{\"buttons\": [{\"args\": [{\"visible\": [true, false, false, false, false, false, false, false, false, false, false, false, false, false, false, false, false, false, false, false, false, false, false, false, false]}, {\"title\": \"My organization treasures diverse opinions and ideas.\"}], \"label\": \"Total\", \"method\": \"update\"}, {\"args\": [{\"visible\": [false, true, true, true, true, true, true, false, false, false, false, false, false, false, false, false, false, false, false, false, false, false, false, false, false]}, {\"title\": \"My organization treasures diverse opinions and ideas.\"}], \"label\": \"Race\", \"method\": \"update\"}, {\"args\": [{\"visible\": [false, false, false, false, false, false, false, true, true, true, true, true, true, false, false, false, false, false, false, false, false, false, false, false, false]}, {\"title\": \"My organization treasures diverse opinions and ideas.\"}], \"label\": \"Age\", \"method\": \"update\"}, {\"args\": [{\"visible\": [false, false, false, false, false, false, false, false, false, false, false, false, false, true, true, false, false, false, false, false, false, false, false, false, false]}, {\"title\": \"My organization treasures diverse opinions and ideas.\"}], \"label\": \"Sexual Orientation\", \"method\": \"update\"}, {\"args\": [{\"visible\": [false, false, false, false, false, false, false, false, false, false, false, false, false, false, false, true, true, true, true, true, true, false, false, false, false]}, {\"title\": \"My organization treasures diverse opinions and ideas.\"}], \"label\": \"Tenure\", \"method\": \"update\"}, {\"args\": [{\"visible\": [false, false, false, false, false, false, false, false, false, false, false, false, false, false, false, false, false, false, false, false, false, true, true, true, true]}, {\"title\": \"My organization treasures diverse opinions and ideas.\"}], \"label\": \"Status\", \"method\": \"update\"}], \"type\": \"buttons\"}]},\n",
       "                        {\"responsive\": true}\n",
       "                    ).then(function(){\n",
       "                            \n",
       "var gd = document.getElementById('fba3ddd2-812d-4c08-9b70-078830114f8a');\n",
       "var x = new MutationObserver(function (mutations, observer) {{\n",
       "        var display = window.getComputedStyle(gd).display;\n",
       "        if (!display || display === 'none') {{\n",
       "            console.log([gd, 'removed!']);\n",
       "            Plotly.purge(gd);\n",
       "            observer.disconnect();\n",
       "        }}\n",
       "}});\n",
       "\n",
       "// Listen for the removal of the full notebook cells\n",
       "var notebookContainer = gd.closest('#notebook-container');\n",
       "if (notebookContainer) {{\n",
       "    x.observe(notebookContainer, {childList: true});\n",
       "}}\n",
       "\n",
       "// Listen for the clearing of the current output cell\n",
       "var outputEl = gd.closest('.output');\n",
       "if (outputEl) {{\n",
       "    x.observe(outputEl, {childList: true});\n",
       "}}\n",
       "\n",
       "                        })\n",
       "                };\n",
       "                });\n",
       "            </script>\n",
       "        </div>"
      ]
     },
     "metadata": {},
     "output_type": "display_data"
    }
   ],
   "source": [
    "#defining list_updatemenus\n",
    "list_updatemenus = [{'label': 'Total',\n",
    "                     'method': 'update',\n",
    "                     'args': [{'visible': [True, False, False, False, False, False, False, False, False, False, False, False, False, False, False, False, False, False, False, False, False, False, False, False, False]}, {'title': 'My organization treasures diverse opinions and ideas.'}]},\n",
    "                    {'label': 'Race',\n",
    "                     'method': 'update',\n",
    "                     'args': [{'visible': [False, True, True, True, True, True, True, False, False, False, False, False, False, False, False, False, False, False, False, False, False, False, False, False, False]}, {'title': 'My organization treasures diverse opinions and ideas.'}]},\n",
    "                    {'label': 'Age',\n",
    "                     'method': 'update',\n",
    "                     'args': [{'visible': [False, False, False, False, False, False, False, True, True, True, True, True, True, False, False, False, False, False, False, False, False, False, False, False, False]}, {'title': 'My organization treasures diverse opinions and ideas.'}]},\n",
    "                    {'label': 'Sexual Orientation',\n",
    "                     'method': 'update',\n",
    "                     'args': [{'visible': [False, False, False, False, False, False, False, False, False, False, False, False, False, True, True, False, False, False, False, False, False, False, False, False, False]}, {'title': 'My organization treasures diverse opinions and ideas.'}]},\n",
    "                   {'label': 'Tenure',\n",
    "                     'method': 'update',\n",
    "                     'args': [{'visible': [False, False, False, False, False, False, False, False, False, False, False, False, False, False, False, True, True, True, True, True, True, False, False, False, False]}, {'title': 'My organization treasures diverse opinions and ideas.'}]},\n",
    "                   {'label': 'Status',\n",
    "                     'method': 'update',\n",
    "                     'args': [{'visible': [False, False, False, False, False, False, False, False, False, False, False, False, False, False, False, False, False, False, False, False, False, True, True, True, True]}, {'title': 'My organization treasures diverse opinions and ideas.'}]}\n",
    "                   ]\n",
    "#defining graph objects\n",
    "x_total = dei[\"My organization treasures diverse opinions and ideas.\"]\n",
    "x_white = dei[dei['What is your race? ']==\"White\"][\"My organization treasures diverse opinions and ideas.\"]\n",
    "x_latinx = dei[dei['What is your race? ']==\"Latino/Hispanic\"][\"My organization treasures diverse opinions and ideas.\"]\n",
    "x_black = dei[dei['What is your race? ']==\"Black/ African American\"][\"My organization treasures diverse opinions and ideas.\"]\n",
    "x_two_plus = dei[dei['What is your race? ']==\"Two or more Races\"][\"My organization treasures diverse opinions and ideas.\"]\n",
    "x_asian = dei[dei['What is your race? ']==\"Asian\"][\"My organization treasures diverse opinions and ideas.\"]\n",
    "x_first_peoples = dei[dei['What is your race? ']==\"Indian/ Native American\"][\"My organization treasures diverse opinions and ideas.\"]\n",
    "x_age1 = dei[dei[\"What is your age?\"]==\"25-34\"][\"My organization treasures diverse opinions and ideas.\"]\n",
    "x_age2 = dei[dei[\"What is your age?\"]==\"35-44\"][\"My organization treasures diverse opinions and ideas.\"]\n",
    "x_age3 = dei[dei[\"What is your age?\"]==\"45-54\"][\"My organization treasures diverse opinions and ideas.\"]\n",
    "x_age4 = dei[dei[\"What is your age?\"]==\"55-64\"][\"My organization treasures diverse opinions and ideas.\"]\n",
    "x_age5 = dei[dei[\"What is your age?\"]==\"18-24\"][\"My organization treasures diverse opinions and ideas.\"]\n",
    "x_age6 = dei[dei[\"What is your age?\"]==\"65-74\"][\"My organization treasures diverse opinions and ideas.\"]\n",
    "x_straight = dei[dei[\"What is your sexual orientation?\"]==\"Straight\"][\"My organization treasures diverse opinions and ideas.\"]\n",
    "x_lgbtq = dei[dei[\"What is your sexual orientation?\"]==\"LGBTQ+\"][\"My organization treasures diverse opinions and ideas.\"]\n",
    "x_tenure1 = dei[dei[\"How long have you worked for FC?\"]==\"1-3 years\"][\"My organization treasures diverse opinions and ideas.\"]\n",
    "x_tenure2 = dei[dei[\"How long have you worked for FC?\"]==\"3-5 years\"][\"My organization treasures diverse opinions and ideas.\"]\n",
    "x_tenure3 = dei[dei[\"How long have you worked for FC?\"]==\"Less than a year\"][\"My organization treasures diverse opinions and ideas.\"]\n",
    "x_tenure4 = dei[dei[\"How long have you worked for FC?\"]==\"5-10 years\"][\"My organization treasures diverse opinions and ideas.\"]\n",
    "x_tenure5 = dei[dei[\"How long have you worked for FC?\"]==\"10+ years\"][\"My organization treasures diverse opinions and ideas.\"]\n",
    "x_tenure6 = dei[dei[\"How long have you worked for FC?\"]==\"1 year\"][\"My organization treasures diverse opinions and ideas.\"]\n",
    "x_status1 = dei[dei[\"What is your employment status?\"]==\"Full-time\"][\"My organization treasures diverse opinions and ideas.\"]\n",
    "x_status2 = dei[dei[\"What is your employment status?\"]==\"Part-time\"][\"My organization treasures diverse opinions and ideas.\"]\n",
    "x_status3 = dei[dei[\"What is your employment status?\"]==\"Seasonal\"][\"My organization treasures diverse opinions and ideas.\"]\n",
    "x_status4 = dei[dei[\"What is your employment status?\"]==\"Part-time, Seasonal\"][\"My organization treasures diverse opinions and ideas.\"]\n",
    "#defining data\n",
    "data=[go.Histogram(x=x_total,name='   ',opacity = .5),\n",
    "      go.Histogram(x=x_white,name='White',opacity = .5),\n",
    "      go.Histogram(x=x_latinx,name='Latino/Hispanic',opacity = .5),\n",
    "      go.Histogram(x=x_black,name='Black/African American',opacity = .5),\n",
    "      go.Histogram(x=x_two_plus,name='Two or more Races',opacity = .5),\n",
    "      go.Histogram(x=x_asian,name='Asian',opacity = .5),\n",
    "      go.Histogram(x=x_first_peoples,name='Indian/Native American',opacity = .5),\n",
    "      go.Histogram(x=x_age1,name='25-34', opacity = .5),\n",
    "      go.Histogram(x=x_age2,name='35-44',opacity = .5),\n",
    "      go.Histogram(x=x_age3,name='45-54',opacity = .5),\n",
    "      go.Histogram(x=x_age4,name='55-64',opacity = .5),\n",
    "      go.Histogram(x=x_age5,name='18-24',opacity = .5),\n",
    "      go.Histogram(x=x_age6,name='65-74',opacity = .5),\n",
    "      go.Histogram(x=x_straight,name='Straight',opacity = .5),\n",
    "      go.Histogram(x=x_lgbtq,name='LGBTQ+',opacity = .5),\n",
    "      go.Histogram(x=x_tenure1,name='1-3 years',opacity = .5),\n",
    "      go.Histogram(x=x_tenure2,name='3-5 years',opacity = .5),\n",
    "      go.Histogram(x=x_tenure3,name='< than a year',opacity = .5),\n",
    "      go.Histogram(x=x_tenure4,name='5-10 years',opacity = .5),\n",
    "      go.Histogram(x=x_tenure5,name='10+ years',opacity = .5),\n",
    "      go.Histogram(x=x_tenure6,name='1 year',opacity = .5),\n",
    "      go.Histogram(x=x_status1,name='Full-time',opacity = .5),\n",
    "      go.Histogram(x=x_status2,name='Part-time',opacity = .5),\n",
    "      go.Histogram(x=x_status2,name='Seasonal',opacity = .5),\n",
    "      go.Histogram(x=x_status2,name='Part-time, Seasonal',opacity = .5)\n",
    "     \n",
    "     ]\n",
    "\n",
    "\n",
    "#defining layout\n",
    "layout=go.Layout(title='My organization treasures diverse opinions and ideas.',updatemenus=list([dict(buttons= list_updatemenus,type = 'buttons')]),barmode='stack')\n",
    "\n",
    "#defining layout and plotting\n",
    "fig = go.Figure(data,layout)\n",
    "fig.show()"
   ]
  },
  {
   "cell_type": "markdown",
   "metadata": {},
   "source": [
    "### My team members appreciate my contributions. "
   ]
  },
  {
   "cell_type": "code",
   "execution_count": 30,
   "metadata": {},
   "outputs": [
    {
     "data": {
      "application/vnd.plotly.v1+json": {
       "config": {
        "plotlyServerURL": "https://plot.ly"
       },
       "data": [
        {
         "name": "   ",
         "opacity": 0.5,
         "type": "histogram",
         "x": [
          4,
          4,
          5,
          5,
          4,
          3,
          3,
          3,
          1,
          5,
          4,
          5,
          3,
          5,
          3,
          5,
          4,
          5,
          4,
          4,
          4,
          5,
          4,
          4,
          4,
          5,
          5,
          5,
          5,
          4,
          4,
          5,
          null,
          5,
          3,
          3,
          4,
          4,
          5,
          3,
          3,
          3,
          3,
          5,
          5,
          3,
          2,
          5,
          5,
          4,
          4,
          2,
          4,
          5,
          5,
          4,
          5,
          5,
          5,
          4,
          4,
          2,
          4,
          4,
          5,
          4,
          4,
          5,
          4,
          4,
          5,
          4,
          4,
          3,
          5,
          4,
          5,
          5,
          4,
          5,
          5,
          5,
          5,
          4,
          5,
          5,
          4,
          5,
          4,
          5,
          5,
          5,
          5,
          4,
          5,
          5,
          4,
          4,
          5,
          4,
          5,
          3,
          3,
          4,
          4,
          5,
          5,
          5,
          5,
          5,
          5,
          5,
          5,
          5,
          5,
          null,
          2,
          5,
          4,
          5,
          5,
          4,
          4,
          4,
          3,
          4,
          5,
          4,
          3,
          4,
          3,
          5,
          4,
          3,
          5,
          5,
          3,
          4,
          4,
          5,
          3,
          5,
          4,
          4,
          5,
          4,
          4,
          4,
          5,
          4,
          4,
          4,
          4,
          4,
          4,
          5,
          4,
          4,
          4,
          4,
          5,
          4,
          5,
          5,
          4,
          4,
          4,
          3,
          3,
          5,
          5,
          5,
          5,
          4,
          5,
          4,
          5,
          4,
          5,
          5,
          5,
          5,
          5,
          4,
          4,
          5,
          4,
          5,
          5,
          5,
          5,
          5,
          5,
          3,
          5,
          5,
          5,
          5,
          3,
          5,
          5,
          5,
          5,
          5,
          2
         ]
        },
        {
         "name": "White",
         "opacity": 0.5,
         "type": "histogram",
         "x": [
          2,
          5,
          4,
          5,
          5,
          4,
          4,
          4,
          3,
          4,
          5,
          4,
          3,
          4,
          3,
          5,
          4,
          3,
          5,
          5,
          3,
          4,
          4,
          5,
          3,
          5,
          4,
          4,
          5,
          4,
          4,
          4,
          5,
          4,
          4,
          4,
          4,
          4,
          4,
          5,
          4,
          4,
          4,
          4,
          5,
          4,
          5,
          5,
          4,
          4,
          4,
          3,
          3,
          5,
          5,
          5,
          5,
          4,
          5,
          4,
          5,
          4,
          5,
          5,
          5,
          5,
          5,
          4,
          4,
          5,
          4,
          5,
          5,
          5,
          5,
          5,
          5,
          3,
          5,
          5,
          5,
          5,
          3,
          5,
          5,
          5
         ]
        },
        {
         "name": "Latino/Hispanic",
         "opacity": 0.5,
         "type": "histogram",
         "x": [
          5,
          null,
          5,
          3,
          3,
          4,
          4,
          5,
          3,
          3,
          3,
          3,
          5,
          5,
          3,
          2,
          5,
          5,
          4,
          4,
          2,
          4,
          5,
          5,
          4,
          5,
          5,
          5,
          4,
          4,
          2,
          4,
          4,
          5,
          4,
          4,
          5,
          4,
          4,
          5,
          4,
          4,
          3,
          5,
          4,
          5,
          5,
          4,
          5,
          5,
          5,
          5,
          4,
          5,
          5,
          4,
          5,
          4,
          5,
          5,
          5,
          5,
          4,
          5,
          5,
          4,
          4,
          5
         ]
        },
        {
         "name": "Black/African American",
         "opacity": 0.5,
         "type": "histogram",
         "x": [
          4,
          3,
          3,
          3,
          1,
          5,
          4,
          5,
          3,
          5,
          3,
          5,
          4,
          5,
          4,
          4,
          4,
          5,
          4,
          4,
          4,
          5,
          5,
          5
         ]
        },
        {
         "name": "Two or more Races",
         "opacity": 0.5,
         "type": "histogram",
         "x": [
          3,
          3,
          4,
          4,
          5,
          5,
          5,
          5,
          5,
          5,
          5,
          5,
          5,
          5,
          null
         ]
        },
        {
         "name": "Asian",
         "opacity": 0.5,
         "type": "histogram",
         "x": [
          4,
          5,
          5
         ]
        },
        {
         "name": "Indian/Native American",
         "opacity": 0.5,
         "type": "histogram",
         "x": [
          4,
          4
         ]
        },
        {
         "name": "25-34",
         "opacity": 0.5,
         "type": "histogram",
         "x": [
          4,
          5,
          3,
          3,
          5,
          3,
          5,
          4,
          5,
          5,
          5,
          5,
          5,
          5,
          5,
          3,
          3,
          5,
          4,
          4,
          4,
          5,
          4,
          4,
          2,
          4,
          4,
          5,
          5,
          3,
          4,
          5,
          4,
          5,
          5,
          4,
          5,
          5,
          5,
          5,
          5,
          4,
          3,
          5,
          5,
          5,
          5,
          5,
          null,
          4,
          5,
          5,
          4,
          3,
          4,
          5,
          3,
          5,
          4,
          5,
          4,
          4,
          5,
          4,
          5,
          4,
          4,
          5,
          5,
          5,
          4,
          3,
          5,
          5,
          5,
          4,
          4,
          5,
          5,
          4,
          5,
          5,
          5,
          3,
          5,
          5
         ]
        },
        {
         "name": "35-44",
         "opacity": 0.5,
         "type": "histogram",
         "x": [
          4,
          5,
          4,
          5,
          4,
          4,
          null,
          3,
          3,
          4,
          3,
          5,
          5,
          5,
          2,
          5,
          5,
          5,
          4,
          4,
          4,
          5,
          5,
          5,
          4,
          5,
          4,
          5,
          3,
          4,
          2,
          5,
          4,
          3,
          4,
          5,
          4,
          4,
          4,
          4,
          4,
          4,
          5,
          5,
          5,
          3,
          5
         ]
        },
        {
         "name": "45-54",
         "opacity": 0.5,
         "type": "histogram",
         "x": [
          4,
          5,
          4,
          4,
          3,
          2,
          4,
          5,
          4,
          4,
          4,
          5,
          4,
          3,
          5,
          3,
          3,
          5,
          4,
          4,
          4,
          4,
          3,
          4,
          5,
          5,
          5,
          5
         ]
        },
        {
         "name": "55-64",
         "opacity": 0.5,
         "type": "histogram",
         "x": [
          1,
          4,
          3,
          4,
          5,
          3,
          5,
          4,
          5,
          4,
          5,
          4,
          5,
          4,
          4,
          5,
          5,
          4,
          4,
          5,
          5,
          5,
          5,
          5,
          2
         ]
        },
        {
         "name": "18-24",
         "opacity": 0.5,
         "type": "histogram",
         "x": [
          5,
          4,
          5,
          5,
          5,
          4,
          5,
          5,
          4,
          4,
          5,
          5
         ]
        },
        {
         "name": "65-74",
         "opacity": 0.5,
         "type": "histogram",
         "x": [
          4,
          4,
          4,
          5,
          5,
          4
         ]
        },
        {
         "name": "Straight",
         "opacity": 0.5,
         "type": "histogram",
         "x": [
          5,
          5,
          4,
          3,
          3,
          3,
          1,
          5,
          4,
          5,
          3,
          5,
          3,
          5,
          4,
          5,
          4,
          4,
          5,
          4,
          4,
          5,
          5,
          5,
          5,
          4,
          5,
          3,
          3,
          4,
          4,
          5,
          3,
          3,
          3,
          3,
          5,
          2,
          5,
          4,
          4,
          2,
          4,
          5,
          5,
          4,
          5,
          5,
          5,
          4,
          4,
          4,
          4,
          5,
          4,
          5,
          4,
          4,
          5,
          4,
          4,
          3,
          5,
          4,
          5,
          4,
          5,
          4,
          5,
          5,
          4,
          5,
          4,
          5,
          5,
          5,
          5,
          4,
          5,
          5,
          4,
          4,
          5,
          4,
          5,
          3,
          4,
          4,
          5,
          5,
          5,
          5,
          5,
          5,
          5,
          5,
          5,
          null,
          2,
          5,
          4,
          5,
          4,
          3,
          5,
          3,
          4,
          3,
          4,
          3,
          5,
          5,
          4,
          5,
          3,
          5,
          4,
          4,
          5,
          4,
          4,
          5,
          4,
          4,
          4,
          4,
          4,
          5,
          5,
          4,
          3,
          3,
          5,
          5,
          5,
          5,
          4,
          5,
          4,
          5,
          5,
          4,
          4,
          5,
          4,
          5,
          5,
          5,
          5,
          5,
          3,
          5,
          5,
          5,
          5,
          3,
          5,
          5,
          5,
          5,
          2
         ]
        },
        {
         "name": "LGBTQ+",
         "opacity": 0.5,
         "type": "histogram",
         "x": [
          4,
          4,
          5,
          5,
          3,
          5,
          2,
          4,
          5,
          5,
          5,
          3,
          5,
          5,
          4,
          4,
          4,
          4,
          5,
          4,
          4,
          4,
          4,
          4,
          5,
          4,
          4,
          5,
          4,
          4,
          4,
          5,
          5,
          5,
          5
         ]
        },
        {
         "name": "1-3 years",
         "opacity": 0.5,
         "type": "histogram",
         "x": [
          4,
          4,
          5,
          5,
          4,
          3,
          1,
          5,
          3,
          3,
          4,
          4,
          4,
          5,
          5,
          5,
          3,
          3,
          4,
          3,
          3,
          4,
          4,
          5,
          4,
          2,
          4,
          5,
          4,
          5,
          4,
          5,
          5,
          5,
          4,
          5,
          5,
          4,
          5,
          5,
          5,
          4,
          5,
          3,
          4,
          5,
          4,
          3,
          5,
          3,
          5,
          5,
          4,
          4,
          4,
          4,
          4,
          4,
          4,
          4,
          3,
          5,
          4,
          5,
          5,
          5,
          5,
          3,
          5,
          2
         ]
        },
        {
         "name": "3-5 years",
         "opacity": 0.5,
         "type": "histogram",
         "x": [
          3,
          3,
          4,
          4,
          5,
          4,
          null,
          3,
          3,
          5,
          4,
          5,
          4,
          5,
          4,
          4,
          5,
          5,
          5,
          3,
          2,
          5,
          5,
          4,
          5,
          4,
          5,
          4,
          5,
          5,
          5,
          3,
          5,
          5,
          5,
          4,
          5,
          4,
          5,
          5
         ]
        },
        {
         "name": "< than a year",
         "opacity": 0.5,
         "type": "histogram",
         "x": [
          5,
          2,
          4,
          5,
          5,
          5,
          5,
          5,
          5,
          5,
          5,
          5,
          5,
          5,
          null,
          4,
          3,
          5,
          4,
          4,
          5,
          4,
          5,
          4,
          5,
          5,
          5,
          5,
          5,
          5,
          3,
          5
         ]
        },
        {
         "name": "5-10 years",
         "opacity": 0.5,
         "type": "histogram",
         "x": [
          5,
          5,
          4,
          5,
          5,
          4,
          5,
          5,
          4,
          4,
          5,
          5,
          5,
          4,
          3,
          4,
          3,
          5,
          4,
          4,
          4,
          3,
          4,
          4,
          4,
          4,
          4,
          5
         ]
        },
        {
         "name": "10+ years",
         "opacity": 0.5,
         "type": "histogram",
         "x": [
          4,
          4,
          5,
          3,
          2,
          5,
          4,
          4,
          4,
          5,
          4,
          5,
          4,
          4,
          4,
          4,
          4,
          4,
          5,
          5,
          4,
          5,
          5
         ]
        },
        {
         "name": "1 year",
         "opacity": 0.5,
         "type": "histogram",
         "x": [
          5,
          4,
          5,
          5,
          4,
          4,
          5,
          5,
          3,
          5,
          5
         ]
        },
        {
         "name": "Full-time",
         "opacity": 0.5,
         "type": "histogram",
         "x": [
          4,
          4,
          4,
          3,
          3,
          3,
          1,
          5,
          4,
          5,
          3,
          5,
          3,
          5,
          4,
          5,
          4,
          4,
          5,
          4,
          4,
          4,
          5,
          5,
          5,
          5,
          4,
          4,
          5,
          null,
          5,
          3,
          3,
          4,
          4,
          5,
          3,
          3,
          3,
          3,
          5,
          5,
          3,
          2,
          5,
          5,
          4,
          4,
          2,
          4,
          5,
          5,
          4,
          5,
          5,
          5,
          4,
          2,
          4,
          4,
          5,
          4,
          4,
          5,
          4,
          4,
          5,
          4,
          4,
          3,
          5,
          4,
          5,
          5,
          4,
          5,
          5,
          4,
          5,
          4,
          5,
          4,
          5,
          5,
          5,
          4,
          5,
          4,
          4,
          5,
          4,
          5,
          3,
          3,
          4,
          4,
          5,
          5,
          5,
          5,
          5,
          5,
          5,
          5,
          null,
          2,
          5,
          4,
          5,
          5,
          4,
          4,
          4,
          3,
          4,
          5,
          4,
          3,
          4,
          3,
          5,
          4,
          3,
          5,
          5,
          3,
          4,
          4,
          3,
          5,
          4,
          4,
          5,
          4,
          4,
          4,
          5,
          4,
          4,
          4,
          4,
          4,
          5,
          4,
          4,
          4,
          4,
          5,
          5,
          5,
          4,
          4,
          3,
          3,
          5,
          5,
          4,
          5,
          4,
          5,
          4,
          5,
          5,
          5,
          4,
          4,
          5,
          4,
          5,
          5,
          5,
          5,
          5,
          5,
          3,
          5,
          5,
          5,
          5,
          2
         ]
        },
        {
         "name": "Part-time",
         "opacity": 0.5,
         "type": "histogram",
         "x": [
          5,
          5,
          4,
          5,
          5,
          5,
          5,
          5,
          5,
          4,
          4,
          5,
          5,
          5,
          5,
          3,
          5,
          5,
          5
         ]
        },
        {
         "name": "Seasonal",
         "opacity": 0.5,
         "type": "histogram",
         "x": [
          5,
          5,
          4,
          5,
          5,
          5,
          5,
          5,
          5,
          4,
          4,
          5,
          5,
          5,
          5,
          3,
          5,
          5,
          5
         ]
        },
        {
         "name": "Part-time, Seasonal",
         "opacity": 0.5,
         "type": "histogram",
         "x": [
          5,
          5,
          4,
          5,
          5,
          5,
          5,
          5,
          5,
          4,
          4,
          5,
          5,
          5,
          5,
          3,
          5,
          5,
          5
         ]
        }
       ],
       "layout": {
        "barmode": "stack",
        "template": {
         "data": {
          "bar": [
           {
            "error_x": {
             "color": "#2a3f5f"
            },
            "error_y": {
             "color": "#2a3f5f"
            },
            "marker": {
             "line": {
              "color": "#E5ECF6",
              "width": 0.5
             }
            },
            "type": "bar"
           }
          ],
          "barpolar": [
           {
            "marker": {
             "line": {
              "color": "#E5ECF6",
              "width": 0.5
             }
            },
            "type": "barpolar"
           }
          ],
          "carpet": [
           {
            "aaxis": {
             "endlinecolor": "#2a3f5f",
             "gridcolor": "white",
             "linecolor": "white",
             "minorgridcolor": "white",
             "startlinecolor": "#2a3f5f"
            },
            "baxis": {
             "endlinecolor": "#2a3f5f",
             "gridcolor": "white",
             "linecolor": "white",
             "minorgridcolor": "white",
             "startlinecolor": "#2a3f5f"
            },
            "type": "carpet"
           }
          ],
          "choropleth": [
           {
            "colorbar": {
             "outlinewidth": 0,
             "ticks": ""
            },
            "type": "choropleth"
           }
          ],
          "contour": [
           {
            "colorbar": {
             "outlinewidth": 0,
             "ticks": ""
            },
            "colorscale": [
             [
              0,
              "#0d0887"
             ],
             [
              0.1111111111111111,
              "#46039f"
             ],
             [
              0.2222222222222222,
              "#7201a8"
             ],
             [
              0.3333333333333333,
              "#9c179e"
             ],
             [
              0.4444444444444444,
              "#bd3786"
             ],
             [
              0.5555555555555556,
              "#d8576b"
             ],
             [
              0.6666666666666666,
              "#ed7953"
             ],
             [
              0.7777777777777778,
              "#fb9f3a"
             ],
             [
              0.8888888888888888,
              "#fdca26"
             ],
             [
              1,
              "#f0f921"
             ]
            ],
            "type": "contour"
           }
          ],
          "contourcarpet": [
           {
            "colorbar": {
             "outlinewidth": 0,
             "ticks": ""
            },
            "type": "contourcarpet"
           }
          ],
          "heatmap": [
           {
            "colorbar": {
             "outlinewidth": 0,
             "ticks": ""
            },
            "colorscale": [
             [
              0,
              "#0d0887"
             ],
             [
              0.1111111111111111,
              "#46039f"
             ],
             [
              0.2222222222222222,
              "#7201a8"
             ],
             [
              0.3333333333333333,
              "#9c179e"
             ],
             [
              0.4444444444444444,
              "#bd3786"
             ],
             [
              0.5555555555555556,
              "#d8576b"
             ],
             [
              0.6666666666666666,
              "#ed7953"
             ],
             [
              0.7777777777777778,
              "#fb9f3a"
             ],
             [
              0.8888888888888888,
              "#fdca26"
             ],
             [
              1,
              "#f0f921"
             ]
            ],
            "type": "heatmap"
           }
          ],
          "heatmapgl": [
           {
            "colorbar": {
             "outlinewidth": 0,
             "ticks": ""
            },
            "colorscale": [
             [
              0,
              "#0d0887"
             ],
             [
              0.1111111111111111,
              "#46039f"
             ],
             [
              0.2222222222222222,
              "#7201a8"
             ],
             [
              0.3333333333333333,
              "#9c179e"
             ],
             [
              0.4444444444444444,
              "#bd3786"
             ],
             [
              0.5555555555555556,
              "#d8576b"
             ],
             [
              0.6666666666666666,
              "#ed7953"
             ],
             [
              0.7777777777777778,
              "#fb9f3a"
             ],
             [
              0.8888888888888888,
              "#fdca26"
             ],
             [
              1,
              "#f0f921"
             ]
            ],
            "type": "heatmapgl"
           }
          ],
          "histogram": [
           {
            "marker": {
             "colorbar": {
              "outlinewidth": 0,
              "ticks": ""
             }
            },
            "type": "histogram"
           }
          ],
          "histogram2d": [
           {
            "colorbar": {
             "outlinewidth": 0,
             "ticks": ""
            },
            "colorscale": [
             [
              0,
              "#0d0887"
             ],
             [
              0.1111111111111111,
              "#46039f"
             ],
             [
              0.2222222222222222,
              "#7201a8"
             ],
             [
              0.3333333333333333,
              "#9c179e"
             ],
             [
              0.4444444444444444,
              "#bd3786"
             ],
             [
              0.5555555555555556,
              "#d8576b"
             ],
             [
              0.6666666666666666,
              "#ed7953"
             ],
             [
              0.7777777777777778,
              "#fb9f3a"
             ],
             [
              0.8888888888888888,
              "#fdca26"
             ],
             [
              1,
              "#f0f921"
             ]
            ],
            "type": "histogram2d"
           }
          ],
          "histogram2dcontour": [
           {
            "colorbar": {
             "outlinewidth": 0,
             "ticks": ""
            },
            "colorscale": [
             [
              0,
              "#0d0887"
             ],
             [
              0.1111111111111111,
              "#46039f"
             ],
             [
              0.2222222222222222,
              "#7201a8"
             ],
             [
              0.3333333333333333,
              "#9c179e"
             ],
             [
              0.4444444444444444,
              "#bd3786"
             ],
             [
              0.5555555555555556,
              "#d8576b"
             ],
             [
              0.6666666666666666,
              "#ed7953"
             ],
             [
              0.7777777777777778,
              "#fb9f3a"
             ],
             [
              0.8888888888888888,
              "#fdca26"
             ],
             [
              1,
              "#f0f921"
             ]
            ],
            "type": "histogram2dcontour"
           }
          ],
          "mesh3d": [
           {
            "colorbar": {
             "outlinewidth": 0,
             "ticks": ""
            },
            "type": "mesh3d"
           }
          ],
          "parcoords": [
           {
            "line": {
             "colorbar": {
              "outlinewidth": 0,
              "ticks": ""
             }
            },
            "type": "parcoords"
           }
          ],
          "pie": [
           {
            "automargin": true,
            "type": "pie"
           }
          ],
          "scatter": [
           {
            "marker": {
             "colorbar": {
              "outlinewidth": 0,
              "ticks": ""
             }
            },
            "type": "scatter"
           }
          ],
          "scatter3d": [
           {
            "line": {
             "colorbar": {
              "outlinewidth": 0,
              "ticks": ""
             }
            },
            "marker": {
             "colorbar": {
              "outlinewidth": 0,
              "ticks": ""
             }
            },
            "type": "scatter3d"
           }
          ],
          "scattercarpet": [
           {
            "marker": {
             "colorbar": {
              "outlinewidth": 0,
              "ticks": ""
             }
            },
            "type": "scattercarpet"
           }
          ],
          "scattergeo": [
           {
            "marker": {
             "colorbar": {
              "outlinewidth": 0,
              "ticks": ""
             }
            },
            "type": "scattergeo"
           }
          ],
          "scattergl": [
           {
            "marker": {
             "colorbar": {
              "outlinewidth": 0,
              "ticks": ""
             }
            },
            "type": "scattergl"
           }
          ],
          "scattermapbox": [
           {
            "marker": {
             "colorbar": {
              "outlinewidth": 0,
              "ticks": ""
             }
            },
            "type": "scattermapbox"
           }
          ],
          "scatterpolar": [
           {
            "marker": {
             "colorbar": {
              "outlinewidth": 0,
              "ticks": ""
             }
            },
            "type": "scatterpolar"
           }
          ],
          "scatterpolargl": [
           {
            "marker": {
             "colorbar": {
              "outlinewidth": 0,
              "ticks": ""
             }
            },
            "type": "scatterpolargl"
           }
          ],
          "scatterternary": [
           {
            "marker": {
             "colorbar": {
              "outlinewidth": 0,
              "ticks": ""
             }
            },
            "type": "scatterternary"
           }
          ],
          "surface": [
           {
            "colorbar": {
             "outlinewidth": 0,
             "ticks": ""
            },
            "colorscale": [
             [
              0,
              "#0d0887"
             ],
             [
              0.1111111111111111,
              "#46039f"
             ],
             [
              0.2222222222222222,
              "#7201a8"
             ],
             [
              0.3333333333333333,
              "#9c179e"
             ],
             [
              0.4444444444444444,
              "#bd3786"
             ],
             [
              0.5555555555555556,
              "#d8576b"
             ],
             [
              0.6666666666666666,
              "#ed7953"
             ],
             [
              0.7777777777777778,
              "#fb9f3a"
             ],
             [
              0.8888888888888888,
              "#fdca26"
             ],
             [
              1,
              "#f0f921"
             ]
            ],
            "type": "surface"
           }
          ],
          "table": [
           {
            "cells": {
             "fill": {
              "color": "#EBF0F8"
             },
             "line": {
              "color": "white"
             }
            },
            "header": {
             "fill": {
              "color": "#C8D4E3"
             },
             "line": {
              "color": "white"
             }
            },
            "type": "table"
           }
          ]
         },
         "layout": {
          "annotationdefaults": {
           "arrowcolor": "#2a3f5f",
           "arrowhead": 0,
           "arrowwidth": 1
          },
          "coloraxis": {
           "colorbar": {
            "outlinewidth": 0,
            "ticks": ""
           }
          },
          "colorscale": {
           "diverging": [
            [
             0,
             "#8e0152"
            ],
            [
             0.1,
             "#c51b7d"
            ],
            [
             0.2,
             "#de77ae"
            ],
            [
             0.3,
             "#f1b6da"
            ],
            [
             0.4,
             "#fde0ef"
            ],
            [
             0.5,
             "#f7f7f7"
            ],
            [
             0.6,
             "#e6f5d0"
            ],
            [
             0.7,
             "#b8e186"
            ],
            [
             0.8,
             "#7fbc41"
            ],
            [
             0.9,
             "#4d9221"
            ],
            [
             1,
             "#276419"
            ]
           ],
           "sequential": [
            [
             0,
             "#0d0887"
            ],
            [
             0.1111111111111111,
             "#46039f"
            ],
            [
             0.2222222222222222,
             "#7201a8"
            ],
            [
             0.3333333333333333,
             "#9c179e"
            ],
            [
             0.4444444444444444,
             "#bd3786"
            ],
            [
             0.5555555555555556,
             "#d8576b"
            ],
            [
             0.6666666666666666,
             "#ed7953"
            ],
            [
             0.7777777777777778,
             "#fb9f3a"
            ],
            [
             0.8888888888888888,
             "#fdca26"
            ],
            [
             1,
             "#f0f921"
            ]
           ],
           "sequentialminus": [
            [
             0,
             "#0d0887"
            ],
            [
             0.1111111111111111,
             "#46039f"
            ],
            [
             0.2222222222222222,
             "#7201a8"
            ],
            [
             0.3333333333333333,
             "#9c179e"
            ],
            [
             0.4444444444444444,
             "#bd3786"
            ],
            [
             0.5555555555555556,
             "#d8576b"
            ],
            [
             0.6666666666666666,
             "#ed7953"
            ],
            [
             0.7777777777777778,
             "#fb9f3a"
            ],
            [
             0.8888888888888888,
             "#fdca26"
            ],
            [
             1,
             "#f0f921"
            ]
           ]
          },
          "colorway": [
           "#636efa",
           "#EF553B",
           "#00cc96",
           "#ab63fa",
           "#FFA15A",
           "#19d3f3",
           "#FF6692",
           "#B6E880",
           "#FF97FF",
           "#FECB52"
          ],
          "font": {
           "color": "#2a3f5f"
          },
          "geo": {
           "bgcolor": "white",
           "lakecolor": "white",
           "landcolor": "#E5ECF6",
           "showlakes": true,
           "showland": true,
           "subunitcolor": "white"
          },
          "hoverlabel": {
           "align": "left"
          },
          "hovermode": "closest",
          "mapbox": {
           "style": "light"
          },
          "paper_bgcolor": "white",
          "plot_bgcolor": "#E5ECF6",
          "polar": {
           "angularaxis": {
            "gridcolor": "white",
            "linecolor": "white",
            "ticks": ""
           },
           "bgcolor": "#E5ECF6",
           "radialaxis": {
            "gridcolor": "white",
            "linecolor": "white",
            "ticks": ""
           }
          },
          "scene": {
           "xaxis": {
            "backgroundcolor": "#E5ECF6",
            "gridcolor": "white",
            "gridwidth": 2,
            "linecolor": "white",
            "showbackground": true,
            "ticks": "",
            "zerolinecolor": "white"
           },
           "yaxis": {
            "backgroundcolor": "#E5ECF6",
            "gridcolor": "white",
            "gridwidth": 2,
            "linecolor": "white",
            "showbackground": true,
            "ticks": "",
            "zerolinecolor": "white"
           },
           "zaxis": {
            "backgroundcolor": "#E5ECF6",
            "gridcolor": "white",
            "gridwidth": 2,
            "linecolor": "white",
            "showbackground": true,
            "ticks": "",
            "zerolinecolor": "white"
           }
          },
          "shapedefaults": {
           "line": {
            "color": "#2a3f5f"
           }
          },
          "ternary": {
           "aaxis": {
            "gridcolor": "white",
            "linecolor": "white",
            "ticks": ""
           },
           "baxis": {
            "gridcolor": "white",
            "linecolor": "white",
            "ticks": ""
           },
           "bgcolor": "#E5ECF6",
           "caxis": {
            "gridcolor": "white",
            "linecolor": "white",
            "ticks": ""
           }
          },
          "title": {
           "x": 0.05
          },
          "xaxis": {
           "automargin": true,
           "gridcolor": "white",
           "linecolor": "white",
           "ticks": "",
           "title": {
            "standoff": 15
           },
           "zerolinecolor": "white",
           "zerolinewidth": 2
          },
          "yaxis": {
           "automargin": true,
           "gridcolor": "white",
           "linecolor": "white",
           "ticks": "",
           "title": {
            "standoff": 15
           },
           "zerolinecolor": "white",
           "zerolinewidth": 2
          }
         }
        },
        "title": {
         "text": "My team members appreciate my contributions."
        },
        "updatemenus": [
         {
          "buttons": [
           {
            "args": [
             {
              "visible": [
               true,
               false,
               false,
               false,
               false,
               false,
               false,
               false,
               false,
               false,
               false,
               false,
               false,
               false,
               false,
               false,
               false,
               false,
               false,
               false,
               false,
               false,
               false,
               false,
               false
              ]
             },
             {
              "title": "My team members appreciate my contributions."
             }
            ],
            "label": "Total",
            "method": "update"
           },
           {
            "args": [
             {
              "visible": [
               false,
               true,
               true,
               true,
               true,
               true,
               true,
               false,
               false,
               false,
               false,
               false,
               false,
               false,
               false,
               false,
               false,
               false,
               false,
               false,
               false,
               false,
               false,
               false,
               false
              ]
             },
             {
              "title": "My team members appreciate my contributions."
             }
            ],
            "label": "Race",
            "method": "update"
           },
           {
            "args": [
             {
              "visible": [
               false,
               false,
               false,
               false,
               false,
               false,
               false,
               true,
               true,
               true,
               true,
               true,
               true,
               false,
               false,
               false,
               false,
               false,
               false,
               false,
               false,
               false,
               false,
               false,
               false
              ]
             },
             {
              "title": "My team members appreciate my contributions."
             }
            ],
            "label": "Age",
            "method": "update"
           },
           {
            "args": [
             {
              "visible": [
               false,
               false,
               false,
               false,
               false,
               false,
               false,
               false,
               false,
               false,
               false,
               false,
               false,
               true,
               true,
               false,
               false,
               false,
               false,
               false,
               false,
               false,
               false,
               false,
               false
              ]
             },
             {
              "title": "My team members appreciate my contributions."
             }
            ],
            "label": "Sexual Orientation",
            "method": "update"
           },
           {
            "args": [
             {
              "visible": [
               false,
               false,
               false,
               false,
               false,
               false,
               false,
               false,
               false,
               false,
               false,
               false,
               false,
               false,
               false,
               true,
               true,
               true,
               true,
               true,
               true,
               false,
               false,
               false,
               false
              ]
             },
             {
              "title": "My team members appreciate my contributions."
             }
            ],
            "label": "Tenure",
            "method": "update"
           },
           {
            "args": [
             {
              "visible": [
               false,
               false,
               false,
               false,
               false,
               false,
               false,
               false,
               false,
               false,
               false,
               false,
               false,
               false,
               false,
               false,
               false,
               false,
               false,
               false,
               false,
               true,
               true,
               true,
               true
              ]
             },
             {
              "title": "My team members appreciate my contributions."
             }
            ],
            "label": "Status",
            "method": "update"
           }
          ],
          "type": "buttons"
         }
        ]
       }
      },
      "text/html": [
       "<div>\n",
       "        \n",
       "        \n",
       "            <div id=\"3434cf14-e01e-4fb6-93d9-df084fa0ced9\" class=\"plotly-graph-div\" style=\"height:525px; width:100%;\"></div>\n",
       "            <script type=\"text/javascript\">\n",
       "                require([\"plotly\"], function(Plotly) {\n",
       "                    window.PLOTLYENV=window.PLOTLYENV || {};\n",
       "                    \n",
       "                if (document.getElementById(\"3434cf14-e01e-4fb6-93d9-df084fa0ced9\")) {\n",
       "                    Plotly.newPlot(\n",
       "                        '3434cf14-e01e-4fb6-93d9-df084fa0ced9',\n",
       "                        [{\"name\": \"   \", \"opacity\": 0.5, \"type\": \"histogram\", \"x\": [4.0, 4.0, 5.0, 5.0, 4.0, 3.0, 3.0, 3.0, 1.0, 5.0, 4.0, 5.0, 3.0, 5.0, 3.0, 5.0, 4.0, 5.0, 4.0, 4.0, 4.0, 5.0, 4.0, 4.0, 4.0, 5.0, 5.0, 5.0, 5.0, 4.0, 4.0, 5.0, null, 5.0, 3.0, 3.0, 4.0, 4.0, 5.0, 3.0, 3.0, 3.0, 3.0, 5.0, 5.0, 3.0, 2.0, 5.0, 5.0, 4.0, 4.0, 2.0, 4.0, 5.0, 5.0, 4.0, 5.0, 5.0, 5.0, 4.0, 4.0, 2.0, 4.0, 4.0, 5.0, 4.0, 4.0, 5.0, 4.0, 4.0, 5.0, 4.0, 4.0, 3.0, 5.0, 4.0, 5.0, 5.0, 4.0, 5.0, 5.0, 5.0, 5.0, 4.0, 5.0, 5.0, 4.0, 5.0, 4.0, 5.0, 5.0, 5.0, 5.0, 4.0, 5.0, 5.0, 4.0, 4.0, 5.0, 4.0, 5.0, 3.0, 3.0, 4.0, 4.0, 5.0, 5.0, 5.0, 5.0, 5.0, 5.0, 5.0, 5.0, 5.0, 5.0, null, 2.0, 5.0, 4.0, 5.0, 5.0, 4.0, 4.0, 4.0, 3.0, 4.0, 5.0, 4.0, 3.0, 4.0, 3.0, 5.0, 4.0, 3.0, 5.0, 5.0, 3.0, 4.0, 4.0, 5.0, 3.0, 5.0, 4.0, 4.0, 5.0, 4.0, 4.0, 4.0, 5.0, 4.0, 4.0, 4.0, 4.0, 4.0, 4.0, 5.0, 4.0, 4.0, 4.0, 4.0, 5.0, 4.0, 5.0, 5.0, 4.0, 4.0, 4.0, 3.0, 3.0, 5.0, 5.0, 5.0, 5.0, 4.0, 5.0, 4.0, 5.0, 4.0, 5.0, 5.0, 5.0, 5.0, 5.0, 4.0, 4.0, 5.0, 4.0, 5.0, 5.0, 5.0, 5.0, 5.0, 5.0, 3.0, 5.0, 5.0, 5.0, 5.0, 3.0, 5.0, 5.0, 5.0, 5.0, 5.0, 2.0]}, {\"name\": \"White\", \"opacity\": 0.5, \"type\": \"histogram\", \"x\": [2.0, 5.0, 4.0, 5.0, 5.0, 4.0, 4.0, 4.0, 3.0, 4.0, 5.0, 4.0, 3.0, 4.0, 3.0, 5.0, 4.0, 3.0, 5.0, 5.0, 3.0, 4.0, 4.0, 5.0, 3.0, 5.0, 4.0, 4.0, 5.0, 4.0, 4.0, 4.0, 5.0, 4.0, 4.0, 4.0, 4.0, 4.0, 4.0, 5.0, 4.0, 4.0, 4.0, 4.0, 5.0, 4.0, 5.0, 5.0, 4.0, 4.0, 4.0, 3.0, 3.0, 5.0, 5.0, 5.0, 5.0, 4.0, 5.0, 4.0, 5.0, 4.0, 5.0, 5.0, 5.0, 5.0, 5.0, 4.0, 4.0, 5.0, 4.0, 5.0, 5.0, 5.0, 5.0, 5.0, 5.0, 3.0, 5.0, 5.0, 5.0, 5.0, 3.0, 5.0, 5.0, 5.0]}, {\"name\": \"Latino/Hispanic\", \"opacity\": 0.5, \"type\": \"histogram\", \"x\": [5.0, null, 5.0, 3.0, 3.0, 4.0, 4.0, 5.0, 3.0, 3.0, 3.0, 3.0, 5.0, 5.0, 3.0, 2.0, 5.0, 5.0, 4.0, 4.0, 2.0, 4.0, 5.0, 5.0, 4.0, 5.0, 5.0, 5.0, 4.0, 4.0, 2.0, 4.0, 4.0, 5.0, 4.0, 4.0, 5.0, 4.0, 4.0, 5.0, 4.0, 4.0, 3.0, 5.0, 4.0, 5.0, 5.0, 4.0, 5.0, 5.0, 5.0, 5.0, 4.0, 5.0, 5.0, 4.0, 5.0, 4.0, 5.0, 5.0, 5.0, 5.0, 4.0, 5.0, 5.0, 4.0, 4.0, 5.0]}, {\"name\": \"Black/African American\", \"opacity\": 0.5, \"type\": \"histogram\", \"x\": [4.0, 3.0, 3.0, 3.0, 1.0, 5.0, 4.0, 5.0, 3.0, 5.0, 3.0, 5.0, 4.0, 5.0, 4.0, 4.0, 4.0, 5.0, 4.0, 4.0, 4.0, 5.0, 5.0, 5.0]}, {\"name\": \"Two or more Races\", \"opacity\": 0.5, \"type\": \"histogram\", \"x\": [3.0, 3.0, 4.0, 4.0, 5.0, 5.0, 5.0, 5.0, 5.0, 5.0, 5.0, 5.0, 5.0, 5.0, null]}, {\"name\": \"Asian\", \"opacity\": 0.5, \"type\": \"histogram\", \"x\": [4.0, 5.0, 5.0]}, {\"name\": \"Indian/Native American\", \"opacity\": 0.5, \"type\": \"histogram\", \"x\": [4.0, 4.0]}, {\"name\": \"25-34\", \"opacity\": 0.5, \"type\": \"histogram\", \"x\": [4.0, 5.0, 3.0, 3.0, 5.0, 3.0, 5.0, 4.0, 5.0, 5.0, 5.0, 5.0, 5.0, 5.0, 5.0, 3.0, 3.0, 5.0, 4.0, 4.0, 4.0, 5.0, 4.0, 4.0, 2.0, 4.0, 4.0, 5.0, 5.0, 3.0, 4.0, 5.0, 4.0, 5.0, 5.0, 4.0, 5.0, 5.0, 5.0, 5.0, 5.0, 4.0, 3.0, 5.0, 5.0, 5.0, 5.0, 5.0, null, 4.0, 5.0, 5.0, 4.0, 3.0, 4.0, 5.0, 3.0, 5.0, 4.0, 5.0, 4.0, 4.0, 5.0, 4.0, 5.0, 4.0, 4.0, 5.0, 5.0, 5.0, 4.0, 3.0, 5.0, 5.0, 5.0, 4.0, 4.0, 5.0, 5.0, 4.0, 5.0, 5.0, 5.0, 3.0, 5.0, 5.0]}, {\"name\": \"35-44\", \"opacity\": 0.5, \"type\": \"histogram\", \"x\": [4.0, 5.0, 4.0, 5.0, 4.0, 4.0, null, 3.0, 3.0, 4.0, 3.0, 5.0, 5.0, 5.0, 2.0, 5.0, 5.0, 5.0, 4.0, 4.0, 4.0, 5.0, 5.0, 5.0, 4.0, 5.0, 4.0, 5.0, 3.0, 4.0, 2.0, 5.0, 4.0, 3.0, 4.0, 5.0, 4.0, 4.0, 4.0, 4.0, 4.0, 4.0, 5.0, 5.0, 5.0, 3.0, 5.0]}, {\"name\": \"45-54\", \"opacity\": 0.5, \"type\": \"histogram\", \"x\": [4.0, 5.0, 4.0, 4.0, 3.0, 2.0, 4.0, 5.0, 4.0, 4.0, 4.0, 5.0, 4.0, 3.0, 5.0, 3.0, 3.0, 5.0, 4.0, 4.0, 4.0, 4.0, 3.0, 4.0, 5.0, 5.0, 5.0, 5.0]}, {\"name\": \"55-64\", \"opacity\": 0.5, \"type\": \"histogram\", \"x\": [1.0, 4.0, 3.0, 4.0, 5.0, 3.0, 5.0, 4.0, 5.0, 4.0, 5.0, 4.0, 5.0, 4.0, 4.0, 5.0, 5.0, 4.0, 4.0, 5.0, 5.0, 5.0, 5.0, 5.0, 2.0]}, {\"name\": \"18-24\", \"opacity\": 0.5, \"type\": \"histogram\", \"x\": [5.0, 4.0, 5.0, 5.0, 5.0, 4.0, 5.0, 5.0, 4.0, 4.0, 5.0, 5.0]}, {\"name\": \"65-74\", \"opacity\": 0.5, \"type\": \"histogram\", \"x\": [4.0, 4.0, 4.0, 5.0, 5.0, 4.0]}, {\"name\": \"Straight\", \"opacity\": 0.5, \"type\": \"histogram\", \"x\": [5.0, 5.0, 4.0, 3.0, 3.0, 3.0, 1.0, 5.0, 4.0, 5.0, 3.0, 5.0, 3.0, 5.0, 4.0, 5.0, 4.0, 4.0, 5.0, 4.0, 4.0, 5.0, 5.0, 5.0, 5.0, 4.0, 5.0, 3.0, 3.0, 4.0, 4.0, 5.0, 3.0, 3.0, 3.0, 3.0, 5.0, 2.0, 5.0, 4.0, 4.0, 2.0, 4.0, 5.0, 5.0, 4.0, 5.0, 5.0, 5.0, 4.0, 4.0, 4.0, 4.0, 5.0, 4.0, 5.0, 4.0, 4.0, 5.0, 4.0, 4.0, 3.0, 5.0, 4.0, 5.0, 4.0, 5.0, 4.0, 5.0, 5.0, 4.0, 5.0, 4.0, 5.0, 5.0, 5.0, 5.0, 4.0, 5.0, 5.0, 4.0, 4.0, 5.0, 4.0, 5.0, 3.0, 4.0, 4.0, 5.0, 5.0, 5.0, 5.0, 5.0, 5.0, 5.0, 5.0, 5.0, null, 2.0, 5.0, 4.0, 5.0, 4.0, 3.0, 5.0, 3.0, 4.0, 3.0, 4.0, 3.0, 5.0, 5.0, 4.0, 5.0, 3.0, 5.0, 4.0, 4.0, 5.0, 4.0, 4.0, 5.0, 4.0, 4.0, 4.0, 4.0, 4.0, 5.0, 5.0, 4.0, 3.0, 3.0, 5.0, 5.0, 5.0, 5.0, 4.0, 5.0, 4.0, 5.0, 5.0, 4.0, 4.0, 5.0, 4.0, 5.0, 5.0, 5.0, 5.0, 5.0, 3.0, 5.0, 5.0, 5.0, 5.0, 3.0, 5.0, 5.0, 5.0, 5.0, 2.0]}, {\"name\": \"LGBTQ+\", \"opacity\": 0.5, \"type\": \"histogram\", \"x\": [4.0, 4.0, 5.0, 5.0, 3.0, 5.0, 2.0, 4.0, 5.0, 5.0, 5.0, 3.0, 5.0, 5.0, 4.0, 4.0, 4.0, 4.0, 5.0, 4.0, 4.0, 4.0, 4.0, 4.0, 5.0, 4.0, 4.0, 5.0, 4.0, 4.0, 4.0, 5.0, 5.0, 5.0, 5.0]}, {\"name\": \"1-3 years\", \"opacity\": 0.5, \"type\": \"histogram\", \"x\": [4.0, 4.0, 5.0, 5.0, 4.0, 3.0, 1.0, 5.0, 3.0, 3.0, 4.0, 4.0, 4.0, 5.0, 5.0, 5.0, 3.0, 3.0, 4.0, 3.0, 3.0, 4.0, 4.0, 5.0, 4.0, 2.0, 4.0, 5.0, 4.0, 5.0, 4.0, 5.0, 5.0, 5.0, 4.0, 5.0, 5.0, 4.0, 5.0, 5.0, 5.0, 4.0, 5.0, 3.0, 4.0, 5.0, 4.0, 3.0, 5.0, 3.0, 5.0, 5.0, 4.0, 4.0, 4.0, 4.0, 4.0, 4.0, 4.0, 4.0, 3.0, 5.0, 4.0, 5.0, 5.0, 5.0, 5.0, 3.0, 5.0, 2.0]}, {\"name\": \"3-5 years\", \"opacity\": 0.5, \"type\": \"histogram\", \"x\": [3.0, 3.0, 4.0, 4.0, 5.0, 4.0, null, 3.0, 3.0, 5.0, 4.0, 5.0, 4.0, 5.0, 4.0, 4.0, 5.0, 5.0, 5.0, 3.0, 2.0, 5.0, 5.0, 4.0, 5.0, 4.0, 5.0, 4.0, 5.0, 5.0, 5.0, 3.0, 5.0, 5.0, 5.0, 4.0, 5.0, 4.0, 5.0, 5.0]}, {\"name\": \"< than a year\", \"opacity\": 0.5, \"type\": \"histogram\", \"x\": [5.0, 2.0, 4.0, 5.0, 5.0, 5.0, 5.0, 5.0, 5.0, 5.0, 5.0, 5.0, 5.0, 5.0, null, 4.0, 3.0, 5.0, 4.0, 4.0, 5.0, 4.0, 5.0, 4.0, 5.0, 5.0, 5.0, 5.0, 5.0, 5.0, 3.0, 5.0]}, {\"name\": \"5-10 years\", \"opacity\": 0.5, \"type\": \"histogram\", \"x\": [5.0, 5.0, 4.0, 5.0, 5.0, 4.0, 5.0, 5.0, 4.0, 4.0, 5.0, 5.0, 5.0, 4.0, 3.0, 4.0, 3.0, 5.0, 4.0, 4.0, 4.0, 3.0, 4.0, 4.0, 4.0, 4.0, 4.0, 5.0]}, {\"name\": \"10+ years\", \"opacity\": 0.5, \"type\": \"histogram\", \"x\": [4.0, 4.0, 5.0, 3.0, 2.0, 5.0, 4.0, 4.0, 4.0, 5.0, 4.0, 5.0, 4.0, 4.0, 4.0, 4.0, 4.0, 4.0, 5.0, 5.0, 4.0, 5.0, 5.0]}, {\"name\": \"1 year\", \"opacity\": 0.5, \"type\": \"histogram\", \"x\": [5.0, 4.0, 5.0, 5.0, 4.0, 4.0, 5.0, 5.0, 3.0, 5.0, 5.0]}, {\"name\": \"Full-time\", \"opacity\": 0.5, \"type\": \"histogram\", \"x\": [4.0, 4.0, 4.0, 3.0, 3.0, 3.0, 1.0, 5.0, 4.0, 5.0, 3.0, 5.0, 3.0, 5.0, 4.0, 5.0, 4.0, 4.0, 5.0, 4.0, 4.0, 4.0, 5.0, 5.0, 5.0, 5.0, 4.0, 4.0, 5.0, null, 5.0, 3.0, 3.0, 4.0, 4.0, 5.0, 3.0, 3.0, 3.0, 3.0, 5.0, 5.0, 3.0, 2.0, 5.0, 5.0, 4.0, 4.0, 2.0, 4.0, 5.0, 5.0, 4.0, 5.0, 5.0, 5.0, 4.0, 2.0, 4.0, 4.0, 5.0, 4.0, 4.0, 5.0, 4.0, 4.0, 5.0, 4.0, 4.0, 3.0, 5.0, 4.0, 5.0, 5.0, 4.0, 5.0, 5.0, 4.0, 5.0, 4.0, 5.0, 4.0, 5.0, 5.0, 5.0, 4.0, 5.0, 4.0, 4.0, 5.0, 4.0, 5.0, 3.0, 3.0, 4.0, 4.0, 5.0, 5.0, 5.0, 5.0, 5.0, 5.0, 5.0, 5.0, null, 2.0, 5.0, 4.0, 5.0, 5.0, 4.0, 4.0, 4.0, 3.0, 4.0, 5.0, 4.0, 3.0, 4.0, 3.0, 5.0, 4.0, 3.0, 5.0, 5.0, 3.0, 4.0, 4.0, 3.0, 5.0, 4.0, 4.0, 5.0, 4.0, 4.0, 4.0, 5.0, 4.0, 4.0, 4.0, 4.0, 4.0, 5.0, 4.0, 4.0, 4.0, 4.0, 5.0, 5.0, 5.0, 4.0, 4.0, 3.0, 3.0, 5.0, 5.0, 4.0, 5.0, 4.0, 5.0, 4.0, 5.0, 5.0, 5.0, 4.0, 4.0, 5.0, 4.0, 5.0, 5.0, 5.0, 5.0, 5.0, 5.0, 3.0, 5.0, 5.0, 5.0, 5.0, 2.0]}, {\"name\": \"Part-time\", \"opacity\": 0.5, \"type\": \"histogram\", \"x\": [5.0, 5.0, 4.0, 5.0, 5.0, 5.0, 5.0, 5.0, 5.0, 4.0, 4.0, 5.0, 5.0, 5.0, 5.0, 3.0, 5.0, 5.0, 5.0]}, {\"name\": \"Seasonal\", \"opacity\": 0.5, \"type\": \"histogram\", \"x\": [5.0, 5.0, 4.0, 5.0, 5.0, 5.0, 5.0, 5.0, 5.0, 4.0, 4.0, 5.0, 5.0, 5.0, 5.0, 3.0, 5.0, 5.0, 5.0]}, {\"name\": \"Part-time, Seasonal\", \"opacity\": 0.5, \"type\": \"histogram\", \"x\": [5.0, 5.0, 4.0, 5.0, 5.0, 5.0, 5.0, 5.0, 5.0, 4.0, 4.0, 5.0, 5.0, 5.0, 5.0, 3.0, 5.0, 5.0, 5.0]}],\n",
       "                        {\"barmode\": \"stack\", \"template\": {\"data\": {\"bar\": [{\"error_x\": {\"color\": \"#2a3f5f\"}, \"error_y\": {\"color\": \"#2a3f5f\"}, \"marker\": {\"line\": {\"color\": \"#E5ECF6\", \"width\": 0.5}}, \"type\": \"bar\"}], \"barpolar\": [{\"marker\": {\"line\": {\"color\": \"#E5ECF6\", \"width\": 0.5}}, \"type\": \"barpolar\"}], \"carpet\": [{\"aaxis\": {\"endlinecolor\": \"#2a3f5f\", \"gridcolor\": \"white\", \"linecolor\": \"white\", \"minorgridcolor\": \"white\", \"startlinecolor\": \"#2a3f5f\"}, \"baxis\": {\"endlinecolor\": \"#2a3f5f\", \"gridcolor\": \"white\", \"linecolor\": \"white\", \"minorgridcolor\": \"white\", \"startlinecolor\": \"#2a3f5f\"}, \"type\": \"carpet\"}], \"choropleth\": [{\"colorbar\": {\"outlinewidth\": 0, \"ticks\": \"\"}, \"type\": \"choropleth\"}], \"contour\": [{\"colorbar\": {\"outlinewidth\": 0, \"ticks\": \"\"}, \"colorscale\": [[0.0, \"#0d0887\"], [0.1111111111111111, \"#46039f\"], [0.2222222222222222, \"#7201a8\"], [0.3333333333333333, \"#9c179e\"], [0.4444444444444444, \"#bd3786\"], [0.5555555555555556, \"#d8576b\"], [0.6666666666666666, \"#ed7953\"], [0.7777777777777778, \"#fb9f3a\"], [0.8888888888888888, \"#fdca26\"], [1.0, \"#f0f921\"]], \"type\": \"contour\"}], \"contourcarpet\": [{\"colorbar\": {\"outlinewidth\": 0, \"ticks\": \"\"}, \"type\": \"contourcarpet\"}], \"heatmap\": [{\"colorbar\": {\"outlinewidth\": 0, \"ticks\": \"\"}, \"colorscale\": [[0.0, \"#0d0887\"], [0.1111111111111111, \"#46039f\"], [0.2222222222222222, \"#7201a8\"], [0.3333333333333333, \"#9c179e\"], [0.4444444444444444, \"#bd3786\"], [0.5555555555555556, \"#d8576b\"], [0.6666666666666666, \"#ed7953\"], [0.7777777777777778, \"#fb9f3a\"], [0.8888888888888888, \"#fdca26\"], [1.0, \"#f0f921\"]], \"type\": \"heatmap\"}], \"heatmapgl\": [{\"colorbar\": {\"outlinewidth\": 0, \"ticks\": \"\"}, \"colorscale\": [[0.0, \"#0d0887\"], [0.1111111111111111, \"#46039f\"], [0.2222222222222222, \"#7201a8\"], [0.3333333333333333, \"#9c179e\"], [0.4444444444444444, \"#bd3786\"], [0.5555555555555556, \"#d8576b\"], [0.6666666666666666, \"#ed7953\"], [0.7777777777777778, \"#fb9f3a\"], [0.8888888888888888, \"#fdca26\"], [1.0, \"#f0f921\"]], \"type\": \"heatmapgl\"}], \"histogram\": [{\"marker\": {\"colorbar\": {\"outlinewidth\": 0, \"ticks\": \"\"}}, \"type\": \"histogram\"}], \"histogram2d\": [{\"colorbar\": {\"outlinewidth\": 0, \"ticks\": \"\"}, \"colorscale\": [[0.0, \"#0d0887\"], [0.1111111111111111, \"#46039f\"], [0.2222222222222222, \"#7201a8\"], [0.3333333333333333, \"#9c179e\"], [0.4444444444444444, \"#bd3786\"], [0.5555555555555556, \"#d8576b\"], [0.6666666666666666, \"#ed7953\"], [0.7777777777777778, \"#fb9f3a\"], [0.8888888888888888, \"#fdca26\"], [1.0, \"#f0f921\"]], \"type\": \"histogram2d\"}], \"histogram2dcontour\": [{\"colorbar\": {\"outlinewidth\": 0, \"ticks\": \"\"}, \"colorscale\": [[0.0, \"#0d0887\"], [0.1111111111111111, \"#46039f\"], [0.2222222222222222, \"#7201a8\"], [0.3333333333333333, \"#9c179e\"], [0.4444444444444444, \"#bd3786\"], [0.5555555555555556, \"#d8576b\"], [0.6666666666666666, \"#ed7953\"], [0.7777777777777778, \"#fb9f3a\"], [0.8888888888888888, \"#fdca26\"], [1.0, \"#f0f921\"]], \"type\": \"histogram2dcontour\"}], \"mesh3d\": [{\"colorbar\": {\"outlinewidth\": 0, \"ticks\": \"\"}, \"type\": \"mesh3d\"}], \"parcoords\": [{\"line\": {\"colorbar\": {\"outlinewidth\": 0, \"ticks\": \"\"}}, \"type\": \"parcoords\"}], \"pie\": [{\"automargin\": true, \"type\": \"pie\"}], \"scatter\": [{\"marker\": {\"colorbar\": {\"outlinewidth\": 0, \"ticks\": \"\"}}, \"type\": \"scatter\"}], \"scatter3d\": [{\"line\": {\"colorbar\": {\"outlinewidth\": 0, \"ticks\": \"\"}}, \"marker\": {\"colorbar\": {\"outlinewidth\": 0, \"ticks\": \"\"}}, \"type\": \"scatter3d\"}], \"scattercarpet\": [{\"marker\": {\"colorbar\": {\"outlinewidth\": 0, \"ticks\": \"\"}}, \"type\": \"scattercarpet\"}], \"scattergeo\": [{\"marker\": {\"colorbar\": {\"outlinewidth\": 0, \"ticks\": \"\"}}, \"type\": \"scattergeo\"}], \"scattergl\": [{\"marker\": {\"colorbar\": {\"outlinewidth\": 0, \"ticks\": \"\"}}, \"type\": \"scattergl\"}], \"scattermapbox\": [{\"marker\": {\"colorbar\": {\"outlinewidth\": 0, \"ticks\": \"\"}}, \"type\": \"scattermapbox\"}], \"scatterpolar\": [{\"marker\": {\"colorbar\": {\"outlinewidth\": 0, \"ticks\": \"\"}}, \"type\": \"scatterpolar\"}], \"scatterpolargl\": [{\"marker\": {\"colorbar\": {\"outlinewidth\": 0, \"ticks\": \"\"}}, \"type\": \"scatterpolargl\"}], \"scatterternary\": [{\"marker\": {\"colorbar\": {\"outlinewidth\": 0, \"ticks\": \"\"}}, \"type\": \"scatterternary\"}], \"surface\": [{\"colorbar\": {\"outlinewidth\": 0, \"ticks\": \"\"}, \"colorscale\": [[0.0, \"#0d0887\"], [0.1111111111111111, \"#46039f\"], [0.2222222222222222, \"#7201a8\"], [0.3333333333333333, \"#9c179e\"], [0.4444444444444444, \"#bd3786\"], [0.5555555555555556, \"#d8576b\"], [0.6666666666666666, \"#ed7953\"], [0.7777777777777778, \"#fb9f3a\"], [0.8888888888888888, \"#fdca26\"], [1.0, \"#f0f921\"]], \"type\": \"surface\"}], \"table\": [{\"cells\": {\"fill\": {\"color\": \"#EBF0F8\"}, \"line\": {\"color\": \"white\"}}, \"header\": {\"fill\": {\"color\": \"#C8D4E3\"}, \"line\": {\"color\": \"white\"}}, \"type\": \"table\"}]}, \"layout\": {\"annotationdefaults\": {\"arrowcolor\": \"#2a3f5f\", \"arrowhead\": 0, \"arrowwidth\": 1}, \"coloraxis\": {\"colorbar\": {\"outlinewidth\": 0, \"ticks\": \"\"}}, \"colorscale\": {\"diverging\": [[0, \"#8e0152\"], [0.1, \"#c51b7d\"], [0.2, \"#de77ae\"], [0.3, \"#f1b6da\"], [0.4, \"#fde0ef\"], [0.5, \"#f7f7f7\"], [0.6, \"#e6f5d0\"], [0.7, \"#b8e186\"], [0.8, \"#7fbc41\"], [0.9, \"#4d9221\"], [1, \"#276419\"]], \"sequential\": [[0.0, \"#0d0887\"], [0.1111111111111111, \"#46039f\"], [0.2222222222222222, \"#7201a8\"], [0.3333333333333333, \"#9c179e\"], [0.4444444444444444, \"#bd3786\"], [0.5555555555555556, \"#d8576b\"], [0.6666666666666666, \"#ed7953\"], [0.7777777777777778, \"#fb9f3a\"], [0.8888888888888888, \"#fdca26\"], [1.0, \"#f0f921\"]], \"sequentialminus\": [[0.0, \"#0d0887\"], [0.1111111111111111, \"#46039f\"], [0.2222222222222222, \"#7201a8\"], [0.3333333333333333, \"#9c179e\"], [0.4444444444444444, \"#bd3786\"], [0.5555555555555556, \"#d8576b\"], [0.6666666666666666, \"#ed7953\"], [0.7777777777777778, \"#fb9f3a\"], [0.8888888888888888, \"#fdca26\"], [1.0, \"#f0f921\"]]}, \"colorway\": [\"#636efa\", \"#EF553B\", \"#00cc96\", \"#ab63fa\", \"#FFA15A\", \"#19d3f3\", \"#FF6692\", \"#B6E880\", \"#FF97FF\", \"#FECB52\"], \"font\": {\"color\": \"#2a3f5f\"}, \"geo\": {\"bgcolor\": \"white\", \"lakecolor\": \"white\", \"landcolor\": \"#E5ECF6\", \"showlakes\": true, \"showland\": true, \"subunitcolor\": \"white\"}, \"hoverlabel\": {\"align\": \"left\"}, \"hovermode\": \"closest\", \"mapbox\": {\"style\": \"light\"}, \"paper_bgcolor\": \"white\", \"plot_bgcolor\": \"#E5ECF6\", \"polar\": {\"angularaxis\": {\"gridcolor\": \"white\", \"linecolor\": \"white\", \"ticks\": \"\"}, \"bgcolor\": \"#E5ECF6\", \"radialaxis\": {\"gridcolor\": \"white\", \"linecolor\": \"white\", \"ticks\": \"\"}}, \"scene\": {\"xaxis\": {\"backgroundcolor\": \"#E5ECF6\", \"gridcolor\": \"white\", \"gridwidth\": 2, \"linecolor\": \"white\", \"showbackground\": true, \"ticks\": \"\", \"zerolinecolor\": \"white\"}, \"yaxis\": {\"backgroundcolor\": \"#E5ECF6\", \"gridcolor\": \"white\", \"gridwidth\": 2, \"linecolor\": \"white\", \"showbackground\": true, \"ticks\": \"\", \"zerolinecolor\": \"white\"}, \"zaxis\": {\"backgroundcolor\": \"#E5ECF6\", \"gridcolor\": \"white\", \"gridwidth\": 2, \"linecolor\": \"white\", \"showbackground\": true, \"ticks\": \"\", \"zerolinecolor\": \"white\"}}, \"shapedefaults\": {\"line\": {\"color\": \"#2a3f5f\"}}, \"ternary\": {\"aaxis\": {\"gridcolor\": \"white\", \"linecolor\": \"white\", \"ticks\": \"\"}, \"baxis\": {\"gridcolor\": \"white\", \"linecolor\": \"white\", \"ticks\": \"\"}, \"bgcolor\": \"#E5ECF6\", \"caxis\": {\"gridcolor\": \"white\", \"linecolor\": \"white\", \"ticks\": \"\"}}, \"title\": {\"x\": 0.05}, \"xaxis\": {\"automargin\": true, \"gridcolor\": \"white\", \"linecolor\": \"white\", \"ticks\": \"\", \"title\": {\"standoff\": 15}, \"zerolinecolor\": \"white\", \"zerolinewidth\": 2}, \"yaxis\": {\"automargin\": true, \"gridcolor\": \"white\", \"linecolor\": \"white\", \"ticks\": \"\", \"title\": {\"standoff\": 15}, \"zerolinecolor\": \"white\", \"zerolinewidth\": 2}}}, \"title\": {\"text\": \"My team members appreciate my contributions.\"}, \"updatemenus\": [{\"buttons\": [{\"args\": [{\"visible\": [true, false, false, false, false, false, false, false, false, false, false, false, false, false, false, false, false, false, false, false, false, false, false, false, false]}, {\"title\": \"My team members appreciate my contributions.\"}], \"label\": \"Total\", \"method\": \"update\"}, {\"args\": [{\"visible\": [false, true, true, true, true, true, true, false, false, false, false, false, false, false, false, false, false, false, false, false, false, false, false, false, false]}, {\"title\": \"My team members appreciate my contributions.\"}], \"label\": \"Race\", \"method\": \"update\"}, {\"args\": [{\"visible\": [false, false, false, false, false, false, false, true, true, true, true, true, true, false, false, false, false, false, false, false, false, false, false, false, false]}, {\"title\": \"My team members appreciate my contributions.\"}], \"label\": \"Age\", \"method\": \"update\"}, {\"args\": [{\"visible\": [false, false, false, false, false, false, false, false, false, false, false, false, false, true, true, false, false, false, false, false, false, false, false, false, false]}, {\"title\": \"My team members appreciate my contributions.\"}], \"label\": \"Sexual Orientation\", \"method\": \"update\"}, {\"args\": [{\"visible\": [false, false, false, false, false, false, false, false, false, false, false, false, false, false, false, true, true, true, true, true, true, false, false, false, false]}, {\"title\": \"My team members appreciate my contributions.\"}], \"label\": \"Tenure\", \"method\": \"update\"}, {\"args\": [{\"visible\": [false, false, false, false, false, false, false, false, false, false, false, false, false, false, false, false, false, false, false, false, false, true, true, true, true]}, {\"title\": \"My team members appreciate my contributions.\"}], \"label\": \"Status\", \"method\": \"update\"}], \"type\": \"buttons\"}]},\n",
       "                        {\"responsive\": true}\n",
       "                    ).then(function(){\n",
       "                            \n",
       "var gd = document.getElementById('3434cf14-e01e-4fb6-93d9-df084fa0ced9');\n",
       "var x = new MutationObserver(function (mutations, observer) {{\n",
       "        var display = window.getComputedStyle(gd).display;\n",
       "        if (!display || display === 'none') {{\n",
       "            console.log([gd, 'removed!']);\n",
       "            Plotly.purge(gd);\n",
       "            observer.disconnect();\n",
       "        }}\n",
       "}});\n",
       "\n",
       "// Listen for the removal of the full notebook cells\n",
       "var notebookContainer = gd.closest('#notebook-container');\n",
       "if (notebookContainer) {{\n",
       "    x.observe(notebookContainer, {childList: true});\n",
       "}}\n",
       "\n",
       "// Listen for the clearing of the current output cell\n",
       "var outputEl = gd.closest('.output');\n",
       "if (outputEl) {{\n",
       "    x.observe(outputEl, {childList: true});\n",
       "}}\n",
       "\n",
       "                        })\n",
       "                };\n",
       "                });\n",
       "            </script>\n",
       "        </div>"
      ]
     },
     "metadata": {},
     "output_type": "display_data"
    }
   ],
   "source": [
    "#defining list_updatemenus\n",
    "list_updatemenus = [{'label': 'Total',\n",
    "                     'method': 'update',\n",
    "                     'args': [{'visible': [True, False, False, False, False, False, False, False, False, False, False, False, False, False, False, False, False, False, False, False, False, False, False, False, False]}, {'title': 'My team members appreciate my contributions.'}]},\n",
    "                    {'label': 'Race',\n",
    "                     'method': 'update',\n",
    "                     'args': [{'visible': [False, True, True, True, True, True, True, False, False, False, False, False, False, False, False, False, False, False, False, False, False, False, False, False, False]}, {'title': 'My team members appreciate my contributions.'}]},\n",
    "                    {'label': 'Age',\n",
    "                     'method': 'update',\n",
    "                     'args': [{'visible': [False, False, False, False, False, False, False, True, True, True, True, True, True, False, False, False, False, False, False, False, False, False, False, False, False]}, {'title': 'My team members appreciate my contributions.'}]},\n",
    "                    {'label': 'Sexual Orientation',\n",
    "                     'method': 'update',\n",
    "                     'args': [{'visible': [False, False, False, False, False, False, False, False, False, False, False, False, False, True, True, False, False, False, False, False, False, False, False, False, False]}, {'title': 'My team members appreciate my contributions.'}]},\n",
    "                   {'label': 'Tenure',\n",
    "                     'method': 'update',\n",
    "                     'args': [{'visible': [False, False, False, False, False, False, False, False, False, False, False, False, False, False, False, True, True, True, True, True, True, False, False, False, False]}, {'title': 'My team members appreciate my contributions.'}]},\n",
    "                   {'label': 'Status',\n",
    "                     'method': 'update',\n",
    "                     'args': [{'visible': [False, False, False, False, False, False, False, False, False, False, False, False, False, False, False, False, False, False, False, False, False, True, True, True, True]}, {'title': 'My team members appreciate my contributions.'}]}\n",
    "                   ]\n",
    "#defining graph objects\n",
    "x_total = dei[\"My team members appreciate my contributions. \"]\n",
    "x_white = dei[dei['What is your race? ']==\"White\"][\"My team members appreciate my contributions. \"]\n",
    "x_latinx = dei[dei['What is your race? ']==\"Latino/Hispanic\"][\"My team members appreciate my contributions. \"]\n",
    "x_black = dei[dei['What is your race? ']==\"Black/ African American\"][\"My team members appreciate my contributions. \"]\n",
    "x_two_plus = dei[dei['What is your race? ']==\"Two or more Races\"][\"My team members appreciate my contributions. \"]\n",
    "x_asian = dei[dei['What is your race? ']==\"Asian\"][\"My team members appreciate my contributions. \"]\n",
    "x_first_peoples = dei[dei['What is your race? ']==\"Indian/ Native American\"][\"My team members appreciate my contributions. \"]\n",
    "x_age1 = dei[dei[\"What is your age?\"]==\"25-34\"][\"My team members appreciate my contributions. \"]\n",
    "x_age2 = dei[dei[\"What is your age?\"]==\"35-44\"][\"My team members appreciate my contributions. \"]\n",
    "x_age3 = dei[dei[\"What is your age?\"]==\"45-54\"][\"My team members appreciate my contributions. \"]\n",
    "x_age4 = dei[dei[\"What is your age?\"]==\"55-64\"][\"My team members appreciate my contributions. \"]\n",
    "x_age5 = dei[dei[\"What is your age?\"]==\"18-24\"][\"My team members appreciate my contributions. \"]\n",
    "x_age6 = dei[dei[\"What is your age?\"]==\"65-74\"][\"My team members appreciate my contributions. \"]\n",
    "x_straight = dei[dei[\"What is your sexual orientation?\"]==\"Straight\"][\"My team members appreciate my contributions. \"]\n",
    "x_lgbtq = dei[dei[\"What is your sexual orientation?\"]==\"LGBTQ+\"][\"My team members appreciate my contributions. \"]\n",
    "x_tenure1 = dei[dei[\"How long have you worked for FC?\"]==\"1-3 years\"][\"My team members appreciate my contributions. \"]\n",
    "x_tenure2 = dei[dei[\"How long have you worked for FC?\"]==\"3-5 years\"][\"My team members appreciate my contributions. \"]\n",
    "x_tenure3 = dei[dei[\"How long have you worked for FC?\"]==\"Less than a year\"][\"My team members appreciate my contributions. \"]\n",
    "x_tenure4 = dei[dei[\"How long have you worked for FC?\"]==\"5-10 years\"][\"My team members appreciate my contributions. \"]\n",
    "x_tenure5 = dei[dei[\"How long have you worked for FC?\"]==\"10+ years\"][\"My team members appreciate my contributions. \"]\n",
    "x_tenure6 = dei[dei[\"How long have you worked for FC?\"]==\"1 year\"][\"My team members appreciate my contributions. \"]\n",
    "x_status1 = dei[dei[\"What is your employment status?\"]==\"Full-time\"][\"My team members appreciate my contributions. \"]\n",
    "x_status2 = dei[dei[\"What is your employment status?\"]==\"Part-time\"][\"My team members appreciate my contributions. \"]\n",
    "x_status3 = dei[dei[\"What is your employment status?\"]==\"Seasonal\"][\"My team members appreciate my contributions. \"]\n",
    "x_status4 = dei[dei[\"What is your employment status?\"]==\"Part-time, Seasonal\"][\"My team members appreciate my contributions. \"]\n",
    "#defining data\n",
    "data=[go.Histogram(x=x_total,name='   ',opacity = .5),\n",
    "      go.Histogram(x=x_white,name='White',opacity = .5),\n",
    "      go.Histogram(x=x_latinx,name='Latino/Hispanic',opacity = .5),\n",
    "      go.Histogram(x=x_black,name='Black/African American',opacity = .5),\n",
    "      go.Histogram(x=x_two_plus,name='Two or more Races',opacity = .5),\n",
    "      go.Histogram(x=x_asian,name='Asian',opacity = .5),\n",
    "      go.Histogram(x=x_first_peoples,name='Indian/Native American',opacity = .5),\n",
    "      go.Histogram(x=x_age1,name='25-34', opacity = .5),\n",
    "      go.Histogram(x=x_age2,name='35-44',opacity = .5),\n",
    "      go.Histogram(x=x_age3,name='45-54',opacity = .5),\n",
    "      go.Histogram(x=x_age4,name='55-64',opacity = .5),\n",
    "      go.Histogram(x=x_age5,name='18-24',opacity = .5),\n",
    "      go.Histogram(x=x_age6,name='65-74',opacity = .5),\n",
    "      go.Histogram(x=x_straight,name='Straight',opacity = .5),\n",
    "      go.Histogram(x=x_lgbtq,name='LGBTQ+',opacity = .5),\n",
    "      go.Histogram(x=x_tenure1,name='1-3 years',opacity = .5),\n",
    "      go.Histogram(x=x_tenure2,name='3-5 years',opacity = .5),\n",
    "      go.Histogram(x=x_tenure3,name='< than a year',opacity = .5),\n",
    "      go.Histogram(x=x_tenure4,name='5-10 years',opacity = .5),\n",
    "      go.Histogram(x=x_tenure5,name='10+ years',opacity = .5),\n",
    "      go.Histogram(x=x_tenure6,name='1 year',opacity = .5),\n",
    "      go.Histogram(x=x_status1,name='Full-time',opacity = .5),\n",
    "      go.Histogram(x=x_status2,name='Part-time',opacity = .5),\n",
    "      go.Histogram(x=x_status2,name='Seasonal',opacity = .5),\n",
    "      go.Histogram(x=x_status2,name='Part-time, Seasonal',opacity = .5)\n",
    "     \n",
    "     ]\n",
    "\n",
    "\n",
    "#defining layout\n",
    "layout=go.Layout(title='My team members appreciate my contributions.',updatemenus=list([dict(buttons= list_updatemenus,type = 'buttons')]),barmode='stack')\n",
    "\n",
    "#defining layout and plotting\n",
    "fig = go.Figure(data,layout)\n",
    "fig.show()"
   ]
  },
  {
   "cell_type": "markdown",
   "metadata": {},
   "source": [
    "### My supervisor tries to understand my point of view.  "
   ]
  },
  {
   "cell_type": "code",
   "execution_count": 31,
   "metadata": {},
   "outputs": [
    {
     "data": {
      "application/vnd.plotly.v1+json": {
       "config": {
        "plotlyServerURL": "https://plot.ly"
       },
       "data": [
        {
         "name": "   ",
         "opacity": 0.5,
         "type": "histogram",
         "x": [
          4,
          4,
          5,
          5,
          5,
          1,
          1,
          3,
          1,
          5,
          4,
          4,
          4,
          5,
          5,
          4,
          4,
          5,
          5,
          5,
          4,
          5,
          4,
          5,
          4,
          4,
          5,
          5,
          3,
          5,
          2,
          5,
          3,
          5,
          5,
          5,
          4,
          4,
          3,
          2,
          3,
          4,
          3,
          5,
          4,
          2,
          2,
          5,
          4,
          4,
          3,
          2,
          4,
          5,
          4,
          3,
          4,
          5,
          4,
          3,
          2,
          2,
          4,
          5,
          5,
          5,
          5,
          5,
          5,
          3,
          5,
          5,
          4,
          4,
          5,
          4,
          5,
          5,
          4,
          5,
          5,
          5,
          5,
          4,
          5,
          5,
          4,
          5,
          5,
          5,
          5,
          5,
          4,
          5,
          5,
          5,
          5,
          4,
          5,
          5,
          5,
          3,
          1,
          null,
          4,
          5,
          4,
          5,
          5,
          5,
          5,
          5,
          5,
          5,
          5,
          null,
          2,
          4,
          1,
          5,
          4,
          5,
          2,
          5,
          3,
          4,
          5,
          5,
          3,
          4,
          3,
          5,
          4,
          3,
          5,
          2,
          3,
          5,
          3,
          5,
          3,
          5,
          2,
          5,
          4,
          3,
          4,
          4,
          5,
          4,
          4,
          4,
          4,
          2,
          5,
          5,
          4,
          4,
          5,
          4,
          5,
          4,
          5,
          5,
          4,
          3,
          4,
          4,
          4,
          5,
          5,
          5,
          5,
          5,
          5,
          5,
          5,
          4,
          5,
          5,
          5,
          5,
          5,
          4,
          5,
          5,
          4,
          5,
          5,
          5,
          5,
          5,
          null,
          3,
          5,
          5,
          5,
          5,
          3,
          5,
          5,
          5,
          5,
          5,
          1
         ]
        },
        {
         "name": "White",
         "opacity": 0.5,
         "type": "histogram",
         "x": [
          2,
          4,
          1,
          5,
          4,
          5,
          2,
          5,
          3,
          4,
          5,
          5,
          3,
          4,
          3,
          5,
          4,
          3,
          5,
          2,
          3,
          5,
          3,
          5,
          3,
          5,
          2,
          5,
          4,
          3,
          4,
          4,
          5,
          4,
          4,
          4,
          4,
          2,
          5,
          5,
          4,
          4,
          5,
          4,
          5,
          4,
          5,
          5,
          4,
          3,
          4,
          4,
          4,
          5,
          5,
          5,
          5,
          5,
          5,
          5,
          5,
          4,
          5,
          5,
          5,
          5,
          5,
          4,
          5,
          5,
          4,
          5,
          5,
          5,
          5,
          5,
          null,
          3,
          5,
          5,
          5,
          5,
          3,
          5,
          5,
          5
         ]
        },
        {
         "name": "Latino/Hispanic",
         "opacity": 0.5,
         "type": "histogram",
         "x": [
          5,
          3,
          5,
          5,
          5,
          4,
          4,
          3,
          2,
          3,
          4,
          3,
          5,
          4,
          2,
          2,
          5,
          4,
          4,
          3,
          2,
          4,
          5,
          4,
          3,
          4,
          5,
          4,
          3,
          2,
          2,
          4,
          5,
          5,
          5,
          5,
          5,
          5,
          3,
          5,
          5,
          4,
          4,
          5,
          4,
          5,
          5,
          4,
          5,
          5,
          5,
          5,
          4,
          5,
          5,
          4,
          5,
          5,
          5,
          5,
          5,
          4,
          5,
          5,
          5,
          5,
          4,
          5
         ]
        },
        {
         "name": "Black/African American",
         "opacity": 0.5,
         "type": "histogram",
         "x": [
          5,
          1,
          1,
          3,
          1,
          5,
          4,
          4,
          4,
          5,
          5,
          4,
          4,
          5,
          5,
          5,
          4,
          5,
          4,
          5,
          4,
          4,
          5,
          5
         ]
        },
        {
         "name": "Two or more Races",
         "opacity": 0.5,
         "type": "histogram",
         "x": [
          3,
          1,
          null,
          4,
          5,
          4,
          5,
          5,
          5,
          5,
          5,
          5,
          5,
          5,
          null
         ]
        },
        {
         "name": "Asian",
         "opacity": 0.5,
         "type": "histogram",
         "x": [
          4,
          5,
          5
         ]
        },
        {
         "name": "Indian/Native American",
         "opacity": 0.5,
         "type": "histogram",
         "x": [
          5,
          2
         ]
        },
        {
         "name": "25-34",
         "opacity": 0.5,
         "type": "histogram",
         "x": [
          4,
          5,
          1,
          1,
          5,
          5,
          4,
          5,
          5,
          4,
          5,
          5,
          5,
          5,
          3,
          3,
          2,
          5,
          4,
          3,
          4,
          5,
          3,
          2,
          2,
          4,
          5,
          5,
          5,
          4,
          4,
          5,
          4,
          5,
          5,
          4,
          5,
          5,
          4,
          5,
          5,
          4,
          3,
          5,
          4,
          5,
          5,
          5,
          null,
          1,
          5,
          4,
          5,
          3,
          4,
          5,
          3,
          2,
          3,
          5,
          5,
          4,
          5,
          5,
          5,
          4,
          4,
          5,
          5,
          5,
          4,
          4,
          5,
          5,
          5,
          5,
          5,
          5,
          5,
          5,
          5,
          5,
          null,
          3,
          5,
          5
         ]
        },
        {
         "name": "35-44",
         "opacity": 0.5,
         "type": "histogram",
         "x": [
          4,
          5,
          4,
          5,
          4,
          4,
          3,
          5,
          5,
          4,
          4,
          5,
          4,
          4,
          2,
          4,
          5,
          4,
          5,
          5,
          4,
          5,
          5,
          5,
          5,
          5,
          5,
          5,
          1,
          4,
          2,
          4,
          2,
          3,
          4,
          5,
          5,
          3,
          4,
          4,
          5,
          4,
          5,
          5,
          5,
          3,
          5
         ]
        },
        {
         "name": "45-54",
         "opacity": 0.5,
         "type": "histogram",
         "x": [
          5,
          4,
          4,
          2,
          3,
          2,
          3,
          5,
          5,
          5,
          5,
          5,
          5,
          3,
          5,
          3,
          3,
          5,
          2,
          4,
          4,
          4,
          4,
          4,
          5,
          5,
          5,
          5
         ]
        },
        {
         "name": "55-64",
         "opacity": 0.5,
         "type": "histogram",
         "x": [
          1,
          4,
          4,
          5,
          3,
          2,
          4,
          3,
          5,
          null,
          5,
          4,
          4,
          2,
          4,
          5,
          5,
          4,
          4,
          5,
          5,
          5,
          5,
          5,
          1
         ]
        },
        {
         "name": "18-24",
         "opacity": 0.5,
         "type": "histogram",
         "x": [
          5,
          4,
          5,
          5,
          5,
          5,
          5,
          5,
          5,
          4,
          5,
          5
         ]
        },
        {
         "name": "65-74",
         "opacity": 0.5,
         "type": "histogram",
         "x": [
          5,
          5,
          4,
          5,
          5,
          3
         ]
        },
        {
         "name": "Straight",
         "opacity": 0.5,
         "type": "histogram",
         "x": [
          5,
          5,
          5,
          1,
          1,
          3,
          1,
          5,
          4,
          4,
          4,
          5,
          5,
          4,
          4,
          5,
          5,
          4,
          5,
          4,
          4,
          4,
          5,
          5,
          3,
          5,
          5,
          5,
          5,
          4,
          4,
          3,
          2,
          3,
          4,
          3,
          5,
          2,
          4,
          4,
          3,
          2,
          4,
          5,
          4,
          3,
          4,
          5,
          4,
          3,
          2,
          4,
          5,
          5,
          5,
          5,
          5,
          3,
          5,
          5,
          4,
          4,
          5,
          4,
          5,
          4,
          5,
          4,
          5,
          5,
          4,
          5,
          5,
          5,
          5,
          5,
          4,
          5,
          5,
          5,
          5,
          4,
          5,
          5,
          5,
          1,
          null,
          4,
          5,
          5,
          5,
          5,
          5,
          5,
          5,
          5,
          5,
          null,
          2,
          4,
          1,
          5,
          2,
          3,
          5,
          3,
          4,
          3,
          4,
          3,
          5,
          2,
          5,
          5,
          3,
          5,
          2,
          5,
          4,
          3,
          4,
          5,
          4,
          4,
          2,
          4,
          4,
          5,
          5,
          3,
          4,
          4,
          5,
          5,
          5,
          5,
          5,
          5,
          4,
          5,
          5,
          4,
          5,
          5,
          4,
          5,
          5,
          5,
          5,
          null,
          3,
          5,
          5,
          5,
          5,
          3,
          5,
          5,
          5,
          5,
          1
         ]
        },
        {
         "name": "LGBTQ+",
         "opacity": 0.5,
         "type": "histogram",
         "x": [
          5,
          2,
          5,
          4,
          2,
          5,
          2,
          5,
          5,
          5,
          5,
          3,
          4,
          4,
          5,
          5,
          4,
          5,
          5,
          3,
          4,
          4,
          4,
          5,
          5,
          4,
          4,
          5,
          4,
          4,
          5,
          5,
          5,
          5,
          5
         ]
        },
        {
         "name": "1-3 years",
         "opacity": 0.5,
         "type": "histogram",
         "x": [
          4,
          4,
          5,
          5,
          5,
          3,
          1,
          4,
          4,
          5,
          5,
          5,
          4,
          5,
          5,
          5,
          5,
          5,
          4,
          3,
          2,
          3,
          3,
          4,
          2,
          2,
          4,
          5,
          5,
          5,
          5,
          5,
          5,
          5,
          5,
          5,
          4,
          4,
          5,
          5,
          5,
          1,
          4,
          3,
          4,
          5,
          5,
          3,
          5,
          3,
          2,
          5,
          2,
          3,
          4,
          5,
          4,
          5,
          4,
          4,
          4,
          5,
          5,
          5,
          null,
          5,
          5,
          3,
          5,
          1
         ]
        },
        {
         "name": "3-5 years",
         "opacity": 0.5,
         "type": "histogram",
         "x": [
          1,
          1,
          4,
          4,
          5,
          4,
          3,
          2,
          3,
          4,
          5,
          5,
          4,
          5,
          4,
          5,
          5,
          5,
          5,
          3,
          2,
          4,
          5,
          5,
          5,
          5,
          5,
          4,
          5,
          5,
          5,
          4,
          5,
          5,
          5,
          4,
          5,
          5,
          5,
          5
         ]
        },
        {
         "name": "< than a year",
         "opacity": 0.5,
         "type": "histogram",
         "x": [
          5,
          2,
          4,
          5,
          5,
          5,
          5,
          5,
          5,
          5,
          4,
          5,
          5,
          5,
          null,
          3,
          3,
          4,
          4,
          4,
          5,
          4,
          5,
          5,
          5,
          5,
          5,
          5,
          5,
          5,
          3,
          5
         ]
        },
        {
         "name": "5-10 years",
         "opacity": 0.5,
         "type": "histogram",
         "x": [
          5,
          5,
          4,
          4,
          3,
          2,
          5,
          4,
          4,
          4,
          5,
          4,
          5,
          5,
          4,
          4,
          1,
          5,
          5,
          4,
          4,
          3,
          5,
          4,
          2,
          3,
          4,
          5
         ]
        },
        {
         "name": "10+ years",
         "opacity": 0.5,
         "type": "histogram",
         "x": [
          5,
          5,
          3,
          4,
          2,
          4,
          3,
          5,
          3,
          5,
          4,
          5,
          5,
          null,
          2,
          4,
          4,
          4,
          5,
          5,
          4,
          5,
          5
         ]
        },
        {
         "name": "1 year",
         "opacity": 0.5,
         "type": "histogram",
         "x": [
          4,
          4,
          5,
          5,
          5,
          4,
          5,
          5,
          3,
          5,
          5
         ]
        },
        {
         "name": "Full-time",
         "opacity": 0.5,
         "type": "histogram",
         "x": [
          4,
          4,
          5,
          1,
          1,
          3,
          1,
          5,
          4,
          4,
          4,
          5,
          5,
          4,
          4,
          5,
          5,
          4,
          5,
          4,
          5,
          4,
          4,
          5,
          5,
          3,
          5,
          2,
          5,
          3,
          5,
          5,
          5,
          4,
          4,
          3,
          2,
          3,
          4,
          3,
          5,
          4,
          2,
          2,
          5,
          4,
          4,
          3,
          2,
          4,
          5,
          4,
          3,
          4,
          5,
          4,
          3,
          2,
          4,
          5,
          5,
          5,
          5,
          5,
          5,
          3,
          5,
          5,
          4,
          4,
          5,
          4,
          5,
          5,
          4,
          5,
          5,
          4,
          5,
          4,
          5,
          5,
          5,
          5,
          4,
          5,
          5,
          5,
          4,
          5,
          5,
          5,
          3,
          1,
          null,
          4,
          5,
          4,
          5,
          5,
          5,
          5,
          5,
          5,
          null,
          2,
          4,
          1,
          5,
          4,
          5,
          2,
          5,
          3,
          4,
          5,
          5,
          3,
          4,
          3,
          5,
          4,
          3,
          5,
          2,
          3,
          5,
          3,
          3,
          5,
          2,
          5,
          4,
          3,
          4,
          4,
          5,
          4,
          4,
          4,
          2,
          5,
          5,
          4,
          4,
          5,
          4,
          5,
          5,
          5,
          3,
          4,
          4,
          4,
          5,
          5,
          5,
          5,
          5,
          5,
          4,
          5,
          5,
          5,
          4,
          5,
          5,
          4,
          5,
          5,
          5,
          null,
          5,
          5,
          3,
          5,
          5,
          5,
          5,
          1
         ]
        },
        {
         "name": "Part-time",
         "opacity": 0.5,
         "type": "histogram",
         "x": [
          5,
          5,
          5,
          5,
          5,
          5,
          5,
          5,
          5,
          4,
          4,
          5,
          5,
          5,
          5,
          3,
          5,
          5,
          5
         ]
        },
        {
         "name": "Seasonal",
         "opacity": 0.5,
         "type": "histogram",
         "x": [
          5,
          5,
          5,
          5,
          5,
          5,
          5,
          5,
          5,
          4,
          4,
          5,
          5,
          5,
          5,
          3,
          5,
          5,
          5
         ]
        },
        {
         "name": "Part-time, Seasonal",
         "opacity": 0.5,
         "type": "histogram",
         "x": [
          5,
          5,
          5,
          5,
          5,
          5,
          5,
          5,
          5,
          4,
          4,
          5,
          5,
          5,
          5,
          3,
          5,
          5,
          5
         ]
        }
       ],
       "layout": {
        "barmode": "stack",
        "template": {
         "data": {
          "bar": [
           {
            "error_x": {
             "color": "#2a3f5f"
            },
            "error_y": {
             "color": "#2a3f5f"
            },
            "marker": {
             "line": {
              "color": "#E5ECF6",
              "width": 0.5
             }
            },
            "type": "bar"
           }
          ],
          "barpolar": [
           {
            "marker": {
             "line": {
              "color": "#E5ECF6",
              "width": 0.5
             }
            },
            "type": "barpolar"
           }
          ],
          "carpet": [
           {
            "aaxis": {
             "endlinecolor": "#2a3f5f",
             "gridcolor": "white",
             "linecolor": "white",
             "minorgridcolor": "white",
             "startlinecolor": "#2a3f5f"
            },
            "baxis": {
             "endlinecolor": "#2a3f5f",
             "gridcolor": "white",
             "linecolor": "white",
             "minorgridcolor": "white",
             "startlinecolor": "#2a3f5f"
            },
            "type": "carpet"
           }
          ],
          "choropleth": [
           {
            "colorbar": {
             "outlinewidth": 0,
             "ticks": ""
            },
            "type": "choropleth"
           }
          ],
          "contour": [
           {
            "colorbar": {
             "outlinewidth": 0,
             "ticks": ""
            },
            "colorscale": [
             [
              0,
              "#0d0887"
             ],
             [
              0.1111111111111111,
              "#46039f"
             ],
             [
              0.2222222222222222,
              "#7201a8"
             ],
             [
              0.3333333333333333,
              "#9c179e"
             ],
             [
              0.4444444444444444,
              "#bd3786"
             ],
             [
              0.5555555555555556,
              "#d8576b"
             ],
             [
              0.6666666666666666,
              "#ed7953"
             ],
             [
              0.7777777777777778,
              "#fb9f3a"
             ],
             [
              0.8888888888888888,
              "#fdca26"
             ],
             [
              1,
              "#f0f921"
             ]
            ],
            "type": "contour"
           }
          ],
          "contourcarpet": [
           {
            "colorbar": {
             "outlinewidth": 0,
             "ticks": ""
            },
            "type": "contourcarpet"
           }
          ],
          "heatmap": [
           {
            "colorbar": {
             "outlinewidth": 0,
             "ticks": ""
            },
            "colorscale": [
             [
              0,
              "#0d0887"
             ],
             [
              0.1111111111111111,
              "#46039f"
             ],
             [
              0.2222222222222222,
              "#7201a8"
             ],
             [
              0.3333333333333333,
              "#9c179e"
             ],
             [
              0.4444444444444444,
              "#bd3786"
             ],
             [
              0.5555555555555556,
              "#d8576b"
             ],
             [
              0.6666666666666666,
              "#ed7953"
             ],
             [
              0.7777777777777778,
              "#fb9f3a"
             ],
             [
              0.8888888888888888,
              "#fdca26"
             ],
             [
              1,
              "#f0f921"
             ]
            ],
            "type": "heatmap"
           }
          ],
          "heatmapgl": [
           {
            "colorbar": {
             "outlinewidth": 0,
             "ticks": ""
            },
            "colorscale": [
             [
              0,
              "#0d0887"
             ],
             [
              0.1111111111111111,
              "#46039f"
             ],
             [
              0.2222222222222222,
              "#7201a8"
             ],
             [
              0.3333333333333333,
              "#9c179e"
             ],
             [
              0.4444444444444444,
              "#bd3786"
             ],
             [
              0.5555555555555556,
              "#d8576b"
             ],
             [
              0.6666666666666666,
              "#ed7953"
             ],
             [
              0.7777777777777778,
              "#fb9f3a"
             ],
             [
              0.8888888888888888,
              "#fdca26"
             ],
             [
              1,
              "#f0f921"
             ]
            ],
            "type": "heatmapgl"
           }
          ],
          "histogram": [
           {
            "marker": {
             "colorbar": {
              "outlinewidth": 0,
              "ticks": ""
             }
            },
            "type": "histogram"
           }
          ],
          "histogram2d": [
           {
            "colorbar": {
             "outlinewidth": 0,
             "ticks": ""
            },
            "colorscale": [
             [
              0,
              "#0d0887"
             ],
             [
              0.1111111111111111,
              "#46039f"
             ],
             [
              0.2222222222222222,
              "#7201a8"
             ],
             [
              0.3333333333333333,
              "#9c179e"
             ],
             [
              0.4444444444444444,
              "#bd3786"
             ],
             [
              0.5555555555555556,
              "#d8576b"
             ],
             [
              0.6666666666666666,
              "#ed7953"
             ],
             [
              0.7777777777777778,
              "#fb9f3a"
             ],
             [
              0.8888888888888888,
              "#fdca26"
             ],
             [
              1,
              "#f0f921"
             ]
            ],
            "type": "histogram2d"
           }
          ],
          "histogram2dcontour": [
           {
            "colorbar": {
             "outlinewidth": 0,
             "ticks": ""
            },
            "colorscale": [
             [
              0,
              "#0d0887"
             ],
             [
              0.1111111111111111,
              "#46039f"
             ],
             [
              0.2222222222222222,
              "#7201a8"
             ],
             [
              0.3333333333333333,
              "#9c179e"
             ],
             [
              0.4444444444444444,
              "#bd3786"
             ],
             [
              0.5555555555555556,
              "#d8576b"
             ],
             [
              0.6666666666666666,
              "#ed7953"
             ],
             [
              0.7777777777777778,
              "#fb9f3a"
             ],
             [
              0.8888888888888888,
              "#fdca26"
             ],
             [
              1,
              "#f0f921"
             ]
            ],
            "type": "histogram2dcontour"
           }
          ],
          "mesh3d": [
           {
            "colorbar": {
             "outlinewidth": 0,
             "ticks": ""
            },
            "type": "mesh3d"
           }
          ],
          "parcoords": [
           {
            "line": {
             "colorbar": {
              "outlinewidth": 0,
              "ticks": ""
             }
            },
            "type": "parcoords"
           }
          ],
          "pie": [
           {
            "automargin": true,
            "type": "pie"
           }
          ],
          "scatter": [
           {
            "marker": {
             "colorbar": {
              "outlinewidth": 0,
              "ticks": ""
             }
            },
            "type": "scatter"
           }
          ],
          "scatter3d": [
           {
            "line": {
             "colorbar": {
              "outlinewidth": 0,
              "ticks": ""
             }
            },
            "marker": {
             "colorbar": {
              "outlinewidth": 0,
              "ticks": ""
             }
            },
            "type": "scatter3d"
           }
          ],
          "scattercarpet": [
           {
            "marker": {
             "colorbar": {
              "outlinewidth": 0,
              "ticks": ""
             }
            },
            "type": "scattercarpet"
           }
          ],
          "scattergeo": [
           {
            "marker": {
             "colorbar": {
              "outlinewidth": 0,
              "ticks": ""
             }
            },
            "type": "scattergeo"
           }
          ],
          "scattergl": [
           {
            "marker": {
             "colorbar": {
              "outlinewidth": 0,
              "ticks": ""
             }
            },
            "type": "scattergl"
           }
          ],
          "scattermapbox": [
           {
            "marker": {
             "colorbar": {
              "outlinewidth": 0,
              "ticks": ""
             }
            },
            "type": "scattermapbox"
           }
          ],
          "scatterpolar": [
           {
            "marker": {
             "colorbar": {
              "outlinewidth": 0,
              "ticks": ""
             }
            },
            "type": "scatterpolar"
           }
          ],
          "scatterpolargl": [
           {
            "marker": {
             "colorbar": {
              "outlinewidth": 0,
              "ticks": ""
             }
            },
            "type": "scatterpolargl"
           }
          ],
          "scatterternary": [
           {
            "marker": {
             "colorbar": {
              "outlinewidth": 0,
              "ticks": ""
             }
            },
            "type": "scatterternary"
           }
          ],
          "surface": [
           {
            "colorbar": {
             "outlinewidth": 0,
             "ticks": ""
            },
            "colorscale": [
             [
              0,
              "#0d0887"
             ],
             [
              0.1111111111111111,
              "#46039f"
             ],
             [
              0.2222222222222222,
              "#7201a8"
             ],
             [
              0.3333333333333333,
              "#9c179e"
             ],
             [
              0.4444444444444444,
              "#bd3786"
             ],
             [
              0.5555555555555556,
              "#d8576b"
             ],
             [
              0.6666666666666666,
              "#ed7953"
             ],
             [
              0.7777777777777778,
              "#fb9f3a"
             ],
             [
              0.8888888888888888,
              "#fdca26"
             ],
             [
              1,
              "#f0f921"
             ]
            ],
            "type": "surface"
           }
          ],
          "table": [
           {
            "cells": {
             "fill": {
              "color": "#EBF0F8"
             },
             "line": {
              "color": "white"
             }
            },
            "header": {
             "fill": {
              "color": "#C8D4E3"
             },
             "line": {
              "color": "white"
             }
            },
            "type": "table"
           }
          ]
         },
         "layout": {
          "annotationdefaults": {
           "arrowcolor": "#2a3f5f",
           "arrowhead": 0,
           "arrowwidth": 1
          },
          "coloraxis": {
           "colorbar": {
            "outlinewidth": 0,
            "ticks": ""
           }
          },
          "colorscale": {
           "diverging": [
            [
             0,
             "#8e0152"
            ],
            [
             0.1,
             "#c51b7d"
            ],
            [
             0.2,
             "#de77ae"
            ],
            [
             0.3,
             "#f1b6da"
            ],
            [
             0.4,
             "#fde0ef"
            ],
            [
             0.5,
             "#f7f7f7"
            ],
            [
             0.6,
             "#e6f5d0"
            ],
            [
             0.7,
             "#b8e186"
            ],
            [
             0.8,
             "#7fbc41"
            ],
            [
             0.9,
             "#4d9221"
            ],
            [
             1,
             "#276419"
            ]
           ],
           "sequential": [
            [
             0,
             "#0d0887"
            ],
            [
             0.1111111111111111,
             "#46039f"
            ],
            [
             0.2222222222222222,
             "#7201a8"
            ],
            [
             0.3333333333333333,
             "#9c179e"
            ],
            [
             0.4444444444444444,
             "#bd3786"
            ],
            [
             0.5555555555555556,
             "#d8576b"
            ],
            [
             0.6666666666666666,
             "#ed7953"
            ],
            [
             0.7777777777777778,
             "#fb9f3a"
            ],
            [
             0.8888888888888888,
             "#fdca26"
            ],
            [
             1,
             "#f0f921"
            ]
           ],
           "sequentialminus": [
            [
             0,
             "#0d0887"
            ],
            [
             0.1111111111111111,
             "#46039f"
            ],
            [
             0.2222222222222222,
             "#7201a8"
            ],
            [
             0.3333333333333333,
             "#9c179e"
            ],
            [
             0.4444444444444444,
             "#bd3786"
            ],
            [
             0.5555555555555556,
             "#d8576b"
            ],
            [
             0.6666666666666666,
             "#ed7953"
            ],
            [
             0.7777777777777778,
             "#fb9f3a"
            ],
            [
             0.8888888888888888,
             "#fdca26"
            ],
            [
             1,
             "#f0f921"
            ]
           ]
          },
          "colorway": [
           "#636efa",
           "#EF553B",
           "#00cc96",
           "#ab63fa",
           "#FFA15A",
           "#19d3f3",
           "#FF6692",
           "#B6E880",
           "#FF97FF",
           "#FECB52"
          ],
          "font": {
           "color": "#2a3f5f"
          },
          "geo": {
           "bgcolor": "white",
           "lakecolor": "white",
           "landcolor": "#E5ECF6",
           "showlakes": true,
           "showland": true,
           "subunitcolor": "white"
          },
          "hoverlabel": {
           "align": "left"
          },
          "hovermode": "closest",
          "mapbox": {
           "style": "light"
          },
          "paper_bgcolor": "white",
          "plot_bgcolor": "#E5ECF6",
          "polar": {
           "angularaxis": {
            "gridcolor": "white",
            "linecolor": "white",
            "ticks": ""
           },
           "bgcolor": "#E5ECF6",
           "radialaxis": {
            "gridcolor": "white",
            "linecolor": "white",
            "ticks": ""
           }
          },
          "scene": {
           "xaxis": {
            "backgroundcolor": "#E5ECF6",
            "gridcolor": "white",
            "gridwidth": 2,
            "linecolor": "white",
            "showbackground": true,
            "ticks": "",
            "zerolinecolor": "white"
           },
           "yaxis": {
            "backgroundcolor": "#E5ECF6",
            "gridcolor": "white",
            "gridwidth": 2,
            "linecolor": "white",
            "showbackground": true,
            "ticks": "",
            "zerolinecolor": "white"
           },
           "zaxis": {
            "backgroundcolor": "#E5ECF6",
            "gridcolor": "white",
            "gridwidth": 2,
            "linecolor": "white",
            "showbackground": true,
            "ticks": "",
            "zerolinecolor": "white"
           }
          },
          "shapedefaults": {
           "line": {
            "color": "#2a3f5f"
           }
          },
          "ternary": {
           "aaxis": {
            "gridcolor": "white",
            "linecolor": "white",
            "ticks": ""
           },
           "baxis": {
            "gridcolor": "white",
            "linecolor": "white",
            "ticks": ""
           },
           "bgcolor": "#E5ECF6",
           "caxis": {
            "gridcolor": "white",
            "linecolor": "white",
            "ticks": ""
           }
          },
          "title": {
           "x": 0.05
          },
          "xaxis": {
           "automargin": true,
           "gridcolor": "white",
           "linecolor": "white",
           "ticks": "",
           "title": {
            "standoff": 15
           },
           "zerolinecolor": "white",
           "zerolinewidth": 2
          },
          "yaxis": {
           "automargin": true,
           "gridcolor": "white",
           "linecolor": "white",
           "ticks": "",
           "title": {
            "standoff": 15
           },
           "zerolinecolor": "white",
           "zerolinewidth": 2
          }
         }
        },
        "title": {
         "text": "My supervisor tries to understand my point of view."
        },
        "updatemenus": [
         {
          "buttons": [
           {
            "args": [
             {
              "visible": [
               true,
               false,
               false,
               false,
               false,
               false,
               false,
               false,
               false,
               false,
               false,
               false,
               false,
               false,
               false,
               false,
               false,
               false,
               false,
               false,
               false,
               false,
               false,
               false,
               false
              ]
             },
             {
              "title": "My supervisor tries to understand my point of view."
             }
            ],
            "label": "Total",
            "method": "update"
           },
           {
            "args": [
             {
              "visible": [
               false,
               true,
               true,
               true,
               true,
               true,
               true,
               false,
               false,
               false,
               false,
               false,
               false,
               false,
               false,
               false,
               false,
               false,
               false,
               false,
               false,
               false,
               false,
               false,
               false
              ]
             },
             {
              "title": "My supervisor tries to understand my point of view."
             }
            ],
            "label": "Race",
            "method": "update"
           },
           {
            "args": [
             {
              "visible": [
               false,
               false,
               false,
               false,
               false,
               false,
               false,
               true,
               true,
               true,
               true,
               true,
               true,
               false,
               false,
               false,
               false,
               false,
               false,
               false,
               false,
               false,
               false,
               false,
               false
              ]
             },
             {
              "title": "My supervisor tries to understand my point of view."
             }
            ],
            "label": "Age",
            "method": "update"
           },
           {
            "args": [
             {
              "visible": [
               false,
               false,
               false,
               false,
               false,
               false,
               false,
               false,
               false,
               false,
               false,
               false,
               false,
               true,
               true,
               false,
               false,
               false,
               false,
               false,
               false,
               false,
               false,
               false,
               false
              ]
             },
             {
              "title": "My supervisor tries to understand my point of view."
             }
            ],
            "label": "Sexual Orientation",
            "method": "update"
           },
           {
            "args": [
             {
              "visible": [
               false,
               false,
               false,
               false,
               false,
               false,
               false,
               false,
               false,
               false,
               false,
               false,
               false,
               false,
               false,
               true,
               true,
               true,
               true,
               true,
               true,
               false,
               false,
               false,
               false
              ]
             },
             {
              "title": "My supervisor tries to understand my point of view."
             }
            ],
            "label": "Tenure",
            "method": "update"
           },
           {
            "args": [
             {
              "visible": [
               false,
               false,
               false,
               false,
               false,
               false,
               false,
               false,
               false,
               false,
               false,
               false,
               false,
               false,
               false,
               false,
               false,
               false,
               false,
               false,
               false,
               true,
               true,
               true,
               true
              ]
             },
             {
              "title": "My supervisor tries to understand my point of view."
             }
            ],
            "label": "Status",
            "method": "update"
           }
          ],
          "type": "buttons"
         }
        ]
       }
      },
      "text/html": [
       "<div>\n",
       "        \n",
       "        \n",
       "            <div id=\"1ed9b784-db4f-4797-829e-c16f9947b480\" class=\"plotly-graph-div\" style=\"height:525px; width:100%;\"></div>\n",
       "            <script type=\"text/javascript\">\n",
       "                require([\"plotly\"], function(Plotly) {\n",
       "                    window.PLOTLYENV=window.PLOTLYENV || {};\n",
       "                    \n",
       "                if (document.getElementById(\"1ed9b784-db4f-4797-829e-c16f9947b480\")) {\n",
       "                    Plotly.newPlot(\n",
       "                        '1ed9b784-db4f-4797-829e-c16f9947b480',\n",
       "                        [{\"name\": \"   \", \"opacity\": 0.5, \"type\": \"histogram\", \"x\": [4.0, 4.0, 5.0, 5.0, 5.0, 1.0, 1.0, 3.0, 1.0, 5.0, 4.0, 4.0, 4.0, 5.0, 5.0, 4.0, 4.0, 5.0, 5.0, 5.0, 4.0, 5.0, 4.0, 5.0, 4.0, 4.0, 5.0, 5.0, 3.0, 5.0, 2.0, 5.0, 3.0, 5.0, 5.0, 5.0, 4.0, 4.0, 3.0, 2.0, 3.0, 4.0, 3.0, 5.0, 4.0, 2.0, 2.0, 5.0, 4.0, 4.0, 3.0, 2.0, 4.0, 5.0, 4.0, 3.0, 4.0, 5.0, 4.0, 3.0, 2.0, 2.0, 4.0, 5.0, 5.0, 5.0, 5.0, 5.0, 5.0, 3.0, 5.0, 5.0, 4.0, 4.0, 5.0, 4.0, 5.0, 5.0, 4.0, 5.0, 5.0, 5.0, 5.0, 4.0, 5.0, 5.0, 4.0, 5.0, 5.0, 5.0, 5.0, 5.0, 4.0, 5.0, 5.0, 5.0, 5.0, 4.0, 5.0, 5.0, 5.0, 3.0, 1.0, null, 4.0, 5.0, 4.0, 5.0, 5.0, 5.0, 5.0, 5.0, 5.0, 5.0, 5.0, null, 2.0, 4.0, 1.0, 5.0, 4.0, 5.0, 2.0, 5.0, 3.0, 4.0, 5.0, 5.0, 3.0, 4.0, 3.0, 5.0, 4.0, 3.0, 5.0, 2.0, 3.0, 5.0, 3.0, 5.0, 3.0, 5.0, 2.0, 5.0, 4.0, 3.0, 4.0, 4.0, 5.0, 4.0, 4.0, 4.0, 4.0, 2.0, 5.0, 5.0, 4.0, 4.0, 5.0, 4.0, 5.0, 4.0, 5.0, 5.0, 4.0, 3.0, 4.0, 4.0, 4.0, 5.0, 5.0, 5.0, 5.0, 5.0, 5.0, 5.0, 5.0, 4.0, 5.0, 5.0, 5.0, 5.0, 5.0, 4.0, 5.0, 5.0, 4.0, 5.0, 5.0, 5.0, 5.0, 5.0, null, 3.0, 5.0, 5.0, 5.0, 5.0, 3.0, 5.0, 5.0, 5.0, 5.0, 5.0, 1.0]}, {\"name\": \"White\", \"opacity\": 0.5, \"type\": \"histogram\", \"x\": [2.0, 4.0, 1.0, 5.0, 4.0, 5.0, 2.0, 5.0, 3.0, 4.0, 5.0, 5.0, 3.0, 4.0, 3.0, 5.0, 4.0, 3.0, 5.0, 2.0, 3.0, 5.0, 3.0, 5.0, 3.0, 5.0, 2.0, 5.0, 4.0, 3.0, 4.0, 4.0, 5.0, 4.0, 4.0, 4.0, 4.0, 2.0, 5.0, 5.0, 4.0, 4.0, 5.0, 4.0, 5.0, 4.0, 5.0, 5.0, 4.0, 3.0, 4.0, 4.0, 4.0, 5.0, 5.0, 5.0, 5.0, 5.0, 5.0, 5.0, 5.0, 4.0, 5.0, 5.0, 5.0, 5.0, 5.0, 4.0, 5.0, 5.0, 4.0, 5.0, 5.0, 5.0, 5.0, 5.0, null, 3.0, 5.0, 5.0, 5.0, 5.0, 3.0, 5.0, 5.0, 5.0]}, {\"name\": \"Latino/Hispanic\", \"opacity\": 0.5, \"type\": \"histogram\", \"x\": [5.0, 3.0, 5.0, 5.0, 5.0, 4.0, 4.0, 3.0, 2.0, 3.0, 4.0, 3.0, 5.0, 4.0, 2.0, 2.0, 5.0, 4.0, 4.0, 3.0, 2.0, 4.0, 5.0, 4.0, 3.0, 4.0, 5.0, 4.0, 3.0, 2.0, 2.0, 4.0, 5.0, 5.0, 5.0, 5.0, 5.0, 5.0, 3.0, 5.0, 5.0, 4.0, 4.0, 5.0, 4.0, 5.0, 5.0, 4.0, 5.0, 5.0, 5.0, 5.0, 4.0, 5.0, 5.0, 4.0, 5.0, 5.0, 5.0, 5.0, 5.0, 4.0, 5.0, 5.0, 5.0, 5.0, 4.0, 5.0]}, {\"name\": \"Black/African American\", \"opacity\": 0.5, \"type\": \"histogram\", \"x\": [5.0, 1.0, 1.0, 3.0, 1.0, 5.0, 4.0, 4.0, 4.0, 5.0, 5.0, 4.0, 4.0, 5.0, 5.0, 5.0, 4.0, 5.0, 4.0, 5.0, 4.0, 4.0, 5.0, 5.0]}, {\"name\": \"Two or more Races\", \"opacity\": 0.5, \"type\": \"histogram\", \"x\": [3.0, 1.0, null, 4.0, 5.0, 4.0, 5.0, 5.0, 5.0, 5.0, 5.0, 5.0, 5.0, 5.0, null]}, {\"name\": \"Asian\", \"opacity\": 0.5, \"type\": \"histogram\", \"x\": [4.0, 5.0, 5.0]}, {\"name\": \"Indian/Native American\", \"opacity\": 0.5, \"type\": \"histogram\", \"x\": [5.0, 2.0]}, {\"name\": \"25-34\", \"opacity\": 0.5, \"type\": \"histogram\", \"x\": [4.0, 5.0, 1.0, 1.0, 5.0, 5.0, 4.0, 5.0, 5.0, 4.0, 5.0, 5.0, 5.0, 5.0, 3.0, 3.0, 2.0, 5.0, 4.0, 3.0, 4.0, 5.0, 3.0, 2.0, 2.0, 4.0, 5.0, 5.0, 5.0, 4.0, 4.0, 5.0, 4.0, 5.0, 5.0, 4.0, 5.0, 5.0, 4.0, 5.0, 5.0, 4.0, 3.0, 5.0, 4.0, 5.0, 5.0, 5.0, null, 1.0, 5.0, 4.0, 5.0, 3.0, 4.0, 5.0, 3.0, 2.0, 3.0, 5.0, 5.0, 4.0, 5.0, 5.0, 5.0, 4.0, 4.0, 5.0, 5.0, 5.0, 4.0, 4.0, 5.0, 5.0, 5.0, 5.0, 5.0, 5.0, 5.0, 5.0, 5.0, 5.0, null, 3.0, 5.0, 5.0]}, {\"name\": \"35-44\", \"opacity\": 0.5, \"type\": \"histogram\", \"x\": [4.0, 5.0, 4.0, 5.0, 4.0, 4.0, 3.0, 5.0, 5.0, 4.0, 4.0, 5.0, 4.0, 4.0, 2.0, 4.0, 5.0, 4.0, 5.0, 5.0, 4.0, 5.0, 5.0, 5.0, 5.0, 5.0, 5.0, 5.0, 1.0, 4.0, 2.0, 4.0, 2.0, 3.0, 4.0, 5.0, 5.0, 3.0, 4.0, 4.0, 5.0, 4.0, 5.0, 5.0, 5.0, 3.0, 5.0]}, {\"name\": \"45-54\", \"opacity\": 0.5, \"type\": \"histogram\", \"x\": [5.0, 4.0, 4.0, 2.0, 3.0, 2.0, 3.0, 5.0, 5.0, 5.0, 5.0, 5.0, 5.0, 3.0, 5.0, 3.0, 3.0, 5.0, 2.0, 4.0, 4.0, 4.0, 4.0, 4.0, 5.0, 5.0, 5.0, 5.0]}, {\"name\": \"55-64\", \"opacity\": 0.5, \"type\": \"histogram\", \"x\": [1.0, 4.0, 4.0, 5.0, 3.0, 2.0, 4.0, 3.0, 5.0, null, 5.0, 4.0, 4.0, 2.0, 4.0, 5.0, 5.0, 4.0, 4.0, 5.0, 5.0, 5.0, 5.0, 5.0, 1.0]}, {\"name\": \"18-24\", \"opacity\": 0.5, \"type\": \"histogram\", \"x\": [5.0, 4.0, 5.0, 5.0, 5.0, 5.0, 5.0, 5.0, 5.0, 4.0, 5.0, 5.0]}, {\"name\": \"65-74\", \"opacity\": 0.5, \"type\": \"histogram\", \"x\": [5.0, 5.0, 4.0, 5.0, 5.0, 3.0]}, {\"name\": \"Straight\", \"opacity\": 0.5, \"type\": \"histogram\", \"x\": [5.0, 5.0, 5.0, 1.0, 1.0, 3.0, 1.0, 5.0, 4.0, 4.0, 4.0, 5.0, 5.0, 4.0, 4.0, 5.0, 5.0, 4.0, 5.0, 4.0, 4.0, 4.0, 5.0, 5.0, 3.0, 5.0, 5.0, 5.0, 5.0, 4.0, 4.0, 3.0, 2.0, 3.0, 4.0, 3.0, 5.0, 2.0, 4.0, 4.0, 3.0, 2.0, 4.0, 5.0, 4.0, 3.0, 4.0, 5.0, 4.0, 3.0, 2.0, 4.0, 5.0, 5.0, 5.0, 5.0, 5.0, 3.0, 5.0, 5.0, 4.0, 4.0, 5.0, 4.0, 5.0, 4.0, 5.0, 4.0, 5.0, 5.0, 4.0, 5.0, 5.0, 5.0, 5.0, 5.0, 4.0, 5.0, 5.0, 5.0, 5.0, 4.0, 5.0, 5.0, 5.0, 1.0, null, 4.0, 5.0, 5.0, 5.0, 5.0, 5.0, 5.0, 5.0, 5.0, 5.0, null, 2.0, 4.0, 1.0, 5.0, 2.0, 3.0, 5.0, 3.0, 4.0, 3.0, 4.0, 3.0, 5.0, 2.0, 5.0, 5.0, 3.0, 5.0, 2.0, 5.0, 4.0, 3.0, 4.0, 5.0, 4.0, 4.0, 2.0, 4.0, 4.0, 5.0, 5.0, 3.0, 4.0, 4.0, 5.0, 5.0, 5.0, 5.0, 5.0, 5.0, 4.0, 5.0, 5.0, 4.0, 5.0, 5.0, 4.0, 5.0, 5.0, 5.0, 5.0, null, 3.0, 5.0, 5.0, 5.0, 5.0, 3.0, 5.0, 5.0, 5.0, 5.0, 1.0]}, {\"name\": \"LGBTQ+\", \"opacity\": 0.5, \"type\": \"histogram\", \"x\": [5.0, 2.0, 5.0, 4.0, 2.0, 5.0, 2.0, 5.0, 5.0, 5.0, 5.0, 3.0, 4.0, 4.0, 5.0, 5.0, 4.0, 5.0, 5.0, 3.0, 4.0, 4.0, 4.0, 5.0, 5.0, 4.0, 4.0, 5.0, 4.0, 4.0, 5.0, 5.0, 5.0, 5.0, 5.0]}, {\"name\": \"1-3 years\", \"opacity\": 0.5, \"type\": \"histogram\", \"x\": [4.0, 4.0, 5.0, 5.0, 5.0, 3.0, 1.0, 4.0, 4.0, 5.0, 5.0, 5.0, 4.0, 5.0, 5.0, 5.0, 5.0, 5.0, 4.0, 3.0, 2.0, 3.0, 3.0, 4.0, 2.0, 2.0, 4.0, 5.0, 5.0, 5.0, 5.0, 5.0, 5.0, 5.0, 5.0, 5.0, 4.0, 4.0, 5.0, 5.0, 5.0, 1.0, 4.0, 3.0, 4.0, 5.0, 5.0, 3.0, 5.0, 3.0, 2.0, 5.0, 2.0, 3.0, 4.0, 5.0, 4.0, 5.0, 4.0, 4.0, 4.0, 5.0, 5.0, 5.0, null, 5.0, 5.0, 3.0, 5.0, 1.0]}, {\"name\": \"3-5 years\", \"opacity\": 0.5, \"type\": \"histogram\", \"x\": [1.0, 1.0, 4.0, 4.0, 5.0, 4.0, 3.0, 2.0, 3.0, 4.0, 5.0, 5.0, 4.0, 5.0, 4.0, 5.0, 5.0, 5.0, 5.0, 3.0, 2.0, 4.0, 5.0, 5.0, 5.0, 5.0, 5.0, 4.0, 5.0, 5.0, 5.0, 4.0, 5.0, 5.0, 5.0, 4.0, 5.0, 5.0, 5.0, 5.0]}, {\"name\": \"< than a year\", \"opacity\": 0.5, \"type\": \"histogram\", \"x\": [5.0, 2.0, 4.0, 5.0, 5.0, 5.0, 5.0, 5.0, 5.0, 5.0, 4.0, 5.0, 5.0, 5.0, null, 3.0, 3.0, 4.0, 4.0, 4.0, 5.0, 4.0, 5.0, 5.0, 5.0, 5.0, 5.0, 5.0, 5.0, 5.0, 3.0, 5.0]}, {\"name\": \"5-10 years\", \"opacity\": 0.5, \"type\": \"histogram\", \"x\": [5.0, 5.0, 4.0, 4.0, 3.0, 2.0, 5.0, 4.0, 4.0, 4.0, 5.0, 4.0, 5.0, 5.0, 4.0, 4.0, 1.0, 5.0, 5.0, 4.0, 4.0, 3.0, 5.0, 4.0, 2.0, 3.0, 4.0, 5.0]}, {\"name\": \"10+ years\", \"opacity\": 0.5, \"type\": \"histogram\", \"x\": [5.0, 5.0, 3.0, 4.0, 2.0, 4.0, 3.0, 5.0, 3.0, 5.0, 4.0, 5.0, 5.0, null, 2.0, 4.0, 4.0, 4.0, 5.0, 5.0, 4.0, 5.0, 5.0]}, {\"name\": \"1 year\", \"opacity\": 0.5, \"type\": \"histogram\", \"x\": [4.0, 4.0, 5.0, 5.0, 5.0, 4.0, 5.0, 5.0, 3.0, 5.0, 5.0]}, {\"name\": \"Full-time\", \"opacity\": 0.5, \"type\": \"histogram\", \"x\": [4.0, 4.0, 5.0, 1.0, 1.0, 3.0, 1.0, 5.0, 4.0, 4.0, 4.0, 5.0, 5.0, 4.0, 4.0, 5.0, 5.0, 4.0, 5.0, 4.0, 5.0, 4.0, 4.0, 5.0, 5.0, 3.0, 5.0, 2.0, 5.0, 3.0, 5.0, 5.0, 5.0, 4.0, 4.0, 3.0, 2.0, 3.0, 4.0, 3.0, 5.0, 4.0, 2.0, 2.0, 5.0, 4.0, 4.0, 3.0, 2.0, 4.0, 5.0, 4.0, 3.0, 4.0, 5.0, 4.0, 3.0, 2.0, 4.0, 5.0, 5.0, 5.0, 5.0, 5.0, 5.0, 3.0, 5.0, 5.0, 4.0, 4.0, 5.0, 4.0, 5.0, 5.0, 4.0, 5.0, 5.0, 4.0, 5.0, 4.0, 5.0, 5.0, 5.0, 5.0, 4.0, 5.0, 5.0, 5.0, 4.0, 5.0, 5.0, 5.0, 3.0, 1.0, null, 4.0, 5.0, 4.0, 5.0, 5.0, 5.0, 5.0, 5.0, 5.0, null, 2.0, 4.0, 1.0, 5.0, 4.0, 5.0, 2.0, 5.0, 3.0, 4.0, 5.0, 5.0, 3.0, 4.0, 3.0, 5.0, 4.0, 3.0, 5.0, 2.0, 3.0, 5.0, 3.0, 3.0, 5.0, 2.0, 5.0, 4.0, 3.0, 4.0, 4.0, 5.0, 4.0, 4.0, 4.0, 2.0, 5.0, 5.0, 4.0, 4.0, 5.0, 4.0, 5.0, 5.0, 5.0, 3.0, 4.0, 4.0, 4.0, 5.0, 5.0, 5.0, 5.0, 5.0, 5.0, 4.0, 5.0, 5.0, 5.0, 4.0, 5.0, 5.0, 4.0, 5.0, 5.0, 5.0, null, 5.0, 5.0, 3.0, 5.0, 5.0, 5.0, 5.0, 1.0]}, {\"name\": \"Part-time\", \"opacity\": 0.5, \"type\": \"histogram\", \"x\": [5.0, 5.0, 5.0, 5.0, 5.0, 5.0, 5.0, 5.0, 5.0, 4.0, 4.0, 5.0, 5.0, 5.0, 5.0, 3.0, 5.0, 5.0, 5.0]}, {\"name\": \"Seasonal\", \"opacity\": 0.5, \"type\": \"histogram\", \"x\": [5.0, 5.0, 5.0, 5.0, 5.0, 5.0, 5.0, 5.0, 5.0, 4.0, 4.0, 5.0, 5.0, 5.0, 5.0, 3.0, 5.0, 5.0, 5.0]}, {\"name\": \"Part-time, Seasonal\", \"opacity\": 0.5, \"type\": \"histogram\", \"x\": [5.0, 5.0, 5.0, 5.0, 5.0, 5.0, 5.0, 5.0, 5.0, 4.0, 4.0, 5.0, 5.0, 5.0, 5.0, 3.0, 5.0, 5.0, 5.0]}],\n",
       "                        {\"barmode\": \"stack\", \"template\": {\"data\": {\"bar\": [{\"error_x\": {\"color\": \"#2a3f5f\"}, \"error_y\": {\"color\": \"#2a3f5f\"}, \"marker\": {\"line\": {\"color\": \"#E5ECF6\", \"width\": 0.5}}, \"type\": \"bar\"}], \"barpolar\": [{\"marker\": {\"line\": {\"color\": \"#E5ECF6\", \"width\": 0.5}}, \"type\": \"barpolar\"}], \"carpet\": [{\"aaxis\": {\"endlinecolor\": \"#2a3f5f\", \"gridcolor\": \"white\", \"linecolor\": \"white\", \"minorgridcolor\": \"white\", \"startlinecolor\": \"#2a3f5f\"}, \"baxis\": {\"endlinecolor\": \"#2a3f5f\", \"gridcolor\": \"white\", \"linecolor\": \"white\", \"minorgridcolor\": \"white\", \"startlinecolor\": \"#2a3f5f\"}, \"type\": \"carpet\"}], \"choropleth\": [{\"colorbar\": {\"outlinewidth\": 0, \"ticks\": \"\"}, \"type\": \"choropleth\"}], \"contour\": [{\"colorbar\": {\"outlinewidth\": 0, \"ticks\": \"\"}, \"colorscale\": [[0.0, \"#0d0887\"], [0.1111111111111111, \"#46039f\"], [0.2222222222222222, \"#7201a8\"], [0.3333333333333333, \"#9c179e\"], [0.4444444444444444, \"#bd3786\"], [0.5555555555555556, \"#d8576b\"], [0.6666666666666666, \"#ed7953\"], [0.7777777777777778, \"#fb9f3a\"], [0.8888888888888888, \"#fdca26\"], [1.0, \"#f0f921\"]], \"type\": \"contour\"}], \"contourcarpet\": [{\"colorbar\": {\"outlinewidth\": 0, \"ticks\": \"\"}, \"type\": \"contourcarpet\"}], \"heatmap\": [{\"colorbar\": {\"outlinewidth\": 0, \"ticks\": \"\"}, \"colorscale\": [[0.0, \"#0d0887\"], [0.1111111111111111, \"#46039f\"], [0.2222222222222222, \"#7201a8\"], [0.3333333333333333, \"#9c179e\"], [0.4444444444444444, \"#bd3786\"], [0.5555555555555556, \"#d8576b\"], [0.6666666666666666, \"#ed7953\"], [0.7777777777777778, \"#fb9f3a\"], [0.8888888888888888, \"#fdca26\"], [1.0, \"#f0f921\"]], \"type\": \"heatmap\"}], \"heatmapgl\": [{\"colorbar\": {\"outlinewidth\": 0, \"ticks\": \"\"}, \"colorscale\": [[0.0, \"#0d0887\"], [0.1111111111111111, \"#46039f\"], [0.2222222222222222, \"#7201a8\"], [0.3333333333333333, \"#9c179e\"], [0.4444444444444444, \"#bd3786\"], [0.5555555555555556, \"#d8576b\"], [0.6666666666666666, \"#ed7953\"], [0.7777777777777778, \"#fb9f3a\"], [0.8888888888888888, \"#fdca26\"], [1.0, \"#f0f921\"]], \"type\": \"heatmapgl\"}], \"histogram\": [{\"marker\": {\"colorbar\": {\"outlinewidth\": 0, \"ticks\": \"\"}}, \"type\": \"histogram\"}], \"histogram2d\": [{\"colorbar\": {\"outlinewidth\": 0, \"ticks\": \"\"}, \"colorscale\": [[0.0, \"#0d0887\"], [0.1111111111111111, \"#46039f\"], [0.2222222222222222, \"#7201a8\"], [0.3333333333333333, \"#9c179e\"], [0.4444444444444444, \"#bd3786\"], [0.5555555555555556, \"#d8576b\"], [0.6666666666666666, \"#ed7953\"], [0.7777777777777778, \"#fb9f3a\"], [0.8888888888888888, \"#fdca26\"], [1.0, \"#f0f921\"]], \"type\": \"histogram2d\"}], \"histogram2dcontour\": [{\"colorbar\": {\"outlinewidth\": 0, \"ticks\": \"\"}, \"colorscale\": [[0.0, \"#0d0887\"], [0.1111111111111111, \"#46039f\"], [0.2222222222222222, \"#7201a8\"], [0.3333333333333333, \"#9c179e\"], [0.4444444444444444, \"#bd3786\"], [0.5555555555555556, \"#d8576b\"], [0.6666666666666666, \"#ed7953\"], [0.7777777777777778, \"#fb9f3a\"], [0.8888888888888888, \"#fdca26\"], [1.0, \"#f0f921\"]], \"type\": \"histogram2dcontour\"}], \"mesh3d\": [{\"colorbar\": {\"outlinewidth\": 0, \"ticks\": \"\"}, \"type\": \"mesh3d\"}], \"parcoords\": [{\"line\": {\"colorbar\": {\"outlinewidth\": 0, \"ticks\": \"\"}}, \"type\": \"parcoords\"}], \"pie\": [{\"automargin\": true, \"type\": \"pie\"}], \"scatter\": [{\"marker\": {\"colorbar\": {\"outlinewidth\": 0, \"ticks\": \"\"}}, \"type\": \"scatter\"}], \"scatter3d\": [{\"line\": {\"colorbar\": {\"outlinewidth\": 0, \"ticks\": \"\"}}, \"marker\": {\"colorbar\": {\"outlinewidth\": 0, \"ticks\": \"\"}}, \"type\": \"scatter3d\"}], \"scattercarpet\": [{\"marker\": {\"colorbar\": {\"outlinewidth\": 0, \"ticks\": \"\"}}, \"type\": \"scattercarpet\"}], \"scattergeo\": [{\"marker\": {\"colorbar\": {\"outlinewidth\": 0, \"ticks\": \"\"}}, \"type\": \"scattergeo\"}], \"scattergl\": [{\"marker\": {\"colorbar\": {\"outlinewidth\": 0, \"ticks\": \"\"}}, \"type\": \"scattergl\"}], \"scattermapbox\": [{\"marker\": {\"colorbar\": {\"outlinewidth\": 0, \"ticks\": \"\"}}, \"type\": \"scattermapbox\"}], \"scatterpolar\": [{\"marker\": {\"colorbar\": {\"outlinewidth\": 0, \"ticks\": \"\"}}, \"type\": \"scatterpolar\"}], \"scatterpolargl\": [{\"marker\": {\"colorbar\": {\"outlinewidth\": 0, \"ticks\": \"\"}}, \"type\": \"scatterpolargl\"}], \"scatterternary\": [{\"marker\": {\"colorbar\": {\"outlinewidth\": 0, \"ticks\": \"\"}}, \"type\": \"scatterternary\"}], \"surface\": [{\"colorbar\": {\"outlinewidth\": 0, \"ticks\": \"\"}, \"colorscale\": [[0.0, \"#0d0887\"], [0.1111111111111111, \"#46039f\"], [0.2222222222222222, \"#7201a8\"], [0.3333333333333333, \"#9c179e\"], [0.4444444444444444, \"#bd3786\"], [0.5555555555555556, \"#d8576b\"], [0.6666666666666666, \"#ed7953\"], [0.7777777777777778, \"#fb9f3a\"], [0.8888888888888888, \"#fdca26\"], [1.0, \"#f0f921\"]], \"type\": \"surface\"}], \"table\": [{\"cells\": {\"fill\": {\"color\": \"#EBF0F8\"}, \"line\": {\"color\": \"white\"}}, \"header\": {\"fill\": {\"color\": \"#C8D4E3\"}, \"line\": {\"color\": \"white\"}}, \"type\": \"table\"}]}, \"layout\": {\"annotationdefaults\": {\"arrowcolor\": \"#2a3f5f\", \"arrowhead\": 0, \"arrowwidth\": 1}, \"coloraxis\": {\"colorbar\": {\"outlinewidth\": 0, \"ticks\": \"\"}}, \"colorscale\": {\"diverging\": [[0, \"#8e0152\"], [0.1, \"#c51b7d\"], [0.2, \"#de77ae\"], [0.3, \"#f1b6da\"], [0.4, \"#fde0ef\"], [0.5, \"#f7f7f7\"], [0.6, \"#e6f5d0\"], [0.7, \"#b8e186\"], [0.8, \"#7fbc41\"], [0.9, \"#4d9221\"], [1, \"#276419\"]], \"sequential\": [[0.0, \"#0d0887\"], [0.1111111111111111, \"#46039f\"], [0.2222222222222222, \"#7201a8\"], [0.3333333333333333, \"#9c179e\"], [0.4444444444444444, \"#bd3786\"], [0.5555555555555556, \"#d8576b\"], [0.6666666666666666, \"#ed7953\"], [0.7777777777777778, \"#fb9f3a\"], [0.8888888888888888, \"#fdca26\"], [1.0, \"#f0f921\"]], \"sequentialminus\": [[0.0, \"#0d0887\"], [0.1111111111111111, \"#46039f\"], [0.2222222222222222, \"#7201a8\"], [0.3333333333333333, \"#9c179e\"], [0.4444444444444444, \"#bd3786\"], [0.5555555555555556, \"#d8576b\"], [0.6666666666666666, \"#ed7953\"], [0.7777777777777778, \"#fb9f3a\"], [0.8888888888888888, \"#fdca26\"], [1.0, \"#f0f921\"]]}, \"colorway\": [\"#636efa\", \"#EF553B\", \"#00cc96\", \"#ab63fa\", \"#FFA15A\", \"#19d3f3\", \"#FF6692\", \"#B6E880\", \"#FF97FF\", \"#FECB52\"], \"font\": {\"color\": \"#2a3f5f\"}, \"geo\": {\"bgcolor\": \"white\", \"lakecolor\": \"white\", \"landcolor\": \"#E5ECF6\", \"showlakes\": true, \"showland\": true, \"subunitcolor\": \"white\"}, \"hoverlabel\": {\"align\": \"left\"}, \"hovermode\": \"closest\", \"mapbox\": {\"style\": \"light\"}, \"paper_bgcolor\": \"white\", \"plot_bgcolor\": \"#E5ECF6\", \"polar\": {\"angularaxis\": {\"gridcolor\": \"white\", \"linecolor\": \"white\", \"ticks\": \"\"}, \"bgcolor\": \"#E5ECF6\", \"radialaxis\": {\"gridcolor\": \"white\", \"linecolor\": \"white\", \"ticks\": \"\"}}, \"scene\": {\"xaxis\": {\"backgroundcolor\": \"#E5ECF6\", \"gridcolor\": \"white\", \"gridwidth\": 2, \"linecolor\": \"white\", \"showbackground\": true, \"ticks\": \"\", \"zerolinecolor\": \"white\"}, \"yaxis\": {\"backgroundcolor\": \"#E5ECF6\", \"gridcolor\": \"white\", \"gridwidth\": 2, \"linecolor\": \"white\", \"showbackground\": true, \"ticks\": \"\", \"zerolinecolor\": \"white\"}, \"zaxis\": {\"backgroundcolor\": \"#E5ECF6\", \"gridcolor\": \"white\", \"gridwidth\": 2, \"linecolor\": \"white\", \"showbackground\": true, \"ticks\": \"\", \"zerolinecolor\": \"white\"}}, \"shapedefaults\": {\"line\": {\"color\": \"#2a3f5f\"}}, \"ternary\": {\"aaxis\": {\"gridcolor\": \"white\", \"linecolor\": \"white\", \"ticks\": \"\"}, \"baxis\": {\"gridcolor\": \"white\", \"linecolor\": \"white\", \"ticks\": \"\"}, \"bgcolor\": \"#E5ECF6\", \"caxis\": {\"gridcolor\": \"white\", \"linecolor\": \"white\", \"ticks\": \"\"}}, \"title\": {\"x\": 0.05}, \"xaxis\": {\"automargin\": true, \"gridcolor\": \"white\", \"linecolor\": \"white\", \"ticks\": \"\", \"title\": {\"standoff\": 15}, \"zerolinecolor\": \"white\", \"zerolinewidth\": 2}, \"yaxis\": {\"automargin\": true, \"gridcolor\": \"white\", \"linecolor\": \"white\", \"ticks\": \"\", \"title\": {\"standoff\": 15}, \"zerolinecolor\": \"white\", \"zerolinewidth\": 2}}}, \"title\": {\"text\": \"My supervisor tries to understand my point of view.\"}, \"updatemenus\": [{\"buttons\": [{\"args\": [{\"visible\": [true, false, false, false, false, false, false, false, false, false, false, false, false, false, false, false, false, false, false, false, false, false, false, false, false]}, {\"title\": \"My supervisor tries to understand my point of view.\"}], \"label\": \"Total\", \"method\": \"update\"}, {\"args\": [{\"visible\": [false, true, true, true, true, true, true, false, false, false, false, false, false, false, false, false, false, false, false, false, false, false, false, false, false]}, {\"title\": \"My supervisor tries to understand my point of view.\"}], \"label\": \"Race\", \"method\": \"update\"}, {\"args\": [{\"visible\": [false, false, false, false, false, false, false, true, true, true, true, true, true, false, false, false, false, false, false, false, false, false, false, false, false]}, {\"title\": \"My supervisor tries to understand my point of view.\"}], \"label\": \"Age\", \"method\": \"update\"}, {\"args\": [{\"visible\": [false, false, false, false, false, false, false, false, false, false, false, false, false, true, true, false, false, false, false, false, false, false, false, false, false]}, {\"title\": \"My supervisor tries to understand my point of view.\"}], \"label\": \"Sexual Orientation\", \"method\": \"update\"}, {\"args\": [{\"visible\": [false, false, false, false, false, false, false, false, false, false, false, false, false, false, false, true, true, true, true, true, true, false, false, false, false]}, {\"title\": \"My supervisor tries to understand my point of view.\"}], \"label\": \"Tenure\", \"method\": \"update\"}, {\"args\": [{\"visible\": [false, false, false, false, false, false, false, false, false, false, false, false, false, false, false, false, false, false, false, false, false, true, true, true, true]}, {\"title\": \"My supervisor tries to understand my point of view.\"}], \"label\": \"Status\", \"method\": \"update\"}], \"type\": \"buttons\"}]},\n",
       "                        {\"responsive\": true}\n",
       "                    ).then(function(){\n",
       "                            \n",
       "var gd = document.getElementById('1ed9b784-db4f-4797-829e-c16f9947b480');\n",
       "var x = new MutationObserver(function (mutations, observer) {{\n",
       "        var display = window.getComputedStyle(gd).display;\n",
       "        if (!display || display === 'none') {{\n",
       "            console.log([gd, 'removed!']);\n",
       "            Plotly.purge(gd);\n",
       "            observer.disconnect();\n",
       "        }}\n",
       "}});\n",
       "\n",
       "// Listen for the removal of the full notebook cells\n",
       "var notebookContainer = gd.closest('#notebook-container');\n",
       "if (notebookContainer) {{\n",
       "    x.observe(notebookContainer, {childList: true});\n",
       "}}\n",
       "\n",
       "// Listen for the clearing of the current output cell\n",
       "var outputEl = gd.closest('.output');\n",
       "if (outputEl) {{\n",
       "    x.observe(outputEl, {childList: true});\n",
       "}}\n",
       "\n",
       "                        })\n",
       "                };\n",
       "                });\n",
       "            </script>\n",
       "        </div>"
      ]
     },
     "metadata": {},
     "output_type": "display_data"
    }
   ],
   "source": [
    "#defining list_updatemenus\n",
    "list_updatemenus = [{'label': 'Total',\n",
    "                     'method': 'update',\n",
    "                     'args': [{'visible': [True, False, False, False, False, False, False, False, False, False, False, False, False, False, False, False, False, False, False, False, False, False, False, False, False]}, {'title': 'My supervisor tries to understand my point of view.'}]},\n",
    "                    {'label': 'Race',\n",
    "                     'method': 'update',\n",
    "                     'args': [{'visible': [False, True, True, True, True, True, True, False, False, False, False, False, False, False, False, False, False, False, False, False, False, False, False, False, False]}, {'title': 'My supervisor tries to understand my point of view.'}]},\n",
    "                    {'label': 'Age',\n",
    "                     'method': 'update',\n",
    "                     'args': [{'visible': [False, False, False, False, False, False, False, True, True, True, True, True, True, False, False, False, False, False, False, False, False, False, False, False, False]}, {'title': 'My supervisor tries to understand my point of view.'}]},\n",
    "                    {'label': 'Sexual Orientation',\n",
    "                     'method': 'update',\n",
    "                     'args': [{'visible': [False, False, False, False, False, False, False, False, False, False, False, False, False, True, True, False, False, False, False, False, False, False, False, False, False]}, {'title': 'My supervisor tries to understand my point of view.'}]},\n",
    "                   {'label': 'Tenure',\n",
    "                     'method': 'update',\n",
    "                     'args': [{'visible': [False, False, False, False, False, False, False, False, False, False, False, False, False, False, False, True, True, True, True, True, True, False, False, False, False]}, {'title': 'My supervisor tries to understand my point of view.'}]},\n",
    "                   {'label': 'Status',\n",
    "                     'method': 'update',\n",
    "                     'args': [{'visible': [False, False, False, False, False, False, False, False, False, False, False, False, False, False, False, False, False, False, False, False, False, True, True, True, True]}, {'title': 'My supervisor tries to understand my point of view.'}]}\n",
    "                   ]\n",
    "#defining graph objects\n",
    "x_total = dei[\"My supervisor tries to understand my point of view.  \"]\n",
    "x_white = dei[dei['What is your race? ']==\"White\"][\"My supervisor tries to understand my point of view.  \"]\n",
    "x_latinx = dei[dei['What is your race? ']==\"Latino/Hispanic\"][\"My supervisor tries to understand my point of view.  \"]\n",
    "x_black = dei[dei['What is your race? ']==\"Black/ African American\"][\"My supervisor tries to understand my point of view.  \"]\n",
    "x_two_plus = dei[dei['What is your race? ']==\"Two or more Races\"][\"My supervisor tries to understand my point of view.  \"]\n",
    "x_asian = dei[dei['What is your race? ']==\"Asian\"][\"My supervisor tries to understand my point of view.  \"]\n",
    "x_first_peoples = dei[dei['What is your race? ']==\"Indian/ Native American\"][\"My supervisor tries to understand my point of view.  \"]\n",
    "x_age1 = dei[dei[\"What is your age?\"]==\"25-34\"][\"My supervisor tries to understand my point of view.  \"]\n",
    "x_age2 = dei[dei[\"What is your age?\"]==\"35-44\"][\"My supervisor tries to understand my point of view.  \"]\n",
    "x_age3 = dei[dei[\"What is your age?\"]==\"45-54\"][\"My supervisor tries to understand my point of view.  \"]\n",
    "x_age4 = dei[dei[\"What is your age?\"]==\"55-64\"][\"My supervisor tries to understand my point of view.  \"]\n",
    "x_age5 = dei[dei[\"What is your age?\"]==\"18-24\"][\"My supervisor tries to understand my point of view.  \"]\n",
    "x_age6 = dei[dei[\"What is your age?\"]==\"65-74\"][\"My supervisor tries to understand my point of view.  \"]\n",
    "x_straight = dei[dei[\"What is your sexual orientation?\"]==\"Straight\"][\"My supervisor tries to understand my point of view.  \"]\n",
    "x_lgbtq = dei[dei[\"What is your sexual orientation?\"]==\"LGBTQ+\"][\"My supervisor tries to understand my point of view.  \"]\n",
    "x_tenure1 = dei[dei[\"How long have you worked for FC?\"]==\"1-3 years\"][\"My supervisor tries to understand my point of view.  \"]\n",
    "x_tenure2 = dei[dei[\"How long have you worked for FC?\"]==\"3-5 years\"][\"My supervisor tries to understand my point of view.  \"]\n",
    "x_tenure3 = dei[dei[\"How long have you worked for FC?\"]==\"Less than a year\"][\"My supervisor tries to understand my point of view.  \"]\n",
    "x_tenure4 = dei[dei[\"How long have you worked for FC?\"]==\"5-10 years\"][\"My supervisor tries to understand my point of view.  \"]\n",
    "x_tenure5 = dei[dei[\"How long have you worked for FC?\"]==\"10+ years\"][\"My supervisor tries to understand my point of view.  \"]\n",
    "x_tenure6 = dei[dei[\"How long have you worked for FC?\"]==\"1 year\"][\"My supervisor tries to understand my point of view.  \"]\n",
    "x_status1 = dei[dei[\"What is your employment status?\"]==\"Full-time\"][\"My supervisor tries to understand my point of view.  \"]\n",
    "x_status2 = dei[dei[\"What is your employment status?\"]==\"Part-time\"][\"My supervisor tries to understand my point of view.  \"]\n",
    "x_status3 = dei[dei[\"What is your employment status?\"]==\"Seasonal\"][\"My supervisor tries to understand my point of view.  \"]\n",
    "x_status4 = dei[dei[\"What is your employment status?\"]==\"Part-time, Seasonal\"][\"My supervisor tries to understand my point of view.  \"]\n",
    "#defining data\n",
    "data=[go.Histogram(x=x_total,name='   ',opacity = .5),\n",
    "      go.Histogram(x=x_white,name='White',opacity = .5),\n",
    "      go.Histogram(x=x_latinx,name='Latino/Hispanic',opacity = .5),\n",
    "      go.Histogram(x=x_black,name='Black/African American',opacity = .5),\n",
    "      go.Histogram(x=x_two_plus,name='Two or more Races',opacity = .5),\n",
    "      go.Histogram(x=x_asian,name='Asian',opacity = .5),\n",
    "      go.Histogram(x=x_first_peoples,name='Indian/Native American',opacity = .5),\n",
    "      go.Histogram(x=x_age1,name='25-34', opacity = .5),\n",
    "      go.Histogram(x=x_age2,name='35-44',opacity = .5),\n",
    "      go.Histogram(x=x_age3,name='45-54',opacity = .5),\n",
    "      go.Histogram(x=x_age4,name='55-64',opacity = .5),\n",
    "      go.Histogram(x=x_age5,name='18-24',opacity = .5),\n",
    "      go.Histogram(x=x_age6,name='65-74',opacity = .5),\n",
    "      go.Histogram(x=x_straight,name='Straight',opacity = .5),\n",
    "      go.Histogram(x=x_lgbtq,name='LGBTQ+',opacity = .5),\n",
    "      go.Histogram(x=x_tenure1,name='1-3 years',opacity = .5),\n",
    "      go.Histogram(x=x_tenure2,name='3-5 years',opacity = .5),\n",
    "      go.Histogram(x=x_tenure3,name='< than a year',opacity = .5),\n",
    "      go.Histogram(x=x_tenure4,name='5-10 years',opacity = .5),\n",
    "      go.Histogram(x=x_tenure5,name='10+ years',opacity = .5),\n",
    "      go.Histogram(x=x_tenure6,name='1 year',opacity = .5),\n",
    "      go.Histogram(x=x_status1,name='Full-time',opacity = .5),\n",
    "      go.Histogram(x=x_status2,name='Part-time',opacity = .5),\n",
    "      go.Histogram(x=x_status2,name='Seasonal',opacity = .5),\n",
    "      go.Histogram(x=x_status2,name='Part-time, Seasonal',opacity = .5)\n",
    "     \n",
    "     ]\n",
    "\n",
    "\n",
    "#defining layout\n",
    "layout=go.Layout(title='My supervisor tries to understand my point of view.',updatemenus=list([dict(buttons= list_updatemenus,type = 'buttons')]),barmode='stack')\n",
    "\n",
    "#defining layout and plotting\n",
    "fig = go.Figure(data,layout)\n",
    "fig.show()"
   ]
  },
  {
   "cell_type": "markdown",
   "metadata": {},
   "source": [
    "### My workplace is committed to building the strengths of each employee.   "
   ]
  },
  {
   "cell_type": "code",
   "execution_count": 32,
   "metadata": {},
   "outputs": [
    {
     "data": {
      "application/vnd.plotly.v1+json": {
       "config": {
        "plotlyServerURL": "https://plot.ly"
       },
       "data": [
        {
         "name": "   ",
         "opacity": 0.5,
         "type": "histogram",
         "x": [
          5,
          3,
          5,
          5,
          1,
          1,
          1,
          1,
          1,
          3,
          2,
          1,
          3,
          4,
          5,
          2,
          2,
          3,
          4,
          4,
          4,
          5,
          4,
          4,
          4,
          5,
          5,
          5,
          5,
          3,
          2,
          1,
          3,
          2,
          2,
          2,
          4,
          3,
          4,
          1,
          3,
          3,
          3,
          5,
          4,
          2,
          2,
          2,
          4,
          4,
          3,
          2,
          4,
          4,
          3,
          3,
          3,
          4,
          3,
          3,
          3,
          3,
          4,
          3,
          3,
          4,
          4,
          4,
          4,
          4,
          5,
          4,
          4,
          4,
          4,
          4,
          4,
          5,
          4,
          5,
          5,
          5,
          5,
          4,
          5,
          5,
          3,
          5,
          5,
          5,
          5,
          5,
          5,
          5,
          5,
          5,
          5,
          5,
          3,
          5,
          4,
          2,
          3,
          4,
          4,
          5,
          5,
          5,
          5,
          4,
          5,
          5,
          5,
          5,
          5,
          null,
          1,
          4,
          3,
          3,
          1,
          3,
          1,
          2,
          3,
          3,
          3,
          2,
          2,
          3,
          3,
          3,
          4,
          3,
          5,
          4,
          3,
          3,
          3,
          5,
          2,
          4,
          3,
          4,
          1,
          3,
          4,
          3,
          5,
          4,
          4,
          4,
          4,
          2,
          3,
          4,
          4,
          4,
          4,
          3,
          4,
          4,
          5,
          4,
          4,
          4,
          3,
          5,
          4,
          4,
          4,
          2,
          5,
          3,
          5,
          4,
          5,
          4,
          5,
          5,
          5,
          5,
          3,
          4,
          4,
          5,
          4,
          5,
          4,
          null,
          5,
          5,
          5,
          3,
          4,
          5,
          5,
          5,
          3,
          5,
          5,
          5,
          5,
          3,
          2
         ]
        },
        {
         "name": "White",
         "opacity": 0.5,
         "type": "histogram",
         "x": [
          1,
          4,
          3,
          3,
          1,
          3,
          1,
          2,
          3,
          3,
          3,
          2,
          2,
          3,
          3,
          3,
          4,
          3,
          5,
          4,
          3,
          3,
          3,
          5,
          2,
          4,
          3,
          4,
          1,
          3,
          4,
          3,
          5,
          4,
          4,
          4,
          4,
          2,
          3,
          4,
          4,
          4,
          4,
          3,
          4,
          4,
          5,
          4,
          4,
          4,
          3,
          5,
          4,
          4,
          4,
          2,
          5,
          3,
          5,
          4,
          5,
          4,
          5,
          5,
          5,
          5,
          3,
          4,
          4,
          5,
          4,
          5,
          4,
          null,
          5,
          5,
          5,
          3,
          4,
          5,
          5,
          5,
          3,
          5,
          5,
          5
         ]
        },
        {
         "name": "Latino/Hispanic",
         "opacity": 0.5,
         "type": "histogram",
         "x": [
          1,
          3,
          2,
          2,
          2,
          4,
          3,
          4,
          1,
          3,
          3,
          3,
          5,
          4,
          2,
          2,
          2,
          4,
          4,
          3,
          2,
          4,
          4,
          3,
          3,
          3,
          4,
          3,
          3,
          3,
          3,
          4,
          3,
          3,
          4,
          4,
          4,
          4,
          4,
          5,
          4,
          4,
          4,
          4,
          4,
          4,
          5,
          4,
          5,
          5,
          5,
          5,
          4,
          5,
          5,
          3,
          5,
          5,
          5,
          5,
          5,
          5,
          5,
          5,
          5,
          5,
          5,
          3
         ]
        },
        {
         "name": "Black/African American",
         "opacity": 0.5,
         "type": "histogram",
         "x": [
          1,
          1,
          1,
          1,
          1,
          3,
          2,
          1,
          3,
          4,
          5,
          2,
          2,
          3,
          4,
          4,
          4,
          5,
          4,
          4,
          4,
          5,
          5,
          5
         ]
        },
        {
         "name": "Two or more Races",
         "opacity": 0.5,
         "type": "histogram",
         "x": [
          2,
          3,
          4,
          4,
          5,
          5,
          5,
          5,
          4,
          5,
          5,
          5,
          5,
          5,
          null
         ]
        },
        {
         "name": "Asian",
         "opacity": 0.5,
         "type": "histogram",
         "x": [
          3,
          5,
          5
         ]
        },
        {
         "name": "Indian/Native American",
         "opacity": 0.5,
         "type": "histogram",
         "x": [
          3,
          2
         ]
        },
        {
         "name": "25-34",
         "opacity": 0.5,
         "type": "histogram",
         "x": [
          3,
          5,
          1,
          1,
          4,
          5,
          2,
          4,
          5,
          5,
          5,
          5,
          1,
          2,
          4,
          3,
          2,
          2,
          4,
          3,
          4,
          4,
          3,
          3,
          3,
          4,
          3,
          4,
          5,
          4,
          4,
          5,
          4,
          5,
          5,
          3,
          5,
          5,
          5,
          5,
          5,
          5,
          2,
          5,
          5,
          5,
          5,
          5,
          null,
          3,
          3,
          1,
          2,
          3,
          3,
          3,
          3,
          4,
          3,
          5,
          4,
          3,
          5,
          3,
          4,
          4,
          3,
          4,
          5,
          4,
          3,
          5,
          4,
          2,
          5,
          3,
          4,
          5,
          5,
          4,
          5,
          4,
          5,
          3,
          4,
          3
         ]
        },
        {
         "name": "35-44",
         "opacity": 0.5,
         "type": "histogram",
         "x": [
          5,
          3,
          2,
          3,
          4,
          4,
          3,
          2,
          2,
          4,
          3,
          5,
          4,
          4,
          2,
          3,
          4,
          3,
          4,
          4,
          4,
          4,
          4,
          5,
          5,
          5,
          5,
          3,
          3,
          4,
          1,
          4,
          1,
          2,
          4,
          5,
          3,
          3,
          4,
          4,
          4,
          4,
          4,
          5,
          5,
          3,
          5
         ]
        },
        {
         "name": "45-54",
         "opacity": 0.5,
         "type": "histogram",
         "x": [
          1,
          1,
          4,
          2,
          3,
          2,
          3,
          3,
          4,
          4,
          5,
          5,
          3,
          3,
          3,
          3,
          2,
          4,
          3,
          4,
          4,
          4,
          4,
          4,
          5,
          5,
          null,
          5
         ]
        },
        {
         "name": "55-64",
         "opacity": 0.5,
         "type": "histogram",
         "x": [
          1,
          2,
          3,
          4,
          5,
          1,
          3,
          4,
          4,
          4,
          5,
          3,
          1,
          2,
          4,
          5,
          3,
          4,
          4,
          5,
          5,
          5,
          5,
          5,
          2
         ]
        },
        {
         "name": "18-24",
         "opacity": 0.5,
         "type": "histogram",
         "x": [
          5,
          3,
          5,
          5,
          5,
          5,
          5,
          5,
          2,
          4,
          5,
          5
         ]
        },
        {
         "name": "65-74",
         "opacity": 0.5,
         "type": "histogram",
         "x": [
          4,
          3,
          4,
          5,
          4,
          4
         ]
        },
        {
         "name": "Straight",
         "opacity": 0.5,
         "type": "histogram",
         "x": [
          5,
          5,
          1,
          1,
          1,
          1,
          1,
          3,
          2,
          1,
          3,
          4,
          5,
          2,
          2,
          3,
          4,
          4,
          5,
          4,
          4,
          5,
          5,
          5,
          5,
          3,
          2,
          2,
          2,
          4,
          3,
          4,
          1,
          3,
          3,
          3,
          5,
          2,
          4,
          4,
          3,
          2,
          4,
          4,
          3,
          3,
          3,
          4,
          3,
          3,
          3,
          4,
          3,
          3,
          4,
          4,
          4,
          4,
          5,
          4,
          4,
          4,
          4,
          4,
          4,
          4,
          5,
          4,
          5,
          5,
          3,
          5,
          5,
          5,
          5,
          5,
          5,
          5,
          5,
          5,
          5,
          5,
          3,
          5,
          4,
          3,
          4,
          4,
          5,
          5,
          5,
          4,
          5,
          5,
          5,
          5,
          5,
          null,
          1,
          4,
          3,
          3,
          1,
          3,
          3,
          2,
          3,
          3,
          4,
          3,
          5,
          4,
          3,
          5,
          2,
          4,
          3,
          4,
          1,
          3,
          4,
          5,
          4,
          4,
          2,
          4,
          4,
          5,
          4,
          4,
          5,
          4,
          4,
          4,
          2,
          5,
          3,
          5,
          4,
          5,
          3,
          4,
          4,
          5,
          4,
          4,
          null,
          5,
          5,
          5,
          3,
          4,
          5,
          5,
          5,
          3,
          5,
          5,
          5,
          5,
          2
         ]
        },
        {
         "name": "LGBTQ+",
         "opacity": 0.5,
         "type": "histogram",
         "x": [
          4,
          2,
          1,
          4,
          2,
          2,
          3,
          4,
          5,
          5,
          5,
          2,
          5,
          1,
          3,
          2,
          3,
          2,
          3,
          3,
          3,
          4,
          4,
          3,
          4,
          4,
          3,
          4,
          4,
          3,
          4,
          5,
          5,
          5,
          3
         ]
        },
        {
         "name": "1-3 years",
         "opacity": 0.5,
         "type": "histogram",
         "x": [
          5,
          3,
          5,
          5,
          1,
          1,
          1,
          1,
          3,
          5,
          4,
          4,
          4,
          5,
          5,
          1,
          2,
          2,
          4,
          3,
          2,
          3,
          3,
          3,
          3,
          3,
          4,
          3,
          4,
          4,
          4,
          5,
          5,
          5,
          5,
          5,
          5,
          4,
          5,
          5,
          5,
          3,
          1,
          3,
          3,
          3,
          2,
          3,
          3,
          3,
          4,
          5,
          3,
          3,
          3,
          3,
          4,
          4,
          4,
          3,
          4,
          4,
          3,
          5,
          5,
          4,
          5,
          3,
          5,
          2
         ]
        },
        {
         "name": "3-5 years",
         "opacity": 0.5,
         "type": "histogram",
         "x": [
          1,
          1,
          2,
          2,
          5,
          4,
          3,
          1,
          3,
          4,
          3,
          5,
          4,
          4,
          4,
          5,
          5,
          3,
          4,
          2,
          1,
          4,
          3,
          2,
          4,
          4,
          5,
          4,
          4,
          4,
          5,
          5,
          4,
          5,
          5,
          4,
          3,
          4,
          5,
          5
         ]
        },
        {
         "name": "< than a year",
         "opacity": 0.5,
         "type": "histogram",
         "x": [
          4,
          2,
          4,
          5,
          5,
          5,
          5,
          5,
          5,
          5,
          5,
          5,
          5,
          5,
          null,
          3,
          2,
          1,
          4,
          3,
          4,
          4,
          2,
          4,
          5,
          5,
          5,
          4,
          null,
          5,
          3,
          5
         ]
        },
        {
         "name": "5-10 years",
         "opacity": 0.5,
         "type": "histogram",
         "x": [
          3,
          3,
          4,
          5,
          5,
          2,
          2,
          4,
          4,
          4,
          4,
          3,
          4,
          4,
          4,
          4,
          3,
          4,
          3,
          3,
          4,
          3,
          3,
          4,
          2,
          4,
          4,
          5
         ]
        },
        {
         "name": "10+ years",
         "opacity": 0.5,
         "type": "histogram",
         "x": [
          4,
          3,
          4,
          3,
          2,
          3,
          3,
          4,
          4,
          4,
          3,
          5,
          5,
          4,
          1,
          4,
          4,
          4,
          5,
          5,
          4,
          5,
          5
         ]
        },
        {
         "name": "1 year",
         "opacity": 0.5,
         "type": "histogram",
         "x": [
          2,
          3,
          5,
          2,
          5,
          5,
          5,
          5,
          2,
          5,
          3
         ]
        },
        {
         "name": "Full-time",
         "opacity": 0.5,
         "type": "histogram",
         "x": [
          5,
          3,
          1,
          1,
          1,
          1,
          1,
          3,
          2,
          1,
          3,
          4,
          5,
          2,
          2,
          3,
          4,
          4,
          5,
          4,
          4,
          4,
          5,
          5,
          5,
          5,
          3,
          2,
          1,
          3,
          2,
          2,
          2,
          4,
          3,
          4,
          1,
          3,
          3,
          3,
          5,
          4,
          2,
          2,
          2,
          4,
          4,
          3,
          2,
          4,
          4,
          3,
          3,
          3,
          4,
          3,
          3,
          3,
          4,
          3,
          3,
          4,
          4,
          4,
          4,
          4,
          5,
          4,
          4,
          4,
          4,
          4,
          4,
          5,
          4,
          5,
          5,
          4,
          5,
          3,
          5,
          5,
          5,
          5,
          5,
          5,
          5,
          5,
          5,
          3,
          5,
          4,
          2,
          3,
          4,
          4,
          5,
          5,
          5,
          5,
          4,
          5,
          5,
          5,
          null,
          1,
          4,
          3,
          3,
          1,
          3,
          1,
          2,
          3,
          3,
          3,
          2,
          2,
          3,
          3,
          3,
          4,
          3,
          5,
          4,
          3,
          3,
          3,
          2,
          4,
          3,
          4,
          1,
          3,
          4,
          3,
          5,
          4,
          4,
          4,
          2,
          3,
          4,
          4,
          4,
          4,
          3,
          4,
          5,
          4,
          4,
          3,
          5,
          4,
          4,
          4,
          3,
          5,
          4,
          5,
          4,
          5,
          5,
          5,
          4,
          4,
          5,
          4,
          5,
          4,
          5,
          5,
          4,
          5,
          3,
          5,
          5,
          5,
          3,
          2
         ]
        },
        {
         "name": "Part-time",
         "opacity": 0.5,
         "type": "histogram",
         "x": [
          5,
          5,
          4,
          5,
          5,
          5,
          5,
          5,
          5,
          4,
          4,
          5,
          3,
          null,
          5,
          3,
          5,
          5,
          5
         ]
        },
        {
         "name": "Seasonal",
         "opacity": 0.5,
         "type": "histogram",
         "x": [
          5,
          5,
          4,
          5,
          5,
          5,
          5,
          5,
          5,
          4,
          4,
          5,
          3,
          null,
          5,
          3,
          5,
          5,
          5
         ]
        },
        {
         "name": "Part-time, Seasonal",
         "opacity": 0.5,
         "type": "histogram",
         "x": [
          5,
          5,
          4,
          5,
          5,
          5,
          5,
          5,
          5,
          4,
          4,
          5,
          3,
          null,
          5,
          3,
          5,
          5,
          5
         ]
        }
       ],
       "layout": {
        "barmode": "stack",
        "template": {
         "data": {
          "bar": [
           {
            "error_x": {
             "color": "#2a3f5f"
            },
            "error_y": {
             "color": "#2a3f5f"
            },
            "marker": {
             "line": {
              "color": "#E5ECF6",
              "width": 0.5
             }
            },
            "type": "bar"
           }
          ],
          "barpolar": [
           {
            "marker": {
             "line": {
              "color": "#E5ECF6",
              "width": 0.5
             }
            },
            "type": "barpolar"
           }
          ],
          "carpet": [
           {
            "aaxis": {
             "endlinecolor": "#2a3f5f",
             "gridcolor": "white",
             "linecolor": "white",
             "minorgridcolor": "white",
             "startlinecolor": "#2a3f5f"
            },
            "baxis": {
             "endlinecolor": "#2a3f5f",
             "gridcolor": "white",
             "linecolor": "white",
             "minorgridcolor": "white",
             "startlinecolor": "#2a3f5f"
            },
            "type": "carpet"
           }
          ],
          "choropleth": [
           {
            "colorbar": {
             "outlinewidth": 0,
             "ticks": ""
            },
            "type": "choropleth"
           }
          ],
          "contour": [
           {
            "colorbar": {
             "outlinewidth": 0,
             "ticks": ""
            },
            "colorscale": [
             [
              0,
              "#0d0887"
             ],
             [
              0.1111111111111111,
              "#46039f"
             ],
             [
              0.2222222222222222,
              "#7201a8"
             ],
             [
              0.3333333333333333,
              "#9c179e"
             ],
             [
              0.4444444444444444,
              "#bd3786"
             ],
             [
              0.5555555555555556,
              "#d8576b"
             ],
             [
              0.6666666666666666,
              "#ed7953"
             ],
             [
              0.7777777777777778,
              "#fb9f3a"
             ],
             [
              0.8888888888888888,
              "#fdca26"
             ],
             [
              1,
              "#f0f921"
             ]
            ],
            "type": "contour"
           }
          ],
          "contourcarpet": [
           {
            "colorbar": {
             "outlinewidth": 0,
             "ticks": ""
            },
            "type": "contourcarpet"
           }
          ],
          "heatmap": [
           {
            "colorbar": {
             "outlinewidth": 0,
             "ticks": ""
            },
            "colorscale": [
             [
              0,
              "#0d0887"
             ],
             [
              0.1111111111111111,
              "#46039f"
             ],
             [
              0.2222222222222222,
              "#7201a8"
             ],
             [
              0.3333333333333333,
              "#9c179e"
             ],
             [
              0.4444444444444444,
              "#bd3786"
             ],
             [
              0.5555555555555556,
              "#d8576b"
             ],
             [
              0.6666666666666666,
              "#ed7953"
             ],
             [
              0.7777777777777778,
              "#fb9f3a"
             ],
             [
              0.8888888888888888,
              "#fdca26"
             ],
             [
              1,
              "#f0f921"
             ]
            ],
            "type": "heatmap"
           }
          ],
          "heatmapgl": [
           {
            "colorbar": {
             "outlinewidth": 0,
             "ticks": ""
            },
            "colorscale": [
             [
              0,
              "#0d0887"
             ],
             [
              0.1111111111111111,
              "#46039f"
             ],
             [
              0.2222222222222222,
              "#7201a8"
             ],
             [
              0.3333333333333333,
              "#9c179e"
             ],
             [
              0.4444444444444444,
              "#bd3786"
             ],
             [
              0.5555555555555556,
              "#d8576b"
             ],
             [
              0.6666666666666666,
              "#ed7953"
             ],
             [
              0.7777777777777778,
              "#fb9f3a"
             ],
             [
              0.8888888888888888,
              "#fdca26"
             ],
             [
              1,
              "#f0f921"
             ]
            ],
            "type": "heatmapgl"
           }
          ],
          "histogram": [
           {
            "marker": {
             "colorbar": {
              "outlinewidth": 0,
              "ticks": ""
             }
            },
            "type": "histogram"
           }
          ],
          "histogram2d": [
           {
            "colorbar": {
             "outlinewidth": 0,
             "ticks": ""
            },
            "colorscale": [
             [
              0,
              "#0d0887"
             ],
             [
              0.1111111111111111,
              "#46039f"
             ],
             [
              0.2222222222222222,
              "#7201a8"
             ],
             [
              0.3333333333333333,
              "#9c179e"
             ],
             [
              0.4444444444444444,
              "#bd3786"
             ],
             [
              0.5555555555555556,
              "#d8576b"
             ],
             [
              0.6666666666666666,
              "#ed7953"
             ],
             [
              0.7777777777777778,
              "#fb9f3a"
             ],
             [
              0.8888888888888888,
              "#fdca26"
             ],
             [
              1,
              "#f0f921"
             ]
            ],
            "type": "histogram2d"
           }
          ],
          "histogram2dcontour": [
           {
            "colorbar": {
             "outlinewidth": 0,
             "ticks": ""
            },
            "colorscale": [
             [
              0,
              "#0d0887"
             ],
             [
              0.1111111111111111,
              "#46039f"
             ],
             [
              0.2222222222222222,
              "#7201a8"
             ],
             [
              0.3333333333333333,
              "#9c179e"
             ],
             [
              0.4444444444444444,
              "#bd3786"
             ],
             [
              0.5555555555555556,
              "#d8576b"
             ],
             [
              0.6666666666666666,
              "#ed7953"
             ],
             [
              0.7777777777777778,
              "#fb9f3a"
             ],
             [
              0.8888888888888888,
              "#fdca26"
             ],
             [
              1,
              "#f0f921"
             ]
            ],
            "type": "histogram2dcontour"
           }
          ],
          "mesh3d": [
           {
            "colorbar": {
             "outlinewidth": 0,
             "ticks": ""
            },
            "type": "mesh3d"
           }
          ],
          "parcoords": [
           {
            "line": {
             "colorbar": {
              "outlinewidth": 0,
              "ticks": ""
             }
            },
            "type": "parcoords"
           }
          ],
          "pie": [
           {
            "automargin": true,
            "type": "pie"
           }
          ],
          "scatter": [
           {
            "marker": {
             "colorbar": {
              "outlinewidth": 0,
              "ticks": ""
             }
            },
            "type": "scatter"
           }
          ],
          "scatter3d": [
           {
            "line": {
             "colorbar": {
              "outlinewidth": 0,
              "ticks": ""
             }
            },
            "marker": {
             "colorbar": {
              "outlinewidth": 0,
              "ticks": ""
             }
            },
            "type": "scatter3d"
           }
          ],
          "scattercarpet": [
           {
            "marker": {
             "colorbar": {
              "outlinewidth": 0,
              "ticks": ""
             }
            },
            "type": "scattercarpet"
           }
          ],
          "scattergeo": [
           {
            "marker": {
             "colorbar": {
              "outlinewidth": 0,
              "ticks": ""
             }
            },
            "type": "scattergeo"
           }
          ],
          "scattergl": [
           {
            "marker": {
             "colorbar": {
              "outlinewidth": 0,
              "ticks": ""
             }
            },
            "type": "scattergl"
           }
          ],
          "scattermapbox": [
           {
            "marker": {
             "colorbar": {
              "outlinewidth": 0,
              "ticks": ""
             }
            },
            "type": "scattermapbox"
           }
          ],
          "scatterpolar": [
           {
            "marker": {
             "colorbar": {
              "outlinewidth": 0,
              "ticks": ""
             }
            },
            "type": "scatterpolar"
           }
          ],
          "scatterpolargl": [
           {
            "marker": {
             "colorbar": {
              "outlinewidth": 0,
              "ticks": ""
             }
            },
            "type": "scatterpolargl"
           }
          ],
          "scatterternary": [
           {
            "marker": {
             "colorbar": {
              "outlinewidth": 0,
              "ticks": ""
             }
            },
            "type": "scatterternary"
           }
          ],
          "surface": [
           {
            "colorbar": {
             "outlinewidth": 0,
             "ticks": ""
            },
            "colorscale": [
             [
              0,
              "#0d0887"
             ],
             [
              0.1111111111111111,
              "#46039f"
             ],
             [
              0.2222222222222222,
              "#7201a8"
             ],
             [
              0.3333333333333333,
              "#9c179e"
             ],
             [
              0.4444444444444444,
              "#bd3786"
             ],
             [
              0.5555555555555556,
              "#d8576b"
             ],
             [
              0.6666666666666666,
              "#ed7953"
             ],
             [
              0.7777777777777778,
              "#fb9f3a"
             ],
             [
              0.8888888888888888,
              "#fdca26"
             ],
             [
              1,
              "#f0f921"
             ]
            ],
            "type": "surface"
           }
          ],
          "table": [
           {
            "cells": {
             "fill": {
              "color": "#EBF0F8"
             },
             "line": {
              "color": "white"
             }
            },
            "header": {
             "fill": {
              "color": "#C8D4E3"
             },
             "line": {
              "color": "white"
             }
            },
            "type": "table"
           }
          ]
         },
         "layout": {
          "annotationdefaults": {
           "arrowcolor": "#2a3f5f",
           "arrowhead": 0,
           "arrowwidth": 1
          },
          "coloraxis": {
           "colorbar": {
            "outlinewidth": 0,
            "ticks": ""
           }
          },
          "colorscale": {
           "diverging": [
            [
             0,
             "#8e0152"
            ],
            [
             0.1,
             "#c51b7d"
            ],
            [
             0.2,
             "#de77ae"
            ],
            [
             0.3,
             "#f1b6da"
            ],
            [
             0.4,
             "#fde0ef"
            ],
            [
             0.5,
             "#f7f7f7"
            ],
            [
             0.6,
             "#e6f5d0"
            ],
            [
             0.7,
             "#b8e186"
            ],
            [
             0.8,
             "#7fbc41"
            ],
            [
             0.9,
             "#4d9221"
            ],
            [
             1,
             "#276419"
            ]
           ],
           "sequential": [
            [
             0,
             "#0d0887"
            ],
            [
             0.1111111111111111,
             "#46039f"
            ],
            [
             0.2222222222222222,
             "#7201a8"
            ],
            [
             0.3333333333333333,
             "#9c179e"
            ],
            [
             0.4444444444444444,
             "#bd3786"
            ],
            [
             0.5555555555555556,
             "#d8576b"
            ],
            [
             0.6666666666666666,
             "#ed7953"
            ],
            [
             0.7777777777777778,
             "#fb9f3a"
            ],
            [
             0.8888888888888888,
             "#fdca26"
            ],
            [
             1,
             "#f0f921"
            ]
           ],
           "sequentialminus": [
            [
             0,
             "#0d0887"
            ],
            [
             0.1111111111111111,
             "#46039f"
            ],
            [
             0.2222222222222222,
             "#7201a8"
            ],
            [
             0.3333333333333333,
             "#9c179e"
            ],
            [
             0.4444444444444444,
             "#bd3786"
            ],
            [
             0.5555555555555556,
             "#d8576b"
            ],
            [
             0.6666666666666666,
             "#ed7953"
            ],
            [
             0.7777777777777778,
             "#fb9f3a"
            ],
            [
             0.8888888888888888,
             "#fdca26"
            ],
            [
             1,
             "#f0f921"
            ]
           ]
          },
          "colorway": [
           "#636efa",
           "#EF553B",
           "#00cc96",
           "#ab63fa",
           "#FFA15A",
           "#19d3f3",
           "#FF6692",
           "#B6E880",
           "#FF97FF",
           "#FECB52"
          ],
          "font": {
           "color": "#2a3f5f"
          },
          "geo": {
           "bgcolor": "white",
           "lakecolor": "white",
           "landcolor": "#E5ECF6",
           "showlakes": true,
           "showland": true,
           "subunitcolor": "white"
          },
          "hoverlabel": {
           "align": "left"
          },
          "hovermode": "closest",
          "mapbox": {
           "style": "light"
          },
          "paper_bgcolor": "white",
          "plot_bgcolor": "#E5ECF6",
          "polar": {
           "angularaxis": {
            "gridcolor": "white",
            "linecolor": "white",
            "ticks": ""
           },
           "bgcolor": "#E5ECF6",
           "radialaxis": {
            "gridcolor": "white",
            "linecolor": "white",
            "ticks": ""
           }
          },
          "scene": {
           "xaxis": {
            "backgroundcolor": "#E5ECF6",
            "gridcolor": "white",
            "gridwidth": 2,
            "linecolor": "white",
            "showbackground": true,
            "ticks": "",
            "zerolinecolor": "white"
           },
           "yaxis": {
            "backgroundcolor": "#E5ECF6",
            "gridcolor": "white",
            "gridwidth": 2,
            "linecolor": "white",
            "showbackground": true,
            "ticks": "",
            "zerolinecolor": "white"
           },
           "zaxis": {
            "backgroundcolor": "#E5ECF6",
            "gridcolor": "white",
            "gridwidth": 2,
            "linecolor": "white",
            "showbackground": true,
            "ticks": "",
            "zerolinecolor": "white"
           }
          },
          "shapedefaults": {
           "line": {
            "color": "#2a3f5f"
           }
          },
          "ternary": {
           "aaxis": {
            "gridcolor": "white",
            "linecolor": "white",
            "ticks": ""
           },
           "baxis": {
            "gridcolor": "white",
            "linecolor": "white",
            "ticks": ""
           },
           "bgcolor": "#E5ECF6",
           "caxis": {
            "gridcolor": "white",
            "linecolor": "white",
            "ticks": ""
           }
          },
          "title": {
           "x": 0.05
          },
          "xaxis": {
           "automargin": true,
           "gridcolor": "white",
           "linecolor": "white",
           "ticks": "",
           "title": {
            "standoff": 15
           },
           "zerolinecolor": "white",
           "zerolinewidth": 2
          },
          "yaxis": {
           "automargin": true,
           "gridcolor": "white",
           "linecolor": "white",
           "ticks": "",
           "title": {
            "standoff": 15
           },
           "zerolinecolor": "white",
           "zerolinewidth": 2
          }
         }
        },
        "title": {
         "text": "My workplace is committed to building the strengths of each employee."
        },
        "updatemenus": [
         {
          "buttons": [
           {
            "args": [
             {
              "visible": [
               true,
               false,
               false,
               false,
               false,
               false,
               false,
               false,
               false,
               false,
               false,
               false,
               false,
               false,
               false,
               false,
               false,
               false,
               false,
               false,
               false,
               false,
               false,
               false,
               false
              ]
             },
             {
              "title": "My workplace is committed to building the strengths of each employee."
             }
            ],
            "label": "Total",
            "method": "update"
           },
           {
            "args": [
             {
              "visible": [
               false,
               true,
               true,
               true,
               true,
               true,
               true,
               false,
               false,
               false,
               false,
               false,
               false,
               false,
               false,
               false,
               false,
               false,
               false,
               false,
               false,
               false,
               false,
               false,
               false
              ]
             },
             {
              "title": "My workplace is committed to building the strengths of each employee."
             }
            ],
            "label": "Race",
            "method": "update"
           },
           {
            "args": [
             {
              "visible": [
               false,
               false,
               false,
               false,
               false,
               false,
               false,
               true,
               true,
               true,
               true,
               true,
               true,
               false,
               false,
               false,
               false,
               false,
               false,
               false,
               false,
               false,
               false,
               false,
               false
              ]
             },
             {
              "title": "My workplace is committed to building the strengths of each employee."
             }
            ],
            "label": "Age",
            "method": "update"
           },
           {
            "args": [
             {
              "visible": [
               false,
               false,
               false,
               false,
               false,
               false,
               false,
               false,
               false,
               false,
               false,
               false,
               false,
               true,
               true,
               false,
               false,
               false,
               false,
               false,
               false,
               false,
               false,
               false,
               false
              ]
             },
             {
              "title": "My workplace is committed to building the strengths of each employee."
             }
            ],
            "label": "Sexual Orientation",
            "method": "update"
           },
           {
            "args": [
             {
              "visible": [
               false,
               false,
               false,
               false,
               false,
               false,
               false,
               false,
               false,
               false,
               false,
               false,
               false,
               false,
               false,
               true,
               true,
               true,
               true,
               true,
               true,
               false,
               false,
               false,
               false
              ]
             },
             {
              "title": "My workplace is committed to building the strengths of each employee."
             }
            ],
            "label": "Tenure",
            "method": "update"
           },
           {
            "args": [
             {
              "visible": [
               false,
               false,
               false,
               false,
               false,
               false,
               false,
               false,
               false,
               false,
               false,
               false,
               false,
               false,
               false,
               false,
               false,
               false,
               false,
               false,
               false,
               true,
               true,
               true,
               true
              ]
             },
             {
              "title": "My workplace is committed to building the strengths of each employee."
             }
            ],
            "label": "Status",
            "method": "update"
           }
          ],
          "type": "buttons"
         }
        ]
       }
      },
      "text/html": [
       "<div>\n",
       "        \n",
       "        \n",
       "            <div id=\"c5fcbc0e-1ae8-4ff7-845c-212117d8843c\" class=\"plotly-graph-div\" style=\"height:525px; width:100%;\"></div>\n",
       "            <script type=\"text/javascript\">\n",
       "                require([\"plotly\"], function(Plotly) {\n",
       "                    window.PLOTLYENV=window.PLOTLYENV || {};\n",
       "                    \n",
       "                if (document.getElementById(\"c5fcbc0e-1ae8-4ff7-845c-212117d8843c\")) {\n",
       "                    Plotly.newPlot(\n",
       "                        'c5fcbc0e-1ae8-4ff7-845c-212117d8843c',\n",
       "                        [{\"name\": \"   \", \"opacity\": 0.5, \"type\": \"histogram\", \"x\": [5.0, 3.0, 5.0, 5.0, 1.0, 1.0, 1.0, 1.0, 1.0, 3.0, 2.0, 1.0, 3.0, 4.0, 5.0, 2.0, 2.0, 3.0, 4.0, 4.0, 4.0, 5.0, 4.0, 4.0, 4.0, 5.0, 5.0, 5.0, 5.0, 3.0, 2.0, 1.0, 3.0, 2.0, 2.0, 2.0, 4.0, 3.0, 4.0, 1.0, 3.0, 3.0, 3.0, 5.0, 4.0, 2.0, 2.0, 2.0, 4.0, 4.0, 3.0, 2.0, 4.0, 4.0, 3.0, 3.0, 3.0, 4.0, 3.0, 3.0, 3.0, 3.0, 4.0, 3.0, 3.0, 4.0, 4.0, 4.0, 4.0, 4.0, 5.0, 4.0, 4.0, 4.0, 4.0, 4.0, 4.0, 5.0, 4.0, 5.0, 5.0, 5.0, 5.0, 4.0, 5.0, 5.0, 3.0, 5.0, 5.0, 5.0, 5.0, 5.0, 5.0, 5.0, 5.0, 5.0, 5.0, 5.0, 3.0, 5.0, 4.0, 2.0, 3.0, 4.0, 4.0, 5.0, 5.0, 5.0, 5.0, 4.0, 5.0, 5.0, 5.0, 5.0, 5.0, null, 1.0, 4.0, 3.0, 3.0, 1.0, 3.0, 1.0, 2.0, 3.0, 3.0, 3.0, 2.0, 2.0, 3.0, 3.0, 3.0, 4.0, 3.0, 5.0, 4.0, 3.0, 3.0, 3.0, 5.0, 2.0, 4.0, 3.0, 4.0, 1.0, 3.0, 4.0, 3.0, 5.0, 4.0, 4.0, 4.0, 4.0, 2.0, 3.0, 4.0, 4.0, 4.0, 4.0, 3.0, 4.0, 4.0, 5.0, 4.0, 4.0, 4.0, 3.0, 5.0, 4.0, 4.0, 4.0, 2.0, 5.0, 3.0, 5.0, 4.0, 5.0, 4.0, 5.0, 5.0, 5.0, 5.0, 3.0, 4.0, 4.0, 5.0, 4.0, 5.0, 4.0, null, 5.0, 5.0, 5.0, 3.0, 4.0, 5.0, 5.0, 5.0, 3.0, 5.0, 5.0, 5.0, 5.0, 3.0, 2.0]}, {\"name\": \"White\", \"opacity\": 0.5, \"type\": \"histogram\", \"x\": [1.0, 4.0, 3.0, 3.0, 1.0, 3.0, 1.0, 2.0, 3.0, 3.0, 3.0, 2.0, 2.0, 3.0, 3.0, 3.0, 4.0, 3.0, 5.0, 4.0, 3.0, 3.0, 3.0, 5.0, 2.0, 4.0, 3.0, 4.0, 1.0, 3.0, 4.0, 3.0, 5.0, 4.0, 4.0, 4.0, 4.0, 2.0, 3.0, 4.0, 4.0, 4.0, 4.0, 3.0, 4.0, 4.0, 5.0, 4.0, 4.0, 4.0, 3.0, 5.0, 4.0, 4.0, 4.0, 2.0, 5.0, 3.0, 5.0, 4.0, 5.0, 4.0, 5.0, 5.0, 5.0, 5.0, 3.0, 4.0, 4.0, 5.0, 4.0, 5.0, 4.0, null, 5.0, 5.0, 5.0, 3.0, 4.0, 5.0, 5.0, 5.0, 3.0, 5.0, 5.0, 5.0]}, {\"name\": \"Latino/Hispanic\", \"opacity\": 0.5, \"type\": \"histogram\", \"x\": [1.0, 3.0, 2.0, 2.0, 2.0, 4.0, 3.0, 4.0, 1.0, 3.0, 3.0, 3.0, 5.0, 4.0, 2.0, 2.0, 2.0, 4.0, 4.0, 3.0, 2.0, 4.0, 4.0, 3.0, 3.0, 3.0, 4.0, 3.0, 3.0, 3.0, 3.0, 4.0, 3.0, 3.0, 4.0, 4.0, 4.0, 4.0, 4.0, 5.0, 4.0, 4.0, 4.0, 4.0, 4.0, 4.0, 5.0, 4.0, 5.0, 5.0, 5.0, 5.0, 4.0, 5.0, 5.0, 3.0, 5.0, 5.0, 5.0, 5.0, 5.0, 5.0, 5.0, 5.0, 5.0, 5.0, 5.0, 3.0]}, {\"name\": \"Black/African American\", \"opacity\": 0.5, \"type\": \"histogram\", \"x\": [1.0, 1.0, 1.0, 1.0, 1.0, 3.0, 2.0, 1.0, 3.0, 4.0, 5.0, 2.0, 2.0, 3.0, 4.0, 4.0, 4.0, 5.0, 4.0, 4.0, 4.0, 5.0, 5.0, 5.0]}, {\"name\": \"Two or more Races\", \"opacity\": 0.5, \"type\": \"histogram\", \"x\": [2.0, 3.0, 4.0, 4.0, 5.0, 5.0, 5.0, 5.0, 4.0, 5.0, 5.0, 5.0, 5.0, 5.0, null]}, {\"name\": \"Asian\", \"opacity\": 0.5, \"type\": \"histogram\", \"x\": [3.0, 5.0, 5.0]}, {\"name\": \"Indian/Native American\", \"opacity\": 0.5, \"type\": \"histogram\", \"x\": [3.0, 2.0]}, {\"name\": \"25-34\", \"opacity\": 0.5, \"type\": \"histogram\", \"x\": [3.0, 5.0, 1.0, 1.0, 4.0, 5.0, 2.0, 4.0, 5.0, 5.0, 5.0, 5.0, 1.0, 2.0, 4.0, 3.0, 2.0, 2.0, 4.0, 3.0, 4.0, 4.0, 3.0, 3.0, 3.0, 4.0, 3.0, 4.0, 5.0, 4.0, 4.0, 5.0, 4.0, 5.0, 5.0, 3.0, 5.0, 5.0, 5.0, 5.0, 5.0, 5.0, 2.0, 5.0, 5.0, 5.0, 5.0, 5.0, null, 3.0, 3.0, 1.0, 2.0, 3.0, 3.0, 3.0, 3.0, 4.0, 3.0, 5.0, 4.0, 3.0, 5.0, 3.0, 4.0, 4.0, 3.0, 4.0, 5.0, 4.0, 3.0, 5.0, 4.0, 2.0, 5.0, 3.0, 4.0, 5.0, 5.0, 4.0, 5.0, 4.0, 5.0, 3.0, 4.0, 3.0]}, {\"name\": \"35-44\", \"opacity\": 0.5, \"type\": \"histogram\", \"x\": [5.0, 3.0, 2.0, 3.0, 4.0, 4.0, 3.0, 2.0, 2.0, 4.0, 3.0, 5.0, 4.0, 4.0, 2.0, 3.0, 4.0, 3.0, 4.0, 4.0, 4.0, 4.0, 4.0, 5.0, 5.0, 5.0, 5.0, 3.0, 3.0, 4.0, 1.0, 4.0, 1.0, 2.0, 4.0, 5.0, 3.0, 3.0, 4.0, 4.0, 4.0, 4.0, 4.0, 5.0, 5.0, 3.0, 5.0]}, {\"name\": \"45-54\", \"opacity\": 0.5, \"type\": \"histogram\", \"x\": [1.0, 1.0, 4.0, 2.0, 3.0, 2.0, 3.0, 3.0, 4.0, 4.0, 5.0, 5.0, 3.0, 3.0, 3.0, 3.0, 2.0, 4.0, 3.0, 4.0, 4.0, 4.0, 4.0, 4.0, 5.0, 5.0, null, 5.0]}, {\"name\": \"55-64\", \"opacity\": 0.5, \"type\": \"histogram\", \"x\": [1.0, 2.0, 3.0, 4.0, 5.0, 1.0, 3.0, 4.0, 4.0, 4.0, 5.0, 3.0, 1.0, 2.0, 4.0, 5.0, 3.0, 4.0, 4.0, 5.0, 5.0, 5.0, 5.0, 5.0, 2.0]}, {\"name\": \"18-24\", \"opacity\": 0.5, \"type\": \"histogram\", \"x\": [5.0, 3.0, 5.0, 5.0, 5.0, 5.0, 5.0, 5.0, 2.0, 4.0, 5.0, 5.0]}, {\"name\": \"65-74\", \"opacity\": 0.5, \"type\": \"histogram\", \"x\": [4.0, 3.0, 4.0, 5.0, 4.0, 4.0]}, {\"name\": \"Straight\", \"opacity\": 0.5, \"type\": \"histogram\", \"x\": [5.0, 5.0, 1.0, 1.0, 1.0, 1.0, 1.0, 3.0, 2.0, 1.0, 3.0, 4.0, 5.0, 2.0, 2.0, 3.0, 4.0, 4.0, 5.0, 4.0, 4.0, 5.0, 5.0, 5.0, 5.0, 3.0, 2.0, 2.0, 2.0, 4.0, 3.0, 4.0, 1.0, 3.0, 3.0, 3.0, 5.0, 2.0, 4.0, 4.0, 3.0, 2.0, 4.0, 4.0, 3.0, 3.0, 3.0, 4.0, 3.0, 3.0, 3.0, 4.0, 3.0, 3.0, 4.0, 4.0, 4.0, 4.0, 5.0, 4.0, 4.0, 4.0, 4.0, 4.0, 4.0, 4.0, 5.0, 4.0, 5.0, 5.0, 3.0, 5.0, 5.0, 5.0, 5.0, 5.0, 5.0, 5.0, 5.0, 5.0, 5.0, 5.0, 3.0, 5.0, 4.0, 3.0, 4.0, 4.0, 5.0, 5.0, 5.0, 4.0, 5.0, 5.0, 5.0, 5.0, 5.0, null, 1.0, 4.0, 3.0, 3.0, 1.0, 3.0, 3.0, 2.0, 3.0, 3.0, 4.0, 3.0, 5.0, 4.0, 3.0, 5.0, 2.0, 4.0, 3.0, 4.0, 1.0, 3.0, 4.0, 5.0, 4.0, 4.0, 2.0, 4.0, 4.0, 5.0, 4.0, 4.0, 5.0, 4.0, 4.0, 4.0, 2.0, 5.0, 3.0, 5.0, 4.0, 5.0, 3.0, 4.0, 4.0, 5.0, 4.0, 4.0, null, 5.0, 5.0, 5.0, 3.0, 4.0, 5.0, 5.0, 5.0, 3.0, 5.0, 5.0, 5.0, 5.0, 2.0]}, {\"name\": \"LGBTQ+\", \"opacity\": 0.5, \"type\": \"histogram\", \"x\": [4.0, 2.0, 1.0, 4.0, 2.0, 2.0, 3.0, 4.0, 5.0, 5.0, 5.0, 2.0, 5.0, 1.0, 3.0, 2.0, 3.0, 2.0, 3.0, 3.0, 3.0, 4.0, 4.0, 3.0, 4.0, 4.0, 3.0, 4.0, 4.0, 3.0, 4.0, 5.0, 5.0, 5.0, 3.0]}, {\"name\": \"1-3 years\", \"opacity\": 0.5, \"type\": \"histogram\", \"x\": [5.0, 3.0, 5.0, 5.0, 1.0, 1.0, 1.0, 1.0, 3.0, 5.0, 4.0, 4.0, 4.0, 5.0, 5.0, 1.0, 2.0, 2.0, 4.0, 3.0, 2.0, 3.0, 3.0, 3.0, 3.0, 3.0, 4.0, 3.0, 4.0, 4.0, 4.0, 5.0, 5.0, 5.0, 5.0, 5.0, 5.0, 4.0, 5.0, 5.0, 5.0, 3.0, 1.0, 3.0, 3.0, 3.0, 2.0, 3.0, 3.0, 3.0, 4.0, 5.0, 3.0, 3.0, 3.0, 3.0, 4.0, 4.0, 4.0, 3.0, 4.0, 4.0, 3.0, 5.0, 5.0, 4.0, 5.0, 3.0, 5.0, 2.0]}, {\"name\": \"3-5 years\", \"opacity\": 0.5, \"type\": \"histogram\", \"x\": [1.0, 1.0, 2.0, 2.0, 5.0, 4.0, 3.0, 1.0, 3.0, 4.0, 3.0, 5.0, 4.0, 4.0, 4.0, 5.0, 5.0, 3.0, 4.0, 2.0, 1.0, 4.0, 3.0, 2.0, 4.0, 4.0, 5.0, 4.0, 4.0, 4.0, 5.0, 5.0, 4.0, 5.0, 5.0, 4.0, 3.0, 4.0, 5.0, 5.0]}, {\"name\": \"< than a year\", \"opacity\": 0.5, \"type\": \"histogram\", \"x\": [4.0, 2.0, 4.0, 5.0, 5.0, 5.0, 5.0, 5.0, 5.0, 5.0, 5.0, 5.0, 5.0, 5.0, null, 3.0, 2.0, 1.0, 4.0, 3.0, 4.0, 4.0, 2.0, 4.0, 5.0, 5.0, 5.0, 4.0, null, 5.0, 3.0, 5.0]}, {\"name\": \"5-10 years\", \"opacity\": 0.5, \"type\": \"histogram\", \"x\": [3.0, 3.0, 4.0, 5.0, 5.0, 2.0, 2.0, 4.0, 4.0, 4.0, 4.0, 3.0, 4.0, 4.0, 4.0, 4.0, 3.0, 4.0, 3.0, 3.0, 4.0, 3.0, 3.0, 4.0, 2.0, 4.0, 4.0, 5.0]}, {\"name\": \"10+ years\", \"opacity\": 0.5, \"type\": \"histogram\", \"x\": [4.0, 3.0, 4.0, 3.0, 2.0, 3.0, 3.0, 4.0, 4.0, 4.0, 3.0, 5.0, 5.0, 4.0, 1.0, 4.0, 4.0, 4.0, 5.0, 5.0, 4.0, 5.0, 5.0]}, {\"name\": \"1 year\", \"opacity\": 0.5, \"type\": \"histogram\", \"x\": [2.0, 3.0, 5.0, 2.0, 5.0, 5.0, 5.0, 5.0, 2.0, 5.0, 3.0]}, {\"name\": \"Full-time\", \"opacity\": 0.5, \"type\": \"histogram\", \"x\": [5.0, 3.0, 1.0, 1.0, 1.0, 1.0, 1.0, 3.0, 2.0, 1.0, 3.0, 4.0, 5.0, 2.0, 2.0, 3.0, 4.0, 4.0, 5.0, 4.0, 4.0, 4.0, 5.0, 5.0, 5.0, 5.0, 3.0, 2.0, 1.0, 3.0, 2.0, 2.0, 2.0, 4.0, 3.0, 4.0, 1.0, 3.0, 3.0, 3.0, 5.0, 4.0, 2.0, 2.0, 2.0, 4.0, 4.0, 3.0, 2.0, 4.0, 4.0, 3.0, 3.0, 3.0, 4.0, 3.0, 3.0, 3.0, 4.0, 3.0, 3.0, 4.0, 4.0, 4.0, 4.0, 4.0, 5.0, 4.0, 4.0, 4.0, 4.0, 4.0, 4.0, 5.0, 4.0, 5.0, 5.0, 4.0, 5.0, 3.0, 5.0, 5.0, 5.0, 5.0, 5.0, 5.0, 5.0, 5.0, 5.0, 3.0, 5.0, 4.0, 2.0, 3.0, 4.0, 4.0, 5.0, 5.0, 5.0, 5.0, 4.0, 5.0, 5.0, 5.0, null, 1.0, 4.0, 3.0, 3.0, 1.0, 3.0, 1.0, 2.0, 3.0, 3.0, 3.0, 2.0, 2.0, 3.0, 3.0, 3.0, 4.0, 3.0, 5.0, 4.0, 3.0, 3.0, 3.0, 2.0, 4.0, 3.0, 4.0, 1.0, 3.0, 4.0, 3.0, 5.0, 4.0, 4.0, 4.0, 2.0, 3.0, 4.0, 4.0, 4.0, 4.0, 3.0, 4.0, 5.0, 4.0, 4.0, 3.0, 5.0, 4.0, 4.0, 4.0, 3.0, 5.0, 4.0, 5.0, 4.0, 5.0, 5.0, 5.0, 4.0, 4.0, 5.0, 4.0, 5.0, 4.0, 5.0, 5.0, 4.0, 5.0, 3.0, 5.0, 5.0, 5.0, 3.0, 2.0]}, {\"name\": \"Part-time\", \"opacity\": 0.5, \"type\": \"histogram\", \"x\": [5.0, 5.0, 4.0, 5.0, 5.0, 5.0, 5.0, 5.0, 5.0, 4.0, 4.0, 5.0, 3.0, null, 5.0, 3.0, 5.0, 5.0, 5.0]}, {\"name\": \"Seasonal\", \"opacity\": 0.5, \"type\": \"histogram\", \"x\": [5.0, 5.0, 4.0, 5.0, 5.0, 5.0, 5.0, 5.0, 5.0, 4.0, 4.0, 5.0, 3.0, null, 5.0, 3.0, 5.0, 5.0, 5.0]}, {\"name\": \"Part-time, Seasonal\", \"opacity\": 0.5, \"type\": \"histogram\", \"x\": [5.0, 5.0, 4.0, 5.0, 5.0, 5.0, 5.0, 5.0, 5.0, 4.0, 4.0, 5.0, 3.0, null, 5.0, 3.0, 5.0, 5.0, 5.0]}],\n",
       "                        {\"barmode\": \"stack\", \"template\": {\"data\": {\"bar\": [{\"error_x\": {\"color\": \"#2a3f5f\"}, \"error_y\": {\"color\": \"#2a3f5f\"}, \"marker\": {\"line\": {\"color\": \"#E5ECF6\", \"width\": 0.5}}, \"type\": \"bar\"}], \"barpolar\": [{\"marker\": {\"line\": {\"color\": \"#E5ECF6\", \"width\": 0.5}}, \"type\": \"barpolar\"}], \"carpet\": [{\"aaxis\": {\"endlinecolor\": \"#2a3f5f\", \"gridcolor\": \"white\", \"linecolor\": \"white\", \"minorgridcolor\": \"white\", \"startlinecolor\": \"#2a3f5f\"}, \"baxis\": {\"endlinecolor\": \"#2a3f5f\", \"gridcolor\": \"white\", \"linecolor\": \"white\", \"minorgridcolor\": \"white\", \"startlinecolor\": \"#2a3f5f\"}, \"type\": \"carpet\"}], \"choropleth\": [{\"colorbar\": {\"outlinewidth\": 0, \"ticks\": \"\"}, \"type\": \"choropleth\"}], \"contour\": [{\"colorbar\": {\"outlinewidth\": 0, \"ticks\": \"\"}, \"colorscale\": [[0.0, \"#0d0887\"], [0.1111111111111111, \"#46039f\"], [0.2222222222222222, \"#7201a8\"], [0.3333333333333333, \"#9c179e\"], [0.4444444444444444, \"#bd3786\"], [0.5555555555555556, \"#d8576b\"], [0.6666666666666666, \"#ed7953\"], [0.7777777777777778, \"#fb9f3a\"], [0.8888888888888888, \"#fdca26\"], [1.0, \"#f0f921\"]], \"type\": \"contour\"}], \"contourcarpet\": [{\"colorbar\": {\"outlinewidth\": 0, \"ticks\": \"\"}, \"type\": \"contourcarpet\"}], \"heatmap\": [{\"colorbar\": {\"outlinewidth\": 0, \"ticks\": \"\"}, \"colorscale\": [[0.0, \"#0d0887\"], [0.1111111111111111, \"#46039f\"], [0.2222222222222222, \"#7201a8\"], [0.3333333333333333, \"#9c179e\"], [0.4444444444444444, \"#bd3786\"], [0.5555555555555556, \"#d8576b\"], [0.6666666666666666, \"#ed7953\"], [0.7777777777777778, \"#fb9f3a\"], [0.8888888888888888, \"#fdca26\"], [1.0, \"#f0f921\"]], \"type\": \"heatmap\"}], \"heatmapgl\": [{\"colorbar\": {\"outlinewidth\": 0, \"ticks\": \"\"}, \"colorscale\": [[0.0, \"#0d0887\"], [0.1111111111111111, \"#46039f\"], [0.2222222222222222, \"#7201a8\"], [0.3333333333333333, \"#9c179e\"], [0.4444444444444444, \"#bd3786\"], [0.5555555555555556, \"#d8576b\"], [0.6666666666666666, \"#ed7953\"], [0.7777777777777778, \"#fb9f3a\"], [0.8888888888888888, \"#fdca26\"], [1.0, \"#f0f921\"]], \"type\": \"heatmapgl\"}], \"histogram\": [{\"marker\": {\"colorbar\": {\"outlinewidth\": 0, \"ticks\": \"\"}}, \"type\": \"histogram\"}], \"histogram2d\": [{\"colorbar\": {\"outlinewidth\": 0, \"ticks\": \"\"}, \"colorscale\": [[0.0, \"#0d0887\"], [0.1111111111111111, \"#46039f\"], [0.2222222222222222, \"#7201a8\"], [0.3333333333333333, \"#9c179e\"], [0.4444444444444444, \"#bd3786\"], [0.5555555555555556, \"#d8576b\"], [0.6666666666666666, \"#ed7953\"], [0.7777777777777778, \"#fb9f3a\"], [0.8888888888888888, \"#fdca26\"], [1.0, \"#f0f921\"]], \"type\": \"histogram2d\"}], \"histogram2dcontour\": [{\"colorbar\": {\"outlinewidth\": 0, \"ticks\": \"\"}, \"colorscale\": [[0.0, \"#0d0887\"], [0.1111111111111111, \"#46039f\"], [0.2222222222222222, \"#7201a8\"], [0.3333333333333333, \"#9c179e\"], [0.4444444444444444, \"#bd3786\"], [0.5555555555555556, \"#d8576b\"], [0.6666666666666666, \"#ed7953\"], [0.7777777777777778, \"#fb9f3a\"], [0.8888888888888888, \"#fdca26\"], [1.0, \"#f0f921\"]], \"type\": \"histogram2dcontour\"}], \"mesh3d\": [{\"colorbar\": {\"outlinewidth\": 0, \"ticks\": \"\"}, \"type\": \"mesh3d\"}], \"parcoords\": [{\"line\": {\"colorbar\": {\"outlinewidth\": 0, \"ticks\": \"\"}}, \"type\": \"parcoords\"}], \"pie\": [{\"automargin\": true, \"type\": \"pie\"}], \"scatter\": [{\"marker\": {\"colorbar\": {\"outlinewidth\": 0, \"ticks\": \"\"}}, \"type\": \"scatter\"}], \"scatter3d\": [{\"line\": {\"colorbar\": {\"outlinewidth\": 0, \"ticks\": \"\"}}, \"marker\": {\"colorbar\": {\"outlinewidth\": 0, \"ticks\": \"\"}}, \"type\": \"scatter3d\"}], \"scattercarpet\": [{\"marker\": {\"colorbar\": {\"outlinewidth\": 0, \"ticks\": \"\"}}, \"type\": \"scattercarpet\"}], \"scattergeo\": [{\"marker\": {\"colorbar\": {\"outlinewidth\": 0, \"ticks\": \"\"}}, \"type\": \"scattergeo\"}], \"scattergl\": [{\"marker\": {\"colorbar\": {\"outlinewidth\": 0, \"ticks\": \"\"}}, \"type\": \"scattergl\"}], \"scattermapbox\": [{\"marker\": {\"colorbar\": {\"outlinewidth\": 0, \"ticks\": \"\"}}, \"type\": \"scattermapbox\"}], \"scatterpolar\": [{\"marker\": {\"colorbar\": {\"outlinewidth\": 0, \"ticks\": \"\"}}, \"type\": \"scatterpolar\"}], \"scatterpolargl\": [{\"marker\": {\"colorbar\": {\"outlinewidth\": 0, \"ticks\": \"\"}}, \"type\": \"scatterpolargl\"}], \"scatterternary\": [{\"marker\": {\"colorbar\": {\"outlinewidth\": 0, \"ticks\": \"\"}}, \"type\": \"scatterternary\"}], \"surface\": [{\"colorbar\": {\"outlinewidth\": 0, \"ticks\": \"\"}, \"colorscale\": [[0.0, \"#0d0887\"], [0.1111111111111111, \"#46039f\"], [0.2222222222222222, \"#7201a8\"], [0.3333333333333333, \"#9c179e\"], [0.4444444444444444, \"#bd3786\"], [0.5555555555555556, \"#d8576b\"], [0.6666666666666666, \"#ed7953\"], [0.7777777777777778, \"#fb9f3a\"], [0.8888888888888888, \"#fdca26\"], [1.0, \"#f0f921\"]], \"type\": \"surface\"}], \"table\": [{\"cells\": {\"fill\": {\"color\": \"#EBF0F8\"}, \"line\": {\"color\": \"white\"}}, \"header\": {\"fill\": {\"color\": \"#C8D4E3\"}, \"line\": {\"color\": \"white\"}}, \"type\": \"table\"}]}, \"layout\": {\"annotationdefaults\": {\"arrowcolor\": \"#2a3f5f\", \"arrowhead\": 0, \"arrowwidth\": 1}, \"coloraxis\": {\"colorbar\": {\"outlinewidth\": 0, \"ticks\": \"\"}}, \"colorscale\": {\"diverging\": [[0, \"#8e0152\"], [0.1, \"#c51b7d\"], [0.2, \"#de77ae\"], [0.3, \"#f1b6da\"], [0.4, \"#fde0ef\"], [0.5, \"#f7f7f7\"], [0.6, \"#e6f5d0\"], [0.7, \"#b8e186\"], [0.8, \"#7fbc41\"], [0.9, \"#4d9221\"], [1, \"#276419\"]], \"sequential\": [[0.0, \"#0d0887\"], [0.1111111111111111, \"#46039f\"], [0.2222222222222222, \"#7201a8\"], [0.3333333333333333, \"#9c179e\"], [0.4444444444444444, \"#bd3786\"], [0.5555555555555556, \"#d8576b\"], [0.6666666666666666, \"#ed7953\"], [0.7777777777777778, \"#fb9f3a\"], [0.8888888888888888, \"#fdca26\"], [1.0, \"#f0f921\"]], \"sequentialminus\": [[0.0, \"#0d0887\"], [0.1111111111111111, \"#46039f\"], [0.2222222222222222, \"#7201a8\"], [0.3333333333333333, \"#9c179e\"], [0.4444444444444444, \"#bd3786\"], [0.5555555555555556, \"#d8576b\"], [0.6666666666666666, \"#ed7953\"], [0.7777777777777778, \"#fb9f3a\"], [0.8888888888888888, \"#fdca26\"], [1.0, \"#f0f921\"]]}, \"colorway\": [\"#636efa\", \"#EF553B\", \"#00cc96\", \"#ab63fa\", \"#FFA15A\", \"#19d3f3\", \"#FF6692\", \"#B6E880\", \"#FF97FF\", \"#FECB52\"], \"font\": {\"color\": \"#2a3f5f\"}, \"geo\": {\"bgcolor\": \"white\", \"lakecolor\": \"white\", \"landcolor\": \"#E5ECF6\", \"showlakes\": true, \"showland\": true, \"subunitcolor\": \"white\"}, \"hoverlabel\": {\"align\": \"left\"}, \"hovermode\": \"closest\", \"mapbox\": {\"style\": \"light\"}, \"paper_bgcolor\": \"white\", \"plot_bgcolor\": \"#E5ECF6\", \"polar\": {\"angularaxis\": {\"gridcolor\": \"white\", \"linecolor\": \"white\", \"ticks\": \"\"}, \"bgcolor\": \"#E5ECF6\", \"radialaxis\": {\"gridcolor\": \"white\", \"linecolor\": \"white\", \"ticks\": \"\"}}, \"scene\": {\"xaxis\": {\"backgroundcolor\": \"#E5ECF6\", \"gridcolor\": \"white\", \"gridwidth\": 2, \"linecolor\": \"white\", \"showbackground\": true, \"ticks\": \"\", \"zerolinecolor\": \"white\"}, \"yaxis\": {\"backgroundcolor\": \"#E5ECF6\", \"gridcolor\": \"white\", \"gridwidth\": 2, \"linecolor\": \"white\", \"showbackground\": true, \"ticks\": \"\", \"zerolinecolor\": \"white\"}, \"zaxis\": {\"backgroundcolor\": \"#E5ECF6\", \"gridcolor\": \"white\", \"gridwidth\": 2, \"linecolor\": \"white\", \"showbackground\": true, \"ticks\": \"\", \"zerolinecolor\": \"white\"}}, \"shapedefaults\": {\"line\": {\"color\": \"#2a3f5f\"}}, \"ternary\": {\"aaxis\": {\"gridcolor\": \"white\", \"linecolor\": \"white\", \"ticks\": \"\"}, \"baxis\": {\"gridcolor\": \"white\", \"linecolor\": \"white\", \"ticks\": \"\"}, \"bgcolor\": \"#E5ECF6\", \"caxis\": {\"gridcolor\": \"white\", \"linecolor\": \"white\", \"ticks\": \"\"}}, \"title\": {\"x\": 0.05}, \"xaxis\": {\"automargin\": true, \"gridcolor\": \"white\", \"linecolor\": \"white\", \"ticks\": \"\", \"title\": {\"standoff\": 15}, \"zerolinecolor\": \"white\", \"zerolinewidth\": 2}, \"yaxis\": {\"automargin\": true, \"gridcolor\": \"white\", \"linecolor\": \"white\", \"ticks\": \"\", \"title\": {\"standoff\": 15}, \"zerolinecolor\": \"white\", \"zerolinewidth\": 2}}}, \"title\": {\"text\": \"My workplace is committed to building the strengths of each employee.\"}, \"updatemenus\": [{\"buttons\": [{\"args\": [{\"visible\": [true, false, false, false, false, false, false, false, false, false, false, false, false, false, false, false, false, false, false, false, false, false, false, false, false]}, {\"title\": \"My workplace is committed to building the strengths of each employee.\"}], \"label\": \"Total\", \"method\": \"update\"}, {\"args\": [{\"visible\": [false, true, true, true, true, true, true, false, false, false, false, false, false, false, false, false, false, false, false, false, false, false, false, false, false]}, {\"title\": \"My workplace is committed to building the strengths of each employee.\"}], \"label\": \"Race\", \"method\": \"update\"}, {\"args\": [{\"visible\": [false, false, false, false, false, false, false, true, true, true, true, true, true, false, false, false, false, false, false, false, false, false, false, false, false]}, {\"title\": \"My workplace is committed to building the strengths of each employee.\"}], \"label\": \"Age\", \"method\": \"update\"}, {\"args\": [{\"visible\": [false, false, false, false, false, false, false, false, false, false, false, false, false, true, true, false, false, false, false, false, false, false, false, false, false]}, {\"title\": \"My workplace is committed to building the strengths of each employee.\"}], \"label\": \"Sexual Orientation\", \"method\": \"update\"}, {\"args\": [{\"visible\": [false, false, false, false, false, false, false, false, false, false, false, false, false, false, false, true, true, true, true, true, true, false, false, false, false]}, {\"title\": \"My workplace is committed to building the strengths of each employee.\"}], \"label\": \"Tenure\", \"method\": \"update\"}, {\"args\": [{\"visible\": [false, false, false, false, false, false, false, false, false, false, false, false, false, false, false, false, false, false, false, false, false, true, true, true, true]}, {\"title\": \"My workplace is committed to building the strengths of each employee.\"}], \"label\": \"Status\", \"method\": \"update\"}], \"type\": \"buttons\"}]},\n",
       "                        {\"responsive\": true}\n",
       "                    ).then(function(){\n",
       "                            \n",
       "var gd = document.getElementById('c5fcbc0e-1ae8-4ff7-845c-212117d8843c');\n",
       "var x = new MutationObserver(function (mutations, observer) {{\n",
       "        var display = window.getComputedStyle(gd).display;\n",
       "        if (!display || display === 'none') {{\n",
       "            console.log([gd, 'removed!']);\n",
       "            Plotly.purge(gd);\n",
       "            observer.disconnect();\n",
       "        }}\n",
       "}});\n",
       "\n",
       "// Listen for the removal of the full notebook cells\n",
       "var notebookContainer = gd.closest('#notebook-container');\n",
       "if (notebookContainer) {{\n",
       "    x.observe(notebookContainer, {childList: true});\n",
       "}}\n",
       "\n",
       "// Listen for the clearing of the current output cell\n",
       "var outputEl = gd.closest('.output');\n",
       "if (outputEl) {{\n",
       "    x.observe(outputEl, {childList: true});\n",
       "}}\n",
       "\n",
       "                        })\n",
       "                };\n",
       "                });\n",
       "            </script>\n",
       "        </div>"
      ]
     },
     "metadata": {},
     "output_type": "display_data"
    }
   ],
   "source": [
    "#defining list_updatemenus\n",
    "list_updatemenus = [{'label': 'Total',\n",
    "                     'method': 'update',\n",
    "                     'args': [{'visible': [True, False, False, False, False, False, False, False, False, False, False, False, False, False, False, False, False, False, False, False, False, False, False, False, False]}, {'title': 'My workplace is committed to building the strengths of each employee.'}]},\n",
    "                    {'label': 'Race',\n",
    "                     'method': 'update',\n",
    "                     'args': [{'visible': [False, True, True, True, True, True, True, False, False, False, False, False, False, False, False, False, False, False, False, False, False, False, False, False, False]}, {'title': 'My workplace is committed to building the strengths of each employee.'}]},\n",
    "                    {'label': 'Age',\n",
    "                     'method': 'update',\n",
    "                     'args': [{'visible': [False, False, False, False, False, False, False, True, True, True, True, True, True, False, False, False, False, False, False, False, False, False, False, False, False]}, {'title': 'My workplace is committed to building the strengths of each employee.'}]},\n",
    "                    {'label': 'Sexual Orientation',\n",
    "                     'method': 'update',\n",
    "                     'args': [{'visible': [False, False, False, False, False, False, False, False, False, False, False, False, False, True, True, False, False, False, False, False, False, False, False, False, False]}, {'title': 'My workplace is committed to building the strengths of each employee.'}]},\n",
    "                   {'label': 'Tenure',\n",
    "                     'method': 'update',\n",
    "                     'args': [{'visible': [False, False, False, False, False, False, False, False, False, False, False, False, False, False, False, True, True, True, True, True, True, False, False, False, False]}, {'title': 'My workplace is committed to building the strengths of each employee.'}]},\n",
    "                   {'label': 'Status',\n",
    "                     'method': 'update',\n",
    "                     'args': [{'visible': [False, False, False, False, False, False, False, False, False, False, False, False, False, False, False, False, False, False, False, False, False, True, True, True, True]}, {'title': 'My workplace is committed to building the strengths of each employee.'}]}\n",
    "                   ]\n",
    "#defining graph objects\n",
    "x_total = dei[\"My workplace is committed to building the strengths of each employee.   \"]\n",
    "x_white = dei[dei['What is your race? ']==\"White\"][\"My workplace is committed to building the strengths of each employee.   \"]\n",
    "x_latinx = dei[dei['What is your race? ']==\"Latino/Hispanic\"][\"My workplace is committed to building the strengths of each employee.   \"]\n",
    "x_black = dei[dei['What is your race? ']==\"Black/ African American\"][\"My workplace is committed to building the strengths of each employee.   \"]\n",
    "x_two_plus = dei[dei['What is your race? ']==\"Two or more Races\"][\"My workplace is committed to building the strengths of each employee.   \"]\n",
    "x_asian = dei[dei['What is your race? ']==\"Asian\"][\"My workplace is committed to building the strengths of each employee.   \"]\n",
    "x_first_peoples = dei[dei['What is your race? ']==\"Indian/ Native American\"][\"My workplace is committed to building the strengths of each employee.   \"]\n",
    "x_age1 = dei[dei[\"What is your age?\"]==\"25-34\"][\"My workplace is committed to building the strengths of each employee.   \"]\n",
    "x_age2 = dei[dei[\"What is your age?\"]==\"35-44\"][\"My workplace is committed to building the strengths of each employee.   \"]\n",
    "x_age3 = dei[dei[\"What is your age?\"]==\"45-54\"][\"My workplace is committed to building the strengths of each employee.   \"]\n",
    "x_age4 = dei[dei[\"What is your age?\"]==\"55-64\"][\"My workplace is committed to building the strengths of each employee.   \"]\n",
    "x_age5 = dei[dei[\"What is your age?\"]==\"18-24\"][\"My workplace is committed to building the strengths of each employee.   \"]\n",
    "x_age6 = dei[dei[\"What is your age?\"]==\"65-74\"][\"My workplace is committed to building the strengths of each employee.   \"]\n",
    "x_straight = dei[dei[\"What is your sexual orientation?\"]==\"Straight\"][\"My workplace is committed to building the strengths of each employee.   \"]\n",
    "x_lgbtq = dei[dei[\"What is your sexual orientation?\"]==\"LGBTQ+\"][\"My workplace is committed to building the strengths of each employee.   \"]\n",
    "x_tenure1 = dei[dei[\"How long have you worked for FC?\"]==\"1-3 years\"][\"My workplace is committed to building the strengths of each employee.   \"]\n",
    "x_tenure2 = dei[dei[\"How long have you worked for FC?\"]==\"3-5 years\"][\"My workplace is committed to building the strengths of each employee.   \"]\n",
    "x_tenure3 = dei[dei[\"How long have you worked for FC?\"]==\"Less than a year\"][\"My workplace is committed to building the strengths of each employee.   \"]\n",
    "x_tenure4 = dei[dei[\"How long have you worked for FC?\"]==\"5-10 years\"][\"My workplace is committed to building the strengths of each employee.   \"]\n",
    "x_tenure5 = dei[dei[\"How long have you worked for FC?\"]==\"10+ years\"][\"My workplace is committed to building the strengths of each employee.   \"]\n",
    "x_tenure6 = dei[dei[\"How long have you worked for FC?\"]==\"1 year\"][\"My workplace is committed to building the strengths of each employee.   \"]\n",
    "x_status1 = dei[dei[\"What is your employment status?\"]==\"Full-time\"][\"My workplace is committed to building the strengths of each employee.   \"]\n",
    "x_status2 = dei[dei[\"What is your employment status?\"]==\"Part-time\"][\"My workplace is committed to building the strengths of each employee.   \"]\n",
    "x_status3 = dei[dei[\"What is your employment status?\"]==\"Seasonal\"][\"My workplace is committed to building the strengths of each employee.   \"]\n",
    "x_status4 = dei[dei[\"What is your employment status?\"]==\"Part-time, Seasonal\"][\"My workplace is committed to building the strengths of each employee.   \"]\n",
    "#defining data\n",
    "data=[go.Histogram(x=x_total,name='   ',opacity = .5),\n",
    "      go.Histogram(x=x_white,name='White',opacity = .5),\n",
    "      go.Histogram(x=x_latinx,name='Latino/Hispanic',opacity = .5),\n",
    "      go.Histogram(x=x_black,name='Black/African American',opacity = .5),\n",
    "      go.Histogram(x=x_two_plus,name='Two or more Races',opacity = .5),\n",
    "      go.Histogram(x=x_asian,name='Asian',opacity = .5),\n",
    "      go.Histogram(x=x_first_peoples,name='Indian/Native American',opacity = .5),\n",
    "      go.Histogram(x=x_age1,name='25-34', opacity = .5),\n",
    "      go.Histogram(x=x_age2,name='35-44',opacity = .5),\n",
    "      go.Histogram(x=x_age3,name='45-54',opacity = .5),\n",
    "      go.Histogram(x=x_age4,name='55-64',opacity = .5),\n",
    "      go.Histogram(x=x_age5,name='18-24',opacity = .5),\n",
    "      go.Histogram(x=x_age6,name='65-74',opacity = .5),\n",
    "      go.Histogram(x=x_straight,name='Straight',opacity = .5),\n",
    "      go.Histogram(x=x_lgbtq,name='LGBTQ+',opacity = .5),\n",
    "      go.Histogram(x=x_tenure1,name='1-3 years',opacity = .5),\n",
    "      go.Histogram(x=x_tenure2,name='3-5 years',opacity = .5),\n",
    "      go.Histogram(x=x_tenure3,name='< than a year',opacity = .5),\n",
    "      go.Histogram(x=x_tenure4,name='5-10 years',opacity = .5),\n",
    "      go.Histogram(x=x_tenure5,name='10+ years',opacity = .5),\n",
    "      go.Histogram(x=x_tenure6,name='1 year',opacity = .5),\n",
    "      go.Histogram(x=x_status1,name='Full-time',opacity = .5),\n",
    "      go.Histogram(x=x_status2,name='Part-time',opacity = .5),\n",
    "      go.Histogram(x=x_status2,name='Seasonal',opacity = .5),\n",
    "      go.Histogram(x=x_status2,name='Part-time, Seasonal',opacity = .5)\n",
    "     \n",
    "     ]\n",
    "\n",
    "\n",
    "#defining layout\n",
    "layout=go.Layout(title='My workplace is committed to building the strengths of each employee.',updatemenus=list([dict(buttons= list_updatemenus,type = 'buttons')]),barmode='stack')\n",
    "\n",
    "#defining layout and plotting\n",
    "fig = go.Figure(data,layout)\n",
    "fig.show()"
   ]
  },
  {
   "cell_type": "markdown",
   "metadata": {},
   "source": [
    "## Are there any correlations between gallup responses?\n",
    "#### Pearson correlation coefficient is a statistic that measures linear correlation between two variables X and Y. It has a value between +1 and −1. A value of +1 is total positive linear correlation, 0 is no linear correlation, and −1 is total negative linear correlation."
   ]
  },
  {
   "cell_type": "markdown",
   "metadata": {},
   "source": [
    "#### Import dependencies to run correlations "
   ]
  },
  {
   "cell_type": "code",
   "execution_count": 33,
   "metadata": {},
   "outputs": [],
   "source": [
    "import pingouin as pg"
   ]
  },
  {
   "cell_type": "code",
   "execution_count": 52,
   "metadata": {},
   "outputs": [
    {
     "data": {
      "text/html": [
       "<div>\n",
       "<style scoped>\n",
       "    .dataframe tbody tr th:only-of-type {\n",
       "        vertical-align: middle;\n",
       "    }\n",
       "\n",
       "    .dataframe tbody tr th {\n",
       "        vertical-align: top;\n",
       "    }\n",
       "\n",
       "    .dataframe thead th {\n",
       "        text-align: right;\n",
       "    }\n",
       "</style>\n",
       "<table border=\"1\" class=\"dataframe\">\n",
       "  <thead>\n",
       "    <tr style=\"text-align: right;\">\n",
       "      <th></th>\n",
       "      <th>X</th>\n",
       "      <th>Y</th>\n",
       "      <th>n</th>\n",
       "      <th>r</th>\n",
       "      <th>p-unc</th>\n",
       "    </tr>\n",
       "  </thead>\n",
       "  <tbody>\n",
       "    <tr>\n",
       "      <th>0</th>\n",
       "      <td>At work, I am treated with respect.</td>\n",
       "      <td>At work, I feel comfortable being myself.</td>\n",
       "      <td>205</td>\n",
       "      <td>0.705592</td>\n",
       "      <td>3.394224e-32</td>\n",
       "    </tr>\n",
       "    <tr>\n",
       "      <th>2</th>\n",
       "      <td>At work, I am treated with respect.</td>\n",
       "      <td>Employees in my organization are treated with ...</td>\n",
       "      <td>205</td>\n",
       "      <td>0.653599</td>\n",
       "      <td>2.330875e-26</td>\n",
       "    </tr>\n",
       "    <tr>\n",
       "      <th>9</th>\n",
       "      <td>At work, I am treated with respect.</td>\n",
       "      <td>My workplace is committed to building the stre...</td>\n",
       "      <td>203</td>\n",
       "      <td>0.628434</td>\n",
       "      <td>1.046847e-23</td>\n",
       "    </tr>\n",
       "    <tr>\n",
       "      <th>8</th>\n",
       "      <td>At work, I am treated with respect.</td>\n",
       "      <td>My supervisor tries to understand my point of ...</td>\n",
       "      <td>202</td>\n",
       "      <td>0.610948</td>\n",
       "      <td>4.680297e-22</td>\n",
       "    </tr>\n",
       "    <tr>\n",
       "      <th>7</th>\n",
       "      <td>At work, I am treated with respect.</td>\n",
       "      <td>My team members appreciate my contributions.</td>\n",
       "      <td>203</td>\n",
       "      <td>0.599764</td>\n",
       "      <td>3.224667e-21</td>\n",
       "    </tr>\n",
       "  </tbody>\n",
       "</table>\n",
       "</div>"
      ],
      "text/plain": [
       "                                       X  \\\n",
       "0  At work, I am treated with respect.     \n",
       "2  At work, I am treated with respect.     \n",
       "9  At work, I am treated with respect.     \n",
       "8  At work, I am treated with respect.     \n",
       "7  At work, I am treated with respect.     \n",
       "\n",
       "                                                   Y    n         r  \\\n",
       "0        At work, I feel comfortable being myself.    205  0.705592   \n",
       "2  Employees in my organization are treated with ...  205  0.653599   \n",
       "9  My workplace is committed to building the stre...  203  0.628434   \n",
       "8  My supervisor tries to understand my point of ...  202  0.610948   \n",
       "7      My team members appreciate my contributions.   203  0.599764   \n",
       "\n",
       "          p-unc  \n",
       "0  3.394224e-32  \n",
       "2  2.330875e-26  \n",
       "9  1.046847e-23  \n",
       "8  4.680297e-22  \n",
       "7  3.224667e-21  "
      ]
     },
     "execution_count": 52,
     "metadata": {},
     "output_type": "execute_result"
    }
   ],
   "source": [
    "# Calculate the pairwise Spearman correlation\n",
    "corr = pg.pairwise_corr(dei, columns=['At work, I am treated with respect.  '], method='pearson')\n",
    "# Sort the correlation by p-values and display the first rows\n",
    "corr.sort_values(by=['p-unc'])[['X', 'Y', 'n', 'r', 'p-unc']].head()"
   ]
  },
  {
   "cell_type": "markdown",
   "metadata": {},
   "source": [
    "### Positive correlations between 'At work I am treated with respect' and:\n",
    "- 'At work, I feel comfortable being myself.'\n",
    "    - r = 0.705592  , p-value = <0.05\n",
    "- 'Employees in my organization are treated with respect and dignity.' \n",
    "    - r = 0.653599, p-value = < 0.05\n",
    "- 'My workplace is committed to building the strengths of each employee.'\n",
    "    - r = 0.628434, p-value = < 0.05\n",
    "- 'My supervisor tries to understand my point of view.'\n",
    "    - r = 0.610948, p-value = < 0.05\n",
    "- 'My team members appreciate my contributions.'\n",
    "    - r = 0.599764, p-value = < 0.05"
   ]
  },
  {
   "cell_type": "code",
   "execution_count": null,
   "metadata": {},
   "outputs": [],
   "source": []
  },
  {
   "cell_type": "code",
   "execution_count": null,
   "metadata": {},
   "outputs": [],
   "source": []
  }
 ],
 "metadata": {
  "kernelspec": {
   "display_name": "Python 3",
   "language": "python",
   "name": "python3"
  },
  "language_info": {
   "codemirror_mode": {
    "name": "ipython",
    "version": 3
   },
   "file_extension": ".py",
   "mimetype": "text/x-python",
   "name": "python",
   "nbconvert_exporter": "python",
   "pygments_lexer": "ipython3",
   "version": "3.7.6"
  }
 },
 "nbformat": 4,
 "nbformat_minor": 4
}
